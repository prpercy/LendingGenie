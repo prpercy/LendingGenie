{
 "cells": [
  {
   "cell_type": "code",
   "execution_count": 1,
   "id": "47ff66d2-1b8f-4891-a1c6-e8264e08af9c",
   "metadata": {
    "id": "47ff66d2-1b8f-4891-a1c6-e8264e08af9c"
   },
   "outputs": [],
   "source": [
    "# Imports\n",
    "import sys\n",
    "import os\n",
    "import platform\n",
    "\n",
    "import pandas as pd\n",
    "import numpy as np\n",
    "import sklearn as sk\n",
    "from pathlib import Path\n",
    "\n",
    "from sklearn.preprocessing import OneHotEncoder, StandardScaler\n",
    "from pandas.tseries.offsets import DateOffset\n",
    "\n",
    "from sklearn import svm                                 #  support vector machine (SVM) learning method\n",
    "from sklearn.ensemble import AdaBoostClassifier\n",
    "from sklearn.linear_model import LogisticRegression\n",
    "from sklearn.neighbors import KNeighborsClassifier\n",
    "\n",
    "from sklearn.metrics import (classification_report, \n",
    "                             balanced_accuracy_score, \n",
    "                             confusion_matrix, \n",
    "                             f1_score)\n",
    "\n",
    "from imblearn.metrics import classification_report_imbalanced\n",
    "\n",
    "# import hvplot.pandas\n",
    "import matplotlib.pyplot as plt\n",
    "%matplotlib inline\n",
    "import seaborn as sns\n",
    "\n",
    "import pickle     # method for save trained/fit model/s\n",
    "import joblib     # method for save trained/fit model/s"
   ]
  },
  {
   "cell_type": "code",
   "execution_count": 2,
   "id": "c1297816-347c-4047-ab87-a1a344771a86",
   "metadata": {
    "colab": {
     "base_uri": "https://localhost:8080/"
    },
    "id": "c1297816-347c-4047-ab87-a1a344771a86",
    "outputId": "1bd21703-9f61-4b80-92e6-562c1003364b"
   },
   "outputs": [
    {
     "name": "stdout",
     "output_type": "stream",
     "text": [
      "Python Platform: macOS-13.0.1-arm64-arm-64bit\n",
      "Python 3.9.15 | packaged by conda-forge | (main, Nov 22 2022, 08:52:10) \n",
      "[Clang 14.0.6 ]\n",
      "\n",
      "Pandas 1.5.1\n",
      "Numpy 1.21.5\n",
      "Scikit-Learn 1.1.3\n",
      "Seaborn 0.12.0\n"
     ]
    }
   ],
   "source": [
    "# Report Technologies\n",
    "print(f'Python Platform: {platform.platform()}')\n",
    "print(f'Python {sys.version}')\n",
    "print()\n",
    "print(f'Pandas {pd.__version__}')\n",
    "print(f'Numpy {np.__version__}')\n",
    "print(f'Scikit-Learn {sk.__version__}')\n",
    "print(f'Seaborn {sns.__version__}')"
   ]
  },
  {
   "cell_type": "markdown",
   "id": "e4be9421-3530-47b6-8e0f-6310cf46d09d",
   "metadata": {
    "id": "e4be9421-3530-47b6-8e0f-6310cf46d09d"
   },
   "source": [
    "# Read in original complete dataset"
   ]
  },
  {
   "cell_type": "code",
   "execution_count": 3,
   "id": "d5bc9670-3d88-4514-89cd-44b8004f3d46",
   "metadata": {
    "colab": {
     "base_uri": "https://localhost:8080/",
     "height": 389
    },
    "id": "d5bc9670-3d88-4514-89cd-44b8004f3d46",
    "outputId": "ac2bf21c-c08c-4507-d782-8404004f46c0"
   },
   "outputs": [
    {
     "data": {
      "text/plain": [
       "(2260701, 151)"
      ]
     },
     "metadata": {},
     "output_type": "display_data"
    },
    {
     "data": {
      "text/html": [
       "<div>\n",
       "<style scoped>\n",
       "    .dataframe tbody tr th:only-of-type {\n",
       "        vertical-align: middle;\n",
       "    }\n",
       "\n",
       "    .dataframe tbody tr th {\n",
       "        vertical-align: top;\n",
       "    }\n",
       "\n",
       "    .dataframe thead th {\n",
       "        text-align: right;\n",
       "    }\n",
       "</style>\n",
       "<table border=\"1\" class=\"dataframe\">\n",
       "  <thead>\n",
       "    <tr style=\"text-align: right;\">\n",
       "      <th></th>\n",
       "      <th>id</th>\n",
       "      <th>member_id</th>\n",
       "      <th>loan_amnt</th>\n",
       "      <th>funded_amnt</th>\n",
       "      <th>funded_amnt_inv</th>\n",
       "      <th>term</th>\n",
       "      <th>int_rate</th>\n",
       "      <th>installment</th>\n",
       "      <th>grade</th>\n",
       "      <th>sub_grade</th>\n",
       "      <th>...</th>\n",
       "      <th>hardship_payoff_balance_amount</th>\n",
       "      <th>hardship_last_payment_amount</th>\n",
       "      <th>disbursement_method</th>\n",
       "      <th>debt_settlement_flag</th>\n",
       "      <th>debt_settlement_flag_date</th>\n",
       "      <th>settlement_status</th>\n",
       "      <th>settlement_date</th>\n",
       "      <th>settlement_amount</th>\n",
       "      <th>settlement_percentage</th>\n",
       "      <th>settlement_term</th>\n",
       "    </tr>\n",
       "  </thead>\n",
       "  <tbody>\n",
       "    <tr>\n",
       "      <th>0</th>\n",
       "      <td>68407277</td>\n",
       "      <td>NaN</td>\n",
       "      <td>3600.0</td>\n",
       "      <td>3600.0</td>\n",
       "      <td>3600.0</td>\n",
       "      <td>36 months</td>\n",
       "      <td>13.99</td>\n",
       "      <td>123.03</td>\n",
       "      <td>C</td>\n",
       "      <td>C4</td>\n",
       "      <td>...</td>\n",
       "      <td>NaN</td>\n",
       "      <td>NaN</td>\n",
       "      <td>Cash</td>\n",
       "      <td>N</td>\n",
       "      <td>NaN</td>\n",
       "      <td>NaN</td>\n",
       "      <td>NaN</td>\n",
       "      <td>NaN</td>\n",
       "      <td>NaN</td>\n",
       "      <td>NaN</td>\n",
       "    </tr>\n",
       "    <tr>\n",
       "      <th>1</th>\n",
       "      <td>68355089</td>\n",
       "      <td>NaN</td>\n",
       "      <td>24700.0</td>\n",
       "      <td>24700.0</td>\n",
       "      <td>24700.0</td>\n",
       "      <td>36 months</td>\n",
       "      <td>11.99</td>\n",
       "      <td>820.28</td>\n",
       "      <td>C</td>\n",
       "      <td>C1</td>\n",
       "      <td>...</td>\n",
       "      <td>NaN</td>\n",
       "      <td>NaN</td>\n",
       "      <td>Cash</td>\n",
       "      <td>N</td>\n",
       "      <td>NaN</td>\n",
       "      <td>NaN</td>\n",
       "      <td>NaN</td>\n",
       "      <td>NaN</td>\n",
       "      <td>NaN</td>\n",
       "      <td>NaN</td>\n",
       "    </tr>\n",
       "    <tr>\n",
       "      <th>2</th>\n",
       "      <td>68341763</td>\n",
       "      <td>NaN</td>\n",
       "      <td>20000.0</td>\n",
       "      <td>20000.0</td>\n",
       "      <td>20000.0</td>\n",
       "      <td>60 months</td>\n",
       "      <td>10.78</td>\n",
       "      <td>432.66</td>\n",
       "      <td>B</td>\n",
       "      <td>B4</td>\n",
       "      <td>...</td>\n",
       "      <td>NaN</td>\n",
       "      <td>NaN</td>\n",
       "      <td>Cash</td>\n",
       "      <td>N</td>\n",
       "      <td>NaN</td>\n",
       "      <td>NaN</td>\n",
       "      <td>NaN</td>\n",
       "      <td>NaN</td>\n",
       "      <td>NaN</td>\n",
       "      <td>NaN</td>\n",
       "    </tr>\n",
       "  </tbody>\n",
       "</table>\n",
       "<p>3 rows × 151 columns</p>\n",
       "</div>"
      ],
      "text/plain": [
       "         id  member_id  loan_amnt  funded_amnt  funded_amnt_inv        term  \\\n",
       "0  68407277        NaN     3600.0       3600.0           3600.0   36 months   \n",
       "1  68355089        NaN    24700.0      24700.0          24700.0   36 months   \n",
       "2  68341763        NaN    20000.0      20000.0          20000.0   60 months   \n",
       "\n",
       "   int_rate  installment grade sub_grade  ... hardship_payoff_balance_amount  \\\n",
       "0     13.99       123.03     C        C4  ...                            NaN   \n",
       "1     11.99       820.28     C        C1  ...                            NaN   \n",
       "2     10.78       432.66     B        B4  ...                            NaN   \n",
       "\n",
       "  hardship_last_payment_amount disbursement_method  debt_settlement_flag  \\\n",
       "0                          NaN                Cash                     N   \n",
       "1                          NaN                Cash                     N   \n",
       "2                          NaN                Cash                     N   \n",
       "\n",
       "  debt_settlement_flag_date settlement_status settlement_date  \\\n",
       "0                       NaN               NaN             NaN   \n",
       "1                       NaN               NaN             NaN   \n",
       "2                       NaN               NaN             NaN   \n",
       "\n",
       "  settlement_amount settlement_percentage settlement_term  \n",
       "0               NaN                   NaN             NaN  \n",
       "1               NaN                   NaN             NaN  \n",
       "2               NaN                   NaN             NaN  \n",
       "\n",
       "[3 rows x 151 columns]"
      ]
     },
     "metadata": {},
     "output_type": "display_data"
    }
   ],
   "source": [
    "# This is a compression='gzip' file\n",
    "two_clients_df = pd.read_csv(\n",
    "    Path('/Users/lokiskylizard/Desktop/proj2data/archive/accepted_2007_to_2018Q4.csv.gz'), \n",
    "    compression='gzip', \n",
    "    low_memory=False)\n",
    "\n",
    "# Review the DataFrame\n",
    "display(two_clients_df.shape)\n",
    "display(two_clients_df.head(3))\n"
   ]
  },
  {
   "cell_type": "code",
   "execution_count": null,
   "id": "a975215f-e4b7-4d6a-a1a7-b1d7719de5d1",
   "metadata": {
    "id": "a975215f-e4b7-4d6a-a1a7-b1d7719de5d1",
    "outputId": "dc4eb04b-22a0-4600-8eae-26b221c793f9"
   },
   "outputs": [],
   "source": [
    "# drop duplicate rows\n",
    "two_clients_df.drop_duplicates()\n",
    "display(two_clients_df.shape)"
   ]
  },
  {
   "cell_type": "code",
   "execution_count": null,
   "id": "ecd73c56-fcfa-435a-9b54-098b604e3be8",
   "metadata": {
    "id": "ecd73c56-fcfa-435a-9b54-098b604e3be8",
    "outputId": "2e262d7d-823b-474f-ceb8-4f6ad59e220b"
   },
   "outputs": [],
   "source": [
    "# check for duplicated columns\n",
    "two_clients_df.columns.duplicated()"
   ]
  },
  {
   "cell_type": "code",
   "execution_count": null,
   "id": "da77b690-da42-4664-ad70-4a710b49985a",
   "metadata": {
    "id": "da77b690-da42-4664-ad70-4a710b49985a",
    "outputId": "72234a38-f6b2-47c7-d42b-9c44155096e9"
   },
   "outputs": [],
   "source": [
    "# identify keys\n",
    "for col in two_clients_df.columns:\n",
    "    display(col)"
   ]
  },
  {
   "cell_type": "markdown",
   "id": "ba509d2a-b7d1-4b4f-93ae-01b9a819f148",
   "metadata": {
    "id": "ba509d2a-b7d1-4b4f-93ae-01b9a819f148"
   },
   "source": [
    "# Delete / drop these columns-\n",
    "\n",
    "['id',\n",
    "\n",
    "'member_id',\n",
    "\n",
    "'issue_d',\n",
    "\n",
    "'url',\n",
    "\n",
    "'zip_code',\n",
    "\n",
    "'initial_list_status',\n",
    "\n",
    "'hardship_flag',\n",
    "\n",
    "'hardship_type',\n",
    "\n",
    "'hardship_reason',\n",
    "\n",
    "'hardship_status',\n",
    "\n",
    "'deferral_term',\n",
    "\n",
    "'hardship_amount',\n",
    "\n",
    "'hardship_start_date',\n",
    "\n",
    "'hardship_end_date',\n",
    "\n",
    "'payment_plan_start_date',\n",
    "\n",
    "'hardship_length',\n",
    "\n",
    "'hardship_dpd',\n",
    "\n",
    "'hardship_loan_status',\n",
    "\n",
    "'orig_projected_additional_accrued_interest',\n",
    "\n",
    "'hardship_payoff_balance_amount',\n",
    "\n",
    "'hardship_last_payment_amount',\n",
    "\n",
    "'disbursement_method',\n",
    "\n",
    "'debt_settlement_flag',\n",
    "\n",
    "'debt_settlement_flag_date',\n",
    "\n",
    "'settlement_status',\n",
    "\n",
    "'settlement_date',\n",
    "\n",
    "'settlement_amount',\n",
    "\n",
    "'settlement_percentage',\n",
    "\n",
    "'settlement_term'\n",
    "\n",
    "'pymnt_plan',\n",
    "\n",
    "'desc',\n",
    "\n",
    "'purpose',\n",
    "\n",
    "'title',\n",
    "\n",
    "'last_pymnt_d',\n",
    "\n",
    "'next_pymnt_d',\n",
    "\n",
    "'earliest_cr_line',\n",
    "\n",
    "'last_credit_pull_d']"
   ]
  },
  {
   "cell_type": "markdown",
   "id": "39b10043-d03f-4b1a-99f5-8682c176a37e",
   "metadata": {
    "id": "39b10043-d03f-4b1a-99f5-8682c176a37e"
   },
   "source": [
    "# Split accepted loan data (original full dataset) into two CSV files to Simulate two clients' data \n",
    "> bank_1\n",
    "\n",
    "> bank_2"
   ]
  },
  {
   "cell_type": "code",
   "execution_count": null,
   "id": "9242b634-7ee9-4a1c-93a6-d2f96c635c3b",
   "metadata": {
    "id": "9242b634-7ee9-4a1c-93a6-d2f96c635c3b"
   },
   "outputs": [],
   "source": [
    "# Takes original full csv and splits it into ..csv1.csv and ..csv2.csv\n",
    "chunk_size = 1200000   # ~ 1/2 size of original dataset\n",
    "def write_chunk(part, lines):\n",
    "    with open('/Users/lokiskylizard/Desktop/proj2data/archive/accepted_2007_to_2018q4.csv/accepted_2007_to_2018Q4.csv'+ str(part) +'.csv', 'w') as f_out:\n",
    "        f_out.write(header)\n",
    "        f_out.writelines(lines)\n",
    "with open('/Users/lokiskylizard/Desktop/proj2data/archive/accepted_2007_to_2018q4.csv/accepted_2007_to_2018Q4.csv', 'r') as f:\n",
    "    count = 0\n",
    "    header = f.readline()\n",
    "    lines = []\n",
    "    for line in f:\n",
    "        count += 1\n",
    "        lines.append(line)\n",
    "        if count % chunk_size == 0:\n",
    "            write_chunk(count // chunk_size, lines)\n",
    "            lines = []\n",
    "    # write remainder\n",
    "    if len(lines) > 0:\n",
    "        write_chunk((count // chunk_size) + 1, lines)"
   ]
  },
  {
   "cell_type": "code",
   "execution_count": null,
   "id": "5ce886de-603e-4bf3-bc15-881e2d186615",
   "metadata": {
    "id": "5ce886de-603e-4bf3-bc15-881e2d186615",
    "outputId": "cb02397c-28ff-4e0d-a0a4-2978f9ba8d0c"
   },
   "outputs": [],
   "source": [
    "bank1_df = pd.read_csv(\n",
    "    Path('/Users/lokiskylizard/Desktop/proj2data/archive/accepted_2007_to_2018q4.csv/accepted_2007_to_2018Q4.csv1.csv'),  \n",
    "    low_memory=False)\n",
    "\n",
    "# Review the DataFrame\n",
    "display(bank1_df.shape)\n",
    "display(bank1_df.head(3))"
   ]
  },
  {
   "cell_type": "code",
   "execution_count": null,
   "id": "6ec45899-4bc3-419b-a804-fe559108c2a3",
   "metadata": {
    "id": "6ec45899-4bc3-419b-a804-fe559108c2a3",
    "outputId": "9294bba6-4dc5-41e0-fd93-c1262a872012"
   },
   "outputs": [],
   "source": [
    "bank1_df = bank1_df.drop(['id',\n",
    "                          'member_id',\n",
    "                          'issue_d',\n",
    "                          'url',\n",
    "                          'zip_code',\n",
    "                          'initial_list_status',\n",
    "                          'hardship_flag',\n",
    "                          'hardship_type',\n",
    "                          'hardship_reason',\n",
    "                          'hardship_status',\n",
    "                          'deferral_term',\n",
    "                          'hardship_amount',\n",
    "                          'hardship_start_date',\n",
    "                          'hardship_end_date',\n",
    "                          'payment_plan_start_date',\n",
    "                          'hardship_length',\n",
    "                          'hardship_dpd',\n",
    "                          'hardship_loan_status',\n",
    "                          'orig_projected_additional_accrued_interest',\n",
    "                          'hardship_payoff_balance_amount',\n",
    "                          'hardship_last_payment_amount',\n",
    "                          'disbursement_method',\n",
    "                          'debt_settlement_flag',\n",
    "                          'debt_settlement_flag_date',\n",
    "                          'settlement_status',\n",
    "                          'settlement_date',\n",
    "                          'settlement_amount',\n",
    "                          'settlement_percentage',\n",
    "                          'settlement_term',\n",
    "                          'pymnt_plan',\n",
    "                          'desc',\n",
    "                          'purpose',\n",
    "                          'title',\n",
    "                          'last_pymnt_d',\n",
    "                          'next_pymnt_d',\n",
    "                          'earliest_cr_line',\n",
    "                          'last_credit_pull_d',\n",
    "                          'sec_app_earliest_cr_line'], axis=1)\n",
    "display(bank1_df.shape)"
   ]
  },
  {
   "cell_type": "code",
   "execution_count": null,
   "id": "5e8b1655-9b54-477a-af3a-6b0539204fc3",
   "metadata": {
    "id": "5e8b1655-9b54-477a-af3a-6b0539204fc3",
    "outputId": "cff396ad-4ca2-4014-efaa-5bec7364ac2f"
   },
   "outputs": [],
   "source": [
    "bank2_df = pd.read_csv(\n",
    "    Path('/Users/lokiskylizard/Desktop/proj2data/archive/accepted_2007_to_2018q4.csv/accepted_2007_to_2018Q4.csv2.csv'),  \n",
    "    low_memory=False)\n",
    "\n",
    "# Review the DataFrame\n",
    "display(bank2_df.shape)\n",
    "display(bank2_df.head(3))"
   ]
  },
  {
   "cell_type": "code",
   "execution_count": null,
   "id": "5a04a2fc-e7fb-4f6e-b4bb-3eaea24fca12",
   "metadata": {
    "id": "5a04a2fc-e7fb-4f6e-b4bb-3eaea24fca12",
    "outputId": "376a0982-d463-492f-fefd-4288a2ea0538"
   },
   "outputs": [],
   "source": [
    "bank2_df = bank2_df.drop(['id',\n",
    "                          'member_id',\n",
    "                          'issue_d',\n",
    "                          'url',\n",
    "                          'zip_code',\n",
    "                          'initial_list_status',\n",
    "                          'hardship_flag',\n",
    "                          'hardship_type',\n",
    "                          'hardship_reason',\n",
    "                          'hardship_status',\n",
    "                          'deferral_term',\n",
    "                          'hardship_amount',\n",
    "                          'hardship_start_date',\n",
    "                          'hardship_end_date',\n",
    "                          'payment_plan_start_date',\n",
    "                          'hardship_length',\n",
    "                          'hardship_dpd',\n",
    "                          'hardship_loan_status',\n",
    "                          'orig_projected_additional_accrued_interest',\n",
    "                          'hardship_payoff_balance_amount',\n",
    "                          'hardship_last_payment_amount',\n",
    "                          'disbursement_method',\n",
    "                          'debt_settlement_flag',\n",
    "                          'debt_settlement_flag_date',\n",
    "                          'settlement_status',\n",
    "                          'settlement_date',\n",
    "                          'settlement_amount',\n",
    "                          'settlement_percentage',\n",
    "                          'settlement_term',\n",
    "                          'pymnt_plan',\n",
    "                          'desc',\n",
    "                          'purpose',\n",
    "                          'title',\n",
    "                          'last_pymnt_d',\n",
    "                          'next_pymnt_d',\n",
    "                          'earliest_cr_line',\n",
    "                          'last_credit_pull_d',\n",
    "                          'sec_app_earliest_cr_line'], axis=1)\n",
    "display(bank2_df.shape)"
   ]
  },
  {
   "cell_type": "code",
   "execution_count": null,
   "id": "47633c69-a700-40a0-a8a0-8e9a9c8ba637",
   "metadata": {
    "id": "47633c69-a700-40a0-a8a0-8e9a9c8ba637",
    "outputId": "97e613ca-5883-48d7-afe9-ab1d07306de0"
   },
   "outputs": [],
   "source": [
    "print('bank1')\n",
    "display(bank1_df.describe())\n",
    "print('\\n')\n",
    "print('bank2')\n",
    "display(bank2_df.describe())"
   ]
  },
  {
   "cell_type": "code",
   "execution_count": null,
   "id": "998615a8-fdad-401f-820f-72f649451ba7",
   "metadata": {
    "id": "998615a8-fdad-401f-820f-72f649451ba7",
    "outputId": "0a4e358f-6d3e-4cdc-dd36-889b1400b9e9"
   },
   "outputs": [],
   "source": [
    "print('bank1')\n",
    "display(bank1_df.info())\n",
    "print('\\n')\n",
    "print('bank2')\n",
    "display(bank2_df.info())"
   ]
  },
  {
   "cell_type": "code",
   "execution_count": null,
   "id": "a94eee14-b0ec-466a-9c5e-f4c3b24c4dfb",
   "metadata": {
    "id": "a94eee14-b0ec-466a-9c5e-f4c3b24c4dfb"
   },
   "outputs": [],
   "source": [
    "\n",
    "bank1_status_plot = bank1_df['loan_status'].value_counts().hvplot.bar(\n",
    "    title='Bank 1, Loan Status', \n",
    "    xlabel='Loan Status', \n",
    "    ylabel='Count',\n",
    "    hover_color = 'blue',\n",
    "    rot = 45,\n",
    "    width=800, \n",
    "    height=600\n",
    ")"
   ]
  },
  {
   "cell_type": "code",
   "execution_count": null,
   "id": "7b13a803-a856-47f2-9e15-66f9bf700a41",
   "metadata": {
    "id": "7b13a803-a856-47f2-9e15-66f9bf700a41",
    "outputId": "c2b2db0a-778e-4e53-96c3-882200d9491b"
   },
   "outputs": [],
   "source": [
    "bank2_status_plot = bank2_df['loan_status'].value_counts().hvplot.bar(\n",
    "    title='Bank 2, Loan Status', \n",
    "    xlabel='Loan Status', \n",
    "    ylabel='Count',\n",
    "    hover_color = 'blue',\n",
    "    rot = 45,\n",
    "    width=800, \n",
    "    height=600\n",
    ")\n",
    "bank1_status_plot + bank2_status_plot"
   ]
  },
  {
   "cell_type": "code",
   "execution_count": null,
   "id": "51a0fed5-96f5-4922-a0ae-ce7f6b452106",
   "metadata": {
    "id": "51a0fed5-96f5-4922-a0ae-ce7f6b452106",
    "outputId": "e5cbcf66-4399-4003-9af9-54eecc9ceed7"
   },
   "outputs": [],
   "source": [
    "bank1_installment = bank1_df.hvplot.hist(\n",
    "    y='installment', by='loan_status', subplots=False, \n",
    "    width=800, height=600, bins=50, alpha=0.4, \n",
    "    title='Bank 1, Installment by Loan Status', \n",
    "    xlabel='Installment', ylabel='Counts', legend='top'\n",
    ")\n",
    "\n",
    "bank1_loan_amnt = bank1_df.hvplot.hist(\n",
    "    y='loan_amnt', by='loan_status', subplots=False, \n",
    "    width=800, height=600, bins=30, alpha=0.4, \n",
    "    title='Bank 1, Loan Amount by Status', \n",
    "    xlabel='Loan Amount', ylabel='Counts', legend='top'\n",
    ")\n",
    "\n",
    "bank1_installment + bank1_loan_amnt"
   ]
  },
  {
   "cell_type": "code",
   "execution_count": null,
   "id": "ac627efa-1556-465d-ac70-a50aab6b3357",
   "metadata": {
    "id": "ac627efa-1556-465d-ac70-a50aab6b3357",
    "outputId": "35b8eec0-8e32-4c88-dc3c-80b16ebd1957"
   },
   "outputs": [],
   "source": [
    "bank2_installment = bank2_df.hvplot.hist(\n",
    "    y='installment', by='loan_status', subplots=False, \n",
    "    width=800, height=600, bins=50, alpha=0.4, \n",
    "    title='Bank 2, Installment by Loan Status', \n",
    "    xlabel='Installment', ylabel='Counts', legend='top'\n",
    ")\n",
    "\n",
    "bank2_loan_amnt = bank2_df.hvplot.hist(\n",
    "    y='loan_amnt', by='loan_status', subplots=False, \n",
    "    width=800, height=600, bins=30, alpha=0.4, \n",
    "    title='Bank 2, Loan Amount by Status', \n",
    "    xlabel='Loan Amount', ylabel='Counts', legend='top'\n",
    ")\n",
    "\n",
    "bank2_installment + bank2_loan_amnt"
   ]
  },
  {
   "cell_type": "code",
   "execution_count": null,
   "id": "32d9cb93-e5da-455f-bf03-69d9528a98bc",
   "metadata": {
    "id": "32d9cb93-e5da-455f-bf03-69d9528a98bc",
    "outputId": "b5915653-59f9-4000-bb82-f500afd2d195"
   },
   "outputs": [],
   "source": [
    "bank1_df.groupby(by='loan_status')['loan_amnt'].describe()"
   ]
  },
  {
   "cell_type": "code",
   "execution_count": null,
   "id": "2179ba46-7993-4d70-9da9-7ad167196da2",
   "metadata": {
    "id": "2179ba46-7993-4d70-9da9-7ad167196da2",
    "outputId": "c964807a-2081-42f9-d6de-e5649870af00"
   },
   "outputs": [],
   "source": [
    "bank2_df.groupby(by='loan_status')['loan_amnt'].describe()"
   ]
  },
  {
   "cell_type": "code",
   "execution_count": null,
   "id": "22a5fc90-68ce-4ffc-bcf1-207017424534",
   "metadata": {
    "id": "22a5fc90-68ce-4ffc-bcf1-207017424534",
    "outputId": "923db9a6-6f64-4751-ffd8-ab5b7556258d"
   },
   "outputs": [],
   "source": [
    "print(f'GRADE unique: {bank1_df.grade.unique()}')\n",
    "print(f'SUB_GRADE unique: {bank1_df.sub_grade.unique()}')"
   ]
  },
  {
   "cell_type": "code",
   "execution_count": null,
   "id": "b1f9950b-3de2-42c8-9599-0d35ac9c9919",
   "metadata": {
    "id": "b1f9950b-3de2-42c8-9599-0d35ac9c9919"
   },
   "outputs": [],
   "source": [
    "cleaner_app_type = {'term': {' 36 months': 1.0, ' 60 months': 2.0},\n",
    "                    'sub_grade': {'A1': 1.0, \"A2\": 2.0, \"A3\": 3.0, \"A4\": 4.0, \"A5\": 5.0,\n",
    "                                  \"B1\": 11.0, \"B2\": 12.0, \"B3\": 13.0, \"B4\": 14.0, \"B5\": 15.0,\n",
    "                                  \"C1\": 21.0, \"C2\": 22.0, \"C3\": 23.0, \"C4\": 24.0, \"C5\": 25.0,\n",
    "                                  \"D1\": 31.0, \"D2\": 32.0, \"D3\": 33.0, \"D4\": 34.0, \"D5\": 35.0,\n",
    "                                  \"E1\": 41.0, \"E2\": 42.0, \"E3\": 43.0, \"E4\": 44.0, \"E5\": 45.0,\n",
    "                                  \"F1\": 51.0, \"F2\": 52.0, \"F3\": 53.0, \"F4\": 54.0, \"F5\": 55.0,\n",
    "                                  \"G1\": 61.0, \"G2\": 62.0, \"G3\": 63.0, \"G4\": 64.0, \"G5\": 65.0,\n",
    "                                    },\n",
    "                     \"emp_length\": {\"< 1 year\": 0.0, '1 year': 1.0, '2 years': 2.0, '3 years': 3.0, '4 years': 4.0, \n",
    "                                   '5 years': 5.0, '6 years': 6.0, '7 years': 7.0, '8 years': 8.0, '9 years': 9.0,\n",
    "                                   '10+ years': 10.0 }\n",
    "                   }\n",
    "bank1_df = bank1_df.replace(cleaner_app_type)"
   ]
  },
  {
   "cell_type": "code",
   "execution_count": null,
   "id": "c2767026-42eb-4ea5-b059-aec3670c6f21",
   "metadata": {
    "id": "c2767026-42eb-4ea5-b059-aec3670c6f21",
    "outputId": "3e2c1ee9-3215-4697-8dad-8cce4b647c43"
   },
   "outputs": [],
   "source": [
    "print(f'GRADE unique: {bank1_df.grade.unique()}')\n",
    "print(f'SUB_GRADE unique: {bank1_df.sub_grade.unique()}')"
   ]
  },
  {
   "cell_type": "code",
   "execution_count": null,
   "id": "166fa5e3-7223-4e17-a983-bc54d9210e90",
   "metadata": {
    "id": "166fa5e3-7223-4e17-a983-bc54d9210e90",
    "outputId": "75503895-2111-4217-8254-775d92523b74"
   },
   "outputs": [],
   "source": [
    "bank1_df['loan_status'].value_counts() "
   ]
  },
  {
   "cell_type": "code",
   "execution_count": null,
   "id": "5ace2adf-2cb2-46dd-b7b4-8552a95a12d1",
   "metadata": {
    "id": "5ace2adf-2cb2-46dd-b7b4-8552a95a12d1",
    "outputId": "4e8090a4-8803-4238-b4a0-d37b623188bc"
   },
   "outputs": [],
   "source": [
    "print(f'GRADE unique: {bank2_df.grade.unique()}')\n",
    "print(f'SUB_GRADE unique: {bank2_df.sub_grade.unique()}')"
   ]
  },
  {
   "cell_type": "code",
   "execution_count": null,
   "id": "4895ce25-9d85-49ef-a438-b1f5841e30fc",
   "metadata": {
    "id": "4895ce25-9d85-49ef-a438-b1f5841e30fc"
   },
   "outputs": [],
   "source": [
    "cleaner_app_type = {'term': {' 36 months': 1.0, ' 60 months': 2.0},\n",
    "                    'sub_grade': {'A1': 1.0, \"A2\": 2.0, \"A3\": 3.0, \"A4\": 4.0, \"A5\": 5.0,\n",
    "                                  \"B1\": 11.0, \"B2\": 12.0, \"B3\": 13.0, \"B4\": 14.0, \"B5\": 15.0,\n",
    "                                  \"C1\": 21.0, \"C2\": 22.0, \"C3\": 23.0, \"C4\": 24.0, \"C5\": 25.0,\n",
    "                                  \"D1\": 31.0, \"D2\": 32.0, \"D3\": 33.0, \"D4\": 34.0, \"D5\": 35.0,\n",
    "                                  \"E1\": 41.0, \"E2\": 42.0, \"E3\": 43.0, \"E4\": 44.0, \"E5\": 45.0,\n",
    "                                  \"F1\": 51.0, \"F2\": 52.0, \"F3\": 53.0, \"F4\": 54.0, \"F5\": 55.0,\n",
    "                                  \"G1\": 61.0, \"G2\": 62.0, \"G3\": 63.0, \"G4\": 64.0, \"G5\": 65.0,\n",
    "                                    },\n",
    "                     \"emp_length\": {\"< 1 year\": 0.0, '1 year': 1.0, '2 years': 2.0, '3 years': 3.0, '4 years': 4.0, \n",
    "                                   '5 years': 5.0, '6 years': 6.0, '7 years': 7.0, '8 years': 8.0, '9 years': 9.0,\n",
    "                                   '10+ years': 10.0 }\n",
    "                   }\n",
    "bank2_df = bank2_df.replace(cleaner_app_type)"
   ]
  },
  {
   "cell_type": "code",
   "execution_count": null,
   "id": "9ec09951-1c23-461d-a55c-6e7fcdb612c3",
   "metadata": {
    "id": "9ec09951-1c23-461d-a55c-6e7fcdb612c3",
    "outputId": "d67b31f8-d505-45a2-d8c2-a78dcd82c2a7"
   },
   "outputs": [],
   "source": [
    "print(f'GRADE unique: {bank2_df.grade.unique()}')\n",
    "print(f'SUB_GRADE unique: {bank2_df.sub_grade.unique()}')"
   ]
  },
  {
   "cell_type": "code",
   "execution_count": null,
   "id": "1fe3781f-3571-41aa-80bf-2de43ba99357",
   "metadata": {
    "id": "1fe3781f-3571-41aa-80bf-2de43ba99357",
    "outputId": "7ebc7876-5538-4a87-ea02-fd40a51eb0ed"
   },
   "outputs": [],
   "source": [
    "bank2_df['loan_status'].value_counts() "
   ]
  },
  {
   "cell_type": "code",
   "execution_count": null,
   "id": "c330798a-ad4c-4455-93ae-209a2aaf9839",
   "metadata": {
    "id": "c330798a-ad4c-4455-93ae-209a2aaf9839"
   },
   "outputs": [],
   "source": [
    "# fully_paid = data.loc[data['loan_status']=='Fully Paid', 'grade'].value_counts().hvplot.bar() \n",
    "# charged_off = data.loc[data['loan_status']=='Charged Off', 'grade'].value_counts().hvplot.bar() \n",
    "\n",
    "# grades = (fully_paid * charged_off).opts(\n",
    "#     title=\"Loan Status by Grade\", xlabel='Grades', ylabel='Count',\n",
    "#     width=500, height=450, legend_cols=2, legend_position='top_right'\n",
    "# )\n",
    "\n",
    "# fully_paid = data.loc[data['loan_status']=='Fully Paid', 'sub_grade'].value_counts().hvplot.bar() \n",
    "# charged_off = data.loc[data['loan_status']=='Charged Off', 'sub_grade'].value_counts().hvplot.bar() \n",
    "\n",
    "# sub_grades = (fully_paid * charged_off).opts(\n",
    "#     title=\"Loan Status by Grade\", xlabel='Grades', ylabel='Count',\n",
    "#     width=500, height=450, legend_cols=2, legend_position='top_right', \n",
    "#     shared_axes=False\n",
    "# )\n",
    "\n",
    "# grades + sub_grades"
   ]
  },
  {
   "cell_type": "code",
   "execution_count": null,
   "id": "8395e28a-62f2-4754-8d64-bd668ebc3d52",
   "metadata": {
    "id": "8395e28a-62f2-4754-8d64-bd668ebc3d52",
    "outputId": "7669676d-ce28-4ca3-f977-a2c1d70628db"
   },
   "outputs": [],
   "source": [
    "bank1_fully_paid = bank1_df.loc[bank1_df['loan_status']=='Fully Paid', 'grade'].value_counts().hvplot.barh() \n",
    "bank1_charged_off = bank1_df.loc[bank1_df['loan_status']=='Charged Off', 'grade'].value_counts().hvplot.barh() \n",
    "\n",
    "(bank1_fully_paid * bank1_charged_off).opts(\n",
    "    title=\"Bank 1, Loan Status Grade\", \n",
    "    xlabel='Grades', ylabel='Count',\n",
    "    width=800, height=600,\n",
    "    legend_cols=2,\n",
    "    legend_position='top_right',\n",
    "    xrotation=45\n",
    ")"
   ]
  },
  {
   "cell_type": "code",
   "execution_count": null,
   "id": "78798903-e355-4e22-bf98-9590c3744827",
   "metadata": {
    "id": "78798903-e355-4e22-bf98-9590c3744827",
    "outputId": "6ed631ce-8135-4be6-b9e7-79ceff1c9c11"
   },
   "outputs": [],
   "source": [
    "bank2_fully_paid = bank2_df.loc[bank2_df['loan_status']=='Fully Paid', 'grade'].value_counts().hvplot.barh() \n",
    "bank2_charged_off = bank2_df.loc[bank2_df['loan_status']=='Charged Off', 'grade'].value_counts().hvplot.barh() \n",
    "\n",
    "(bank2_fully_paid * bank2_charged_off).opts(\n",
    "    title=\"Bank 2, Loan Status Grade\", \n",
    "    xlabel='Grades', ylabel='Count',\n",
    "    width=800, height=600, \n",
    "    legend_cols=2,\n",
    "    legend_position='top_right',\n",
    "    xrotation=45\n",
    ")"
   ]
  },
  {
   "cell_type": "code",
   "execution_count": null,
   "id": "03d4bf6f-22b2-434b-b1ea-ce25fbfa209e",
   "metadata": {
    "id": "03d4bf6f-22b2-434b-b1ea-ce25fbfa209e",
    "outputId": "c4aab15d-a96b-48f8-a60a-da2610ade3a3"
   },
   "outputs": [],
   "source": [
    "bank1_fully_paid = bank1_df.loc[bank1_df['loan_status']=='Fully Paid', 'sub_grade'].value_counts().hvplot.barh() \n",
    "bank1_charged_off = bank1_df.loc[bank1_df['loan_status']=='Charged Off', 'sub_grade'].value_counts().hvplot.barh() \n",
    "\n",
    "(bank1_fully_paid * bank1_charged_off).opts(\n",
    "    title='Bank 1, Loan Status SubGrade', \n",
    "    xlabel='Grades', \n",
    "    ylabel='Count',\n",
    "    width=800, height=600, \n",
    "    legend_cols=2, \n",
    "    legend_position='top_right', \n",
    "    xrotation=45\n",
    ")"
   ]
  },
  {
   "cell_type": "code",
   "execution_count": null,
   "id": "346352ce-30b1-4213-9fa9-6111332d29e9",
   "metadata": {
    "id": "346352ce-30b1-4213-9fa9-6111332d29e9",
    "outputId": "d9cc6076-45c0-4567-99a9-b62aca516b40"
   },
   "outputs": [],
   "source": [
    "bank2_fully_paid = bank2_df.loc[bank2_df['loan_status']=='Fully Paid', 'sub_grade'].value_counts().hvplot.barh() \n",
    "bank2_charged_off = bank2_df.loc[bank2_df['loan_status']=='Charged Off', 'sub_grade'].value_counts().hvplot.barh() \n",
    "\n",
    "(bank2_fully_paid * bank2_charged_off).opts(\n",
    "    title='Bank 1, Loan Status SubGrade', \n",
    "    xlabel='Grades', \n",
    "    ylabel='Count',\n",
    "    width=800, height=600, \n",
    "    legend_cols=2, \n",
    "    legend_position='top_right', \n",
    "    xrotation=45\n",
    ")"
   ]
  },
  {
   "cell_type": "code",
   "execution_count": null,
   "id": "389ed209-fe16-4292-8589-e983c61bb7ad",
   "metadata": {
    "id": "389ed209-fe16-4292-8589-e983c61bb7ad"
   },
   "outputs": [],
   "source": []
  },
  {
   "cell_type": "code",
   "execution_count": null,
   "id": "4af5bc03-0075-4622-affe-02a1d26d83a5",
   "metadata": {
    "id": "4af5bc03-0075-4622-affe-02a1d26d83a5",
    "outputId": "5843e5f9-630e-43e2-d2a4-1159e03086e7"
   },
   "outputs": [],
   "source": [
    "plt.figure(figsize=(12, 8))\n",
    "sns.heatmap(bank1_df.corr(numeric_only = True), annot=True, vmin=-1, vmax=1, fmt='.2f', cmap='Spectral')"
   ]
  },
  {
   "cell_type": "code",
   "execution_count": null,
   "id": "6a70f8bd-c445-41d2-ad91-249fbda250dd",
   "metadata": {
    "id": "6a70f8bd-c445-41d2-ad91-249fbda250dd",
    "outputId": "2730bd5b-f983-4f3d-e5b9-562441747450"
   },
   "outputs": [],
   "source": [
    "plt.figure(figsize=(12, 8))\n",
    "sns.heatmap(bank2_df.corr(numeric_only = True), annot=True, vmin=-1, vmax=1, fmt='.2f', cmap='Spectral')"
   ]
  },
  {
   "cell_type": "markdown",
   "id": "253b4e44-1079-4a34-8c95-db3c35d9f4e2",
   "metadata": {
    "id": "253b4e44-1079-4a34-8c95-db3c35d9f4e2"
   },
   "source": [
    "# Visualize and minimize outliers"
   ]
  },
  {
   "cell_type": "code",
   "execution_count": null,
   "id": "1de51749-59b2-4fc1-a375-4b3c0e9077e5",
   "metadata": {
    "id": "1de51749-59b2-4fc1-a375-4b3c0e9077e5",
    "outputId": "6d64e321-509d-4192-a302-7c46c834ff18"
   },
   "outputs": [],
   "source": [
    "bank1_installment_box = bank1_df.hvplot.box(\n",
    "    y='installment', \n",
    "    subplots=True, \n",
    "    by='loan_status',\n",
    "    width=800, height=600,\n",
    "    rot = 45,\n",
    "    title='Bank 1, Status by Installment', \n",
    "    xlabel='Loan Status', \n",
    "    ylabel='Installment'\n",
    ")\n",
    "\n",
    "bank1_amnt_box = bank1_df.hvplot.box(\n",
    "    y='loan_amnt', \n",
    "    subplots=True, \n",
    "    by='loan_status', \n",
    "    width=800, height=600,\n",
    "    rot = 45,\n",
    "    title='Bank 1, Loan Status by Amount', \n",
    "    xlabel='Loan Status', \n",
    "    ylabel='Loan Amount'\n",
    ")\n",
    "\n",
    "bank1_installment_box + bank1_amnt_box "
   ]
  },
  {
   "cell_type": "code",
   "execution_count": null,
   "id": "9e5b1fa2-7ba6-4cdf-a51d-a876260ef061",
   "metadata": {
    "id": "9e5b1fa2-7ba6-4cdf-a51d-a876260ef061"
   },
   "outputs": [],
   "source": [
    "# minimize outliers \n",
    "q_low = bank1_df['annual_inc'].quantile(0.08)\n",
    "q_hi  = bank1_df['annual_inc'].quantile(0.92)\n",
    "bank1_df = bank1_df[(bank1_df['annual_inc'] < q_hi) & (bank2_df['annual_inc'] > q_low)]\n",
    "bank1_df = bank1_df[(bank1_df['dti'] <=45)]\n",
    "q_hi  = bank1_df['bc_open_to_buy'].quantile(0.95)\n",
    "bank1_df = bank1_df[(bank1_df['bc_open_to_buy'] < q_hi)]\n",
    "bank1_df = bank1_df[(bank1_df['bc_util'] <=160)]\n",
    "bank1_df = bank1_df[(bank1_df['revol_util'] <=150)]\n",
    "bank2_df = bank1_df[(bank1_df['num_op_rev_tl'] <=35)]\n"
   ]
  },
  {
   "cell_type": "code",
   "execution_count": null,
   "id": "75e80d6b-94b0-4923-abfa-0c8367fec795",
   "metadata": {
    "id": "75e80d6b-94b0-4923-abfa-0c8367fec795",
    "outputId": "ca1ad5fe-e084-41fd-cd0f-c251a5fcf656"
   },
   "outputs": [],
   "source": [
    "bank1_installment_box = bank1_df.hvplot.box(\n",
    "    y='installment', \n",
    "    subplots=True, \n",
    "    by='loan_status',\n",
    "    width=800, height=600,\n",
    "    rot = 45,\n",
    "    title='Bank 1, Status by Installment', \n",
    "    xlabel='Loan Status', \n",
    "    ylabel='Installment'\n",
    ")\n",
    "\n",
    "bank1_amnt_box = bank1_df.hvplot.box(\n",
    "    y='loan_amnt', \n",
    "    subplots=True, \n",
    "    by='loan_status', \n",
    "    width=800, height=600,\n",
    "    rot = 45,\n",
    "    title='Bank 1, Loan Status by Amount', \n",
    "    xlabel='Loan Status', \n",
    "    ylabel='Loan Amount'\n",
    ")\n",
    "\n",
    "bank1_installment_box + bank1_amnt_box "
   ]
  },
  {
   "cell_type": "code",
   "execution_count": null,
   "id": "5daabe32-4fb5-4ee7-859d-e3ed929ca146",
   "metadata": {
    "id": "5daabe32-4fb5-4ee7-859d-e3ed929ca146",
    "outputId": "59447269-3d88-4515-d55d-d0121640c80a"
   },
   "outputs": [],
   "source": [
    "bank2_installment_box = bank2_df.hvplot.box(\n",
    "    y='installment', \n",
    "    subplots=True, \n",
    "    by='loan_status', \n",
    "    width=800, height=600,\n",
    "    rot = 45,\n",
    "    title='Bank 2, Status by Installment', \n",
    "    xlabel='Loan Status', \n",
    "    ylabel='Installment'\n",
    ")\n",
    "\n",
    "bank2_amnt_box = bank2_df.hvplot.box(\n",
    "    y='loan_amnt', \n",
    "    subplots=True, \n",
    "    by='loan_status', \n",
    "    width=800, height=600,\n",
    "    rot = 45,\n",
    "    title='Bank 2, Loan Status by Amount', \n",
    "    xlabel='Loan Status', \n",
    "    ylabel='Loan Amount'\n",
    ")\n",
    "\n",
    "bank2_installment_box + bank2_amnt_box"
   ]
  },
  {
   "cell_type": "code",
   "execution_count": null,
   "id": "47a03fb8-2fac-4788-b51f-7b330f2f803b",
   "metadata": {
    "id": "47a03fb8-2fac-4788-b51f-7b330f2f803b"
   },
   "outputs": [],
   "source": [
    "# minimize outliers \n",
    "q_low = bank2_df['annual_inc'].quantile(0.08)\n",
    "q_hi  = bank2_df['annual_inc'].quantile(0.92)\n",
    "bank2_df = bank2_df[(bank2_df['annual_inc'] < q_hi) & (bank2_df['annual_inc'] > q_low)]\n",
    "bank2_df = bank2_df[(bank2_df['dti'] <=45)]\n",
    "q_hi  = bank2_df['bc_open_to_buy'].quantile(0.95)\n",
    "bank2_df = bank2_df[(bank2_df['bc_open_to_buy'] < q_hi)]\n",
    "bank2_df = bank2_df[(bank2_df['bc_util'] <=160)]\n",
    "bank2_df = bank2_df[(bank2_df['revol_util'] <=150)]\n",
    "bank2_df = bank2_df[(bank2_df['num_op_rev_tl'] <=35)]\n"
   ]
  },
  {
   "cell_type": "code",
   "execution_count": null,
   "id": "a846ae94-6fb6-49b6-b5b7-da9b9cf0f233",
   "metadata": {
    "id": "a846ae94-6fb6-49b6-b5b7-da9b9cf0f233",
    "outputId": "69a8a98f-e40c-4e38-c6a0-8fe468614dcb"
   },
   "outputs": [],
   "source": [
    "bank2_installment_box = bank2_df.hvplot.box(\n",
    "    y='installment', \n",
    "    subplots=True, \n",
    "    by='loan_status', \n",
    "    width=800, height=600,\n",
    "    rot = 45,\n",
    "    title='Bank 2, Status by Installment', \n",
    "    xlabel='Loan Status', \n",
    "    ylabel='Installment'\n",
    ")\n",
    "\n",
    "bank2_amnt_box = bank2_df.hvplot.box(\n",
    "    y='loan_amnt', \n",
    "    subplots=True, \n",
    "    by='loan_status', \n",
    "    width=800, height=600,\n",
    "    rot = 45,\n",
    "    title='Bank 2, Loan Status by Amount', \n",
    "    xlabel='Loan Status', \n",
    "    ylabel='Loan Amount'\n",
    ")\n",
    "\n",
    "bank2_installment_box + bank2_amnt_box"
   ]
  },
  {
   "cell_type": "code",
   "execution_count": null,
   "id": "aa931cee-0c12-4b3d-b168-086ca97fbb9b",
   "metadata": {
    "id": "aa931cee-0c12-4b3d-b168-086ca97fbb9b",
    "outputId": "f9dd2aba-527b-479f-d58c-b97fc8c3ce00"
   },
   "outputs": [],
   "source": [
    "# Create a list of bank1_df categorical variables \n",
    "bank1_df_categorical_variables = list(bank1_df.dtypes[bank1_df.dtypes == 'object'].index)\n",
    "\n",
    "# Display the categorical variables list\n",
    "bank1_df_categorical_variables"
   ]
  },
  {
   "cell_type": "code",
   "execution_count": null,
   "id": "22c6d7b2-c51e-4be7-9465-e347abf64877",
   "metadata": {
    "id": "22c6d7b2-c51e-4be7-9465-e347abf64877",
    "outputId": "e1abbe15-390a-44bb-ed35-a7ba1e0f9a69"
   },
   "outputs": [],
   "source": [
    "# Create a list of bank2_df categorical variables \n",
    "bank2_df_categorical_variables = list(bank2_df.dtypes[bank1_df.dtypes == 'object'].index)\n",
    "\n",
    "# Display the categorical variables list\n",
    "bank2_df_categorical_variables"
   ]
  },
  {
   "cell_type": "code",
   "execution_count": null,
   "id": "fb77d5fd-a835-45be-bce3-3142be622fc2",
   "metadata": {
    "id": "fb77d5fd-a835-45be-bce3-3142be622fc2"
   },
   "outputs": [],
   "source": [
    "# Instantiate OneHotEncoder\n",
    "bank1_enc = OneHotEncoder(sparse=False)\n",
    "# Encode the categorcal variables using OneHotEncoder\n",
    "bank1_encoded_data = bank1_enc.fit_transform(bank1_df[bank1_df_categorical_variables])\n"
   ]
  },
  {
   "cell_type": "code",
   "execution_count": null,
   "id": "0424b4ab-2dfe-4608-bf45-f7ead0e9771a",
   "metadata": {
    "id": "0424b4ab-2dfe-4608-bf45-f7ead0e9771a",
    "outputId": "6117db23-c1a6-470a-fde8-3d1316acd3e1"
   },
   "outputs": [],
   "source": [
    "# Create a DataFrame with the bank1 encoded variables\n",
    "bank1_encoded_df = pd.DataFrame(\n",
    "    bank1_encoded_data,\n",
    "    columns = bank1_enc.get_feature_names_out(bank1_df_categorical_variables)\n",
    ")\n",
    "\n",
    "# confirm 'keys' and review the DataFrame\n",
    "display(bank1_encoded_df.columns)\n",
    "print('\\n')\n",
    "display(bank1_encoded_df.head(3))"
   ]
  },
  {
   "cell_type": "code",
   "execution_count": null,
   "id": "09d7928f-a96b-48c9-9c4f-849e589cfa76",
   "metadata": {
    "id": "09d7928f-a96b-48c9-9c4f-849e589cfa76"
   },
   "outputs": [],
   "source": [
    "# Add the numerical variables from bank1_df DataFrame to the one-hot encoding bank1_encoded_df\n",
    "full_b1_encoded_df = pd.concat(\n",
    "    [\n",
    "        bank1_df.drop(columns=bank1_df_categorical_variables), \n",
    "        bank1_encoded_df\n",
    "    ], \n",
    "        axis=1\n",
    ")\n",
    "\n",
    "# confirm 'keys' and review the DataFrame\n",
    "display(full_b1_encoded_df.head(3))\n",
    "\n"
   ]
  },
  {
   "cell_type": "code",
   "execution_count": null,
   "id": "5fd42caf-f979-4b6f-84ec-7faacbb6c1ab",
   "metadata": {
    "id": "5fd42caf-f979-4b6f-84ec-7faacbb6c1ab"
   },
   "outputs": [],
   "source": [
    "print('grade')\n",
    "display(bank1_df['grade'].value_counts())\n",
    "print('\\nemp_title')\n",
    "display(bank1_df['emp_title'].value_counts()) \n",
    "print('\\nhome_ownership')\n",
    "display(bank1_df['home_ownership'].value_counts())\n",
    "print('\\nverification_status')\n",
    "display(bank1_df['verification_status'].value_counts())\n",
    "print('\\nloan_status')\n",
    "display(bank1_df['loan_status'].value_counts())\n",
    "# print('\\naddr_state')\n",
    "# display(bank1_df['addr_state'].value_counts())\n",
    "print('\\napplication_type')\n",
    "display(bank1_df['application_type'].value_counts())\n",
    "print('\\nverification_status_joint')\n",
    "display(bank1_df['verification_status_joint'].value_counts()) "
   ]
  },
  {
   "cell_type": "code",
   "execution_count": null,
   "id": "eefd96dd-1742-4d81-86b2-d6d886e49d95",
   "metadata": {
    "id": "eefd96dd-1742-4d81-86b2-d6d886e49d95"
   },
   "outputs": [],
   "source": [
    "# Instantiate OneHotEncoder\n",
    "bank2_enc = OneHotEncoder(sparse=False)\n",
    "# Encode the categorcal variables using OneHotEncoder\n",
    "bank2_encoded_data = bank2_enc.fit_transform(bank2_df[bank2_df_categorical_variables])\n"
   ]
  },
  {
   "cell_type": "code",
   "execution_count": null,
   "id": "228ff4c8-c575-494c-b43e-21c695615029",
   "metadata": {
    "id": "228ff4c8-c575-494c-b43e-21c695615029"
   },
   "outputs": [],
   "source": [
    "# Create a DataFrame with the bank2 encoded variables\n",
    "bank2_encoded_df = pd.DataFrame(\n",
    "    bank2_encoded_data,\n",
    "    columns = bank2_enc.get_feature_names_out(bank2_df_categorical_variables)\n",
    ")\n",
    "\n",
    "# confirm 'keys' and review the DataFrame\n",
    "display(bank2_encoded_df.columns)\n",
    "print('\\n')\n",
    "display(bank2_encoded_df.head(3))"
   ]
  },
  {
   "cell_type": "code",
   "execution_count": null,
   "id": "8b2c7f3a-eebf-4829-ba87-2300ce68f3e3",
   "metadata": {
    "id": "8b2c7f3a-eebf-4829-ba87-2300ce68f3e3"
   },
   "outputs": [],
   "source": [
    "print('grade')\n",
    "display(bank2_df['grade'].value_counts())\n",
    "print('\\nemp_title')\n",
    "display(bank2_df['emp_title'].value_counts()) \n",
    "print('\\nhome_ownership')\n",
    "display(bank2_df['home_ownership'].value_counts())\n",
    "print('\\nverification_status')\n",
    "display(bank2_df['verification_status'].value_counts())\n",
    "print('\\nloan_status')\n",
    "display(bank2_df['loan_status'].value_counts())\n",
    "# print('\\naddr_state')\n",
    "# display(bank1_df['addr_state'].value_counts())\n",
    "print('\\napplication_type')\n",
    "display(bank2_df['application_type'].value_counts())\n",
    "print('\\nverification_status_joint')\n",
    "display(bank2_df['verification_status_joint'].value_counts()) "
   ]
  },
  {
   "cell_type": "code",
   "execution_count": null,
   "id": "13a92b72-78b5-4ff1-9e49-0c8cad3d88fc",
   "metadata": {
    "id": "13a92b72-78b5-4ff1-9e49-0c8cad3d88fc"
   },
   "outputs": [],
   "source": [
    "# Create a DataFrame with the bank2 encoded variables\n",
    "encoded_df = pd.DataFrame(\n",
    "    encoded_data,\n",
    "    columns = enc.get_feature_names(categorical_variables)\n",
    ")\n",
    "\n",
    "# confirm 'keys' and review the DataFrame\n",
    "display(encoded_df.columns)\n",
    "print('\\n')\n",
    "display(encoded_df.head(3))"
   ]
  },
  {
   "cell_type": "markdown",
   "id": "c0c42865-aa22-48e7-8f3e-1a1750f993fe",
   "metadata": {
    "id": "c0c42865-aa22-48e7-8f3e-1a1750f993fe"
   },
   "source": [
    "# Identify NaN and replace with 0"
   ]
  },
  {
   "cell_type": "code",
   "execution_count": null,
   "id": "41acfeb2-dff2-4172-9e3c-2a4c75a999b7",
   "metadata": {
    "id": "41acfeb2-dff2-4172-9e3c-2a4c75a999b7"
   },
   "outputs": [],
   "source": [
    "# identify NaN\n",
    "display(bank1_df.isnull().values.any())\n",
    "print('\\n')\n",
    "count_nan = bank1_df.isnull().sum()\n",
    "display(count_nan)"
   ]
  },
  {
   "cell_type": "code",
   "execution_count": null,
   "id": "bccde791-331c-432b-b76e-5587bae07ed3",
   "metadata": {
    "id": "bccde791-331c-432b-b76e-5587bae07ed3"
   },
   "outputs": [],
   "source": [
    "# replace or fill NaN with 0 and confirm\n",
    "bank1_df = bank1_df.fillna(0)\n",
    "display(bank1_df.isnull().values.any())\n",
    "print('\\n')\n",
    "count_nan = bank1_df.isnull().sum()\n",
    "display(count_nan)"
   ]
  },
  {
   "cell_type": "code",
   "execution_count": null,
   "id": "f181d511-5416-4b1a-8d1c-8b97d8829b58",
   "metadata": {
    "id": "f181d511-5416-4b1a-8d1c-8b97d8829b58"
   },
   "outputs": [],
   "source": [
    "# Review the DataFrame\n",
    "display(bank1_df.head(3))\n",
    "print('\\n')\n",
    "display(bank1_df.shape)\n",
    "print('\\n')\n",
    "display(bank1_df.dtypes)\n",
    "print('\\n')\n",
    "display(bank1_df.info())"
   ]
  },
  {
   "cell_type": "code",
   "execution_count": null,
   "id": "3d60feec-13f8-4b87-929d-97e1365d9b27",
   "metadata": {
    "id": "3d60feec-13f8-4b87-929d-97e1365d9b27"
   },
   "outputs": [],
   "source": [
    "# identify NaN\n",
    "display(bank2_df.isnull().values.any())\n",
    "print('\\n')\n",
    "count_nan = bank2_df.isnull().sum()\n",
    "display(count_nan)"
   ]
  },
  {
   "cell_type": "code",
   "execution_count": null,
   "id": "203eb63c-6141-4867-993b-1e84161e03c1",
   "metadata": {
    "id": "203eb63c-6141-4867-993b-1e84161e03c1"
   },
   "outputs": [],
   "source": [
    "# replace or fill NaN with 0 and confirm\n",
    "bank2_df = bank2_df.fillna(0)\n",
    "display(bank2_df.isnull().values.any())\n",
    "print('\\n')\n",
    "count_nan = bank2_df.isnull().sum()\n",
    "display(count_nan)"
   ]
  },
  {
   "cell_type": "code",
   "execution_count": null,
   "id": "eb50d4cc-b17f-48b2-b70b-2ccd3dcac567",
   "metadata": {
    "id": "eb50d4cc-b17f-48b2-b70b-2ccd3dcac567"
   },
   "outputs": [],
   "source": [
    "# Review the DataFrame\n",
    "display(bank2_df.head(3))\n",
    "print('\\n')\n",
    "display(bank2_df.shape)\n",
    "print('\\n')\n",
    "display(bank2_df.dtypes)\n",
    "print('\\n')\n",
    "display(bank2_df.info())"
   ]
  },
  {
   "cell_type": "code",
   "execution_count": null,
   "id": "41c64e49-9d80-41e3-9d53-7f4576c5c5ff",
   "metadata": {
    "id": "41c64e49-9d80-41e3-9d53-7f4576c5c5ff"
   },
   "outputs": [],
   "source": [
    "# Create a list of bank1_df categorical variables \n",
    "bank2_df_categorical_variables = list(bank2_df.dtypes[bank2_df.dtypes == 'object'].index)\n",
    "\n",
    "# Display the categorical variables list\n",
    "bank2_df_categorical_variables"
   ]
  },
  {
   "cell_type": "code",
   "execution_count": null,
   "id": "4db58669-19d6-4e91-8a68-33fad3f0bd38",
   "metadata": {
    "id": "4db58669-19d6-4e91-8a68-33fad3f0bd38"
   },
   "outputs": [],
   "source": [
    "for col in bank1_df.columns:\n",
    "    display(col)"
   ]
  },
  {
   "cell_type": "code",
   "execution_count": null,
   "id": "0a42ed57-9932-471c-a4cf-f8dcb5d76566",
   "metadata": {
    "id": "0a42ed57-9932-471c-a4cf-f8dcb5d76566"
   },
   "outputs": [],
   "source": [
    "# Use the `StandardScaler()` module from scikit-learn to normalize the data from the CSV file\n",
    "scaled_data = StandardScaler().fit_transform(bank1_df)"
   ]
  },
  {
   "cell_type": "code",
   "execution_count": null,
   "id": "924235e0-4d5e-498a-8760-9ade94a6915e",
   "metadata": {
    "id": "924235e0-4d5e-498a-8760-9ade94a6915e"
   },
   "outputs": [],
   "source": []
  },
  {
   "cell_type": "code",
   "execution_count": null,
   "id": "496264bc-bbb7-4ad5-ae9d-c8d433b758a1",
   "metadata": {
    "id": "496264bc-bbb7-4ad5-ae9d-c8d433b758a1"
   },
   "outputs": [],
   "source": []
  },
  {
   "cell_type": "code",
   "execution_count": null,
   "id": "f01e99c1-78a2-4c67-b9de-119b88e12e86",
   "metadata": {
    "id": "f01e99c1-78a2-4c67-b9de-119b88e12e86"
   },
   "outputs": [],
   "source": []
  },
  {
   "cell_type": "code",
   "execution_count": null,
   "id": "84f022df-0f8b-49e5-9832-8a8a0e37dad5",
   "metadata": {
    "id": "84f022df-0f8b-49e5-9832-8a8a0e37dad5"
   },
   "outputs": [],
   "source": [
    "# use standard scaler to scale accross all column values\n",
    "bank1_df_scaled = StandardScaler().fit_transform(bank1_df)\n",
    "# create a dataframe with the scaled data\n",
    "top_100_crypto_data_scaled = pd.DataFrame(\n",
    "    top_100_crypto_data_scaled,\n",
    "    columns=['Price', 'Changes 24H', 'Changes 7D', 'Changes 30D', 'Changes 1Y', 'Market Cap', 'Volume 24H', 'Available Supply'],\n",
    "    index = top_100_crypto_data.index\n",
    ")\n",
    "top_100_crypto_data_scaled.head()"
   ]
  },
  {
   "cell_type": "markdown",
   "id": "04ee1abb-672b-4f4c-9cd6-b77fc42a6537",
   "metadata": {
    "id": "04ee1abb-672b-4f4c-9cd6-b77fc42a6537"
   },
   "source": [
    "# Loan accepted: If the company approves the loan, there are ~3 primary possible scenarios described below:\n",
    "> * Fully paid: Applicant has fully paid the loan (the principal and the interest rate)\n",
    "> * Current: Applicant is in the process of paying the instalments, i.e. the tenure of the loan is not yet completed. These candidates are not labelled as 'defaulted'.\n",
    ">> * Grace period\n",
    ">> * Late (16-30)\n",
    ">> * Late (31-120)\n",
    ">> * Default\n",
    "> * Charged-off: Applicant has not paid the instalments in due time for a long period of time, i.e. he/she has defaulted on the loan"
   ]
  },
  {
   "cell_type": "code",
   "execution_count": null,
   "id": "d81e1eec-85a9-44ea-8be7-3062bd704a1a",
   "metadata": {
    "id": "d81e1eec-85a9-44ea-8be7-3062bd704a1a"
   },
   "outputs": [],
   "source": []
  },
  {
   "cell_type": "code",
   "execution_count": null,
   "id": "315bdb4d-10c0-4037-a2c2-a4cd1ab977f6",
   "metadata": {
    "id": "315bdb4d-10c0-4037-a2c2-a4cd1ab977f6"
   },
   "outputs": [],
   "source": [
    "# Import the OHLCV dataset into a Pandas Dataframe\n",
    "accepted_df = pd.read_csv(\n",
    "    Path('/Users/lokiskylizard/Desktop/proj2data/archive/accepted_2007_to_2018q4.csv/accepted_2007_to_2018Q4.csv'),\n",
    "    low_memory=False,\n",
    "    infer_datetime_format=True, \n",
    "    parse_dates=True\n",
    ")\n",
    "\n",
    "# Review the DataFrame\n",
    "display(accepted_df.shape)\n",
    "display(accepted_df.head(3))"
   ]
  },
  {
   "cell_type": "code",
   "execution_count": null,
   "id": "c9c2417c-b902-4820-865d-78c61beeeeab",
   "metadata": {
    "id": "c9c2417c-b902-4820-865d-78c61beeeeab"
   },
   "outputs": [],
   "source": []
  }
 ],
 "metadata": {
  "colab": {
   "provenance": []
  },
  "kernelspec": {
   "display_name": "Python 3.9 (machine_slearn)",
   "language": "python",
   "name": "machine_slearn"
  },
  "language_info": {
   "codemirror_mode": {
    "name": "ipython",
    "version": 3
   },
   "file_extension": ".py",
   "mimetype": "text/x-python",
   "name": "python",
   "nbconvert_exporter": "python",
   "pygments_lexer": "ipython3",
   "version": "3.9.15"
  }
 },
 "nbformat": 4,
 "nbformat_minor": 5
}
