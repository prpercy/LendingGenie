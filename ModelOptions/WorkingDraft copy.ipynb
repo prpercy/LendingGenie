{
 "cells": [
  {
   "cell_type": "code",
   "execution_count": null,
   "metadata": {},
   "outputs": [],
   "source": [
    "from pathlib import Path\n",
    "import pandas as pd\n",
    "# import yfinance as yf\n",
    "import numpy as np\n",
    "import sklearn as sk\n",
    "import hvplot.pandas\n",
    "import seaborn as sns\n",
    "from watermark import watermark\n",
    "%matplotlib inline\n",
    "pd.set_option('display.max_colwidth', 100)\n",
    "pd.set_option('display.max_rows', 2000)\n",
    "pd.options.display.float_format = '{:0,.2f}'.format #avoid scientific notation, and thousands separator "
   ]
  },
  {
   "cell_type": "code",
   "execution_count": null,
   "metadata": {},
   "outputs": [],
   "source": [
    "#System Requirements\n",
    "\n",
    "print(watermark())\n",
    "print(watermark(iversions=True, globals_=globals()))"
   ]
  },
  {
   "cell_type": "code",
   "execution_count": null,
   "metadata": {},
   "outputs": [],
   "source": [
    "# Read data from the Kaggle database file into a Pandas DataFrame\n",
    "df = pd.read_csv(\n",
    "    Path(\"../../LG_Resources/Resources/lending-club/accepted_2007_to_2018Q4.csv/accepted_2007_to_2018Q4.csv\"),  \n",
    "    infer_datetime_format=True, \n",
    "    low_memory=False\n",
    ")\n",
    "\n",
    "# Review the DataFrame\n",
    "df.head()"
   ]
  },
  {
   "cell_type": "code",
   "execution_count": null,
   "metadata": {},
   "outputs": [],
   "source": [
    "#Check number of NAN values in each column\n",
    "\n",
    "nan_values = pd.DataFrame(df.isna().sum(),columns = [\"NAN Count\"]).reset_index()\n",
    "nan_values.sort_values(nan_values.columns[1], ascending=False)"
   ]
  },
  {
   "cell_type": "code",
   "execution_count": null,
   "metadata": {},
   "outputs": [],
   "source": [
    "#Check average number of NAN values and how many columns have NAN values over 500k\n",
    "display(nan_values[(nan_values['NAN Count'] > 500000)].shape)\n",
    "nan_values['NAN Count'].mean()"
   ]
  },
  {
   "cell_type": "code",
   "execution_count": null,
   "metadata": {},
   "outputs": [],
   "source": [
    "#Drop columns with over 500k NAN values + ID column (not relevant) and create new dataframe\n",
    "\n",
    "drop_columns = nan_values[(nan_values['NAN Count'] > 500000)]['index'].tolist()\n",
    "drop_columns.append('id')\n",
    "df = df.drop(drop_columns, axis=1)\n",
    "df.isna().sum().mean()\n"
   ]
  },
  {
   "cell_type": "code",
   "execution_count": null,
   "metadata": {},
   "outputs": [],
   "source": [
    "#Reorder columns in alphabetical order and print list of columns for further data analysis\n",
    "\n",
    "ordercolumns = df.columns.tolist()\n",
    "ordercolumns.sort()\n",
    "# display(columns)\n",
    "df = df[ordercolumns]\n",
    "df.columns\n"
   ]
  },
  {
   "cell_type": "code",
   "execution_count": null,
   "metadata": {},
   "outputs": [],
   "source": [
    "df['loan_amnt'].hvplot.hist(yformatter='%.0f',xformatter='%.0f')\n",
    "# df['loan_amnt'].value_counts()\n",
    "# "
   ]
  },
  {
   "cell_type": "code",
   "execution_count": null,
   "metadata": {},
   "outputs": [],
   "source": [
    "display(df['annual_inc'].describe())\n",
    "\n",
    "df['annual_inc'].hvplot.bar(yformatter='%.0f',xformatter='%.0f')\n"
   ]
  },
  {
   "cell_type": "code",
   "execution_count": null,
   "metadata": {},
   "outputs": [],
   "source": [
    "df['purpose'].value_counts().hvplot.bar()\n"
   ]
  },
  {
   "cell_type": "code",
   "execution_count": null,
   "metadata": {},
   "outputs": [],
   "source": [
    "df['fico_range_high'].hvplot.hist() + df['fico_range_low'].hvplot.hist()"
   ]
  },
  {
   "cell_type": "code",
   "execution_count": null,
   "metadata": {},
   "outputs": [],
   "source": [
    "df['grade'].value_counts().hvplot.bar()"
   ]
  },
  {
   "cell_type": "code",
   "execution_count": null,
   "metadata": {},
   "outputs": [],
   "source": [
    "# df.hvplot.scatter(x='loan_amnt',y='int_rate',by='purpose')"
   ]
  }
 ],
 "metadata": {
  "kernelspec": {
   "display_name": "Python 3 (ipykernel)",
   "language": "python",
   "name": "python3"
  },
  "language_info": {
   "codemirror_mode": {
    "name": "ipython",
    "version": 3
   },
   "file_extension": ".py",
   "mimetype": "text/x-python",
   "name": "python",
   "nbconvert_exporter": "python",
   "pygments_lexer": "ipython3",
   "version": "3.7.13"
  },
  "vscode": {
   "interpreter": {
    "hash": "18efc71f25f5bd2adab81da7ca3f7123380c7d4928a358225ef38ff9deb41af7"
   }
  }
 },
 "nbformat": 4,
 "nbformat_minor": 4
}
