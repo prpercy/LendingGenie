{
 "cells": [
  {
   "cell_type": "code",
   "execution_count": 50,
   "id": "47ff66d2-1b8f-4891-a1c6-e8264e08af9c",
   "metadata": {
    "id": "47ff66d2-1b8f-4891-a1c6-e8264e08af9c"
   },
   "outputs": [],
   "source": [
    "from watermark import watermark\n",
    "# Imports\n",
    "import sys\n",
    "import os\n",
    "import platform\n",
    "\n",
    "import pandas as pd\n",
    "import numpy as np\n",
    "import sklearn as sk\n",
    "from pathlib import Path\n",
    "import gzip\n",
    "\n",
    "from pandas.tseries.offsets import DateOffset\n",
    "\n",
    "from sklearn.preprocessing import StandardScaler, MinMaxScaler\n",
    "from sklearn.model_selection import train_test_split, GridSearchCV, KFold\n",
    "from sklearn.decomposition import PCA\n",
    "\n",
    "from sklearn.model_selection import cross_val_score\n",
    "from sklearn.svm import LinearSVC                       #  Linear Support Vector Classifier (SVC)\n",
    "from imblearn.under_sampling import RandomUnderSampler\n",
    "from sklearn.neighbors import KNeighborsClassifier\n",
    "from sklearn.linear_model import LogisticRegression\n",
    "from sklearn.ensemble import AdaBoostClassifier\n",
    "from xgboost.sklearn import XGBClassifier\n",
    "\n",
    "from sklearn import svm                                 #  support vector machine (SVM) learning method\n",
    "\n",
    "from sklearn.metrics import (classification_report, \n",
    "                             balanced_accuracy_score, \n",
    "                             confusion_matrix,\n",
    "                             roc_auc_score, \n",
    "                             f1_score)\n",
    "\n",
    "from imblearn.metrics import classification_report_imbalanced\n",
    "\n",
    "import hvplot.pandas\n",
    "import matplotlib.pyplot as plt\n",
    "%matplotlib inline\n",
    "import seaborn as sns\n",
    "\n",
    "import pickle                                          # method for save trained/fit model/s\n",
    "import joblib                                          # method for save trained/fit model/s\n",
    "\n",
    "import warnings\n",
    "warnings.filterwarnings('ignore')"
   ]
  },
  {
   "cell_type": "code",
   "execution_count": 8,
   "id": "aa28968a-66e6-4dc0-85af-240461c8a8fe",
   "metadata": {},
   "outputs": [
    {
     "name": "stdout",
     "output_type": "stream",
     "text": [
      "Python Platform: Windows-10-10.0.22000-SP0\n",
      "Python 3.7.13 (default, Mar 28 2022, 08:03:21) [MSC v.1916 64 bit (AMD64)]\n",
      "Last updated: 2022-12-16T14:50:39.134650-05:00\n",
      "\n",
      "Python implementation: CPython\n",
      "Python version       : 3.7.13\n",
      "IPython version      : 7.31.1\n",
      "\n",
      "Compiler    : MSC v.1916 64 bit (AMD64)\n",
      "OS          : Windows\n",
      "Release     : 10\n",
      "Machine     : AMD64\n",
      "Processor   : Intel64 Family 6 Model 154 Stepping 4, GenuineIntel\n",
      "CPU cores   : 12\n",
      "Architecture: 64bit\n",
      "\n",
      "platform  : 1.0.8\n",
      "numpy     : 1.21.5\n",
      "pandas    : 1.3.5\n",
      "joblib    : 1.1.0\n",
      "sklearn   : 1.0.2\n",
      "sys       : 3.7.13 (default, Mar 28 2022, 08:03:21) [MSC v.1916 64 bit (AMD64)]\n",
      "matplotlib: 3.5.1\n",
      "seaborn   : 0.11.2\n",
      "hvplot    : 0.8.0\n",
      "\n"
     ]
    }
   ],
   "source": [
    "# Report Technologies\n",
    "print(f'Python Platform: {platform.platform()}')\n",
    "print(f'Python {sys.version}')\n",
    "print(watermark())\n",
    "print(watermark(iversions=True, globals_=globals()))"
   ]
  },
  {
   "cell_type": "code",
   "execution_count": 9,
   "id": "43e71b0e-1eee-4147-abb7-0fe0e1963caf",
   "metadata": {},
   "outputs": [],
   "source": [
    "# create a directory to store and save trained models\n",
    "# os.mkdir('Resources_models')"
   ]
  },
  {
   "cell_type": "markdown",
   "id": "e4be9421-3530-47b6-8e0f-6310cf46d09d",
   "metadata": {
    "id": "e4be9421-3530-47b6-8e0f-6310cf46d09d"
   },
   "source": [
    "# Read in original complete dataset"
   ]
  },
  {
   "cell_type": "code",
   "execution_count": 10,
   "id": "d5bc9670-3d88-4514-89cd-44b8004f3d46",
   "metadata": {
    "colab": {
     "base_uri": "https://localhost:8080/",
     "height": 389
    },
    "id": "d5bc9670-3d88-4514-89cd-44b8004f3d46",
    "outputId": "ac2bf21c-c08c-4507-d782-8404004f46c0"
   },
   "outputs": [
    {
     "data": {
      "text/plain": [
       "(2260701, 151)"
      ]
     },
     "metadata": {},
     "output_type": "display_data"
    },
    {
     "data": {
      "text/html": [
       "<div>\n",
       "<style scoped>\n",
       "    .dataframe tbody tr th:only-of-type {\n",
       "        vertical-align: middle;\n",
       "    }\n",
       "\n",
       "    .dataframe tbody tr th {\n",
       "        vertical-align: top;\n",
       "    }\n",
       "\n",
       "    .dataframe thead th {\n",
       "        text-align: right;\n",
       "    }\n",
       "</style>\n",
       "<table border=\"1\" class=\"dataframe\">\n",
       "  <thead>\n",
       "    <tr style=\"text-align: right;\">\n",
       "      <th></th>\n",
       "      <th>id</th>\n",
       "      <th>member_id</th>\n",
       "      <th>loan_amnt</th>\n",
       "      <th>funded_amnt</th>\n",
       "      <th>funded_amnt_inv</th>\n",
       "      <th>term</th>\n",
       "      <th>int_rate</th>\n",
       "      <th>installment</th>\n",
       "      <th>grade</th>\n",
       "      <th>sub_grade</th>\n",
       "      <th>...</th>\n",
       "      <th>hardship_payoff_balance_amount</th>\n",
       "      <th>hardship_last_payment_amount</th>\n",
       "      <th>disbursement_method</th>\n",
       "      <th>debt_settlement_flag</th>\n",
       "      <th>debt_settlement_flag_date</th>\n",
       "      <th>settlement_status</th>\n",
       "      <th>settlement_date</th>\n",
       "      <th>settlement_amount</th>\n",
       "      <th>settlement_percentage</th>\n",
       "      <th>settlement_term</th>\n",
       "    </tr>\n",
       "  </thead>\n",
       "  <tbody>\n",
       "    <tr>\n",
       "      <th>0</th>\n",
       "      <td>68407277</td>\n",
       "      <td>NaN</td>\n",
       "      <td>3600.0</td>\n",
       "      <td>3600.0</td>\n",
       "      <td>3600.0</td>\n",
       "      <td>36 months</td>\n",
       "      <td>13.99</td>\n",
       "      <td>123.03</td>\n",
       "      <td>C</td>\n",
       "      <td>C4</td>\n",
       "      <td>...</td>\n",
       "      <td>NaN</td>\n",
       "      <td>NaN</td>\n",
       "      <td>Cash</td>\n",
       "      <td>N</td>\n",
       "      <td>NaN</td>\n",
       "      <td>NaN</td>\n",
       "      <td>NaN</td>\n",
       "      <td>NaN</td>\n",
       "      <td>NaN</td>\n",
       "      <td>NaN</td>\n",
       "    </tr>\n",
       "    <tr>\n",
       "      <th>1</th>\n",
       "      <td>68355089</td>\n",
       "      <td>NaN</td>\n",
       "      <td>24700.0</td>\n",
       "      <td>24700.0</td>\n",
       "      <td>24700.0</td>\n",
       "      <td>36 months</td>\n",
       "      <td>11.99</td>\n",
       "      <td>820.28</td>\n",
       "      <td>C</td>\n",
       "      <td>C1</td>\n",
       "      <td>...</td>\n",
       "      <td>NaN</td>\n",
       "      <td>NaN</td>\n",
       "      <td>Cash</td>\n",
       "      <td>N</td>\n",
       "      <td>NaN</td>\n",
       "      <td>NaN</td>\n",
       "      <td>NaN</td>\n",
       "      <td>NaN</td>\n",
       "      <td>NaN</td>\n",
       "      <td>NaN</td>\n",
       "    </tr>\n",
       "    <tr>\n",
       "      <th>2</th>\n",
       "      <td>68341763</td>\n",
       "      <td>NaN</td>\n",
       "      <td>20000.0</td>\n",
       "      <td>20000.0</td>\n",
       "      <td>20000.0</td>\n",
       "      <td>60 months</td>\n",
       "      <td>10.78</td>\n",
       "      <td>432.66</td>\n",
       "      <td>B</td>\n",
       "      <td>B4</td>\n",
       "      <td>...</td>\n",
       "      <td>NaN</td>\n",
       "      <td>NaN</td>\n",
       "      <td>Cash</td>\n",
       "      <td>N</td>\n",
       "      <td>NaN</td>\n",
       "      <td>NaN</td>\n",
       "      <td>NaN</td>\n",
       "      <td>NaN</td>\n",
       "      <td>NaN</td>\n",
       "      <td>NaN</td>\n",
       "    </tr>\n",
       "  </tbody>\n",
       "</table>\n",
       "<p>3 rows × 151 columns</p>\n",
       "</div>"
      ],
      "text/plain": [
       "         id  member_id  loan_amnt  funded_amnt  funded_amnt_inv        term  \\\n",
       "0  68407277        NaN     3600.0       3600.0           3600.0   36 months   \n",
       "1  68355089        NaN    24700.0      24700.0          24700.0   36 months   \n",
       "2  68341763        NaN    20000.0      20000.0          20000.0   60 months   \n",
       "\n",
       "   int_rate  installment grade sub_grade  ... hardship_payoff_balance_amount  \\\n",
       "0     13.99       123.03     C        C4  ...                            NaN   \n",
       "1     11.99       820.28     C        C1  ...                            NaN   \n",
       "2     10.78       432.66     B        B4  ...                            NaN   \n",
       "\n",
       "  hardship_last_payment_amount disbursement_method  debt_settlement_flag  \\\n",
       "0                          NaN                Cash                     N   \n",
       "1                          NaN                Cash                     N   \n",
       "2                          NaN                Cash                     N   \n",
       "\n",
       "  debt_settlement_flag_date settlement_status settlement_date  \\\n",
       "0                       NaN               NaN             NaN   \n",
       "1                       NaN               NaN             NaN   \n",
       "2                       NaN               NaN             NaN   \n",
       "\n",
       "  settlement_amount settlement_percentage settlement_term  \n",
       "0               NaN                   NaN             NaN  \n",
       "1               NaN                   NaN             NaN  \n",
       "2               NaN                   NaN             NaN  \n",
       "\n",
       "[3 rows x 151 columns]"
      ]
     },
     "metadata": {},
     "output_type": "display_data"
    }
   ],
   "source": [
    "# This is a compression='gzip' file\n",
    "two_clients_df = pd.read_csv(\n",
    "    Path('./resources/accepted_2007_to_2018Q4.csv.gz'), \n",
    "    compression='gzip', \n",
    "    low_memory=False)\n",
    "\n",
    "# Review the DataFrame\n",
    "display(two_clients_df.shape)\n",
    "display(two_clients_df.head(3))\n"
   ]
  },
  {
   "cell_type": "markdown",
   "id": "bfe287b7-81ad-49a5-a002-80292b2b7a2c",
   "metadata": {},
   "source": [
    "# Data clean up, preparation and analysis"
   ]
  },
  {
   "cell_type": "code",
   "execution_count": 11,
   "id": "a975215f-e4b7-4d6a-a1a7-b1d7719de5d1",
   "metadata": {
    "id": "a975215f-e4b7-4d6a-a1a7-b1d7719de5d1",
    "outputId": "dc4eb04b-22a0-4600-8eae-26b221c793f9"
   },
   "outputs": [
    {
     "data": {
      "text/plain": [
       "(2260701, 151)"
      ]
     },
     "metadata": {},
     "output_type": "display_data"
    }
   ],
   "source": [
    "# drop duplicate rows\n",
    "two_clients_df.drop_duplicates()\n",
    "display(two_clients_df.shape)"
   ]
  },
  {
   "cell_type": "code",
   "execution_count": 12,
   "id": "ecd73c56-fcfa-435a-9b54-098b604e3be8",
   "metadata": {
    "id": "ecd73c56-fcfa-435a-9b54-098b604e3be8",
    "outputId": "2e262d7d-823b-474f-ceb8-4f6ad59e220b"
   },
   "outputs": [
    {
     "data": {
      "text/plain": [
       "array([False, False, False, False, False, False, False, False, False,\n",
       "       False, False, False, False, False, False, False, False, False,\n",
       "       False, False, False, False, False, False, False, False, False,\n",
       "       False, False, False, False, False, False, False, False, False,\n",
       "       False, False, False, False, False, False, False, False, False,\n",
       "       False, False, False, False, False, False, False, False, False,\n",
       "       False, False, False, False, False, False, False, False, False,\n",
       "       False, False, False, False, False, False, False, False, False,\n",
       "       False, False, False, False, False, False, False, False, False,\n",
       "       False, False, False, False, False, False, False, False, False,\n",
       "       False, False, False, False, False, False, False, False, False,\n",
       "       False, False, False, False, False, False, False, False, False,\n",
       "       False, False, False, False, False, False, False, False, False,\n",
       "       False, False, False, False, False, False, False, False, False,\n",
       "       False, False, False, False, False, False, False, False, False,\n",
       "       False, False, False, False, False, False, False, False, False,\n",
       "       False, False, False, False, False, False, False])"
      ]
     },
     "execution_count": 12,
     "metadata": {},
     "output_type": "execute_result"
    }
   ],
   "source": [
    "# check for duplicated columns\n",
    "two_clients_df.columns.duplicated()"
   ]
  },
  {
   "cell_type": "code",
   "execution_count": 13,
   "id": "da77b690-da42-4664-ad70-4a710b49985a",
   "metadata": {
    "id": "da77b690-da42-4664-ad70-4a710b49985a",
    "outputId": "72234a38-f6b2-47c7-d42b-9c44155096e9"
   },
   "outputs": [
    {
     "data": {
      "text/plain": [
       "'id'"
      ]
     },
     "metadata": {},
     "output_type": "display_data"
    },
    {
     "data": {
      "text/plain": [
       "'member_id'"
      ]
     },
     "metadata": {},
     "output_type": "display_data"
    },
    {
     "data": {
      "text/plain": [
       "'loan_amnt'"
      ]
     },
     "metadata": {},
     "output_type": "display_data"
    },
    {
     "data": {
      "text/plain": [
       "'funded_amnt'"
      ]
     },
     "metadata": {},
     "output_type": "display_data"
    },
    {
     "data": {
      "text/plain": [
       "'funded_amnt_inv'"
      ]
     },
     "metadata": {},
     "output_type": "display_data"
    },
    {
     "data": {
      "text/plain": [
       "'term'"
      ]
     },
     "metadata": {},
     "output_type": "display_data"
    },
    {
     "data": {
      "text/plain": [
       "'int_rate'"
      ]
     },
     "metadata": {},
     "output_type": "display_data"
    },
    {
     "data": {
      "text/plain": [
       "'installment'"
      ]
     },
     "metadata": {},
     "output_type": "display_data"
    },
    {
     "data": {
      "text/plain": [
       "'grade'"
      ]
     },
     "metadata": {},
     "output_type": "display_data"
    },
    {
     "data": {
      "text/plain": [
       "'sub_grade'"
      ]
     },
     "metadata": {},
     "output_type": "display_data"
    },
    {
     "data": {
      "text/plain": [
       "'emp_title'"
      ]
     },
     "metadata": {},
     "output_type": "display_data"
    },
    {
     "data": {
      "text/plain": [
       "'emp_length'"
      ]
     },
     "metadata": {},
     "output_type": "display_data"
    },
    {
     "data": {
      "text/plain": [
       "'home_ownership'"
      ]
     },
     "metadata": {},
     "output_type": "display_data"
    },
    {
     "data": {
      "text/plain": [
       "'annual_inc'"
      ]
     },
     "metadata": {},
     "output_type": "display_data"
    },
    {
     "data": {
      "text/plain": [
       "'verification_status'"
      ]
     },
     "metadata": {},
     "output_type": "display_data"
    },
    {
     "data": {
      "text/plain": [
       "'issue_d'"
      ]
     },
     "metadata": {},
     "output_type": "display_data"
    },
    {
     "data": {
      "text/plain": [
       "'loan_status'"
      ]
     },
     "metadata": {},
     "output_type": "display_data"
    },
    {
     "data": {
      "text/plain": [
       "'pymnt_plan'"
      ]
     },
     "metadata": {},
     "output_type": "display_data"
    },
    {
     "data": {
      "text/plain": [
       "'url'"
      ]
     },
     "metadata": {},
     "output_type": "display_data"
    },
    {
     "data": {
      "text/plain": [
       "'desc'"
      ]
     },
     "metadata": {},
     "output_type": "display_data"
    },
    {
     "data": {
      "text/plain": [
       "'purpose'"
      ]
     },
     "metadata": {},
     "output_type": "display_data"
    },
    {
     "data": {
      "text/plain": [
       "'title'"
      ]
     },
     "metadata": {},
     "output_type": "display_data"
    },
    {
     "data": {
      "text/plain": [
       "'zip_code'"
      ]
     },
     "metadata": {},
     "output_type": "display_data"
    },
    {
     "data": {
      "text/plain": [
       "'addr_state'"
      ]
     },
     "metadata": {},
     "output_type": "display_data"
    },
    {
     "data": {
      "text/plain": [
       "'dti'"
      ]
     },
     "metadata": {},
     "output_type": "display_data"
    },
    {
     "data": {
      "text/plain": [
       "'delinq_2yrs'"
      ]
     },
     "metadata": {},
     "output_type": "display_data"
    },
    {
     "data": {
      "text/plain": [
       "'earliest_cr_line'"
      ]
     },
     "metadata": {},
     "output_type": "display_data"
    },
    {
     "data": {
      "text/plain": [
       "'fico_range_low'"
      ]
     },
     "metadata": {},
     "output_type": "display_data"
    },
    {
     "data": {
      "text/plain": [
       "'fico_range_high'"
      ]
     },
     "metadata": {},
     "output_type": "display_data"
    },
    {
     "data": {
      "text/plain": [
       "'inq_last_6mths'"
      ]
     },
     "metadata": {},
     "output_type": "display_data"
    },
    {
     "data": {
      "text/plain": [
       "'mths_since_last_delinq'"
      ]
     },
     "metadata": {},
     "output_type": "display_data"
    },
    {
     "data": {
      "text/plain": [
       "'mths_since_last_record'"
      ]
     },
     "metadata": {},
     "output_type": "display_data"
    },
    {
     "data": {
      "text/plain": [
       "'open_acc'"
      ]
     },
     "metadata": {},
     "output_type": "display_data"
    },
    {
     "data": {
      "text/plain": [
       "'pub_rec'"
      ]
     },
     "metadata": {},
     "output_type": "display_data"
    },
    {
     "data": {
      "text/plain": [
       "'revol_bal'"
      ]
     },
     "metadata": {},
     "output_type": "display_data"
    },
    {
     "data": {
      "text/plain": [
       "'revol_util'"
      ]
     },
     "metadata": {},
     "output_type": "display_data"
    },
    {
     "data": {
      "text/plain": [
       "'total_acc'"
      ]
     },
     "metadata": {},
     "output_type": "display_data"
    },
    {
     "data": {
      "text/plain": [
       "'initial_list_status'"
      ]
     },
     "metadata": {},
     "output_type": "display_data"
    },
    {
     "data": {
      "text/plain": [
       "'out_prncp'"
      ]
     },
     "metadata": {},
     "output_type": "display_data"
    },
    {
     "data": {
      "text/plain": [
       "'out_prncp_inv'"
      ]
     },
     "metadata": {},
     "output_type": "display_data"
    },
    {
     "data": {
      "text/plain": [
       "'total_pymnt'"
      ]
     },
     "metadata": {},
     "output_type": "display_data"
    },
    {
     "data": {
      "text/plain": [
       "'total_pymnt_inv'"
      ]
     },
     "metadata": {},
     "output_type": "display_data"
    },
    {
     "data": {
      "text/plain": [
       "'total_rec_prncp'"
      ]
     },
     "metadata": {},
     "output_type": "display_data"
    },
    {
     "data": {
      "text/plain": [
       "'total_rec_int'"
      ]
     },
     "metadata": {},
     "output_type": "display_data"
    },
    {
     "data": {
      "text/plain": [
       "'total_rec_late_fee'"
      ]
     },
     "metadata": {},
     "output_type": "display_data"
    },
    {
     "data": {
      "text/plain": [
       "'recoveries'"
      ]
     },
     "metadata": {},
     "output_type": "display_data"
    },
    {
     "data": {
      "text/plain": [
       "'collection_recovery_fee'"
      ]
     },
     "metadata": {},
     "output_type": "display_data"
    },
    {
     "data": {
      "text/plain": [
       "'last_pymnt_d'"
      ]
     },
     "metadata": {},
     "output_type": "display_data"
    },
    {
     "data": {
      "text/plain": [
       "'last_pymnt_amnt'"
      ]
     },
     "metadata": {},
     "output_type": "display_data"
    },
    {
     "data": {
      "text/plain": [
       "'next_pymnt_d'"
      ]
     },
     "metadata": {},
     "output_type": "display_data"
    },
    {
     "data": {
      "text/plain": [
       "'last_credit_pull_d'"
      ]
     },
     "metadata": {},
     "output_type": "display_data"
    },
    {
     "data": {
      "text/plain": [
       "'last_fico_range_high'"
      ]
     },
     "metadata": {},
     "output_type": "display_data"
    },
    {
     "data": {
      "text/plain": [
       "'last_fico_range_low'"
      ]
     },
     "metadata": {},
     "output_type": "display_data"
    },
    {
     "data": {
      "text/plain": [
       "'collections_12_mths_ex_med'"
      ]
     },
     "metadata": {},
     "output_type": "display_data"
    },
    {
     "data": {
      "text/plain": [
       "'mths_since_last_major_derog'"
      ]
     },
     "metadata": {},
     "output_type": "display_data"
    },
    {
     "data": {
      "text/plain": [
       "'policy_code'"
      ]
     },
     "metadata": {},
     "output_type": "display_data"
    },
    {
     "data": {
      "text/plain": [
       "'application_type'"
      ]
     },
     "metadata": {},
     "output_type": "display_data"
    },
    {
     "data": {
      "text/plain": [
       "'annual_inc_joint'"
      ]
     },
     "metadata": {},
     "output_type": "display_data"
    },
    {
     "data": {
      "text/plain": [
       "'dti_joint'"
      ]
     },
     "metadata": {},
     "output_type": "display_data"
    },
    {
     "data": {
      "text/plain": [
       "'verification_status_joint'"
      ]
     },
     "metadata": {},
     "output_type": "display_data"
    },
    {
     "data": {
      "text/plain": [
       "'acc_now_delinq'"
      ]
     },
     "metadata": {},
     "output_type": "display_data"
    },
    {
     "data": {
      "text/plain": [
       "'tot_coll_amt'"
      ]
     },
     "metadata": {},
     "output_type": "display_data"
    },
    {
     "data": {
      "text/plain": [
       "'tot_cur_bal'"
      ]
     },
     "metadata": {},
     "output_type": "display_data"
    },
    {
     "data": {
      "text/plain": [
       "'open_acc_6m'"
      ]
     },
     "metadata": {},
     "output_type": "display_data"
    },
    {
     "data": {
      "text/plain": [
       "'open_act_il'"
      ]
     },
     "metadata": {},
     "output_type": "display_data"
    },
    {
     "data": {
      "text/plain": [
       "'open_il_12m'"
      ]
     },
     "metadata": {},
     "output_type": "display_data"
    },
    {
     "data": {
      "text/plain": [
       "'open_il_24m'"
      ]
     },
     "metadata": {},
     "output_type": "display_data"
    },
    {
     "data": {
      "text/plain": [
       "'mths_since_rcnt_il'"
      ]
     },
     "metadata": {},
     "output_type": "display_data"
    },
    {
     "data": {
      "text/plain": [
       "'total_bal_il'"
      ]
     },
     "metadata": {},
     "output_type": "display_data"
    },
    {
     "data": {
      "text/plain": [
       "'il_util'"
      ]
     },
     "metadata": {},
     "output_type": "display_data"
    },
    {
     "data": {
      "text/plain": [
       "'open_rv_12m'"
      ]
     },
     "metadata": {},
     "output_type": "display_data"
    },
    {
     "data": {
      "text/plain": [
       "'open_rv_24m'"
      ]
     },
     "metadata": {},
     "output_type": "display_data"
    },
    {
     "data": {
      "text/plain": [
       "'max_bal_bc'"
      ]
     },
     "metadata": {},
     "output_type": "display_data"
    },
    {
     "data": {
      "text/plain": [
       "'all_util'"
      ]
     },
     "metadata": {},
     "output_type": "display_data"
    },
    {
     "data": {
      "text/plain": [
       "'total_rev_hi_lim'"
      ]
     },
     "metadata": {},
     "output_type": "display_data"
    },
    {
     "data": {
      "text/plain": [
       "'inq_fi'"
      ]
     },
     "metadata": {},
     "output_type": "display_data"
    },
    {
     "data": {
      "text/plain": [
       "'total_cu_tl'"
      ]
     },
     "metadata": {},
     "output_type": "display_data"
    },
    {
     "data": {
      "text/plain": [
       "'inq_last_12m'"
      ]
     },
     "metadata": {},
     "output_type": "display_data"
    },
    {
     "data": {
      "text/plain": [
       "'acc_open_past_24mths'"
      ]
     },
     "metadata": {},
     "output_type": "display_data"
    },
    {
     "data": {
      "text/plain": [
       "'avg_cur_bal'"
      ]
     },
     "metadata": {},
     "output_type": "display_data"
    },
    {
     "data": {
      "text/plain": [
       "'bc_open_to_buy'"
      ]
     },
     "metadata": {},
     "output_type": "display_data"
    },
    {
     "data": {
      "text/plain": [
       "'bc_util'"
      ]
     },
     "metadata": {},
     "output_type": "display_data"
    },
    {
     "data": {
      "text/plain": [
       "'chargeoff_within_12_mths'"
      ]
     },
     "metadata": {},
     "output_type": "display_data"
    },
    {
     "data": {
      "text/plain": [
       "'delinq_amnt'"
      ]
     },
     "metadata": {},
     "output_type": "display_data"
    },
    {
     "data": {
      "text/plain": [
       "'mo_sin_old_il_acct'"
      ]
     },
     "metadata": {},
     "output_type": "display_data"
    },
    {
     "data": {
      "text/plain": [
       "'mo_sin_old_rev_tl_op'"
      ]
     },
     "metadata": {},
     "output_type": "display_data"
    },
    {
     "data": {
      "text/plain": [
       "'mo_sin_rcnt_rev_tl_op'"
      ]
     },
     "metadata": {},
     "output_type": "display_data"
    },
    {
     "data": {
      "text/plain": [
       "'mo_sin_rcnt_tl'"
      ]
     },
     "metadata": {},
     "output_type": "display_data"
    },
    {
     "data": {
      "text/plain": [
       "'mort_acc'"
      ]
     },
     "metadata": {},
     "output_type": "display_data"
    },
    {
     "data": {
      "text/plain": [
       "'mths_since_recent_bc'"
      ]
     },
     "metadata": {},
     "output_type": "display_data"
    },
    {
     "data": {
      "text/plain": [
       "'mths_since_recent_bc_dlq'"
      ]
     },
     "metadata": {},
     "output_type": "display_data"
    },
    {
     "data": {
      "text/plain": [
       "'mths_since_recent_inq'"
      ]
     },
     "metadata": {},
     "output_type": "display_data"
    },
    {
     "data": {
      "text/plain": [
       "'mths_since_recent_revol_delinq'"
      ]
     },
     "metadata": {},
     "output_type": "display_data"
    },
    {
     "data": {
      "text/plain": [
       "'num_accts_ever_120_pd'"
      ]
     },
     "metadata": {},
     "output_type": "display_data"
    },
    {
     "data": {
      "text/plain": [
       "'num_actv_bc_tl'"
      ]
     },
     "metadata": {},
     "output_type": "display_data"
    },
    {
     "data": {
      "text/plain": [
       "'num_actv_rev_tl'"
      ]
     },
     "metadata": {},
     "output_type": "display_data"
    },
    {
     "data": {
      "text/plain": [
       "'num_bc_sats'"
      ]
     },
     "metadata": {},
     "output_type": "display_data"
    },
    {
     "data": {
      "text/plain": [
       "'num_bc_tl'"
      ]
     },
     "metadata": {},
     "output_type": "display_data"
    },
    {
     "data": {
      "text/plain": [
       "'num_il_tl'"
      ]
     },
     "metadata": {},
     "output_type": "display_data"
    },
    {
     "data": {
      "text/plain": [
       "'num_op_rev_tl'"
      ]
     },
     "metadata": {},
     "output_type": "display_data"
    },
    {
     "data": {
      "text/plain": [
       "'num_rev_accts'"
      ]
     },
     "metadata": {},
     "output_type": "display_data"
    },
    {
     "data": {
      "text/plain": [
       "'num_rev_tl_bal_gt_0'"
      ]
     },
     "metadata": {},
     "output_type": "display_data"
    },
    {
     "data": {
      "text/plain": [
       "'num_sats'"
      ]
     },
     "metadata": {},
     "output_type": "display_data"
    },
    {
     "data": {
      "text/plain": [
       "'num_tl_120dpd_2m'"
      ]
     },
     "metadata": {},
     "output_type": "display_data"
    },
    {
     "data": {
      "text/plain": [
       "'num_tl_30dpd'"
      ]
     },
     "metadata": {},
     "output_type": "display_data"
    },
    {
     "data": {
      "text/plain": [
       "'num_tl_90g_dpd_24m'"
      ]
     },
     "metadata": {},
     "output_type": "display_data"
    },
    {
     "data": {
      "text/plain": [
       "'num_tl_op_past_12m'"
      ]
     },
     "metadata": {},
     "output_type": "display_data"
    },
    {
     "data": {
      "text/plain": [
       "'pct_tl_nvr_dlq'"
      ]
     },
     "metadata": {},
     "output_type": "display_data"
    },
    {
     "data": {
      "text/plain": [
       "'percent_bc_gt_75'"
      ]
     },
     "metadata": {},
     "output_type": "display_data"
    },
    {
     "data": {
      "text/plain": [
       "'pub_rec_bankruptcies'"
      ]
     },
     "metadata": {},
     "output_type": "display_data"
    },
    {
     "data": {
      "text/plain": [
       "'tax_liens'"
      ]
     },
     "metadata": {},
     "output_type": "display_data"
    },
    {
     "data": {
      "text/plain": [
       "'tot_hi_cred_lim'"
      ]
     },
     "metadata": {},
     "output_type": "display_data"
    },
    {
     "data": {
      "text/plain": [
       "'total_bal_ex_mort'"
      ]
     },
     "metadata": {},
     "output_type": "display_data"
    },
    {
     "data": {
      "text/plain": [
       "'total_bc_limit'"
      ]
     },
     "metadata": {},
     "output_type": "display_data"
    },
    {
     "data": {
      "text/plain": [
       "'total_il_high_credit_limit'"
      ]
     },
     "metadata": {},
     "output_type": "display_data"
    },
    {
     "data": {
      "text/plain": [
       "'revol_bal_joint'"
      ]
     },
     "metadata": {},
     "output_type": "display_data"
    },
    {
     "data": {
      "text/plain": [
       "'sec_app_fico_range_low'"
      ]
     },
     "metadata": {},
     "output_type": "display_data"
    },
    {
     "data": {
      "text/plain": [
       "'sec_app_fico_range_high'"
      ]
     },
     "metadata": {},
     "output_type": "display_data"
    },
    {
     "data": {
      "text/plain": [
       "'sec_app_earliest_cr_line'"
      ]
     },
     "metadata": {},
     "output_type": "display_data"
    },
    {
     "data": {
      "text/plain": [
       "'sec_app_inq_last_6mths'"
      ]
     },
     "metadata": {},
     "output_type": "display_data"
    },
    {
     "data": {
      "text/plain": [
       "'sec_app_mort_acc'"
      ]
     },
     "metadata": {},
     "output_type": "display_data"
    },
    {
     "data": {
      "text/plain": [
       "'sec_app_open_acc'"
      ]
     },
     "metadata": {},
     "output_type": "display_data"
    },
    {
     "data": {
      "text/plain": [
       "'sec_app_revol_util'"
      ]
     },
     "metadata": {},
     "output_type": "display_data"
    },
    {
     "data": {
      "text/plain": [
       "'sec_app_open_act_il'"
      ]
     },
     "metadata": {},
     "output_type": "display_data"
    },
    {
     "data": {
      "text/plain": [
       "'sec_app_num_rev_accts'"
      ]
     },
     "metadata": {},
     "output_type": "display_data"
    },
    {
     "data": {
      "text/plain": [
       "'sec_app_chargeoff_within_12_mths'"
      ]
     },
     "metadata": {},
     "output_type": "display_data"
    },
    {
     "data": {
      "text/plain": [
       "'sec_app_collections_12_mths_ex_med'"
      ]
     },
     "metadata": {},
     "output_type": "display_data"
    },
    {
     "data": {
      "text/plain": [
       "'sec_app_mths_since_last_major_derog'"
      ]
     },
     "metadata": {},
     "output_type": "display_data"
    },
    {
     "data": {
      "text/plain": [
       "'hardship_flag'"
      ]
     },
     "metadata": {},
     "output_type": "display_data"
    },
    {
     "data": {
      "text/plain": [
       "'hardship_type'"
      ]
     },
     "metadata": {},
     "output_type": "display_data"
    },
    {
     "data": {
      "text/plain": [
       "'hardship_reason'"
      ]
     },
     "metadata": {},
     "output_type": "display_data"
    },
    {
     "data": {
      "text/plain": [
       "'hardship_status'"
      ]
     },
     "metadata": {},
     "output_type": "display_data"
    },
    {
     "data": {
      "text/plain": [
       "'deferral_term'"
      ]
     },
     "metadata": {},
     "output_type": "display_data"
    },
    {
     "data": {
      "text/plain": [
       "'hardship_amount'"
      ]
     },
     "metadata": {},
     "output_type": "display_data"
    },
    {
     "data": {
      "text/plain": [
       "'hardship_start_date'"
      ]
     },
     "metadata": {},
     "output_type": "display_data"
    },
    {
     "data": {
      "text/plain": [
       "'hardship_end_date'"
      ]
     },
     "metadata": {},
     "output_type": "display_data"
    },
    {
     "data": {
      "text/plain": [
       "'payment_plan_start_date'"
      ]
     },
     "metadata": {},
     "output_type": "display_data"
    },
    {
     "data": {
      "text/plain": [
       "'hardship_length'"
      ]
     },
     "metadata": {},
     "output_type": "display_data"
    },
    {
     "data": {
      "text/plain": [
       "'hardship_dpd'"
      ]
     },
     "metadata": {},
     "output_type": "display_data"
    },
    {
     "data": {
      "text/plain": [
       "'hardship_loan_status'"
      ]
     },
     "metadata": {},
     "output_type": "display_data"
    },
    {
     "data": {
      "text/plain": [
       "'orig_projected_additional_accrued_interest'"
      ]
     },
     "metadata": {},
     "output_type": "display_data"
    },
    {
     "data": {
      "text/plain": [
       "'hardship_payoff_balance_amount'"
      ]
     },
     "metadata": {},
     "output_type": "display_data"
    },
    {
     "data": {
      "text/plain": [
       "'hardship_last_payment_amount'"
      ]
     },
     "metadata": {},
     "output_type": "display_data"
    },
    {
     "data": {
      "text/plain": [
       "'disbursement_method'"
      ]
     },
     "metadata": {},
     "output_type": "display_data"
    },
    {
     "data": {
      "text/plain": [
       "'debt_settlement_flag'"
      ]
     },
     "metadata": {},
     "output_type": "display_data"
    },
    {
     "data": {
      "text/plain": [
       "'debt_settlement_flag_date'"
      ]
     },
     "metadata": {},
     "output_type": "display_data"
    },
    {
     "data": {
      "text/plain": [
       "'settlement_status'"
      ]
     },
     "metadata": {},
     "output_type": "display_data"
    },
    {
     "data": {
      "text/plain": [
       "'settlement_date'"
      ]
     },
     "metadata": {},
     "output_type": "display_data"
    },
    {
     "data": {
      "text/plain": [
       "'settlement_amount'"
      ]
     },
     "metadata": {},
     "output_type": "display_data"
    },
    {
     "data": {
      "text/plain": [
       "'settlement_percentage'"
      ]
     },
     "metadata": {},
     "output_type": "display_data"
    },
    {
     "data": {
      "text/plain": [
       "'settlement_term'"
      ]
     },
     "metadata": {},
     "output_type": "display_data"
    }
   ],
   "source": [
    "# identify keys\n",
    "for col in two_clients_df.columns:\n",
    "    display(col)"
   ]
  },
  {
   "cell_type": "markdown",
   "id": "39b10043-d03f-4b1a-99f5-8682c176a37e",
   "metadata": {
    "id": "39b10043-d03f-4b1a-99f5-8682c176a37e"
   },
   "source": [
    "## Split accepted loan data (original full dataset) into two CSV files to Simulate two clients' data \n",
    ">* bank_1\n",
    ">* bank_2"
   ]
  },
  {
   "cell_type": "code",
   "execution_count": 18,
   "id": "9242b634-7ee9-4a1c-93a6-d2f96c635c3b",
   "metadata": {
    "id": "9242b634-7ee9-4a1c-93a6-d2f96c635c3b"
   },
   "outputs": [
    {
     "name": "stdout",
     "output_type": "stream",
     "text": [
      "Wall time: 10min 51s\n"
     ]
    }
   ],
   "source": [
    "%%time\n",
    "# Takes original full csv and splits it into ..csv1.csv and ..csv2.csv\n",
    "chunk_size = 1200000   # ~ 1/2 size of original dataset\n",
    "def write_chunk(part, lines, header):\n",
    "    with gzip.open('./resources/accepted_2007_to_2018Q4.csv'+ str(part) +'.csv', 'wb') as f_out:\n",
    "        f_out.write(header)\n",
    "        f_out.writelines(lines)\n",
    "        f_out.close()\n",
    "with gzip.open('./resources/accepted_2007_to_2018Q4.csv.gz', 'r') as f:\n",
    "    count = 0\n",
    "    header = f.readline()\n",
    "    lines = []\n",
    "    for line in f:\n",
    "        count += 1\n",
    "        lines.append(line)\n",
    "        if count % chunk_size == 0:\n",
    "            write_chunk(count // chunk_size, lines,header)\n",
    "            lines = []\n",
    "    # write remainder\n",
    "    if len(lines) > 0:\n",
    "        write_chunk((count // chunk_size) + 1, lines,header)"
   ]
  },
  {
   "cell_type": "markdown",
   "id": "68ca6a64-830c-4002-96ac-69684784afb8",
   "metadata": {},
   "source": [
    "> Read data for bank_1 client from just prepared csv1 file"
   ]
  },
  {
   "cell_type": "code",
   "execution_count": 20,
   "id": "5ce886de-603e-4bf3-bc15-881e2d186615",
   "metadata": {
    "id": "5ce886de-603e-4bf3-bc15-881e2d186615",
    "outputId": "cb02397c-28ff-4e0d-a0a4-2978f9ba8d0c"
   },
   "outputs": [
    {
     "data": {
      "text/plain": [
       "(1200000, 151)"
      ]
     },
     "metadata": {},
     "output_type": "display_data"
    },
    {
     "data": {
      "text/html": [
       "<div>\n",
       "<style scoped>\n",
       "    .dataframe tbody tr th:only-of-type {\n",
       "        vertical-align: middle;\n",
       "    }\n",
       "\n",
       "    .dataframe tbody tr th {\n",
       "        vertical-align: top;\n",
       "    }\n",
       "\n",
       "    .dataframe thead th {\n",
       "        text-align: right;\n",
       "    }\n",
       "</style>\n",
       "<table border=\"1\" class=\"dataframe\">\n",
       "  <thead>\n",
       "    <tr style=\"text-align: right;\">\n",
       "      <th></th>\n",
       "      <th>id</th>\n",
       "      <th>member_id</th>\n",
       "      <th>loan_amnt</th>\n",
       "      <th>funded_amnt</th>\n",
       "      <th>funded_amnt_inv</th>\n",
       "      <th>term</th>\n",
       "      <th>int_rate</th>\n",
       "      <th>installment</th>\n",
       "      <th>grade</th>\n",
       "      <th>sub_grade</th>\n",
       "      <th>...</th>\n",
       "      <th>hardship_payoff_balance_amount</th>\n",
       "      <th>hardship_last_payment_amount</th>\n",
       "      <th>disbursement_method</th>\n",
       "      <th>debt_settlement_flag</th>\n",
       "      <th>debt_settlement_flag_date</th>\n",
       "      <th>settlement_status</th>\n",
       "      <th>settlement_date</th>\n",
       "      <th>settlement_amount</th>\n",
       "      <th>settlement_percentage</th>\n",
       "      <th>settlement_term</th>\n",
       "    </tr>\n",
       "  </thead>\n",
       "  <tbody>\n",
       "    <tr>\n",
       "      <th>0</th>\n",
       "      <td>68407277</td>\n",
       "      <td>NaN</td>\n",
       "      <td>3600.0</td>\n",
       "      <td>3600.0</td>\n",
       "      <td>3600.0</td>\n",
       "      <td>36 months</td>\n",
       "      <td>13.99</td>\n",
       "      <td>123.03</td>\n",
       "      <td>C</td>\n",
       "      <td>C4</td>\n",
       "      <td>...</td>\n",
       "      <td>NaN</td>\n",
       "      <td>NaN</td>\n",
       "      <td>Cash</td>\n",
       "      <td>N</td>\n",
       "      <td>NaN</td>\n",
       "      <td>NaN</td>\n",
       "      <td>NaN</td>\n",
       "      <td>NaN</td>\n",
       "      <td>NaN</td>\n",
       "      <td>NaN</td>\n",
       "    </tr>\n",
       "    <tr>\n",
       "      <th>1</th>\n",
       "      <td>68355089</td>\n",
       "      <td>NaN</td>\n",
       "      <td>24700.0</td>\n",
       "      <td>24700.0</td>\n",
       "      <td>24700.0</td>\n",
       "      <td>36 months</td>\n",
       "      <td>11.99</td>\n",
       "      <td>820.28</td>\n",
       "      <td>C</td>\n",
       "      <td>C1</td>\n",
       "      <td>...</td>\n",
       "      <td>NaN</td>\n",
       "      <td>NaN</td>\n",
       "      <td>Cash</td>\n",
       "      <td>N</td>\n",
       "      <td>NaN</td>\n",
       "      <td>NaN</td>\n",
       "      <td>NaN</td>\n",
       "      <td>NaN</td>\n",
       "      <td>NaN</td>\n",
       "      <td>NaN</td>\n",
       "    </tr>\n",
       "    <tr>\n",
       "      <th>2</th>\n",
       "      <td>68341763</td>\n",
       "      <td>NaN</td>\n",
       "      <td>20000.0</td>\n",
       "      <td>20000.0</td>\n",
       "      <td>20000.0</td>\n",
       "      <td>60 months</td>\n",
       "      <td>10.78</td>\n",
       "      <td>432.66</td>\n",
       "      <td>B</td>\n",
       "      <td>B4</td>\n",
       "      <td>...</td>\n",
       "      <td>NaN</td>\n",
       "      <td>NaN</td>\n",
       "      <td>Cash</td>\n",
       "      <td>N</td>\n",
       "      <td>NaN</td>\n",
       "      <td>NaN</td>\n",
       "      <td>NaN</td>\n",
       "      <td>NaN</td>\n",
       "      <td>NaN</td>\n",
       "      <td>NaN</td>\n",
       "    </tr>\n",
       "  </tbody>\n",
       "</table>\n",
       "<p>3 rows × 151 columns</p>\n",
       "</div>"
      ],
      "text/plain": [
       "         id  member_id  loan_amnt  funded_amnt  funded_amnt_inv        term  \\\n",
       "0  68407277        NaN     3600.0       3600.0           3600.0   36 months   \n",
       "1  68355089        NaN    24700.0      24700.0          24700.0   36 months   \n",
       "2  68341763        NaN    20000.0      20000.0          20000.0   60 months   \n",
       "\n",
       "   int_rate  installment grade sub_grade  ... hardship_payoff_balance_amount  \\\n",
       "0     13.99       123.03     C        C4  ...                            NaN   \n",
       "1     11.99       820.28     C        C1  ...                            NaN   \n",
       "2     10.78       432.66     B        B4  ...                            NaN   \n",
       "\n",
       "  hardship_last_payment_amount disbursement_method  debt_settlement_flag  \\\n",
       "0                          NaN                Cash                     N   \n",
       "1                          NaN                Cash                     N   \n",
       "2                          NaN                Cash                     N   \n",
       "\n",
       "  debt_settlement_flag_date settlement_status settlement_date  \\\n",
       "0                       NaN               NaN             NaN   \n",
       "1                       NaN               NaN             NaN   \n",
       "2                       NaN               NaN             NaN   \n",
       "\n",
       "  settlement_amount settlement_percentage settlement_term  \n",
       "0               NaN                   NaN             NaN  \n",
       "1               NaN                   NaN             NaN  \n",
       "2               NaN                   NaN             NaN  \n",
       "\n",
       "[3 rows x 151 columns]"
      ]
     },
     "metadata": {},
     "output_type": "display_data"
    },
    {
     "name": "stdout",
     "output_type": "stream",
     "text": [
      "Wall time: 26.3 s\n"
     ]
    }
   ],
   "source": [
    "%%time\n",
    "bank1_df = pd.read_csv(\n",
    "    Path('./resources/accepted_2007_to_2018Q4.csv1.csv'),\n",
    "    compression='gzip', \n",
    "    low_memory=False)\n",
    "\n",
    "# Review the DataFrame\n",
    "display(bank1_df.shape)\n",
    "display(bank1_df.head(3))"
   ]
  },
  {
   "cell_type": "markdown",
   "id": "5162385f-b28b-4db1-99a3-b72d047653a1",
   "metadata": {},
   "source": [
    "## Delete / drop these columns-\n",
    "\n",
    "> Rationale - following columns were dropped as these columns represent post loan features, thus non-predictive of future loans (as you would not have these features before loan is granted)\n",
    "\n",
    "['id',\n",
    "\n",
    "'member_id',\n",
    "\n",
    "'issue_d',\n",
    "\n",
    "'url',\n",
    "\n",
    "'zip_code',\n",
    "\n",
    "'initial_list_status',\n",
    "\n",
    "'hardship_flag',\n",
    "\n",
    "'hardship_type',\n",
    "\n",
    "'hardship_reason',\n",
    "\n",
    "'hardship_status',\n",
    "\n",
    "'deferral_term',\n",
    "\n",
    "'hardship_amount',\n",
    "\n",
    "'hardship_start_date',\n",
    "\n",
    "'hardship_end_date',\n",
    "\n",
    "'payment_plan_start_date',\n",
    "\n",
    "'hardship_length',\n",
    "\n",
    "'hardship_dpd',\n",
    "\n",
    "'hardship_loan_status',\n",
    "\n",
    "'orig_projected_additional_accrued_interest',\n",
    "\n",
    "'hardship_payoff_balance_amount',\n",
    "\n",
    "'hardship_last_payment_amount',\n",
    "\n",
    "'disbursement_method',\n",
    "\n",
    "'debt_settlement_flag',\n",
    "\n",
    "'debt_settlement_flag_date',\n",
    "\n",
    "'settlement_status',\n",
    "\n",
    "'settlement_date',\n",
    "\n",
    "'settlement_amount',\n",
    "\n",
    "'settlement_percentage',\n",
    "\n",
    "'settlement_term'\n",
    "\n",
    "'pymnt_plan',\n",
    "\n",
    "'desc',\n",
    "\n",
    "'purpose',\n",
    "\n",
    "'title',\n",
    "\n",
    "'last_pymnt_d',\n",
    "\n",
    "'next_pymnt_d',\n",
    "\n",
    "'earliest_cr_line',\n",
    "\n",
    "'last_credit_pull_d',\n",
    "\n",
    "'emp_title']"
   ]
  },
  {
   "cell_type": "code",
   "execution_count": 21,
   "id": "2de6d2dc-7ef2-4f2a-9559-58e03d24c798",
   "metadata": {},
   "outputs": [
    {
     "data": {
      "text/plain": [
       "(1200000, 112)"
      ]
     },
     "metadata": {},
     "output_type": "display_data"
    }
   ],
   "source": [
    "# drop the non-predictive columns\n",
    "bank1_df = bank1_df.drop(['id',\n",
    "                          'member_id',\n",
    "                          'issue_d',\n",
    "                          'url',\n",
    "                          'zip_code',\n",
    "                          'initial_list_status',\n",
    "                          'hardship_flag',\n",
    "                          'hardship_type',\n",
    "                          'hardship_reason',\n",
    "                          'hardship_status',\n",
    "                          'deferral_term',\n",
    "                          'hardship_amount',\n",
    "                          'hardship_start_date',\n",
    "                          'hardship_end_date',\n",
    "                          'payment_plan_start_date',\n",
    "                          'hardship_length',\n",
    "                          'hardship_dpd',\n",
    "                          'hardship_loan_status',\n",
    "                          'orig_projected_additional_accrued_interest',\n",
    "                          'hardship_payoff_balance_amount',\n",
    "                          'hardship_last_payment_amount',\n",
    "                          'disbursement_method',\n",
    "                          'debt_settlement_flag',\n",
    "                          'debt_settlement_flag_date',\n",
    "                          'settlement_status',\n",
    "                          'settlement_date',\n",
    "                          'settlement_amount',\n",
    "                          'settlement_percentage',\n",
    "                          'settlement_term',\n",
    "                          'pymnt_plan',\n",
    "                          'desc',\n",
    "                          'purpose',\n",
    "                          'title',\n",
    "                          'last_pymnt_d',\n",
    "                          'next_pymnt_d',\n",
    "                          'earliest_cr_line',\n",
    "                          'last_credit_pull_d',\n",
    "                          'sec_app_earliest_cr_line',\n",
    "                          'emp_title'], \n",
    "                         axis=1)\n",
    "display(bank1_df.shape)"
   ]
  },
  {
   "cell_type": "code",
   "execution_count": 22,
   "id": "47633c69-a700-40a0-a8a0-8e9a9c8ba637",
   "metadata": {
    "id": "47633c69-a700-40a0-a8a0-8e9a9c8ba637",
    "outputId": "97e613ca-5883-48d7-afe9-ab1d07306de0"
   },
   "outputs": [
    {
     "name": "stdout",
     "output_type": "stream",
     "text": [
      "bank1\n"
     ]
    },
    {
     "data": {
      "text/html": [
       "<div>\n",
       "<style scoped>\n",
       "    .dataframe tbody tr th:only-of-type {\n",
       "        vertical-align: middle;\n",
       "    }\n",
       "\n",
       "    .dataframe tbody tr th {\n",
       "        vertical-align: top;\n",
       "    }\n",
       "\n",
       "    .dataframe thead th {\n",
       "        text-align: right;\n",
       "    }\n",
       "</style>\n",
       "<table border=\"1\" class=\"dataframe\">\n",
       "  <thead>\n",
       "    <tr style=\"text-align: right;\">\n",
       "      <th></th>\n",
       "      <th>loan_amnt</th>\n",
       "      <th>funded_amnt</th>\n",
       "      <th>funded_amnt_inv</th>\n",
       "      <th>int_rate</th>\n",
       "      <th>installment</th>\n",
       "      <th>annual_inc</th>\n",
       "      <th>dti</th>\n",
       "      <th>delinq_2yrs</th>\n",
       "      <th>fico_range_low</th>\n",
       "      <th>fico_range_high</th>\n",
       "      <th>...</th>\n",
       "      <th>sec_app_fico_range_high</th>\n",
       "      <th>sec_app_inq_last_6mths</th>\n",
       "      <th>sec_app_mort_acc</th>\n",
       "      <th>sec_app_open_acc</th>\n",
       "      <th>sec_app_revol_util</th>\n",
       "      <th>sec_app_open_act_il</th>\n",
       "      <th>sec_app_num_rev_accts</th>\n",
       "      <th>sec_app_chargeoff_within_12_mths</th>\n",
       "      <th>sec_app_collections_12_mths_ex_med</th>\n",
       "      <th>sec_app_mths_since_last_major_derog</th>\n",
       "    </tr>\n",
       "  </thead>\n",
       "  <tbody>\n",
       "    <tr>\n",
       "      <th>count</th>\n",
       "      <td>1.199986e+06</td>\n",
       "      <td>1.199986e+06</td>\n",
       "      <td>1.199986e+06</td>\n",
       "      <td>1.199986e+06</td>\n",
       "      <td>1.199986e+06</td>\n",
       "      <td>1.199986e+06</td>\n",
       "      <td>1.199125e+06</td>\n",
       "      <td>1.199986e+06</td>\n",
       "      <td>1.199986e+06</td>\n",
       "      <td>1.199986e+06</td>\n",
       "      <td>...</td>\n",
       "      <td>54916.000000</td>\n",
       "      <td>54916.000000</td>\n",
       "      <td>54916.000000</td>\n",
       "      <td>54916.000000</td>\n",
       "      <td>54014.000000</td>\n",
       "      <td>54916.000000</td>\n",
       "      <td>54916.000000</td>\n",
       "      <td>54916.000000</td>\n",
       "      <td>54916.000000</td>\n",
       "      <td>18224.000000</td>\n",
       "    </tr>\n",
       "    <tr>\n",
       "      <th>mean</th>\n",
       "      <td>1.526450e+04</td>\n",
       "      <td>1.526448e+04</td>\n",
       "      <td>1.525937e+04</td>\n",
       "      <td>1.278567e+01</td>\n",
       "      <td>4.481943e+02</td>\n",
       "      <td>7.824780e+04</td>\n",
       "      <td>1.930610e+01</td>\n",
       "      <td>3.256988e-01</td>\n",
       "      <td>6.975749e+02</td>\n",
       "      <td>7.015751e+02</td>\n",
       "      <td>...</td>\n",
       "      <td>673.709866</td>\n",
       "      <td>0.620657</td>\n",
       "      <td>1.570344</td>\n",
       "      <td>11.450506</td>\n",
       "      <td>58.607642</td>\n",
       "      <td>2.966531</td>\n",
       "      <td>12.568541</td>\n",
       "      <td>0.044231</td>\n",
       "      <td>0.074969</td>\n",
       "      <td>37.191561</td>\n",
       "    </tr>\n",
       "    <tr>\n",
       "      <th>std</th>\n",
       "      <td>9.159146e+03</td>\n",
       "      <td>9.159148e+03</td>\n",
       "      <td>9.156902e+03</td>\n",
       "      <td>4.808734e+00</td>\n",
       "      <td>2.651150e+02</td>\n",
       "      <td>1.245389e+05</td>\n",
       "      <td>1.422878e+01</td>\n",
       "      <td>9.028160e-01</td>\n",
       "      <td>3.271604e+01</td>\n",
       "      <td>3.271689e+01</td>\n",
       "      <td>...</td>\n",
       "      <td>44.300527</td>\n",
       "      <td>0.983831</td>\n",
       "      <td>1.759299</td>\n",
       "      <td>6.571815</td>\n",
       "      <td>25.365565</td>\n",
       "      <td>3.237045</td>\n",
       "      <td>8.145029</td>\n",
       "      <td>0.390769</td>\n",
       "      <td>0.394082</td>\n",
       "      <td>23.896937</td>\n",
       "    </tr>\n",
       "    <tr>\n",
       "      <th>min</th>\n",
       "      <td>1.000000e+03</td>\n",
       "      <td>1.000000e+03</td>\n",
       "      <td>7.500000e+02</td>\n",
       "      <td>5.310000e+00</td>\n",
       "      <td>1.401000e+01</td>\n",
       "      <td>0.000000e+00</td>\n",
       "      <td>-1.000000e+00</td>\n",
       "      <td>0.000000e+00</td>\n",
       "      <td>6.600000e+02</td>\n",
       "      <td>6.640000e+02</td>\n",
       "      <td>...</td>\n",
       "      <td>544.000000</td>\n",
       "      <td>0.000000</td>\n",
       "      <td>0.000000</td>\n",
       "      <td>0.000000</td>\n",
       "      <td>0.000000</td>\n",
       "      <td>0.000000</td>\n",
       "      <td>0.000000</td>\n",
       "      <td>0.000000</td>\n",
       "      <td>0.000000</td>\n",
       "      <td>0.000000</td>\n",
       "    </tr>\n",
       "    <tr>\n",
       "      <th>25%</th>\n",
       "      <td>8.000000e+03</td>\n",
       "      <td>8.000000e+03</td>\n",
       "      <td>8.000000e+03</td>\n",
       "      <td>9.170000e+00</td>\n",
       "      <td>2.553000e+02</td>\n",
       "      <td>4.650000e+04</td>\n",
       "      <td>1.224000e+01</td>\n",
       "      <td>0.000000e+00</td>\n",
       "      <td>6.700000e+02</td>\n",
       "      <td>6.740000e+02</td>\n",
       "      <td>...</td>\n",
       "      <td>649.000000</td>\n",
       "      <td>0.000000</td>\n",
       "      <td>0.000000</td>\n",
       "      <td>7.000000</td>\n",
       "      <td>40.400000</td>\n",
       "      <td>1.000000</td>\n",
       "      <td>7.000000</td>\n",
       "      <td>0.000000</td>\n",
       "      <td>0.000000</td>\n",
       "      <td>17.000000</td>\n",
       "    </tr>\n",
       "    <tr>\n",
       "      <th>50%</th>\n",
       "      <td>1.340000e+04</td>\n",
       "      <td>1.340000e+04</td>\n",
       "      <td>1.337500e+04</td>\n",
       "      <td>1.229000e+01</td>\n",
       "      <td>3.816600e+02</td>\n",
       "      <td>6.500000e+04</td>\n",
       "      <td>1.831000e+01</td>\n",
       "      <td>0.000000e+00</td>\n",
       "      <td>6.900000e+02</td>\n",
       "      <td>6.940000e+02</td>\n",
       "      <td>...</td>\n",
       "      <td>674.000000</td>\n",
       "      <td>0.000000</td>\n",
       "      <td>1.000000</td>\n",
       "      <td>10.000000</td>\n",
       "      <td>60.700000</td>\n",
       "      <td>2.000000</td>\n",
       "      <td>11.000000</td>\n",
       "      <td>0.000000</td>\n",
       "      <td>0.000000</td>\n",
       "      <td>36.000000</td>\n",
       "    </tr>\n",
       "    <tr>\n",
       "      <th>75%</th>\n",
       "      <td>2.000000e+04</td>\n",
       "      <td>2.000000e+04</td>\n",
       "      <td>2.000000e+04</td>\n",
       "      <td>1.559000e+01</td>\n",
       "      <td>5.959200e+02</td>\n",
       "      <td>9.400000e+04</td>\n",
       "      <td>2.516000e+01</td>\n",
       "      <td>0.000000e+00</td>\n",
       "      <td>7.150000e+02</td>\n",
       "      <td>7.190000e+02</td>\n",
       "      <td>...</td>\n",
       "      <td>699.000000</td>\n",
       "      <td>1.000000</td>\n",
       "      <td>3.000000</td>\n",
       "      <td>15.000000</td>\n",
       "      <td>78.700000</td>\n",
       "      <td>4.000000</td>\n",
       "      <td>17.000000</td>\n",
       "      <td>0.000000</td>\n",
       "      <td>0.000000</td>\n",
       "      <td>56.000000</td>\n",
       "    </tr>\n",
       "    <tr>\n",
       "      <th>max</th>\n",
       "      <td>4.000000e+04</td>\n",
       "      <td>4.000000e+04</td>\n",
       "      <td>4.000000e+04</td>\n",
       "      <td>3.099000e+01</td>\n",
       "      <td>1.719830e+03</td>\n",
       "      <td>1.100000e+08</td>\n",
       "      <td>9.990000e+02</td>\n",
       "      <td>5.800000e+01</td>\n",
       "      <td>8.450000e+02</td>\n",
       "      <td>8.500000e+02</td>\n",
       "      <td>...</td>\n",
       "      <td>850.000000</td>\n",
       "      <td>6.000000</td>\n",
       "      <td>27.000000</td>\n",
       "      <td>73.000000</td>\n",
       "      <td>434.300000</td>\n",
       "      <td>43.000000</td>\n",
       "      <td>106.000000</td>\n",
       "      <td>18.000000</td>\n",
       "      <td>18.000000</td>\n",
       "      <td>159.000000</td>\n",
       "    </tr>\n",
       "  </tbody>\n",
       "</table>\n",
       "<p>8 rows × 102 columns</p>\n",
       "</div>"
      ],
      "text/plain": [
       "          loan_amnt   funded_amnt  funded_amnt_inv      int_rate  \\\n",
       "count  1.199986e+06  1.199986e+06     1.199986e+06  1.199986e+06   \n",
       "mean   1.526450e+04  1.526448e+04     1.525937e+04  1.278567e+01   \n",
       "std    9.159146e+03  9.159148e+03     9.156902e+03  4.808734e+00   \n",
       "min    1.000000e+03  1.000000e+03     7.500000e+02  5.310000e+00   \n",
       "25%    8.000000e+03  8.000000e+03     8.000000e+03  9.170000e+00   \n",
       "50%    1.340000e+04  1.340000e+04     1.337500e+04  1.229000e+01   \n",
       "75%    2.000000e+04  2.000000e+04     2.000000e+04  1.559000e+01   \n",
       "max    4.000000e+04  4.000000e+04     4.000000e+04  3.099000e+01   \n",
       "\n",
       "        installment    annual_inc           dti   delinq_2yrs  fico_range_low  \\\n",
       "count  1.199986e+06  1.199986e+06  1.199125e+06  1.199986e+06    1.199986e+06   \n",
       "mean   4.481943e+02  7.824780e+04  1.930610e+01  3.256988e-01    6.975749e+02   \n",
       "std    2.651150e+02  1.245389e+05  1.422878e+01  9.028160e-01    3.271604e+01   \n",
       "min    1.401000e+01  0.000000e+00 -1.000000e+00  0.000000e+00    6.600000e+02   \n",
       "25%    2.553000e+02  4.650000e+04  1.224000e+01  0.000000e+00    6.700000e+02   \n",
       "50%    3.816600e+02  6.500000e+04  1.831000e+01  0.000000e+00    6.900000e+02   \n",
       "75%    5.959200e+02  9.400000e+04  2.516000e+01  0.000000e+00    7.150000e+02   \n",
       "max    1.719830e+03  1.100000e+08  9.990000e+02  5.800000e+01    8.450000e+02   \n",
       "\n",
       "       fico_range_high  ...  sec_app_fico_range_high  sec_app_inq_last_6mths  \\\n",
       "count     1.199986e+06  ...             54916.000000            54916.000000   \n",
       "mean      7.015751e+02  ...               673.709866                0.620657   \n",
       "std       3.271689e+01  ...                44.300527                0.983831   \n",
       "min       6.640000e+02  ...               544.000000                0.000000   \n",
       "25%       6.740000e+02  ...               649.000000                0.000000   \n",
       "50%       6.940000e+02  ...               674.000000                0.000000   \n",
       "75%       7.190000e+02  ...               699.000000                1.000000   \n",
       "max       8.500000e+02  ...               850.000000                6.000000   \n",
       "\n",
       "       sec_app_mort_acc  sec_app_open_acc  sec_app_revol_util  \\\n",
       "count      54916.000000      54916.000000        54014.000000   \n",
       "mean           1.570344         11.450506           58.607642   \n",
       "std            1.759299          6.571815           25.365565   \n",
       "min            0.000000          0.000000            0.000000   \n",
       "25%            0.000000          7.000000           40.400000   \n",
       "50%            1.000000         10.000000           60.700000   \n",
       "75%            3.000000         15.000000           78.700000   \n",
       "max           27.000000         73.000000          434.300000   \n",
       "\n",
       "       sec_app_open_act_il  sec_app_num_rev_accts  \\\n",
       "count         54916.000000           54916.000000   \n",
       "mean              2.966531              12.568541   \n",
       "std               3.237045               8.145029   \n",
       "min               0.000000               0.000000   \n",
       "25%               1.000000               7.000000   \n",
       "50%               2.000000              11.000000   \n",
       "75%               4.000000              17.000000   \n",
       "max              43.000000             106.000000   \n",
       "\n",
       "       sec_app_chargeoff_within_12_mths  sec_app_collections_12_mths_ex_med  \\\n",
       "count                      54916.000000                        54916.000000   \n",
       "mean                           0.044231                            0.074969   \n",
       "std                            0.390769                            0.394082   \n",
       "min                            0.000000                            0.000000   \n",
       "25%                            0.000000                            0.000000   \n",
       "50%                            0.000000                            0.000000   \n",
       "75%                            0.000000                            0.000000   \n",
       "max                           18.000000                           18.000000   \n",
       "\n",
       "       sec_app_mths_since_last_major_derog  \n",
       "count                         18224.000000  \n",
       "mean                             37.191561  \n",
       "std                              23.896937  \n",
       "min                               0.000000  \n",
       "25%                              17.000000  \n",
       "50%                              36.000000  \n",
       "75%                              56.000000  \n",
       "max                             159.000000  \n",
       "\n",
       "[8 rows x 102 columns]"
      ]
     },
     "metadata": {},
     "output_type": "display_data"
    }
   ],
   "source": [
    "print('bank1')\n",
    "display(bank1_df.describe())\n"
   ]
  },
  {
   "cell_type": "code",
   "execution_count": 23,
   "id": "998615a8-fdad-401f-820f-72f649451ba7",
   "metadata": {
    "id": "998615a8-fdad-401f-820f-72f649451ba7",
    "outputId": "0a4e358f-6d3e-4cdc-dd36-889b1400b9e9"
   },
   "outputs": [
    {
     "name": "stdout",
     "output_type": "stream",
     "text": [
      "bank1\n",
      "<class 'pandas.core.frame.DataFrame'>\n",
      "RangeIndex: 1200000 entries, 0 to 1199999\n",
      "Columns: 112 entries, loan_amnt to sec_app_mths_since_last_major_derog\n",
      "dtypes: float64(102), object(10)\n",
      "memory usage: 1.0+ GB\n"
     ]
    },
    {
     "data": {
      "text/plain": [
       "None"
      ]
     },
     "metadata": {},
     "output_type": "display_data"
    }
   ],
   "source": [
    "print('bank1')\n",
    "display(bank1_df.info())\n"
   ]
  },
  {
   "cell_type": "markdown",
   "id": "04ee1abb-672b-4f4c-9cd6-b77fc42a6537",
   "metadata": {
    "id": "04ee1abb-672b-4f4c-9cd6-b77fc42a6537"
   },
   "source": [
    "## Visualize 'loan status'\n",
    "### Loan accepted: If the company approves the loan, there are ~3 primary possible scenarios described below:\n",
    "> * Fully paid: Applicant has fully paid the loan (the principal and the interest rate)\n",
    "> * Current: Applicant is in the process of paying the instalments, i.e. the tenure of the loan is not yet completed. These candidates are not labelled as 'defaulted'.\n",
    ">> * Grace period\n",
    ">> * Late (16-30)\n",
    ">> * Late (31-120)\n",
    ">> * Default\n",
    "> * Charged-off: Applicant has not paid the instalments in due time for a long period of time, i.e. he/she has defaulted on the loan"
   ]
  },
  {
   "cell_type": "code",
   "execution_count": 24,
   "id": "a94eee14-b0ec-466a-9c5e-f4c3b24c4dfb",
   "metadata": {
    "id": "a94eee14-b0ec-466a-9c5e-f4c3b24c4dfb"
   },
   "outputs": [
    {
     "name": "stdout",
     "output_type": "stream",
     "text": [
      "Wall time: 156 ms\n"
     ]
    }
   ],
   "source": [
    "%%time\n",
    "bank1_status_plot = bank1_df['loan_status'].value_counts().hvplot.bar(\n",
    "    title='Bank 1, Loan Status', \n",
    "    xlabel='Loan Status', \n",
    "    ylabel='Count',\n",
    "    hover_color = 'blue',\n",
    "    rot = 45,\n",
    "    width=800, \n",
    "    height=600\n",
    ")"
   ]
  },
  {
   "cell_type": "code",
   "execution_count": 25,
   "id": "51a0fed5-96f5-4922-a0ae-ce7f6b452106",
   "metadata": {
    "id": "51a0fed5-96f5-4922-a0ae-ce7f6b452106",
    "outputId": "e5cbcf66-4399-4003-9af9-54eecc9ceed7"
   },
   "outputs": [
    {
     "data": {},
     "metadata": {},
     "output_type": "display_data"
    },
    {
     "data": {
      "application/vnd.holoviews_exec.v0+json": "",
      "text/html": [
       "<div id='1002'>\n",
       "\n",
       "\n",
       "\n",
       "\n",
       "\n",
       "  <div class=\"bk-root\" id=\"6a3981cd-5348-4cf3-9566-cf7801188201\" data-root-id=\"1002\"></div>\n",
       "</div>\n",
       "<script type=\"application/javascript\">(function(root) {\n",
       "  function embed_document(root) {\n",
       "    var docs_json = {\"58336b36-b558-464d-8a5b-b25f2e0e7f06\":{\"defs\":[{\"extends\":null,\"module\":null,\"name\":\"ReactiveHTML1\",\"overrides\":[],\"properties\":[]},{\"extends\":null,\"module\":null,\"name\":\"FlexBox1\",\"overrides\":[],\"properties\":[{\"default\":\"flex-start\",\"kind\":null,\"name\":\"align_content\"},{\"default\":\"flex-start\",\"kind\":null,\"name\":\"align_items\"},{\"default\":\"row\",\"kind\":null,\"name\":\"flex_direction\"},{\"default\":\"wrap\",\"kind\":null,\"name\":\"flex_wrap\"},{\"default\":\"flex-start\",\"kind\":null,\"name\":\"justify_content\"}]},{\"extends\":null,\"module\":null,\"name\":\"GridStack1\",\"overrides\":[],\"properties\":[{\"default\":\"warn\",\"kind\":null,\"name\":\"mode\"},{\"default\":null,\"kind\":null,\"name\":\"ncols\"},{\"default\":null,\"kind\":null,\"name\":\"nrows\"},{\"default\":true,\"kind\":null,\"name\":\"allow_resize\"},{\"default\":true,\"kind\":null,\"name\":\"allow_drag\"},{\"default\":[],\"kind\":null,\"name\":\"state\"}]},{\"extends\":null,\"module\":null,\"name\":\"click1\",\"overrides\":[],\"properties\":[{\"default\":\"\",\"kind\":null,\"name\":\"terminal_output\"},{\"default\":\"\",\"kind\":null,\"name\":\"debug_name\"},{\"default\":0,\"kind\":null,\"name\":\"clears\"}]},{\"extends\":null,\"module\":null,\"name\":\"TemplateActions1\",\"overrides\":[],\"properties\":[{\"default\":0,\"kind\":null,\"name\":\"open_modal\"},{\"default\":0,\"kind\":null,\"name\":\"close_modal\"}]},{\"extends\":null,\"module\":null,\"name\":\"MaterialTemplateActions1\",\"overrides\":[],\"properties\":[{\"default\":0,\"kind\":null,\"name\":\"open_modal\"},{\"default\":0,\"kind\":null,\"name\":\"close_modal\"}]}],\"roots\":{\"references\":[{\"attributes\":{\"bottom\":{\"value\":0},\"fill_alpha\":{\"value\":0.4},\"fill_color\":{\"value\":\"#e5ae38\"},\"hatch_alpha\":{\"value\":0.4},\"hatch_color\":{\"value\":\"#e5ae38\"},\"left\":{\"field\":\"left\"},\"line_alpha\":{\"value\":0.4},\"right\":{\"field\":\"right\"},\"top\":{\"field\":\"top\"}},\"id\":\"1095\",\"type\":\"Quad\"},{\"attributes\":{\"source\":{\"id\":\"1200\"}},\"id\":\"1207\",\"type\":\"CDSView\"},{\"attributes\":{\"bottom\":{\"value\":0},\"fill_alpha\":{\"value\":0.2},\"fill_color\":{\"value\":\"#30a2da\"},\"hatch_alpha\":{\"value\":0.2},\"hatch_color\":{\"value\":\"#30a2da\"},\"left\":{\"field\":\"left\"},\"line_alpha\":{\"value\":0.2},\"right\":{\"field\":\"right\"},\"top\":{\"field\":\"top\"}},\"id\":\"1054\",\"type\":\"Quad\"},{\"attributes\":{\"bottom\":{\"value\":0},\"fill_alpha\":{\"value\":0.4},\"fill_color\":{\"value\":\"#17becf\"},\"hatch_alpha\":{\"value\":0.4},\"hatch_color\":{\"value\":\"#17becf\"},\"hatch_scale\":{\"value\":12.0},\"hatch_weight\":{\"value\":1.0},\"left\":{\"field\":\"left\"},\"line_alpha\":{\"value\":0.4},\"line_cap\":{\"value\":\"butt\"},\"line_color\":{\"value\":\"black\"},\"line_dash\":{\"value\":[]},\"line_dash_offset\":{\"value\":0},\"line_join\":{\"value\":\"bevel\"},\"line_width\":{\"value\":1},\"right\":{\"field\":\"right\"},\"top\":{\"field\":\"top\"}},\"id\":\"1199\",\"type\":\"Quad\"},{\"attributes\":{},\"id\":\"1227\",\"type\":\"UnionRenderers\"},{\"attributes\":{\"bottom\":{\"value\":0},\"fill_alpha\":{\"value\":0.4},\"fill_color\":{\"value\":\"#17becf\"},\"hatch_alpha\":{\"value\":0.4},\"hatch_color\":{\"value\":\"#17becf\"},\"left\":{\"field\":\"left\"},\"line_alpha\":{\"value\":0.4},\"right\":{\"field\":\"right\"},\"top\":{\"field\":\"top\"}},\"id\":\"1555\",\"type\":\"Quad\"},{\"attributes\":{\"source\":{\"id\":\"1170\"}},\"id\":\"1177\",\"type\":\"CDSView\"},{\"attributes\":{\"bottom\":{\"value\":0},\"fill_alpha\":{\"value\":0.2},\"fill_color\":{\"value\":\"#9467bd\"},\"hatch_alpha\":{\"value\":0.2},\"hatch_color\":{\"value\":\"#9467bd\"},\"left\":{\"field\":\"left\"},\"line_alpha\":{\"value\":0.2},\"right\":{\"field\":\"right\"},\"top\":{\"field\":\"top\"}},\"id\":\"1205\",\"type\":\"Quad\"},{\"attributes\":{},\"id\":\"1493\",\"type\":\"UnionRenderers\"},{\"attributes\":{\"bottom\":{\"value\":0},\"fill_alpha\":{\"value\":0.4},\"fill_color\":{\"value\":\"#6d904f\"},\"hatch_alpha\":{\"value\":0.4},\"hatch_color\":{\"value\":\"#6d904f\"},\"left\":{\"field\":\"left\"},\"line_alpha\":{\"value\":0.4},\"right\":{\"field\":\"right\"},\"top\":{\"field\":\"top\"}},\"id\":\"1501\",\"type\":\"Quad\"},{\"attributes\":{\"label\":{\"value\":\"Late (31-120 days)\"},\"renderers\":[{\"id\":\"1206\"}]},\"id\":\"1230\",\"type\":\"LegendItem\"},{\"attributes\":{\"source\":{\"id\":\"1431\"}},\"id\":\"1438\",\"type\":\"CDSView\"},{\"attributes\":{},\"id\":\"1071\",\"type\":\"Selection\"},{\"attributes\":{\"coordinates\":null,\"data_source\":{\"id\":\"1170\"},\"glyph\":{\"id\":\"1173\"},\"group\":null,\"hover_glyph\":null,\"muted_glyph\":{\"id\":\"1175\"},\"nonselection_glyph\":{\"id\":\"1174\"},\"selection_glyph\":{\"id\":\"1199\"},\"view\":{\"id\":\"1177\"}},\"id\":\"1176\",\"type\":\"GlyphRenderer\"},{\"attributes\":{\"bottom\":{\"value\":0},\"fill_alpha\":{\"value\":0.4},\"fill_color\":{\"value\":\"#e5ae38\"},\"hatch_alpha\":{\"value\":0.1},\"hatch_color\":{\"value\":\"#e5ae38\"},\"left\":{\"field\":\"left\"},\"line_alpha\":{\"value\":0.4},\"right\":{\"field\":\"right\"},\"top\":{\"field\":\"top\"}},\"id\":\"1096\",\"type\":\"Quad\"},{\"attributes\":{\"bottom\":{\"value\":0},\"fill_alpha\":{\"value\":0.4},\"fill_color\":{\"value\":\"#9467bd\"},\"hatch_alpha\":{\"value\":0.4},\"hatch_color\":{\"value\":\"#9467bd\"},\"left\":{\"field\":\"left\"},\"line_alpha\":{\"value\":0.4},\"right\":{\"field\":\"right\"},\"top\":{\"field\":\"top\"}},\"id\":\"1203\",\"type\":\"Quad\"},{\"attributes\":{\"bottom\":{\"value\":0},\"fill_alpha\":{\"value\":0.4},\"fill_color\":{\"value\":\"#17becf\"},\"hatch_alpha\":{\"value\":0.1},\"hatch_color\":{\"value\":\"#17becf\"},\"left\":{\"field\":\"left\"},\"line_alpha\":{\"value\":0.4},\"right\":{\"field\":\"right\"},\"top\":{\"field\":\"top\"}},\"id\":\"1556\",\"type\":\"Quad\"},{\"attributes\":{\"source\":{\"id\":\"1092\"}},\"id\":\"1099\",\"type\":\"CDSView\"},{\"attributes\":{\"data\":{\"left\":{\"__ndarray__\":\"AAAAAABAj0AAAAAAAPihQAAAAAAAIKxAAAAAAAAks0AAAAAAADi4QAAAAAAATL1AAAAAAAAwwUAAAAAAALrDQAAAAAAARMZAAAAAAADOyEAAAAAAAFjLQAAAAAAA4s1AAAAAAAA20EAAAAAAAHvRQAAAAAAAwNJAAAAAAAAF1EAAAAAAAErVQAAAAAAAj9ZAAAAAAADU10AAAAAAABnZQAAAAAAAXtpAAAAAAACj20AAAAAAAOjcQAAAAAAALd5AAAAAAABy30AAAAAAgFvgQAAAAAAA/uBAAAAAAICg4UAAAAAAAEPiQAAAAACA5eJA\",\"dtype\":\"float64\",\"order\":\"little\",\"shape\":[30]},\"loan_amnt\":{\"__ndarray__\":\"AAAAAADImUAAAAAAAAynQAAAAAAAmrBAAAAAAACutUAAAAAAAMK6QAAAAAAA1r9AAAAAAAB1wkAAAAAAAP/EQAAAAAAAicdAAAAAAAATykAAAAAAAJ3MQAAAAAAAJ89AAAAAAIDY0EAAAAAAgB3SQAAAAACAYtNAAAAAAICn1EAAAAAAgOzVQAAAAACAMddAAAAAAIB22EAAAAAAgLvZQAAAAACAANtAAAAAAIBF3EAAAAAAgIrdQAAAAACAz95AAAAAAEAK4EAAAAAAwKzgQAAAAABAT+FAAAAAAMDx4UAAAAAAQJTiQAAAAADANuNA\",\"dtype\":\"float64\",\"order\":\"little\",\"shape\":[30]},\"loan_amnt_count\":[2245,3916,4877,11525,5918,8509,15601,5682,11434,4167,13972,7055,3666,6100,11747,4117,2791,5826,5340,1192,3287,970,4649,1430,639,628,7743,30,36,712],\"loan_status\":[\"Charged Off\",\"Charged Off\",\"Charged Off\",\"Charged Off\",\"Charged Off\",\"Charged Off\",\"Charged Off\",\"Charged Off\",\"Charged Off\",\"Charged Off\",\"Charged Off\",\"Charged Off\",\"Charged Off\",\"Charged Off\",\"Charged Off\",\"Charged Off\",\"Charged Off\",\"Charged Off\",\"Charged Off\",\"Charged Off\",\"Charged Off\",\"Charged Off\",\"Charged Off\",\"Charged Off\",\"Charged Off\",\"Charged Off\",\"Charged Off\",\"Charged Off\",\"Charged Off\",\"Charged Off\"],\"right\":{\"__ndarray__\":\"AAAAAAD4oUAAAAAAACCsQAAAAAAAJLNAAAAAAAA4uEAAAAAAAEy9QAAAAAAAMMFAAAAAAAC6w0AAAAAAAETGQAAAAAAAzshAAAAAAABYy0AAAAAAAOLNQAAAAAAANtBAAAAAAAB70UAAAAAAAMDSQAAAAAAABdRAAAAAAABK1UAAAAAAAI/WQAAAAAAA1NdAAAAAAAAZ2UAAAAAAAF7aQAAAAAAAo9tAAAAAAADo3EAAAAAAAC3eQAAAAAAAct9AAAAAAIBb4EAAAAAAAP7gQAAAAACAoOFAAAAAAABD4kAAAAAAgOXiQAAAAAAAiONA\",\"dtype\":\"float64\",\"order\":\"little\",\"shape\":[30]},\"top\":[2245,3916,4877,11525,5918,8509,15601,5682,11434,4167,13972,7055,3666,6100,11747,4117,2791,5826,5340,1192,3287,970,4649,1430,639,628,7743,30,36,712]},\"selected\":{\"id\":\"1432\"},\"selection_policy\":{\"id\":\"1446\"}},\"id\":\"1431\",\"type\":\"ColumnDataSource\"},{\"attributes\":{\"source\":{\"id\":\"1552\"}},\"id\":\"1559\",\"type\":\"CDSView\"},{\"attributes\":{},\"id\":\"1432\",\"type\":\"Selection\"},{\"attributes\":{\"coordinates\":null,\"data_source\":{\"id\":\"1431\"},\"glyph\":{\"id\":\"1434\"},\"group\":null,\"hover_glyph\":null,\"muted_glyph\":{\"id\":\"1436\"},\"nonselection_glyph\":{\"id\":\"1435\"},\"selection_glyph\":{\"id\":\"1451\"},\"view\":{\"id\":\"1438\"}},\"id\":\"1437\",\"type\":\"GlyphRenderer\"},{\"attributes\":{\"bottom\":{\"value\":0},\"fill_alpha\":{\"value\":0.2},\"fill_color\":{\"value\":\"#e5ae38\"},\"hatch_alpha\":{\"value\":0.2},\"hatch_color\":{\"value\":\"#e5ae38\"},\"left\":{\"field\":\"left\"},\"line_alpha\":{\"value\":0.2},\"right\":{\"field\":\"right\"},\"top\":{\"field\":\"top\"}},\"id\":\"1097\",\"type\":\"Quad\"},{\"attributes\":{\"bottom\":{\"value\":0},\"fill_alpha\":{\"value\":0.2},\"fill_color\":{\"value\":\"#17becf\"},\"hatch_alpha\":{\"value\":0.2},\"hatch_color\":{\"value\":\"#17becf\"},\"left\":{\"field\":\"left\"},\"line_alpha\":{\"value\":0.2},\"right\":{\"field\":\"right\"},\"top\":{\"field\":\"top\"}},\"id\":\"1557\",\"type\":\"Quad\"},{\"attributes\":{},\"id\":\"1577\",\"type\":\"UnionRenderers\"},{\"attributes\":{\"source\":{\"id\":\"1049\"}},\"id\":\"1056\",\"type\":\"CDSView\"},{\"attributes\":{\"label\":{\"value\":\"Late (16-30 days)\"},\"renderers\":[{\"id\":\"1558\"}]},\"id\":\"1580\",\"type\":\"LegendItem\"},{\"attributes\":{},\"id\":\"1111\",\"type\":\"UnionRenderers\"},{\"attributes\":{\"click_policy\":\"mute\",\"coordinates\":null,\"group\":null,\"items\":[{\"id\":\"1450\"},{\"id\":\"1472\"},{\"id\":\"1496\"},{\"id\":\"1522\"},{\"id\":\"1550\"},{\"id\":\"1580\"},{\"id\":\"1612\"}],\"location\":[0,0],\"orientation\":\"horizontal\",\"title\":\"loan_status\"},\"id\":\"1449\",\"type\":\"Legend\"},{\"attributes\":{\"data\":{\"installment\":{\"__ndarray__\":\"UpYhjnURP0DdtYR80EtQQCUGgZVD01hANqs+V1utYEBa07zjFPFkQH77OnDONGlAoiO5/Id4bUDjpZvEIN5wQPW52or9/3JAB84ZUdohdUAZ4lgXt0N3QCv2l92TZXlAPQrXo3CHe0BPHhZqTal9QGEyVTAqy39AOiNKe4P2gEBCrWnecQeCQEw3iUFgGINAVMGopE4phEBeS8gHPTqFQGbV52orS4ZAcF8Hzhlch0B46SYxCG2IQIJzRpT2fYlAiv1l9+SOikCUh4Va05+LQJwRpb3BsIxAppvEILDBjUCuJeSDntKOQLivA+eM449A4JwRpT16kEDlYaHWtAKRQOkmMQgsi5FA7uvAOaMTkkDysFBrGpySQPd14JyRJJNA+zpwzgitk0AAAAAAgDWUQATFjzH3vZRACYofY25GlUANT6+U5c6VQBIUP8ZcV5ZAFtnO99PflkAbnl4pS2iXQB9j7lrC8JdAJCh+jDl5mEAo7Q2+sAGZQC2yne8niplAMXctIZ8SmkA2PL1SFpuaQA==\",\"dtype\":\"float64\",\"order\":\"little\",\"shape\":[50]},\"installment_count\":[11,41,66,77,155,139,195,263,249,351,287,208,167,230,179,191,179,145,155,147,104,92,90,86,89,79,68,50,60,40,34,36,29,37,27,29,19,20,14,9,9,4,2,3,1,0,0,0,0,0],\"left\":{\"__ndarray__\":\"hetRuB4FLEBxGw3gLRBIQAHeAgmKj1RASS7/If0WXUBIv30dOM9iQGzn+6nxEmdAkA96NqtWa0C0N/jCZJpvQOwvuycP73FA/kP67esQdEAQWDm0yDJ2QCJseHqlVHhANIC3QIJ2ekBGlPYGX5h8QFioNc07un5ANV66SQxugEA+6Nms+n6BQEdy+Q/pj4JAUPwYc9egg0BZhjjWxbGEQGIQWDm0woVAa5p3nKLThkB0JJf/kOSHQH2utmJ/9YhAhjjWxW0GikCPwvUoXBeLQJhMFYxKKIxAodY07zg5jUCqYFRSJ0qOQLPqc7UVW49AXrpJDAI2kEBjf9k9eb6QQGdEaW/wRpFAawn5oGfPkUBwzojS3leSQHWTGARW4JJAeVioNc1ok0B9HThnRPGTQILix5i7eZRAh6dXyjIClUCLbOf7qYqVQI8xdy0hE5ZAlPYGX5iblkCZu5aQDySXQJ2AJsKGrJdAoUW28/00mECmCkYldb2YQKvP1VbsRZlAr5RliGPOmUCzWfW52laaQA==\",\"dtype\":\"float64\",\"order\":\"little\",\"shape\":[50]},\"loan_status\":[\"In Grace Period\",\"In Grace Period\",\"In Grace Period\",\"In Grace Period\",\"In Grace Period\",\"In Grace Period\",\"In Grace Period\",\"In Grace Period\",\"In Grace Period\",\"In Grace Period\",\"In Grace Period\",\"In Grace Period\",\"In Grace Period\",\"In Grace Period\",\"In Grace Period\",\"In Grace Period\",\"In Grace Period\",\"In Grace Period\",\"In Grace Period\",\"In Grace Period\",\"In Grace Period\",\"In Grace Period\",\"In Grace Period\",\"In Grace Period\",\"In Grace Period\",\"In Grace Period\",\"In Grace Period\",\"In Grace Period\",\"In Grace Period\",\"In Grace Period\",\"In Grace Period\",\"In Grace Period\",\"In Grace Period\",\"In Grace Period\",\"In Grace Period\",\"In Grace Period\",\"In Grace Period\",\"In Grace Period\",\"In Grace Period\",\"In Grace Period\",\"In Grace Period\",\"In Grace Period\",\"In Grace Period\",\"In Grace Period\",\"In Grace Period\",\"In Grace Period\",\"In Grace Period\",\"In Grace Period\",\"In Grace Period\",\"In Grace Period\"],\"right\":{\"__ndarray__\":\"cRsN4C0QSEAB3gIJio9UQEku/yH9Fl1ASL99HTjPYkBs5/up8RJnQJAPejarVmtAtDf4wmSab0DsL7snD+9xQP5D+u3rEHRAEFg5tMgydkAibHh6pVR4QDSAt0CCdnpARpT2Bl+YfEBYqDXNO7p+QDVeukkMboBAPujZrPp+gUBHcvkP6Y+CQFD8GHPXoINAWYY41sWxhEBiEFg5tMKFQGuad5yi04ZAdCSX/5Dkh0B9rrZif/WIQIY41sVtBopAj8L1KFwXi0CYTBWMSiiMQKHWNO84OY1AqmBUUidKjkCz6nO1FVuPQF66SQwCNpBAY3/ZPXm+kEBnRGlv8EaRQGsJ+aBnz5FAcM6I0t5XkkB1kxgEVuCSQHlYqDXNaJNAfR04Z0Txk0CC4seYu3mUQIenV8oyApVAi2zn+6mKlUCPMXctIROWQJT2Bl+Ym5ZAmbuWkA8kl0CdgCbChqyXQKFFtvP9NJhApgpGJXW9mECrz9VW7EWZQK+UZYhjzplAs1n1udpWmkC4HoXrUd+aQA==\",\"dtype\":\"float64\",\"order\":\"little\",\"shape\":[50]},\"top\":[11,41,66,77,155,139,195,263,249,351,287,208,167,230,179,191,179,145,155,147,104,92,90,86,89,79,68,50,60,40,34,36,29,37,27,29,19,20,14,9,9,4,2,3,1,0,0,0,0,0]},\"selected\":{\"id\":\"1143\"},\"selection_policy\":{\"id\":\"1165\"}},\"id\":\"1142\",\"type\":\"ColumnDataSource\"},{\"attributes\":{},\"id\":\"1045\",\"type\":\"AllLabels\"},{\"attributes\":{\"bottom\":{\"value\":0},\"fill_alpha\":{\"value\":0.2},\"fill_color\":{\"value\":\"#30a2da\"},\"hatch_alpha\":{\"value\":0.2},\"hatch_color\":{\"value\":\"#30a2da\"},\"left\":{\"field\":\"left\"},\"line_alpha\":{\"value\":0.2},\"right\":{\"field\":\"right\"},\"top\":{\"field\":\"top\"}},\"id\":\"1436\",\"type\":\"Quad\"},{\"attributes\":{},\"id\":\"1609\",\"type\":\"UnionRenderers\"},{\"attributes\":{\"coordinates\":null,\"data_source\":{\"id\":\"1049\"},\"glyph\":{\"id\":\"1052\"},\"group\":null,\"hover_glyph\":null,\"muted_glyph\":{\"id\":\"1054\"},\"nonselection_glyph\":{\"id\":\"1053\"},\"selection_glyph\":{\"id\":\"1069\"},\"view\":{\"id\":\"1056\"}},\"id\":\"1055\",\"type\":\"GlyphRenderer\"},{\"attributes\":{\"data\":{\"left\":{\"__ndarray__\":\"AAAAAABAj0AAAAAAAPihQAAAAAAAIKxAAAAAAAAks0AAAAAAADi4QAAAAAAATL1AAAAAAAAwwUAAAAAAALrDQAAAAAAARMZAAAAAAADOyEAAAAAAAFjLQAAAAAAA4s1AAAAAAAA20EAAAAAAAHvRQAAAAAAAwNJAAAAAAAAF1EAAAAAAAErVQAAAAAAAj9ZAAAAAAADU10AAAAAAABnZQAAAAAAAXtpAAAAAAACj20AAAAAAAOjcQAAAAAAALd5AAAAAAABy30AAAAAAgFvgQAAAAAAA/uBAAAAAAICg4UAAAAAAAEPiQAAAAACA5eJA\",\"dtype\":\"float64\",\"order\":\"little\",\"shape\":[30]},\"loan_amnt\":{\"__ndarray__\":\"AAAAAADImUAAAAAAAAynQAAAAAAAmrBAAAAAAACutUAAAAAAAMK6QAAAAAAA1r9AAAAAAAB1wkAAAAAAAP/EQAAAAAAAicdAAAAAAAATykAAAAAAAJ3MQAAAAAAAJ89AAAAAAIDY0EAAAAAAgB3SQAAAAACAYtNAAAAAAICn1EAAAAAAgOzVQAAAAACAMddAAAAAAIB22EAAAAAAgLvZQAAAAACAANtAAAAAAIBF3EAAAAAAgIrdQAAAAACAz95AAAAAAEAK4EAAAAAAwKzgQAAAAABAT+FAAAAAAMDx4UAAAAAAQJTiQAAAAADANuNA\",\"dtype\":\"float64\",\"order\":\"little\",\"shape\":[30]},\"loan_amnt_count\":[8251,12768,14128,33478,13827,19768,48405,11870,29109,9256,37894,18815,7544,14174,33566,8349,6976,14686,18308,2903,8833,2247,16535,5309,1547,1466,20173,549,712,12047],\"loan_status\":[\"Current\",\"Current\",\"Current\",\"Current\",\"Current\",\"Current\",\"Current\",\"Current\",\"Current\",\"Current\",\"Current\",\"Current\",\"Current\",\"Current\",\"Current\",\"Current\",\"Current\",\"Current\",\"Current\",\"Current\",\"Current\",\"Current\",\"Current\",\"Current\",\"Current\",\"Current\",\"Current\",\"Current\",\"Current\",\"Current\"],\"right\":{\"__ndarray__\":\"AAAAAAD4oUAAAAAAACCsQAAAAAAAJLNAAAAAAAA4uEAAAAAAAEy9QAAAAAAAMMFAAAAAAAC6w0AAAAAAAETGQAAAAAAAzshAAAAAAABYy0AAAAAAAOLNQAAAAAAANtBAAAAAAAB70UAAAAAAAMDSQAAAAAAABdRAAAAAAABK1UAAAAAAAI/WQAAAAAAA1NdAAAAAAAAZ2UAAAAAAAF7aQAAAAAAAo9tAAAAAAADo3EAAAAAAAC3eQAAAAAAAct9AAAAAAIBb4EAAAAAAAP7gQAAAAACAoOFAAAAAAABD4kAAAAAAgOXiQAAAAAAAiONA\",\"dtype\":\"float64\",\"order\":\"little\",\"shape\":[30]},\"top\":[8251,12768,14128,33478,13827,19768,48405,11870,29109,9256,37894,18815,7544,14174,33566,8349,6976,14686,18308,2903,8833,2247,16535,5309,1547,1466,20173,549,712,12047]},\"selected\":{\"id\":\"1453\"},\"selection_policy\":{\"id\":\"1469\"}},\"id\":\"1452\",\"type\":\"ColumnDataSource\"},{\"attributes\":{\"bottom\":{\"value\":0},\"fill_alpha\":{\"value\":0.4},\"fill_color\":{\"value\":\"#e5ae38\"},\"hatch_alpha\":{\"value\":0.4},\"hatch_color\":{\"value\":\"#e5ae38\"},\"hatch_scale\":{\"value\":12.0},\"hatch_weight\":{\"value\":1.0},\"left\":{\"field\":\"left\"},\"line_alpha\":{\"value\":0.4},\"line_cap\":{\"value\":\"butt\"},\"line_color\":{\"value\":\"black\"},\"line_dash\":{\"value\":[]},\"line_dash_offset\":{\"value\":0},\"line_join\":{\"value\":\"bevel\"},\"line_width\":{\"value\":1},\"right\":{\"field\":\"right\"},\"top\":{\"field\":\"top\"}},\"id\":\"1497\",\"type\":\"Quad\"},{\"attributes\":{},\"id\":\"1165\",\"type\":\"UnionRenderers\"},{\"attributes\":{\"end\":42925.0,\"reset_end\":42925.0,\"reset_start\":-1925.0000000000005,\"start\":-1925.0000000000005,\"tags\":[[[\"loan_amnt\",\"loan_amnt\",null]]]},\"id\":\"1386\",\"type\":\"Range1d\"},{\"attributes\":{\"label\":{\"value\":\"Charged Off\"},\"renderers\":[{\"id\":\"1055\"}]},\"id\":\"1068\",\"type\":\"LegendItem\"},{\"attributes\":{\"source\":{\"id\":\"1498\"}},\"id\":\"1505\",\"type\":\"CDSView\"},{\"attributes\":{\"label\":{\"value\":\"Charged Off\"},\"renderers\":[{\"id\":\"1437\"}]},\"id\":\"1450\",\"type\":\"LegendItem\"},{\"attributes\":{\"label\":{\"value\":\"Default\"},\"renderers\":[{\"id\":\"1480\"}]},\"id\":\"1496\",\"type\":\"LegendItem\"},{\"attributes\":{\"bottom\":{\"value\":0},\"fill_alpha\":{\"value\":0.4},\"fill_color\":{\"value\":\"#17becf\"},\"hatch_alpha\":{\"value\":0.4},\"hatch_color\":{\"value\":\"#17becf\"},\"left\":{\"field\":\"left\"},\"line_alpha\":{\"value\":0.4},\"right\":{\"field\":\"right\"},\"top\":{\"field\":\"top\"}},\"id\":\"1173\",\"type\":\"Quad\"},{\"attributes\":{\"bottom\":{\"value\":0},\"fill_alpha\":{\"value\":0.4},\"fill_color\":{\"value\":\"#9467bd\"},\"hatch_alpha\":{\"value\":0.1},\"hatch_color\":{\"value\":\"#9467bd\"},\"left\":{\"field\":\"left\"},\"line_alpha\":{\"value\":0.4},\"right\":{\"field\":\"right\"},\"top\":{\"field\":\"top\"}},\"id\":\"1204\",\"type\":\"Quad\"},{\"attributes\":{\"label\":{\"value\":\"In Grace Period\"},\"renderers\":[{\"id\":\"1148\"}]},\"id\":\"1168\",\"type\":\"LegendItem\"},{\"attributes\":{\"bottom\":{\"value\":0},\"fill_alpha\":{\"value\":0.2},\"fill_color\":{\"value\":\"#6d904f\"},\"hatch_alpha\":{\"value\":0.2},\"hatch_color\":{\"value\":\"#6d904f\"},\"left\":{\"field\":\"left\"},\"line_alpha\":{\"value\":0.2},\"right\":{\"field\":\"right\"},\"top\":{\"field\":\"top\"}},\"id\":\"1503\",\"type\":\"Quad\"},{\"attributes\":{},\"id\":\"1453\",\"type\":\"Selection\"},{\"attributes\":{\"bottom\":{\"value\":0},\"fill_alpha\":{\"value\":0.4},\"fill_color\":{\"value\":\"#8b8b8b\"},\"hatch_alpha\":{\"value\":0.4},\"hatch_color\":{\"value\":\"#8b8b8b\"},\"hatch_scale\":{\"value\":12.0},\"hatch_weight\":{\"value\":1.0},\"left\":{\"field\":\"left\"},\"line_alpha\":{\"value\":0.4},\"line_cap\":{\"value\":\"butt\"},\"line_color\":{\"value\":\"black\"},\"line_dash\":{\"value\":[]},\"line_dash_offset\":{\"value\":0},\"line_join\":{\"value\":\"bevel\"},\"line_width\":{\"value\":1},\"right\":{\"field\":\"right\"},\"top\":{\"field\":\"top\"}},\"id\":\"1169\",\"type\":\"Quad\"},{\"attributes\":{},\"id\":\"1093\",\"type\":\"Selection\"},{\"attributes\":{},\"id\":\"1499\",\"type\":\"Selection\"},{\"attributes\":{\"children\":[[{\"id\":\"1013\"},0,0],[{\"id\":\"1395\"},0,1]]},\"id\":\"1814\",\"type\":\"GridBox\"},{\"attributes\":{\"bottom\":{\"value\":0},\"fill_alpha\":{\"value\":0.4},\"fill_color\":{\"value\":\"#9467bd\"},\"hatch_alpha\":{\"value\":0.4},\"hatch_color\":{\"value\":\"#9467bd\"},\"hatch_scale\":{\"value\":12.0},\"hatch_weight\":{\"value\":1.0},\"left\":{\"field\":\"left\"},\"line_alpha\":{\"value\":0.4},\"line_cap\":{\"value\":\"butt\"},\"line_color\":{\"value\":\"black\"},\"line_dash\":{\"value\":[]},\"line_dash_offset\":{\"value\":0},\"line_join\":{\"value\":\"bevel\"},\"line_width\":{\"value\":1},\"right\":{\"field\":\"right\"},\"top\":{\"field\":\"top\"}},\"id\":\"1231\",\"type\":\"Quad\"},{\"attributes\":{\"bottom\":{\"value\":0},\"fill_alpha\":{\"value\":0.2},\"fill_color\":{\"value\":\"#17becf\"},\"hatch_alpha\":{\"value\":0.2},\"hatch_color\":{\"value\":\"#17becf\"},\"left\":{\"field\":\"left\"},\"line_alpha\":{\"value\":0.2},\"right\":{\"field\":\"right\"},\"top\":{\"field\":\"top\"}},\"id\":\"1175\",\"type\":\"Quad\"},{\"attributes\":{\"coordinates\":null,\"data_source\":{\"id\":\"1092\"},\"glyph\":{\"id\":\"1095\"},\"group\":null,\"hover_glyph\":null,\"muted_glyph\":{\"id\":\"1097\"},\"nonselection_glyph\":{\"id\":\"1096\"},\"selection_glyph\":{\"id\":\"1115\"},\"view\":{\"id\":\"1099\"}},\"id\":\"1098\",\"type\":\"GlyphRenderer\"},{\"attributes\":{\"coordinates\":null,\"data_source\":{\"id\":\"1552\"},\"glyph\":{\"id\":\"1555\"},\"group\":null,\"hover_glyph\":null,\"muted_glyph\":{\"id\":\"1557\"},\"nonselection_glyph\":{\"id\":\"1556\"},\"selection_glyph\":{\"id\":\"1581\"},\"view\":{\"id\":\"1559\"}},\"id\":\"1558\",\"type\":\"GlyphRenderer\"},{\"attributes\":{\"data\":{\"installment\":{\"__ndarray__\":\"UpYhjnURP0DdtYR80EtQQCUGgZVD01hANqs+V1utYEBa07zjFPFkQH77OnDONGlAoiO5/Id4bUDjpZvEIN5wQPW52or9/3JAB84ZUdohdUAZ4lgXt0N3QCv2l92TZXlAPQrXo3CHe0BPHhZqTal9QGEyVTAqy39AOiNKe4P2gEBCrWnecQeCQEw3iUFgGINAVMGopE4phEBeS8gHPTqFQGbV52orS4ZAcF8Hzhlch0B46SYxCG2IQIJzRpT2fYlAiv1l9+SOikCUh4Va05+LQJwRpb3BsIxAppvEILDBjUCuJeSDntKOQLivA+eM449A4JwRpT16kEDlYaHWtAKRQOkmMQgsi5FA7uvAOaMTkkDysFBrGpySQPd14JyRJJNA+zpwzgitk0AAAAAAgDWUQATFjzH3vZRACYofY25GlUANT6+U5c6VQBIUP8ZcV5ZAFtnO99PflkAbnl4pS2iXQB9j7lrC8JdAJCh+jDl5mEAo7Q2+sAGZQC2yne8niplAMXctIZ8SmkA2PL1SFpuaQA==\",\"dtype\":\"float64\",\"order\":\"little\",\"shape\":[50]},\"installment_count\":[625,1901,3104,3588,7223,6845,7738,11468,10009,12523,9633,7819,5977,8048,7593,6353,5126,4201,4797,4636,2820,2615,3061,2264,2183,2370,1504,1441,1174,968,888,814,571,784,946,587,671,396,203,139,80,31,21,46,10,6,2,0,0,2],\"left\":{\"__ndarray__\":\"hetRuB4FLEBxGw3gLRBIQAHeAgmKj1RASS7/If0WXUBIv30dOM9iQGzn+6nxEmdAkA96NqtWa0C0N/jCZJpvQOwvuycP73FA/kP67esQdEAQWDm0yDJ2QCJseHqlVHhANIC3QIJ2ekBGlPYGX5h8QFioNc07un5ANV66SQxugEA+6Nms+n6BQEdy+Q/pj4JAUPwYc9egg0BZhjjWxbGEQGIQWDm0woVAa5p3nKLThkB0JJf/kOSHQH2utmJ/9YhAhjjWxW0GikCPwvUoXBeLQJhMFYxKKIxAodY07zg5jUCqYFRSJ0qOQLPqc7UVW49AXrpJDAI2kEBjf9k9eb6QQGdEaW/wRpFAawn5oGfPkUBwzojS3leSQHWTGARW4JJAeVioNc1ok0B9HThnRPGTQILix5i7eZRAh6dXyjIClUCLbOf7qYqVQI8xdy0hE5ZAlPYGX5iblkCZu5aQDySXQJ2AJsKGrJdAoUW28/00mECmCkYldb2YQKvP1VbsRZlAr5RliGPOmUCzWfW52laaQA==\",\"dtype\":\"float64\",\"order\":\"little\",\"shape\":[50]},\"loan_status\":[\"Charged Off\",\"Charged Off\",\"Charged Off\",\"Charged Off\",\"Charged Off\",\"Charged Off\",\"Charged Off\",\"Charged Off\",\"Charged Off\",\"Charged Off\",\"Charged Off\",\"Charged Off\",\"Charged Off\",\"Charged Off\",\"Charged Off\",\"Charged Off\",\"Charged Off\",\"Charged Off\",\"Charged Off\",\"Charged Off\",\"Charged Off\",\"Charged Off\",\"Charged Off\",\"Charged Off\",\"Charged Off\",\"Charged Off\",\"Charged Off\",\"Charged Off\",\"Charged Off\",\"Charged Off\",\"Charged Off\",\"Charged Off\",\"Charged Off\",\"Charged Off\",\"Charged Off\",\"Charged Off\",\"Charged Off\",\"Charged Off\",\"Charged Off\",\"Charged Off\",\"Charged Off\",\"Charged Off\",\"Charged Off\",\"Charged Off\",\"Charged Off\",\"Charged Off\",\"Charged Off\",\"Charged Off\",\"Charged Off\",\"Charged Off\"],\"right\":{\"__ndarray__\":\"cRsN4C0QSEAB3gIJio9UQEku/yH9Fl1ASL99HTjPYkBs5/up8RJnQJAPejarVmtAtDf4wmSab0DsL7snD+9xQP5D+u3rEHRAEFg5tMgydkAibHh6pVR4QDSAt0CCdnpARpT2Bl+YfEBYqDXNO7p+QDVeukkMboBAPujZrPp+gUBHcvkP6Y+CQFD8GHPXoINAWYY41sWxhEBiEFg5tMKFQGuad5yi04ZAdCSX/5Dkh0B9rrZif/WIQIY41sVtBopAj8L1KFwXi0CYTBWMSiiMQKHWNO84OY1AqmBUUidKjkCz6nO1FVuPQF66SQwCNpBAY3/ZPXm+kEBnRGlv8EaRQGsJ+aBnz5FAcM6I0t5XkkB1kxgEVuCSQHlYqDXNaJNAfR04Z0Txk0CC4seYu3mUQIenV8oyApVAi2zn+6mKlUCPMXctIROWQJT2Bl+Ym5ZAmbuWkA8kl0CdgCbChqyXQKFFtvP9NJhApgpGJXW9mECrz9VW7EWZQK+UZYhjzplAs1n1udpWmkC4HoXrUd+aQA==\",\"dtype\":\"float64\",\"order\":\"little\",\"shape\":[50]},\"top\":[625,1901,3104,3588,7223,6845,7738,11468,10009,12523,9633,7819,5977,8048,7593,6353,5126,4201,4797,4636,2820,2615,3061,2264,2183,2370,1504,1441,1174,968,888,814,571,784,946,587,671,396,203,139,80,31,21,46,10,6,2,0,0,2]},\"selected\":{\"id\":\"1050\"},\"selection_policy\":{\"id\":\"1064\"}},\"id\":\"1049\",\"type\":\"ColumnDataSource\"},{\"attributes\":{\"click_policy\":\"mute\",\"coordinates\":null,\"group\":null,\"items\":[{\"id\":\"1068\"},{\"id\":\"1090\"},{\"id\":\"1114\"},{\"id\":\"1140\"},{\"id\":\"1168\"},{\"id\":\"1198\"},{\"id\":\"1230\"}],\"location\":[0,0],\"orientation\":\"horizontal\",\"title\":\"loan_status\"},\"id\":\"1067\",\"type\":\"Legend\"},{\"attributes\":{\"label\":{\"value\":\"Current\"},\"renderers\":[{\"id\":\"1076\"}]},\"id\":\"1090\",\"type\":\"LegendItem\"},{\"attributes\":{},\"id\":\"1583\",\"type\":\"Selection\"},{\"attributes\":{\"above\":[{\"id\":\"1449\"}],\"below\":[{\"id\":\"1404\"}],\"center\":[{\"id\":\"1407\"},{\"id\":\"1411\"}],\"left\":[{\"id\":\"1408\"}],\"margin\":null,\"min_border_bottom\":10,\"min_border_left\":10,\"min_border_right\":10,\"min_border_top\":10,\"renderers\":[{\"id\":\"1437\"},{\"id\":\"1458\"},{\"id\":\"1480\"},{\"id\":\"1504\"},{\"id\":\"1530\"},{\"id\":\"1558\"},{\"id\":\"1588\"}],\"sizing_mode\":\"fixed\",\"title\":{\"id\":\"1396\"},\"toolbar\":{\"id\":\"1418\"},\"toolbar_location\":null,\"width\":800,\"x_range\":{\"id\":\"1386\"},\"x_scale\":{\"id\":\"1400\"},\"y_range\":{\"id\":\"1387\"},\"y_scale\":{\"id\":\"1402\"}},\"id\":\"1395\",\"subtype\":\"Figure\",\"type\":\"Plot\"},{\"attributes\":{},\"id\":\"1195\",\"type\":\"UnionRenderers\"},{\"attributes\":{\"end\":1847.7665,\"reset_end\":1847.7665,\"reset_start\":-113.9265,\"start\":-113.9265,\"tags\":[[[\"installment\",\"installment\",null]]]},\"id\":\"1004\",\"type\":\"Range1d\"},{\"attributes\":{},\"id\":\"1446\",\"type\":\"UnionRenderers\"},{\"attributes\":{\"callback\":null,\"renderers\":[{\"id\":\"1437\"},{\"id\":\"1458\"},{\"id\":\"1480\"},{\"id\":\"1504\"},{\"id\":\"1530\"},{\"id\":\"1558\"},{\"id\":\"1588\"}],\"tags\":[\"hv_created\"],\"tooltips\":[[\"loan_status\",\"@{loan_status}\"],[\"loan_amnt\",\"@{loan_amnt}\"],[\"Count\",\"@{loan_amnt_count}\"]]},\"id\":\"1388\",\"type\":\"HoverTool\"},{\"attributes\":{\"label\":{\"value\":\"Late (16-30 days)\"},\"renderers\":[{\"id\":\"1176\"}]},\"id\":\"1198\",\"type\":\"LegendItem\"},{\"attributes\":{},\"id\":\"1553\",\"type\":\"Selection\"},{\"attributes\":{},\"id\":\"1519\",\"type\":\"UnionRenderers\"},{\"attributes\":{},\"id\":\"1171\",\"type\":\"Selection\"},{\"attributes\":{\"bottom\":{\"value\":0},\"fill_alpha\":{\"value\":0.4},\"fill_color\":{\"value\":\"#17becf\"},\"hatch_alpha\":{\"value\":0.1},\"hatch_color\":{\"value\":\"#17becf\"},\"left\":{\"field\":\"left\"},\"line_alpha\":{\"value\":0.4},\"right\":{\"field\":\"right\"},\"top\":{\"field\":\"top\"}},\"id\":\"1174\",\"type\":\"Quad\"},{\"attributes\":{\"bottom\":{\"value\":0},\"fill_alpha\":{\"value\":0.4},\"fill_color\":{\"value\":\"#6d904f\"},\"hatch_alpha\":{\"value\":0.1},\"hatch_color\":{\"value\":\"#6d904f\"},\"left\":{\"field\":\"left\"},\"line_alpha\":{\"value\":0.4},\"right\":{\"field\":\"right\"},\"top\":{\"field\":\"top\"}},\"id\":\"1502\",\"type\":\"Quad\"},{\"attributes\":{},\"id\":\"1064\",\"type\":\"UnionRenderers\"},{\"attributes\":{},\"id\":\"1426\",\"type\":\"BasicTickFormatter\"},{\"attributes\":{\"coordinates\":null,\"data_source\":{\"id\":\"1498\"},\"glyph\":{\"id\":\"1501\"},\"group\":null,\"hover_glyph\":null,\"muted_glyph\":{\"id\":\"1503\"},\"nonselection_glyph\":{\"id\":\"1502\"},\"selection_glyph\":{\"id\":\"1523\"},\"view\":{\"id\":\"1505\"}},\"id\":\"1504\",\"type\":\"GlyphRenderer\"},{\"attributes\":{\"coordinates\":null,\"data_source\":{\"id\":\"1200\"},\"glyph\":{\"id\":\"1203\"},\"group\":null,\"hover_glyph\":null,\"muted_glyph\":{\"id\":\"1205\"},\"nonselection_glyph\":{\"id\":\"1204\"},\"selection_glyph\":{\"id\":\"1231\"},\"view\":{\"id\":\"1207\"}},\"id\":\"1206\",\"type\":\"GlyphRenderer\"},{\"attributes\":{},\"id\":\"1412\",\"type\":\"SaveTool\"},{\"attributes\":{},\"id\":\"1087\",\"type\":\"UnionRenderers\"},{\"attributes\":{\"margin\":[5,5,5,5],\"name\":\"HSpacer02652\",\"sizing_mode\":\"stretch_width\"},\"id\":\"2214\",\"type\":\"Spacer\"},{\"attributes\":{},\"id\":\"1413\",\"type\":\"PanTool\"},{\"attributes\":{},\"id\":\"1048\",\"type\":\"AllLabels\"},{\"attributes\":{},\"id\":\"1034\",\"type\":\"ResetTool\"},{\"attributes\":{},\"id\":\"1416\",\"type\":\"ResetTool\"},{\"attributes\":{\"coordinates\":null,\"data_source\":{\"id\":\"1524\"},\"glyph\":{\"id\":\"1527\"},\"group\":null,\"hover_glyph\":null,\"muted_glyph\":{\"id\":\"1529\"},\"nonselection_glyph\":{\"id\":\"1528\"},\"selection_glyph\":{\"id\":\"1551\"},\"view\":{\"id\":\"1531\"}},\"id\":\"1530\",\"type\":\"GlyphRenderer\"},{\"attributes\":{},\"id\":\"1414\",\"type\":\"WheelZoomTool\"},{\"attributes\":{\"bottom\":{\"value\":0},\"fill_alpha\":{\"value\":0.4},\"fill_color\":{\"value\":\"#fc4f30\"},\"hatch_alpha\":{\"value\":0.4},\"hatch_color\":{\"value\":\"#fc4f30\"},\"left\":{\"field\":\"left\"},\"line_alpha\":{\"value\":0.4},\"right\":{\"field\":\"right\"},\"top\":{\"field\":\"top\"}},\"id\":\"1073\",\"type\":\"Quad\"},{\"attributes\":{\"data\":{\"installment\":{\"__ndarray__\":\"UpYhjnURP0DdtYR80EtQQCUGgZVD01hANqs+V1utYEBa07zjFPFkQH77OnDONGlAoiO5/Id4bUDjpZvEIN5wQPW52or9/3JAB84ZUdohdUAZ4lgXt0N3QCv2l92TZXlAPQrXo3CHe0BPHhZqTal9QGEyVTAqy39AOiNKe4P2gEBCrWnecQeCQEw3iUFgGINAVMGopE4phEBeS8gHPTqFQGbV52orS4ZAcF8Hzhlch0B46SYxCG2IQIJzRpT2fYlAiv1l9+SOikCUh4Va05+LQJwRpb3BsIxAppvEILDBjUCuJeSDntKOQLivA+eM449A4JwRpT16kEDlYaHWtAKRQOkmMQgsi5FA7uvAOaMTkkDysFBrGpySQPd14JyRJJNA+zpwzgitk0AAAAAAgDWUQATFjzH3vZRACYofY25GlUANT6+U5c6VQBIUP8ZcV5ZAFtnO99PflkAbnl4pS2iXQB9j7lrC8JdAJCh+jDl5mEAo7Q2+sAGZQC2yne8niplAMXctIZ8SmkA2PL1SFpuaQA==\",\"dtype\":\"float64\",\"order\":\"little\",\"shape\":[50]},\"installment_count\":[4528,11652,17608,18597,38002,35168,35575,39194,42228,40673,33312,25356,19778,30983,24063,18184,14768,17257,17732,14206,8636,11223,12939,7515,8305,6891,4611,4799,3677,2792,2284,4582,3108,2974,3613,1968,1825,896,379,249,148,59,47,46,17,5,5,3,0,6],\"left\":{\"__ndarray__\":\"hetRuB4FLEBxGw3gLRBIQAHeAgmKj1RASS7/If0WXUBIv30dOM9iQGzn+6nxEmdAkA96NqtWa0C0N/jCZJpvQOwvuycP73FA/kP67esQdEAQWDm0yDJ2QCJseHqlVHhANIC3QIJ2ekBGlPYGX5h8QFioNc07un5ANV66SQxugEA+6Nms+n6BQEdy+Q/pj4JAUPwYc9egg0BZhjjWxbGEQGIQWDm0woVAa5p3nKLThkB0JJf/kOSHQH2utmJ/9YhAhjjWxW0GikCPwvUoXBeLQJhMFYxKKIxAodY07zg5jUCqYFRSJ0qOQLPqc7UVW49AXrpJDAI2kEBjf9k9eb6QQGdEaW/wRpFAawn5oGfPkUBwzojS3leSQHWTGARW4JJAeVioNc1ok0B9HThnRPGTQILix5i7eZRAh6dXyjIClUCLbOf7qYqVQI8xdy0hE5ZAlPYGX5iblkCZu5aQDySXQJ2AJsKGrJdAoUW28/00mECmCkYldb2YQKvP1VbsRZlAr5RliGPOmUCzWfW52laaQA==\",\"dtype\":\"float64\",\"order\":\"little\",\"shape\":[50]},\"loan_status\":[\"Fully Paid\",\"Fully Paid\",\"Fully Paid\",\"Fully Paid\",\"Fully Paid\",\"Fully Paid\",\"Fully Paid\",\"Fully Paid\",\"Fully Paid\",\"Fully Paid\",\"Fully Paid\",\"Fully Paid\",\"Fully Paid\",\"Fully Paid\",\"Fully Paid\",\"Fully Paid\",\"Fully Paid\",\"Fully Paid\",\"Fully Paid\",\"Fully Paid\",\"Fully Paid\",\"Fully Paid\",\"Fully Paid\",\"Fully Paid\",\"Fully Paid\",\"Fully Paid\",\"Fully Paid\",\"Fully Paid\",\"Fully Paid\",\"Fully Paid\",\"Fully Paid\",\"Fully Paid\",\"Fully Paid\",\"Fully Paid\",\"Fully Paid\",\"Fully Paid\",\"Fully Paid\",\"Fully Paid\",\"Fully Paid\",\"Fully Paid\",\"Fully Paid\",\"Fully Paid\",\"Fully Paid\",\"Fully Paid\",\"Fully Paid\",\"Fully Paid\",\"Fully Paid\",\"Fully Paid\",\"Fully Paid\",\"Fully Paid\"],\"right\":{\"__ndarray__\":\"cRsN4C0QSEAB3gIJio9UQEku/yH9Fl1ASL99HTjPYkBs5/up8RJnQJAPejarVmtAtDf4wmSab0DsL7snD+9xQP5D+u3rEHRAEFg5tMgydkAibHh6pVR4QDSAt0CCdnpARpT2Bl+YfEBYqDXNO7p+QDVeukkMboBAPujZrPp+gUBHcvkP6Y+CQFD8GHPXoINAWYY41sWxhEBiEFg5tMKFQGuad5yi04ZAdCSX/5Dkh0B9rrZif/WIQIY41sVtBopAj8L1KFwXi0CYTBWMSiiMQKHWNO84OY1AqmBUUidKjkCz6nO1FVuPQF66SQwCNpBAY3/ZPXm+kEBnRGlv8EaRQGsJ+aBnz5FAcM6I0t5XkkB1kxgEVuCSQHlYqDXNaJNAfR04Z0Txk0CC4seYu3mUQIenV8oyApVAi2zn+6mKlUCPMXctIROWQJT2Bl+Ym5ZAmbuWkA8kl0CdgCbChqyXQKFFtvP9NJhApgpGJXW9mECrz9VW7EWZQK+UZYhjzplAs1n1udpWmkC4HoXrUd+aQA==\",\"dtype\":\"float64\",\"order\":\"little\",\"shape\":[50]},\"top\":[4528,11652,17608,18597,38002,35168,35575,39194,42228,40673,33312,25356,19778,30983,24063,18184,14768,17257,17732,14206,8636,11223,12939,7515,8305,6891,4611,4799,3677,2792,2284,4582,3108,2974,3613,1968,1825,896,379,249,148,59,47,46,17,5,5,3,0,6]},\"selected\":{\"id\":\"1117\"},\"selection_policy\":{\"id\":\"1137\"}},\"id\":\"1116\",\"type\":\"ColumnDataSource\"},{\"attributes\":{},\"id\":\"1525\",\"type\":\"Selection\"},{\"attributes\":{\"overlay\":{\"id\":\"1417\"}},\"id\":\"1415\",\"type\":\"BoxZoomTool\"},{\"attributes\":{\"bottom\":{\"value\":0},\"fill_alpha\":{\"value\":0.2},\"fill_color\":{\"value\":\"#8b8b8b\"},\"hatch_alpha\":{\"value\":0.2},\"hatch_color\":{\"value\":\"#8b8b8b\"},\"left\":{\"field\":\"left\"},\"line_alpha\":{\"value\":0.2},\"right\":{\"field\":\"right\"},\"top\":{\"field\":\"top\"}},\"id\":\"1529\",\"type\":\"Quad\"},{\"attributes\":{\"bottom_units\":\"screen\",\"coordinates\":null,\"fill_alpha\":0.5,\"fill_color\":\"lightgrey\",\"group\":null,\"left_units\":\"screen\",\"level\":\"overlay\",\"line_alpha\":1.0,\"line_color\":\"black\",\"line_dash\":[4,4],\"line_width\":2,\"right_units\":\"screen\",\"syncable\":false,\"top_units\":\"screen\"},\"id\":\"1035\",\"type\":\"BoxAnnotation\"},{\"attributes\":{\"bottom\":{\"value\":0},\"fill_alpha\":{\"value\":0.4},\"fill_color\":{\"value\":\"#e5ae38\"},\"hatch_alpha\":{\"value\":0.4},\"hatch_color\":{\"value\":\"#e5ae38\"},\"hatch_scale\":{\"value\":12.0},\"hatch_weight\":{\"value\":1.0},\"left\":{\"field\":\"left\"},\"line_alpha\":{\"value\":0.4},\"line_cap\":{\"value\":\"butt\"},\"line_color\":{\"value\":\"black\"},\"line_dash\":{\"value\":[]},\"line_dash_offset\":{\"value\":0},\"line_join\":{\"value\":\"bevel\"},\"line_width\":{\"value\":1},\"right\":{\"field\":\"right\"},\"top\":{\"field\":\"top\"}},\"id\":\"1115\",\"type\":\"Quad\"},{\"attributes\":{\"bottom\":{\"value\":0},\"fill_alpha\":{\"value\":0.4},\"fill_color\":{\"value\":\"#30a2da\"},\"hatch_alpha\":{\"value\":0.4},\"hatch_color\":{\"value\":\"#30a2da\"},\"hatch_scale\":{\"value\":12.0},\"hatch_weight\":{\"value\":1.0},\"left\":{\"field\":\"left\"},\"line_alpha\":{\"value\":0.4},\"line_cap\":{\"value\":\"butt\"},\"line_color\":{\"value\":\"black\"},\"line_dash\":{\"value\":[]},\"line_dash_offset\":{\"value\":0},\"line_join\":{\"value\":\"bevel\"},\"line_width\":{\"value\":1},\"right\":{\"field\":\"right\"},\"top\":{\"field\":\"top\"}},\"id\":\"1451\",\"type\":\"Quad\"},{\"attributes\":{\"source\":{\"id\":\"1524\"}},\"id\":\"1531\",\"type\":\"CDSView\"},{\"attributes\":{\"bottom\":{\"value\":0},\"fill_alpha\":{\"value\":0.2},\"fill_color\":{\"value\":\"#fc4f30\"},\"hatch_alpha\":{\"value\":0.2},\"hatch_color\":{\"value\":\"#fc4f30\"},\"left\":{\"field\":\"left\"},\"line_alpha\":{\"value\":0.2},\"right\":{\"field\":\"right\"},\"top\":{\"field\":\"top\"}},\"id\":\"1075\",\"type\":\"Quad\"},{\"attributes\":{\"label\":{\"value\":\"Default\"},\"renderers\":[{\"id\":\"1098\"}]},\"id\":\"1114\",\"type\":\"LegendItem\"},{\"attributes\":{\"bottom\":{\"value\":0},\"fill_alpha\":{\"value\":0.4},\"fill_color\":{\"value\":\"#fc4f30\"},\"hatch_alpha\":{\"value\":0.4},\"hatch_color\":{\"value\":\"#fc4f30\"},\"left\":{\"field\":\"left\"},\"line_alpha\":{\"value\":0.4},\"right\":{\"field\":\"right\"},\"top\":{\"field\":\"top\"}},\"id\":\"1455\",\"type\":\"Quad\"},{\"attributes\":{\"data\":{\"left\":{\"__ndarray__\":\"AAAAAABAj0AAAAAAAPihQAAAAAAAIKxAAAAAAAAks0AAAAAAADi4QAAAAAAATL1AAAAAAAAwwUAAAAAAALrDQAAAAAAARMZAAAAAAADOyEAAAAAAAFjLQAAAAAAA4s1AAAAAAAA20EAAAAAAAHvRQAAAAAAAwNJAAAAAAAAF1EAAAAAAAErVQAAAAAAAj9ZAAAAAAADU10AAAAAAABnZQAAAAAAAXtpAAAAAAACj20AAAAAAAOjcQAAAAAAALd5AAAAAAABy30AAAAAAgFvgQAAAAAAA/uBAAAAAAICg4UAAAAAAAEPiQAAAAACA5eJA\",\"dtype\":\"float64\",\"order\":\"little\",\"shape\":[30]},\"loan_amnt\":{\"__ndarray__\":\"AAAAAADImUAAAAAAAAynQAAAAAAAmrBAAAAAAACutUAAAAAAAMK6QAAAAAAA1r9AAAAAAAB1wkAAAAAAAP/EQAAAAAAAicdAAAAAAAATykAAAAAAAJ3MQAAAAAAAJ89AAAAAAIDY0EAAAAAAgB3SQAAAAACAYtNAAAAAAICn1EAAAAAAgOzVQAAAAACAMddAAAAAAIB22EAAAAAAgLvZQAAAAACAANtAAAAAAIBF3EAAAAAAgIrdQAAAAACAz95AAAAAAEAK4EAAAAAAwKzgQAAAAABAT+FAAAAAAMDx4UAAAAAAQJTiQAAAAADANuNA\",\"dtype\":\"float64\",\"order\":\"little\",\"shape\":[30]},\"loan_amnt_count\":[30,46,57,142,50,78,217,50,149,37,189,127,48,66,197,39,30,92,113,14,59,17,108,33,18,9,138,2,2,56],\"loan_status\":[\"Late (16-30 days)\",\"Late (16-30 days)\",\"Late (16-30 days)\",\"Late (16-30 days)\",\"Late (16-30 days)\",\"Late (16-30 days)\",\"Late (16-30 days)\",\"Late (16-30 days)\",\"Late (16-30 days)\",\"Late (16-30 days)\",\"Late (16-30 days)\",\"Late (16-30 days)\",\"Late (16-30 days)\",\"Late (16-30 days)\",\"Late (16-30 days)\",\"Late (16-30 days)\",\"Late (16-30 days)\",\"Late (16-30 days)\",\"Late (16-30 days)\",\"Late (16-30 days)\",\"Late (16-30 days)\",\"Late (16-30 days)\",\"Late (16-30 days)\",\"Late (16-30 days)\",\"Late (16-30 days)\",\"Late (16-30 days)\",\"Late (16-30 days)\",\"Late (16-30 days)\",\"Late (16-30 days)\",\"Late (16-30 days)\"],\"right\":{\"__ndarray__\":\"AAAAAAD4oUAAAAAAACCsQAAAAAAAJLNAAAAAAAA4uEAAAAAAAEy9QAAAAAAAMMFAAAAAAAC6w0AAAAAAAETGQAAAAAAAzshAAAAAAABYy0AAAAAAAOLNQAAAAAAANtBAAAAAAAB70UAAAAAAAMDSQAAAAAAABdRAAAAAAABK1UAAAAAAAI/WQAAAAAAA1NdAAAAAAAAZ2UAAAAAAAF7aQAAAAAAAo9tAAAAAAADo3EAAAAAAAC3eQAAAAAAAct9AAAAAAIBb4EAAAAAAAP7gQAAAAACAoOFAAAAAAABD4kAAAAAAgOXiQAAAAAAAiONA\",\"dtype\":\"float64\",\"order\":\"little\",\"shape\":[30]},\"top\":[30,46,57,142,50,78,217,50,149,37,189,127,48,66,197,39,30,92,113,14,59,17,108,33,18,9,138,2,2,56]},\"selected\":{\"id\":\"1553\"},\"selection_policy\":{\"id\":\"1577\"}},\"id\":\"1552\",\"type\":\"ColumnDataSource\"},{\"attributes\":{\"bottom\":{\"value\":0},\"fill_alpha\":{\"value\":0.4},\"fill_color\":{\"value\":\"#9467bd\"},\"hatch_alpha\":{\"value\":0.4},\"hatch_color\":{\"value\":\"#9467bd\"},\"left\":{\"field\":\"left\"},\"line_alpha\":{\"value\":0.4},\"right\":{\"field\":\"right\"},\"top\":{\"field\":\"top\"}},\"id\":\"1585\",\"type\":\"Quad\"},{\"attributes\":{},\"id\":\"1430\",\"type\":\"AllLabels\"},{\"attributes\":{\"bottom\":{\"value\":0},\"fill_alpha\":{\"value\":0.4},\"fill_color\":{\"value\":\"#fc4f30\"},\"hatch_alpha\":{\"value\":0.4},\"hatch_color\":{\"value\":\"#fc4f30\"},\"hatch_scale\":{\"value\":12.0},\"hatch_weight\":{\"value\":1.0},\"left\":{\"field\":\"left\"},\"line_alpha\":{\"value\":0.4},\"line_cap\":{\"value\":\"butt\"},\"line_color\":{\"value\":\"black\"},\"line_dash\":{\"value\":[]},\"line_dash_offset\":{\"value\":0},\"line_join\":{\"value\":\"bevel\"},\"line_width\":{\"value\":1},\"right\":{\"field\":\"right\"},\"top\":{\"field\":\"top\"}},\"id\":\"1091\",\"type\":\"Quad\"},{\"attributes\":{},\"id\":\"1044\",\"type\":\"BasicTickFormatter\"},{\"attributes\":{\"tools\":[{\"id\":\"1388\"},{\"id\":\"1412\"},{\"id\":\"1413\"},{\"id\":\"1414\"},{\"id\":\"1415\"},{\"id\":\"1416\"}]},\"id\":\"1418\",\"type\":\"Toolbar\"},{\"attributes\":{\"bottom\":{\"value\":0},\"fill_alpha\":{\"value\":0.2},\"fill_color\":{\"value\":\"#fc4f30\"},\"hatch_alpha\":{\"value\":0.2},\"hatch_color\":{\"value\":\"#fc4f30\"},\"left\":{\"field\":\"left\"},\"line_alpha\":{\"value\":0.2},\"right\":{\"field\":\"right\"},\"top\":{\"field\":\"top\"}},\"id\":\"1457\",\"type\":\"Quad\"},{\"attributes\":{},\"id\":\"1405\",\"type\":\"BasicTicker\"},{\"attributes\":{\"bottom_units\":\"screen\",\"coordinates\":null,\"fill_alpha\":0.5,\"fill_color\":\"lightgrey\",\"group\":null,\"left_units\":\"screen\",\"level\":\"overlay\",\"line_alpha\":1.0,\"line_color\":\"black\",\"line_dash\":[4,4],\"line_width\":2,\"right_units\":\"screen\",\"syncable\":false,\"top_units\":\"screen\"},\"id\":\"1417\",\"type\":\"BoxAnnotation\"},{\"attributes\":{\"bottom\":{\"value\":0},\"fill_alpha\":{\"value\":0.4},\"fill_color\":{\"value\":\"#fc4f30\"},\"hatch_alpha\":{\"value\":0.1},\"hatch_color\":{\"value\":\"#fc4f30\"},\"left\":{\"field\":\"left\"},\"line_alpha\":{\"value\":0.4},\"right\":{\"field\":\"right\"},\"top\":{\"field\":\"top\"}},\"id\":\"1456\",\"type\":\"Quad\"},{\"attributes\":{\"bottom\":{\"value\":0},\"fill_alpha\":{\"value\":0.4},\"fill_color\":{\"value\":\"#fc4f30\"},\"hatch_alpha\":{\"value\":0.1},\"hatch_color\":{\"value\":\"#fc4f30\"},\"left\":{\"field\":\"left\"},\"line_alpha\":{\"value\":0.4},\"right\":{\"field\":\"right\"},\"top\":{\"field\":\"top\"}},\"id\":\"1074\",\"type\":\"Quad\"},{\"attributes\":{\"bottom\":{\"value\":0},\"fill_alpha\":{\"value\":0.4},\"fill_color\":{\"value\":\"#9467bd\"},\"hatch_alpha\":{\"value\":0.4},\"hatch_color\":{\"value\":\"#9467bd\"},\"hatch_scale\":{\"value\":12.0},\"hatch_weight\":{\"value\":1.0},\"left\":{\"field\":\"left\"},\"line_alpha\":{\"value\":0.4},\"line_cap\":{\"value\":\"butt\"},\"line_color\":{\"value\":\"black\"},\"line_dash\":{\"value\":[]},\"line_dash_offset\":{\"value\":0},\"line_join\":{\"value\":\"bevel\"},\"line_width\":{\"value\":1},\"right\":{\"field\":\"right\"},\"top\":{\"field\":\"top\"}},\"id\":\"1613\",\"type\":\"Quad\"},{\"attributes\":{\"bottom\":{\"value\":0},\"fill_alpha\":{\"value\":0.4},\"fill_color\":{\"value\":\"#6d904f\"},\"hatch_alpha\":{\"value\":0.4},\"hatch_color\":{\"value\":\"#6d904f\"},\"left\":{\"field\":\"left\"},\"line_alpha\":{\"value\":0.4},\"right\":{\"field\":\"right\"},\"top\":{\"field\":\"top\"}},\"id\":\"1119\",\"type\":\"Quad\"},{\"attributes\":{\"data\":{\"installment\":{\"__ndarray__\":\"UpYhjnURP0DdtYR80EtQQCUGgZVD01hANqs+V1utYEBa07zjFPFkQH77OnDONGlAoiO5/Id4bUDjpZvEIN5wQPW52or9/3JAB84ZUdohdUAZ4lgXt0N3QCv2l92TZXlAPQrXo3CHe0BPHhZqTal9QGEyVTAqy39AOiNKe4P2gEBCrWnecQeCQEw3iUFgGINAVMGopE4phEBeS8gHPTqFQGbV52orS4ZAcF8Hzhlch0B46SYxCG2IQIJzRpT2fYlAiv1l9+SOikCUh4Va05+LQJwRpb3BsIxAppvEILDBjUCuJeSDntKOQLivA+eM449A4JwRpT16kEDlYaHWtAKRQOkmMQgsi5FA7uvAOaMTkkDysFBrGpySQPd14JyRJJNA+zpwzgitk0AAAAAAgDWUQATFjzH3vZRACYofY25GlUANT6+U5c6VQBIUP8ZcV5ZAFtnO99PflkAbnl4pS2iXQB9j7lrC8JdAJCh+jDl5mEAo7Q2+sAGZQC2yne8niplAMXctIZ8SmkA2PL1SFpuaQA==\",\"dtype\":\"float64\",\"order\":\"little\",\"shape\":[50]},\"installment_count\":[2832,6923,10666,11310,22212,20503,24085,28431,29772,32425,27045,18610,16488,22504,17283,15954,12861,13433,12864,10804,7131,8389,9473,6616,6451,5142,5164,3502,3423,1921,2531,3175,1950,1939,2102,3088,1469,1503,745,308,231,84,64,52,18,4,7,4,1,1],\"left\":{\"__ndarray__\":\"hetRuB4FLEBxGw3gLRBIQAHeAgmKj1RASS7/If0WXUBIv30dOM9iQGzn+6nxEmdAkA96NqtWa0C0N/jCZJpvQOwvuycP73FA/kP67esQdEAQWDm0yDJ2QCJseHqlVHhANIC3QIJ2ekBGlPYGX5h8QFioNc07un5ANV66SQxugEA+6Nms+n6BQEdy+Q/pj4JAUPwYc9egg0BZhjjWxbGEQGIQWDm0woVAa5p3nKLThkB0JJf/kOSHQH2utmJ/9YhAhjjWxW0GikCPwvUoXBeLQJhMFYxKKIxAodY07zg5jUCqYFRSJ0qOQLPqc7UVW49AXrpJDAI2kEBjf9k9eb6QQGdEaW/wRpFAawn5oGfPkUBwzojS3leSQHWTGARW4JJAeVioNc1ok0B9HThnRPGTQILix5i7eZRAh6dXyjIClUCLbOf7qYqVQI8xdy0hE5ZAlPYGX5iblkCZu5aQDySXQJ2AJsKGrJdAoUW28/00mECmCkYldb2YQKvP1VbsRZlAr5RliGPOmUCzWfW52laaQA==\",\"dtype\":\"float64\",\"order\":\"little\",\"shape\":[50]},\"loan_status\":[\"Current\",\"Current\",\"Current\",\"Current\",\"Current\",\"Current\",\"Current\",\"Current\",\"Current\",\"Current\",\"Current\",\"Current\",\"Current\",\"Current\",\"Current\",\"Current\",\"Current\",\"Current\",\"Current\",\"Current\",\"Current\",\"Current\",\"Current\",\"Current\",\"Current\",\"Current\",\"Current\",\"Current\",\"Current\",\"Current\",\"Current\",\"Current\",\"Current\",\"Current\",\"Current\",\"Current\",\"Current\",\"Current\",\"Current\",\"Current\",\"Current\",\"Current\",\"Current\",\"Current\",\"Current\",\"Current\",\"Current\",\"Current\",\"Current\",\"Current\"],\"right\":{\"__ndarray__\":\"cRsN4C0QSEAB3gIJio9UQEku/yH9Fl1ASL99HTjPYkBs5/up8RJnQJAPejarVmtAtDf4wmSab0DsL7snD+9xQP5D+u3rEHRAEFg5tMgydkAibHh6pVR4QDSAt0CCdnpARpT2Bl+YfEBYqDXNO7p+QDVeukkMboBAPujZrPp+gUBHcvkP6Y+CQFD8GHPXoINAWYY41sWxhEBiEFg5tMKFQGuad5yi04ZAdCSX/5Dkh0B9rrZif/WIQIY41sVtBopAj8L1KFwXi0CYTBWMSiiMQKHWNO84OY1AqmBUUidKjkCz6nO1FVuPQF66SQwCNpBAY3/ZPXm+kEBnRGlv8EaRQGsJ+aBnz5FAcM6I0t5XkkB1kxgEVuCSQHlYqDXNaJNAfR04Z0Txk0CC4seYu3mUQIenV8oyApVAi2zn+6mKlUCPMXctIROWQJT2Bl+Ym5ZAmbuWkA8kl0CdgCbChqyXQKFFtvP9NJhApgpGJXW9mECrz9VW7EWZQK+UZYhjzplAs1n1udpWmkC4HoXrUd+aQA==\",\"dtype\":\"float64\",\"order\":\"little\",\"shape\":[50]},\"top\":[2832,6923,10666,11310,22212,20503,24085,28431,29772,32425,27045,18610,16488,22504,17283,15954,12861,13433,12864,10804,7131,8389,9473,6616,6451,5142,5164,3502,3423,1921,2531,3175,1950,1939,2102,3088,1469,1503,745,308,231,84,64,52,18,4,7,4,1,1]},\"selected\":{\"id\":\"1071\"},\"selection_policy\":{\"id\":\"1087\"}},\"id\":\"1070\",\"type\":\"ColumnDataSource\"},{\"attributes\":{\"bottom\":{\"value\":0},\"fill_alpha\":{\"value\":0.4},\"fill_color\":{\"value\":\"#fc4f30\"},\"hatch_alpha\":{\"value\":0.4},\"hatch_color\":{\"value\":\"#fc4f30\"},\"hatch_scale\":{\"value\":12.0},\"hatch_weight\":{\"value\":1.0},\"left\":{\"field\":\"left\"},\"line_alpha\":{\"value\":0.4},\"line_cap\":{\"value\":\"butt\"},\"line_color\":{\"value\":\"black\"},\"line_dash\":{\"value\":[]},\"line_dash_offset\":{\"value\":0},\"line_join\":{\"value\":\"bevel\"},\"line_width\":{\"value\":1},\"right\":{\"field\":\"right\"},\"top\":{\"field\":\"top\"}},\"id\":\"1473\",\"type\":\"Quad\"},{\"attributes\":{\"bottom\":{\"value\":0},\"fill_alpha\":{\"value\":0.4},\"fill_color\":{\"value\":\"#9467bd\"},\"hatch_alpha\":{\"value\":0.1},\"hatch_color\":{\"value\":\"#9467bd\"},\"left\":{\"field\":\"left\"},\"line_alpha\":{\"value\":0.4},\"right\":{\"field\":\"right\"},\"top\":{\"field\":\"top\"}},\"id\":\"1586\",\"type\":\"Quad\"},{\"attributes\":{},\"id\":\"1032\",\"type\":\"WheelZoomTool\"},{\"attributes\":{\"label\":{\"value\":\"Current\"},\"renderers\":[{\"id\":\"1458\"}]},\"id\":\"1472\",\"type\":\"LegendItem\"},{\"attributes\":{\"label\":{\"value\":\"Late (31-120 days)\"},\"renderers\":[{\"id\":\"1588\"}]},\"id\":\"1612\",\"type\":\"LegendItem\"},{\"attributes\":{\"coordinates\":null,\"group\":null,\"text\":\"Bank 1, Installment by Loan Status\",\"text_color\":\"black\",\"text_font_size\":\"12pt\"},\"id\":\"1014\",\"type\":\"Title\"},{\"attributes\":{\"bottom\":{\"value\":0},\"fill_alpha\":{\"value\":0.4},\"fill_color\":{\"value\":\"#30a2da\"},\"hatch_alpha\":{\"value\":0.1},\"hatch_color\":{\"value\":\"#30a2da\"},\"left\":{\"field\":\"left\"},\"line_alpha\":{\"value\":0.4},\"right\":{\"field\":\"right\"},\"top\":{\"field\":\"top\"}},\"id\":\"1435\",\"type\":\"Quad\"},{\"attributes\":{\"bottom\":{\"value\":0},\"fill_alpha\":{\"value\":0.4},\"fill_color\":{\"value\":\"#6d904f\"},\"hatch_alpha\":{\"value\":0.4},\"hatch_color\":{\"value\":\"#6d904f\"},\"hatch_scale\":{\"value\":12.0},\"hatch_weight\":{\"value\":1.0},\"left\":{\"field\":\"left\"},\"line_alpha\":{\"value\":0.4},\"line_cap\":{\"value\":\"butt\"},\"line_color\":{\"value\":\"black\"},\"line_dash\":{\"value\":[]},\"line_dash_offset\":{\"value\":0},\"line_join\":{\"value\":\"bevel\"},\"line_width\":{\"value\":1},\"right\":{\"field\":\"right\"},\"top\":{\"field\":\"top\"}},\"id\":\"1141\",\"type\":\"Quad\"},{\"attributes\":{},\"id\":\"1475\",\"type\":\"Selection\"},{\"attributes\":{\"bottom\":{\"value\":0},\"fill_alpha\":{\"value\":0.4},\"fill_color\":{\"value\":\"#8b8b8b\"},\"hatch_alpha\":{\"value\":0.4},\"hatch_color\":{\"value\":\"#8b8b8b\"},\"left\":{\"field\":\"left\"},\"line_alpha\":{\"value\":0.4},\"right\":{\"field\":\"right\"},\"top\":{\"field\":\"top\"}},\"id\":\"1145\",\"type\":\"Quad\"},{\"attributes\":{\"label\":{\"value\":\"Fully Paid\"},\"renderers\":[{\"id\":\"1122\"}]},\"id\":\"1140\",\"type\":\"LegendItem\"},{\"attributes\":{\"label\":{\"value\":\"Fully Paid\"},\"renderers\":[{\"id\":\"1504\"}]},\"id\":\"1522\",\"type\":\"LegendItem\"},{\"attributes\":{\"coordinates\":null,\"group\":null,\"text\":\"Bank 1, Loan Amount by Status\",\"text_color\":\"black\",\"text_font_size\":\"12pt\"},\"id\":\"1396\",\"type\":\"Title\"},{\"attributes\":{\"source\":{\"id\":\"1582\"}},\"id\":\"1589\",\"type\":\"CDSView\"},{\"attributes\":{\"bottom\":{\"value\":0},\"fill_alpha\":{\"value\":0.4},\"fill_color\":{\"value\":\"#30a2da\"},\"hatch_alpha\":{\"value\":0.4},\"hatch_color\":{\"value\":\"#30a2da\"},\"left\":{\"field\":\"left\"},\"line_alpha\":{\"value\":0.4},\"right\":{\"field\":\"right\"},\"top\":{\"field\":\"top\"}},\"id\":\"1052\",\"type\":\"Quad\"},{\"attributes\":{\"bottom\":{\"value\":0},\"fill_alpha\":{\"value\":0.4},\"fill_color\":{\"value\":\"#e5ae38\"},\"hatch_alpha\":{\"value\":0.1},\"hatch_color\":{\"value\":\"#e5ae38\"},\"left\":{\"field\":\"left\"},\"line_alpha\":{\"value\":0.4},\"right\":{\"field\":\"right\"},\"top\":{\"field\":\"top\"}},\"id\":\"1478\",\"type\":\"Quad\"},{\"attributes\":{\"axis\":{\"id\":\"1022\"},\"coordinates\":null,\"grid_line_color\":null,\"group\":null,\"ticker\":null},\"id\":\"1025\",\"type\":\"Grid\"},{\"attributes\":{\"bottom\":{\"value\":0},\"fill_alpha\":{\"value\":0.4},\"fill_color\":{\"value\":\"#6d904f\"},\"hatch_alpha\":{\"value\":0.1},\"hatch_color\":{\"value\":\"#6d904f\"},\"left\":{\"field\":\"left\"},\"line_alpha\":{\"value\":0.4},\"right\":{\"field\":\"right\"},\"top\":{\"field\":\"top\"}},\"id\":\"1120\",\"type\":\"Quad\"},{\"attributes\":{\"bottom\":{\"value\":0},\"fill_alpha\":{\"value\":0.4},\"fill_color\":{\"value\":\"#30a2da\"},\"hatch_alpha\":{\"value\":0.4},\"hatch_color\":{\"value\":\"#30a2da\"},\"left\":{\"field\":\"left\"},\"line_alpha\":{\"value\":0.4},\"right\":{\"field\":\"right\"},\"top\":{\"field\":\"top\"}},\"id\":\"1434\",\"type\":\"Quad\"},{\"attributes\":{\"bottom\":{\"value\":0},\"fill_alpha\":{\"value\":0.2},\"fill_color\":{\"value\":\"#9467bd\"},\"hatch_alpha\":{\"value\":0.2},\"hatch_color\":{\"value\":\"#9467bd\"},\"left\":{\"field\":\"left\"},\"line_alpha\":{\"value\":0.2},\"right\":{\"field\":\"right\"},\"top\":{\"field\":\"top\"}},\"id\":\"1587\",\"type\":\"Quad\"},{\"attributes\":{\"source\":{\"id\":\"1116\"}},\"id\":\"1123\",\"type\":\"CDSView\"},{\"attributes\":{\"source\":{\"id\":\"1452\"}},\"id\":\"1459\",\"type\":\"CDSView\"},{\"attributes\":{},\"id\":\"1429\",\"type\":\"BasicTickFormatter\"},{\"attributes\":{},\"id\":\"1469\",\"type\":\"UnionRenderers\"},{\"attributes\":{\"children\":[{\"id\":\"1003\"},{\"id\":\"1817\"},{\"id\":\"2214\"}],\"margin\":[0,0,0,0],\"name\":\"Row02647\",\"tags\":[\"embedded\"]},\"id\":\"1002\",\"type\":\"Row\"},{\"attributes\":{\"source\":{\"id\":\"1070\"}},\"id\":\"1077\",\"type\":\"CDSView\"},{\"attributes\":{\"children\":[{\"id\":\"1816\"},{\"id\":\"1814\"}]},\"id\":\"1817\",\"type\":\"Column\"},{\"attributes\":{\"margin\":[5,5,5,5],\"name\":\"HSpacer02651\",\"sizing_mode\":\"stretch_width\"},\"id\":\"1003\",\"type\":\"Spacer\"},{\"attributes\":{\"coordinates\":null,\"data_source\":{\"id\":\"1452\"},\"glyph\":{\"id\":\"1455\"},\"group\":null,\"hover_glyph\":null,\"muted_glyph\":{\"id\":\"1457\"},\"nonselection_glyph\":{\"id\":\"1456\"},\"selection_glyph\":{\"id\":\"1473\"},\"view\":{\"id\":\"1459\"}},\"id\":\"1458\",\"type\":\"GlyphRenderer\"},{\"attributes\":{\"axis_label\":\"Counts\",\"coordinates\":null,\"formatter\":{\"id\":\"1047\"},\"group\":null,\"major_label_policy\":{\"id\":\"1048\"},\"ticker\":{\"id\":\"1027\"}},\"id\":\"1026\",\"type\":\"LinearAxis\"},{\"attributes\":{\"end\":73438.2,\"reset_end\":73438.2,\"reset_start\":0.0,\"tags\":[[[\"loan_amnt_count\",\"Count\",null]]]},\"id\":\"1387\",\"type\":\"Range1d\"},{\"attributes\":{},\"id\":\"1400\",\"type\":\"LinearScale\"},{\"attributes\":{\"bottom\":{\"value\":0},\"fill_alpha\":{\"value\":0.2},\"fill_color\":{\"value\":\"#6d904f\"},\"hatch_alpha\":{\"value\":0.2},\"hatch_color\":{\"value\":\"#6d904f\"},\"left\":{\"field\":\"left\"},\"line_alpha\":{\"value\":0.2},\"right\":{\"field\":\"right\"},\"top\":{\"field\":\"top\"}},\"id\":\"1121\",\"type\":\"Quad\"},{\"attributes\":{\"toolbar\":{\"id\":\"1815\"},\"toolbar_location\":\"above\"},\"id\":\"1816\",\"type\":\"ToolbarBox\"},{\"attributes\":{},\"id\":\"1027\",\"type\":\"BasicTicker\"},{\"attributes\":{\"callback\":null,\"renderers\":[{\"id\":\"1055\"},{\"id\":\"1076\"},{\"id\":\"1098\"},{\"id\":\"1122\"},{\"id\":\"1148\"},{\"id\":\"1176\"},{\"id\":\"1206\"}],\"tags\":[\"hv_created\"],\"tooltips\":[[\"loan_status\",\"@{loan_status}\"],[\"installment\",\"@{installment}\"],[\"Count\",\"@{installment_count}\"]]},\"id\":\"1006\",\"type\":\"HoverTool\"},{\"attributes\":{\"bottom\":{\"value\":0},\"fill_alpha\":{\"value\":0.4},\"fill_color\":{\"value\":\"#30a2da\"},\"hatch_alpha\":{\"value\":0.4},\"hatch_color\":{\"value\":\"#30a2da\"},\"hatch_scale\":{\"value\":12.0},\"hatch_weight\":{\"value\":1.0},\"left\":{\"field\":\"left\"},\"line_alpha\":{\"value\":0.4},\"line_cap\":{\"value\":\"butt\"},\"line_color\":{\"value\":\"black\"},\"line_dash\":{\"value\":[]},\"line_dash_offset\":{\"value\":0},\"line_join\":{\"value\":\"bevel\"},\"line_width\":{\"value\":1},\"right\":{\"field\":\"right\"},\"top\":{\"field\":\"top\"}},\"id\":\"1069\",\"type\":\"Quad\"},{\"attributes\":{\"bottom\":{\"value\":0},\"fill_alpha\":{\"value\":0.4},\"fill_color\":{\"value\":\"#6d904f\"},\"hatch_alpha\":{\"value\":0.4},\"hatch_color\":{\"value\":\"#6d904f\"},\"hatch_scale\":{\"value\":12.0},\"hatch_weight\":{\"value\":1.0},\"left\":{\"field\":\"left\"},\"line_alpha\":{\"value\":0.4},\"line_cap\":{\"value\":\"butt\"},\"line_color\":{\"value\":\"black\"},\"line_dash\":{\"value\":[]},\"line_dash_offset\":{\"value\":0},\"line_join\":{\"value\":\"bevel\"},\"line_width\":{\"value\":1},\"right\":{\"field\":\"right\"},\"top\":{\"field\":\"top\"}},\"id\":\"1523\",\"type\":\"Quad\"},{\"attributes\":{},\"id\":\"1047\",\"type\":\"BasicTickFormatter\"},{\"attributes\":{},\"id\":\"1409\",\"type\":\"BasicTicker\"},{\"attributes\":{},\"id\":\"1137\",\"type\":\"UnionRenderers\"},{\"attributes\":{},\"id\":\"1023\",\"type\":\"BasicTicker\"},{\"attributes\":{\"bottom\":{\"value\":0},\"fill_alpha\":{\"value\":0.4},\"fill_color\":{\"value\":\"#e5ae38\"},\"hatch_alpha\":{\"value\":0.4},\"hatch_color\":{\"value\":\"#e5ae38\"},\"left\":{\"field\":\"left\"},\"line_alpha\":{\"value\":0.4},\"right\":{\"field\":\"right\"},\"top\":{\"field\":\"top\"}},\"id\":\"1477\",\"type\":\"Quad\"},{\"attributes\":{\"axis_label\":\"Installment\",\"coordinates\":null,\"formatter\":{\"id\":\"1044\"},\"group\":null,\"major_label_policy\":{\"id\":\"1045\"},\"ticker\":{\"id\":\"1023\"}},\"id\":\"1022\",\"type\":\"LinearAxis\"},{\"attributes\":{\"data\":{\"installment\":{\"__ndarray__\":\"UpYhjnURP0DdtYR80EtQQCUGgZVD01hANqs+V1utYEBa07zjFPFkQH77OnDONGlAoiO5/Id4bUDjpZvEIN5wQPW52or9/3JAB84ZUdohdUAZ4lgXt0N3QCv2l92TZXlAPQrXo3CHe0BPHhZqTal9QGEyVTAqy39AOiNKe4P2gEBCrWnecQeCQEw3iUFgGINAVMGopE4phEBeS8gHPTqFQGbV52orS4ZAcF8Hzhlch0B46SYxCG2IQIJzRpT2fYlAiv1l9+SOikCUh4Va05+LQJwRpb3BsIxAppvEILDBjUCuJeSDntKOQLivA+eM449A4JwRpT16kEDlYaHWtAKRQOkmMQgsi5FA7uvAOaMTkkDysFBrGpySQPd14JyRJJNA+zpwzgitk0AAAAAAgDWUQATFjzH3vZRACYofY25GlUANT6+U5c6VQBIUP8ZcV5ZAFtnO99PflkAbnl4pS2iXQB9j7lrC8JdAJCh+jDl5mEAo7Q2+sAGZQC2yne8niplAMXctIZ8SmkA2PL1SFpuaQA==\",\"dtype\":\"float64\",\"order\":\"little\",\"shape\":[50]},\"installment_count\":[3,31,37,44,82,82,91,131,117,159,144,110,74,115,94,88,69,75,59,76,49,59,52,40,45,45,32,38,29,12,19,23,12,10,18,11,11,11,7,1,5,2,0,1,0,0,0,0,0,0],\"left\":{\"__ndarray__\":\"hetRuB4FLEBxGw3gLRBIQAHeAgmKj1RASS7/If0WXUBIv30dOM9iQGzn+6nxEmdAkA96NqtWa0C0N/jCZJpvQOwvuycP73FA/kP67esQdEAQWDm0yDJ2QCJseHqlVHhANIC3QIJ2ekBGlPYGX5h8QFioNc07un5ANV66SQxugEA+6Nms+n6BQEdy+Q/pj4JAUPwYc9egg0BZhjjWxbGEQGIQWDm0woVAa5p3nKLThkB0JJf/kOSHQH2utmJ/9YhAhjjWxW0GikCPwvUoXBeLQJhMFYxKKIxAodY07zg5jUCqYFRSJ0qOQLPqc7UVW49AXrpJDAI2kEBjf9k9eb6QQGdEaW/wRpFAawn5oGfPkUBwzojS3leSQHWTGARW4JJAeVioNc1ok0B9HThnRPGTQILix5i7eZRAh6dXyjIClUCLbOf7qYqVQI8xdy0hE5ZAlPYGX5iblkCZu5aQDySXQJ2AJsKGrJdAoUW28/00mECmCkYldb2YQKvP1VbsRZlAr5RliGPOmUCzWfW52laaQA==\",\"dtype\":\"float64\",\"order\":\"little\",\"shape\":[50]},\"loan_status\":[\"Late (16-30 days)\",\"Late (16-30 days)\",\"Late (16-30 days)\",\"Late (16-30 days)\",\"Late (16-30 days)\",\"Late (16-30 days)\",\"Late (16-30 days)\",\"Late (16-30 days)\",\"Late (16-30 days)\",\"Late (16-30 days)\",\"Late (16-30 days)\",\"Late (16-30 days)\",\"Late (16-30 days)\",\"Late (16-30 days)\",\"Late (16-30 days)\",\"Late (16-30 days)\",\"Late (16-30 days)\",\"Late (16-30 days)\",\"Late (16-30 days)\",\"Late (16-30 days)\",\"Late (16-30 days)\",\"Late (16-30 days)\",\"Late (16-30 days)\",\"Late (16-30 days)\",\"Late (16-30 days)\",\"Late (16-30 days)\",\"Late (16-30 days)\",\"Late (16-30 days)\",\"Late (16-30 days)\",\"Late (16-30 days)\",\"Late (16-30 days)\",\"Late (16-30 days)\",\"Late (16-30 days)\",\"Late (16-30 days)\",\"Late (16-30 days)\",\"Late (16-30 days)\",\"Late (16-30 days)\",\"Late (16-30 days)\",\"Late (16-30 days)\",\"Late (16-30 days)\",\"Late (16-30 days)\",\"Late (16-30 days)\",\"Late (16-30 days)\",\"Late (16-30 days)\",\"Late (16-30 days)\",\"Late (16-30 days)\",\"Late (16-30 days)\",\"Late (16-30 days)\",\"Late (16-30 days)\",\"Late (16-30 days)\"],\"right\":{\"__ndarray__\":\"cRsN4C0QSEAB3gIJio9UQEku/yH9Fl1ASL99HTjPYkBs5/up8RJnQJAPejarVmtAtDf4wmSab0DsL7snD+9xQP5D+u3rEHRAEFg5tMgydkAibHh6pVR4QDSAt0CCdnpARpT2Bl+YfEBYqDXNO7p+QDVeukkMboBAPujZrPp+gUBHcvkP6Y+CQFD8GHPXoINAWYY41sWxhEBiEFg5tMKFQGuad5yi04ZAdCSX/5Dkh0B9rrZif/WIQIY41sVtBopAj8L1KFwXi0CYTBWMSiiMQKHWNO84OY1AqmBUUidKjkCz6nO1FVuPQF66SQwCNpBAY3/ZPXm+kEBnRGlv8EaRQGsJ+aBnz5FAcM6I0t5XkkB1kxgEVuCSQHlYqDXNaJNAfR04Z0Txk0CC4seYu3mUQIenV8oyApVAi2zn+6mKlUCPMXctIROWQJT2Bl+Ym5ZAmbuWkA8kl0CdgCbChqyXQKFFtvP9NJhApgpGJXW9mECrz9VW7EWZQK+UZYhjzplAs1n1udpWmkC4HoXrUd+aQA==\",\"dtype\":\"float64\",\"order\":\"little\",\"shape\":[50]},\"top\":[3,31,37,44,82,82,91,131,117,159,144,110,74,115,94,88,69,75,59,76,49,59,52,40,45,45,32,38,29,12,19,23,12,10,18,11,11,11,7,1,5,2,0,1,0,0,0,0,0,0]},\"selected\":{\"id\":\"1171\"},\"selection_policy\":{\"id\":\"1195\"}},\"id\":\"1170\",\"type\":\"ColumnDataSource\"},{\"attributes\":{\"coordinates\":null,\"data_source\":{\"id\":\"1474\"},\"glyph\":{\"id\":\"1477\"},\"group\":null,\"hover_glyph\":null,\"muted_glyph\":{\"id\":\"1479\"},\"nonselection_glyph\":{\"id\":\"1478\"},\"selection_glyph\":{\"id\":\"1497\"},\"view\":{\"id\":\"1481\"}},\"id\":\"1480\",\"type\":\"GlyphRenderer\"},{\"attributes\":{\"bottom\":{\"value\":0},\"fill_alpha\":{\"value\":0.4},\"fill_color\":{\"value\":\"#8b8b8b\"},\"hatch_alpha\":{\"value\":0.1},\"hatch_color\":{\"value\":\"#8b8b8b\"},\"left\":{\"field\":\"left\"},\"line_alpha\":{\"value\":0.4},\"right\":{\"field\":\"right\"},\"top\":{\"field\":\"top\"}},\"id\":\"1146\",\"type\":\"Quad\"},{\"attributes\":{\"data\":{\"left\":{\"__ndarray__\":\"AAAAAABAj0AAAAAAAPihQAAAAAAAIKxAAAAAAAAks0AAAAAAADi4QAAAAAAATL1AAAAAAAAwwUAAAAAAALrDQAAAAAAARMZAAAAAAADOyEAAAAAAAFjLQAAAAAAA4s1AAAAAAAA20EAAAAAAAHvRQAAAAAAAwNJAAAAAAAAF1EAAAAAAAErVQAAAAAAAj9ZAAAAAAADU10AAAAAAABnZQAAAAAAAXtpAAAAAAACj20AAAAAAAOjcQAAAAAAALd5AAAAAAABy30AAAAAAgFvgQAAAAAAA/uBAAAAAAICg4UAAAAAAAEPiQAAAAACA5eJA\",\"dtype\":\"float64\",\"order\":\"little\",\"shape\":[30]},\"loan_amnt\":{\"__ndarray__\":\"AAAAAADImUAAAAAAAAynQAAAAAAAmrBAAAAAAACutUAAAAAAAMK6QAAAAAAA1r9AAAAAAAB1wkAAAAAAAP/EQAAAAAAAicdAAAAAAAATykAAAAAAAJ3MQAAAAAAAJ89AAAAAAIDY0EAAAAAAgB3SQAAAAACAYtNAAAAAAICn1EAAAAAAgOzVQAAAAACAMddAAAAAAIB22EAAAAAAgLvZQAAAAACAANtAAAAAAIBF3EAAAAAAgIrdQAAAAACAz95AAAAAAEAK4EAAAAAAwKzgQAAAAABAT+FAAAAAAMDx4UAAAAAAQJTiQAAAAADANuNA\",\"dtype\":\"float64\",\"order\":\"little\",\"shape\":[30]},\"loan_amnt_count\":[163,268,305,722,329,492,1223,337,723,223,1012,590,182,380,1020,253,181,498,512,92,245,59,456,173,44,50,684,9,15,283],\"loan_status\":[\"Late (31-120 days)\",\"Late (31-120 days)\",\"Late (31-120 days)\",\"Late (31-120 days)\",\"Late (31-120 days)\",\"Late (31-120 days)\",\"Late (31-120 days)\",\"Late (31-120 days)\",\"Late (31-120 days)\",\"Late (31-120 days)\",\"Late (31-120 days)\",\"Late (31-120 days)\",\"Late (31-120 days)\",\"Late (31-120 days)\",\"Late (31-120 days)\",\"Late (31-120 days)\",\"Late (31-120 days)\",\"Late (31-120 days)\",\"Late (31-120 days)\",\"Late (31-120 days)\",\"Late (31-120 days)\",\"Late (31-120 days)\",\"Late (31-120 days)\",\"Late (31-120 days)\",\"Late (31-120 days)\",\"Late (31-120 days)\",\"Late (31-120 days)\",\"Late (31-120 days)\",\"Late (31-120 days)\",\"Late (31-120 days)\"],\"right\":{\"__ndarray__\":\"AAAAAAD4oUAAAAAAACCsQAAAAAAAJLNAAAAAAAA4uEAAAAAAAEy9QAAAAAAAMMFAAAAAAAC6w0AAAAAAAETGQAAAAAAAzshAAAAAAABYy0AAAAAAAOLNQAAAAAAANtBAAAAAAAB70UAAAAAAAMDSQAAAAAAABdRAAAAAAABK1UAAAAAAAI/WQAAAAAAA1NdAAAAAAAAZ2UAAAAAAAF7aQAAAAAAAo9tAAAAAAADo3EAAAAAAAC3eQAAAAAAAct9AAAAAAIBb4EAAAAAAAP7gQAAAAACAoOFAAAAAAABD4kAAAAAAgOXiQAAAAAAAiONA\",\"dtype\":\"float64\",\"order\":\"little\",\"shape\":[30]},\"top\":[163,268,305,722,329,492,1223,337,723,223,1012,590,182,380,1020,253,181,498,512,92,245,59,456,173,44,50,684,9,15,283]},\"selected\":{\"id\":\"1583\"},\"selection_policy\":{\"id\":\"1609\"}},\"id\":\"1582\",\"type\":\"ColumnDataSource\"},{\"attributes\":{\"bottom\":{\"value\":0},\"fill_alpha\":{\"value\":0.2},\"fill_color\":{\"value\":\"#8b8b8b\"},\"hatch_alpha\":{\"value\":0.2},\"hatch_color\":{\"value\":\"#8b8b8b\"},\"left\":{\"field\":\"left\"},\"line_alpha\":{\"value\":0.2},\"right\":{\"field\":\"right\"},\"top\":{\"field\":\"top\"}},\"id\":\"1147\",\"type\":\"Quad\"},{\"attributes\":{\"bottom\":{\"value\":0},\"fill_alpha\":{\"value\":0.2},\"fill_color\":{\"value\":\"#e5ae38\"},\"hatch_alpha\":{\"value\":0.2},\"hatch_color\":{\"value\":\"#e5ae38\"},\"left\":{\"field\":\"left\"},\"line_alpha\":{\"value\":0.2},\"right\":{\"field\":\"right\"},\"top\":{\"field\":\"top\"}},\"id\":\"1479\",\"type\":\"Quad\"},{\"attributes\":{\"axis\":{\"id\":\"1404\"},\"coordinates\":null,\"grid_line_color\":null,\"group\":null,\"ticker\":null},\"id\":\"1407\",\"type\":\"Grid\"},{\"attributes\":{},\"id\":\"1117\",\"type\":\"Selection\"},{\"attributes\":{},\"id\":\"1020\",\"type\":\"LinearScale\"},{\"attributes\":{\"axis\":{\"id\":\"1026\"},\"coordinates\":null,\"dimension\":1,\"grid_line_color\":null,\"group\":null,\"ticker\":null},\"id\":\"1029\",\"type\":\"Grid\"},{\"attributes\":{\"toolbars\":[{\"id\":\"1036\"},{\"id\":\"1418\"}],\"tools\":[{\"id\":\"1006\"},{\"id\":\"1030\"},{\"id\":\"1031\"},{\"id\":\"1032\"},{\"id\":\"1033\"},{\"id\":\"1034\"},{\"id\":\"1388\"},{\"id\":\"1412\"},{\"id\":\"1413\"},{\"id\":\"1414\"},{\"id\":\"1415\"},{\"id\":\"1416\"}]},\"id\":\"1815\",\"type\":\"ProxyToolbar\"},{\"attributes\":{},\"id\":\"1018\",\"type\":\"LinearScale\"},{\"attributes\":{},\"id\":\"1402\",\"type\":\"LinearScale\"},{\"attributes\":{\"axis_label\":\"Counts\",\"coordinates\":null,\"formatter\":{\"id\":\"1429\"},\"group\":null,\"major_label_policy\":{\"id\":\"1430\"},\"ticker\":{\"id\":\"1409\"}},\"id\":\"1408\",\"type\":\"LinearAxis\"},{\"attributes\":{\"data\":{\"left\":{\"__ndarray__\":\"AAAAAABAj0AAAAAAAPihQAAAAAAAIKxAAAAAAAAks0AAAAAAADi4QAAAAAAATL1AAAAAAAAwwUAAAAAAALrDQAAAAAAARMZAAAAAAADOyEAAAAAAAFjLQAAAAAAA4s1AAAAAAAA20EAAAAAAAHvRQAAAAAAAwNJAAAAAAAAF1EAAAAAAAErVQAAAAAAAj9ZAAAAAAADU10AAAAAAABnZQAAAAAAAXtpAAAAAAACj20AAAAAAAOjcQAAAAAAALd5AAAAAAABy30AAAAAAgFvgQAAAAAAA/uBAAAAAAICg4UAAAAAAAEPiQAAAAACA5eJA\",\"dtype\":\"float64\",\"order\":\"little\",\"shape\":[30]},\"loan_amnt\":{\"__ndarray__\":\"AAAAAADImUAAAAAAAAynQAAAAAAAmrBAAAAAAACutUAAAAAAAMK6QAAAAAAA1r9AAAAAAAB1wkAAAAAAAP/EQAAAAAAAicdAAAAAAAATykAAAAAAAJ3MQAAAAAAAJ89AAAAAAIDY0EAAAAAAgB3SQAAAAACAYtNAAAAAAICn1EAAAAAAgOzVQAAAAACAMddAAAAAAIB22EAAAAAAgLvZQAAAAACAANtAAAAAAIBF3EAAAAAAgIrdQAAAAACAz95AAAAAAEAK4EAAAAAAwKzgQAAAAABAT+FAAAAAAMDx4UAAAAAAQJTiQAAAAADANuNA\",\"dtype\":\"float64\",\"order\":\"little\",\"shape\":[30]},\"loan_amnt_count\":[0,2,1,2,0,0,5,1,1,0,0,1,1,0,3,0,0,0,1,0,1,0,1,0,0,0,1,0,0,0],\"loan_status\":[\"Default\",\"Default\",\"Default\",\"Default\",\"Default\",\"Default\",\"Default\",\"Default\",\"Default\",\"Default\",\"Default\",\"Default\",\"Default\",\"Default\",\"Default\",\"Default\",\"Default\",\"Default\",\"Default\",\"Default\",\"Default\",\"Default\",\"Default\",\"Default\",\"Default\",\"Default\",\"Default\",\"Default\",\"Default\",\"Default\"],\"right\":{\"__ndarray__\":\"AAAAAAD4oUAAAAAAACCsQAAAAAAAJLNAAAAAAAA4uEAAAAAAAEy9QAAAAAAAMMFAAAAAAAC6w0AAAAAAAETGQAAAAAAAzshAAAAAAABYy0AAAAAAAOLNQAAAAAAANtBAAAAAAAB70UAAAAAAAMDSQAAAAAAABdRAAAAAAABK1UAAAAAAAI/WQAAAAAAA1NdAAAAAAAAZ2UAAAAAAAF7aQAAAAAAAo9tAAAAAAADo3EAAAAAAAC3eQAAAAAAAct9AAAAAAIBb4EAAAAAAAP7gQAAAAACAoOFAAAAAAABD4kAAAAAAgOXiQAAAAAAAiONA\",\"dtype\":\"float64\",\"order\":\"little\",\"shape\":[30]},\"top\":[0,2,1,2,0,0,5,1,1,0,0,1,1,0,3,0,0,0,1,0,1,0,1,0,0,0,1,0,0,0]},\"selected\":{\"id\":\"1475\"},\"selection_policy\":{\"id\":\"1493\"}},\"id\":\"1474\",\"type\":\"ColumnDataSource\"},{\"attributes\":{\"bottom\":{\"value\":0},\"fill_alpha\":{\"value\":0.4},\"fill_color\":{\"value\":\"#17becf\"},\"hatch_alpha\":{\"value\":0.4},\"hatch_color\":{\"value\":\"#17becf\"},\"hatch_scale\":{\"value\":12.0},\"hatch_weight\":{\"value\":1.0},\"left\":{\"field\":\"left\"},\"line_alpha\":{\"value\":0.4},\"line_cap\":{\"value\":\"butt\"},\"line_color\":{\"value\":\"black\"},\"line_dash\":{\"value\":[]},\"line_dash_offset\":{\"value\":0},\"line_join\":{\"value\":\"bevel\"},\"line_width\":{\"value\":1},\"right\":{\"field\":\"right\"},\"top\":{\"field\":\"top\"}},\"id\":\"1581\",\"type\":\"Quad\"},{\"attributes\":{},\"id\":\"1143\",\"type\":\"Selection\"},{\"attributes\":{\"tools\":[{\"id\":\"1006\"},{\"id\":\"1030\"},{\"id\":\"1031\"},{\"id\":\"1032\"},{\"id\":\"1033\"},{\"id\":\"1034\"}]},\"id\":\"1036\",\"type\":\"Toolbar\"},{\"attributes\":{\"axis_label\":\"Loan Amount\",\"coordinates\":null,\"formatter\":{\"id\":\"1426\"},\"group\":null,\"major_label_policy\":{\"id\":\"1427\"},\"ticker\":{\"id\":\"1405\"}},\"id\":\"1404\",\"type\":\"LinearAxis\"},{\"attributes\":{\"source\":{\"id\":\"1474\"}},\"id\":\"1481\",\"type\":\"CDSView\"},{\"attributes\":{\"bottom\":{\"value\":0},\"fill_alpha\":{\"value\":0.4},\"fill_color\":{\"value\":\"#8b8b8b\"},\"hatch_alpha\":{\"value\":0.1},\"hatch_color\":{\"value\":\"#8b8b8b\"},\"left\":{\"field\":\"left\"},\"line_alpha\":{\"value\":0.4},\"right\":{\"field\":\"right\"},\"top\":{\"field\":\"top\"}},\"id\":\"1528\",\"type\":\"Quad\"},{\"attributes\":{\"data\":{\"installment\":{\"__ndarray__\":\"UpYhjnURP0DdtYR80EtQQCUGgZVD01hANqs+V1utYEBa07zjFPFkQH77OnDONGlAoiO5/Id4bUDjpZvEIN5wQPW52or9/3JAB84ZUdohdUAZ4lgXt0N3QCv2l92TZXlAPQrXo3CHe0BPHhZqTal9QGEyVTAqy39AOiNKe4P2gEBCrWnecQeCQEw3iUFgGINAVMGopE4phEBeS8gHPTqFQGbV52orS4ZAcF8Hzhlch0B46SYxCG2IQIJzRpT2fYlAiv1l9+SOikCUh4Va05+LQJwRpb3BsIxAppvEILDBjUCuJeSDntKOQLivA+eM449A4JwRpT16kEDlYaHWtAKRQOkmMQgsi5FA7uvAOaMTkkDysFBrGpySQPd14JyRJJNA+zpwzgitk0AAAAAAgDWUQATFjzH3vZRACYofY25GlUANT6+U5c6VQBIUP8ZcV5ZAFtnO99PflkAbnl4pS2iXQB9j7lrC8JdAJCh+jDl5mEAo7Q2+sAGZQC2yne8niplAMXctIZ8SmkA2PL1SFpuaQA==\",\"dtype\":\"float64\",\"order\":\"little\",\"shape\":[50]},\"installment_count\":[0,0,2,1,2,0,0,2,3,0,0,2,0,2,1,0,0,2,0,1,0,0,0,1,0,0,0,1,0,0,0,1,0,0,0,0,0,0,0,0,0,0,0,0,0,0,0,0,0,0],\"left\":{\"__ndarray__\":\"hetRuB4FLEBxGw3gLRBIQAHeAgmKj1RASS7/If0WXUBIv30dOM9iQGzn+6nxEmdAkA96NqtWa0C0N/jCZJpvQOwvuycP73FA/kP67esQdEAQWDm0yDJ2QCJseHqlVHhANIC3QIJ2ekBGlPYGX5h8QFioNc07un5ANV66SQxugEA+6Nms+n6BQEdy+Q/pj4JAUPwYc9egg0BZhjjWxbGEQGIQWDm0woVAa5p3nKLThkB0JJf/kOSHQH2utmJ/9YhAhjjWxW0GikCPwvUoXBeLQJhMFYxKKIxAodY07zg5jUCqYFRSJ0qOQLPqc7UVW49AXrpJDAI2kEBjf9k9eb6QQGdEaW/wRpFAawn5oGfPkUBwzojS3leSQHWTGARW4JJAeVioNc1ok0B9HThnRPGTQILix5i7eZRAh6dXyjIClUCLbOf7qYqVQI8xdy0hE5ZAlPYGX5iblkCZu5aQDySXQJ2AJsKGrJdAoUW28/00mECmCkYldb2YQKvP1VbsRZlAr5RliGPOmUCzWfW52laaQA==\",\"dtype\":\"float64\",\"order\":\"little\",\"shape\":[50]},\"loan_status\":[\"Default\",\"Default\",\"Default\",\"Default\",\"Default\",\"Default\",\"Default\",\"Default\",\"Default\",\"Default\",\"Default\",\"Default\",\"Default\",\"Default\",\"Default\",\"Default\",\"Default\",\"Default\",\"Default\",\"Default\",\"Default\",\"Default\",\"Default\",\"Default\",\"Default\",\"Default\",\"Default\",\"Default\",\"Default\",\"Default\",\"Default\",\"Default\",\"Default\",\"Default\",\"Default\",\"Default\",\"Default\",\"Default\",\"Default\",\"Default\",\"Default\",\"Default\",\"Default\",\"Default\",\"Default\",\"Default\",\"Default\",\"Default\",\"Default\",\"Default\"],\"right\":{\"__ndarray__\":\"cRsN4C0QSEAB3gIJio9UQEku/yH9Fl1ASL99HTjPYkBs5/up8RJnQJAPejarVmtAtDf4wmSab0DsL7snD+9xQP5D+u3rEHRAEFg5tMgydkAibHh6pVR4QDSAt0CCdnpARpT2Bl+YfEBYqDXNO7p+QDVeukkMboBAPujZrPp+gUBHcvkP6Y+CQFD8GHPXoINAWYY41sWxhEBiEFg5tMKFQGuad5yi04ZAdCSX/5Dkh0B9rrZif/WIQIY41sVtBopAj8L1KFwXi0CYTBWMSiiMQKHWNO84OY1AqmBUUidKjkCz6nO1FVuPQF66SQwCNpBAY3/ZPXm+kEBnRGlv8EaRQGsJ+aBnz5FAcM6I0t5XkkB1kxgEVuCSQHlYqDXNaJNAfR04Z0Txk0CC4seYu3mUQIenV8oyApVAi2zn+6mKlUCPMXctIROWQJT2Bl+Ym5ZAmbuWkA8kl0CdgCbChqyXQKFFtvP9NJhApgpGJXW9mECrz9VW7EWZQK+UZYhjzplAs1n1udpWmkC4HoXrUd+aQA==\",\"dtype\":\"float64\",\"order\":\"little\",\"shape\":[50]},\"top\":[0,0,2,1,2,0,0,2,3,0,0,2,0,2,1,0,0,2,0,1,0,0,0,1,0,0,0,1,0,0,0,1,0,0,0,0,0,0,0,0,0,0,0,0,0,0,0,0,0,0]},\"selected\":{\"id\":\"1093\"},\"selection_policy\":{\"id\":\"1111\"}},\"id\":\"1092\",\"type\":\"ColumnDataSource\"},{\"attributes\":{\"source\":{\"id\":\"1142\"}},\"id\":\"1149\",\"type\":\"CDSView\"},{\"attributes\":{\"bottom\":{\"value\":0},\"fill_alpha\":{\"value\":0.4},\"fill_color\":{\"value\":\"#30a2da\"},\"hatch_alpha\":{\"value\":0.1},\"hatch_color\":{\"value\":\"#30a2da\"},\"left\":{\"field\":\"left\"},\"line_alpha\":{\"value\":0.4},\"right\":{\"field\":\"right\"},\"top\":{\"field\":\"top\"}},\"id\":\"1053\",\"type\":\"Quad\"},{\"attributes\":{\"data\":{\"left\":{\"__ndarray__\":\"AAAAAABAj0AAAAAAAPihQAAAAAAAIKxAAAAAAAAks0AAAAAAADi4QAAAAAAATL1AAAAAAAAwwUAAAAAAALrDQAAAAAAARMZAAAAAAADOyEAAAAAAAFjLQAAAAAAA4s1AAAAAAAA20EAAAAAAAHvRQAAAAAAAwNJAAAAAAAAF1EAAAAAAAErVQAAAAAAAj9ZAAAAAAADU10AAAAAAABnZQAAAAAAAXtpAAAAAAACj20AAAAAAAOjcQAAAAAAALd5AAAAAAABy30AAAAAAgFvgQAAAAAAA/uBAAAAAAICg4UAAAAAAAEPiQAAAAACA5eJA\",\"dtype\":\"float64\",\"order\":\"little\",\"shape\":[30]},\"loan_amnt\":{\"__ndarray__\":\"AAAAAADImUAAAAAAAAynQAAAAAAAmrBAAAAAAACutUAAAAAAAMK6QAAAAAAA1r9AAAAAAAB1wkAAAAAAAP/EQAAAAAAAicdAAAAAAAATykAAAAAAAJ3MQAAAAAAAJ89AAAAAAIDY0EAAAAAAgB3SQAAAAACAYtNAAAAAAICn1EAAAAAAgOzVQAAAAACAMddAAAAAAIB22EAAAAAAgLvZQAAAAACAANtAAAAAAIBF3EAAAAAAgIrdQAAAAACAz95AAAAAAEAK4EAAAAAAwKzgQAAAAABAT+FAAAAAAMDx4UAAAAAAQJTiQAAAAADANuNA\",\"dtype\":\"float64\",\"order\":\"little\",\"shape\":[30]},\"loan_amnt_count\":[13707,21469,23536,57770,28645,39471,66762,18110,41966,13750,49990,22217,10642,19452,38751,11870,8682,18316,19020,3475,13544,2625,14188,3995,1760,1651,23961,151,177,2813],\"loan_status\":[\"Fully Paid\",\"Fully Paid\",\"Fully Paid\",\"Fully Paid\",\"Fully Paid\",\"Fully Paid\",\"Fully Paid\",\"Fully Paid\",\"Fully Paid\",\"Fully Paid\",\"Fully Paid\",\"Fully Paid\",\"Fully Paid\",\"Fully Paid\",\"Fully Paid\",\"Fully Paid\",\"Fully Paid\",\"Fully Paid\",\"Fully Paid\",\"Fully Paid\",\"Fully Paid\",\"Fully Paid\",\"Fully Paid\",\"Fully Paid\",\"Fully Paid\",\"Fully Paid\",\"Fully Paid\",\"Fully Paid\",\"Fully Paid\",\"Fully Paid\"],\"right\":{\"__ndarray__\":\"AAAAAAD4oUAAAAAAACCsQAAAAAAAJLNAAAAAAAA4uEAAAAAAAEy9QAAAAAAAMMFAAAAAAAC6w0AAAAAAAETGQAAAAAAAzshAAAAAAABYy0AAAAAAAOLNQAAAAAAANtBAAAAAAAB70UAAAAAAAMDSQAAAAAAABdRAAAAAAABK1UAAAAAAAI/WQAAAAAAA1NdAAAAAAAAZ2UAAAAAAAF7aQAAAAAAAo9tAAAAAAADo3EAAAAAAAC3eQAAAAAAAct9AAAAAAIBb4EAAAAAAAP7gQAAAAACAoOFAAAAAAABD4kAAAAAAgOXiQAAAAAAAiONA\",\"dtype\":\"float64\",\"order\":\"little\",\"shape\":[30]},\"top\":[13707,21469,23536,57770,28645,39471,66762,18110,41966,13750,49990,22217,10642,19452,38751,11870,8682,18316,19020,3475,13544,2625,14188,3995,1760,1651,23961,151,177,2813]},\"selected\":{\"id\":\"1499\"},\"selection_policy\":{\"id\":\"1519\"}},\"id\":\"1498\",\"type\":\"ColumnDataSource\"},{\"attributes\":{\"axis\":{\"id\":\"1408\"},\"coordinates\":null,\"dimension\":1,\"grid_line_color\":null,\"group\":null,\"ticker\":null},\"id\":\"1411\",\"type\":\"Grid\"},{\"attributes\":{\"coordinates\":null,\"data_source\":{\"id\":\"1582\"},\"glyph\":{\"id\":\"1585\"},\"group\":null,\"hover_glyph\":null,\"muted_glyph\":{\"id\":\"1587\"},\"nonselection_glyph\":{\"id\":\"1586\"},\"selection_glyph\":{\"id\":\"1613\"},\"view\":{\"id\":\"1589\"}},\"id\":\"1588\",\"type\":\"GlyphRenderer\"},{\"attributes\":{\"data\":{\"left\":{\"__ndarray__\":\"AAAAAABAj0AAAAAAAPihQAAAAAAAIKxAAAAAAAAks0AAAAAAADi4QAAAAAAATL1AAAAAAAAwwUAAAAAAALrDQAAAAAAARMZAAAAAAADOyEAAAAAAAFjLQAAAAAAA4s1AAAAAAAA20EAAAAAAAHvRQAAAAAAAwNJAAAAAAAAF1EAAAAAAAErVQAAAAAAAj9ZAAAAAAADU10AAAAAAABnZQAAAAAAAXtpAAAAAAACj20AAAAAAAOjcQAAAAAAALd5AAAAAAABy30AAAAAAgFvgQAAAAAAA/uBAAAAAAICg4UAAAAAAAEPiQAAAAACA5eJA\",\"dtype\":\"float64\",\"order\":\"little\",\"shape\":[30]},\"loan_amnt\":{\"__ndarray__\":\"AAAAAADImUAAAAAAAAynQAAAAAAAmrBAAAAAAACutUAAAAAAAMK6QAAAAAAA1r9AAAAAAAB1wkAAAAAAAP/EQAAAAAAAicdAAAAAAAATykAAAAAAAJ3MQAAAAAAAJ89AAAAAAIDY0EAAAAAAgB3SQAAAAACAYtNAAAAAAICn1EAAAAAAgOzVQAAAAACAMddAAAAAAIB22EAAAAAAgLvZQAAAAACAANtAAAAAAIBF3EAAAAAAgIrdQAAAAACAz95AAAAAAEAK4EAAAAAAwKzgQAAAAABAT+FAAAAAAMDx4UAAAAAAQJTiQAAAAADANuNA\",\"dtype\":\"float64\",\"order\":\"little\",\"shape\":[30]},\"loan_amnt_count\":[46,83,105,246,121,202,407,133,281,95,404,213,97,179,360,113,71,181,211,35,113,17,233,81,23,15,289,3,8,101],\"loan_status\":[\"In Grace Period\",\"In Grace Period\",\"In Grace Period\",\"In Grace Period\",\"In Grace Period\",\"In Grace Period\",\"In Grace Period\",\"In Grace Period\",\"In Grace Period\",\"In Grace Period\",\"In Grace Period\",\"In Grace Period\",\"In Grace Period\",\"In Grace Period\",\"In Grace Period\",\"In Grace Period\",\"In Grace Period\",\"In Grace Period\",\"In Grace Period\",\"In Grace Period\",\"In Grace Period\",\"In Grace Period\",\"In Grace Period\",\"In Grace Period\",\"In Grace Period\",\"In Grace Period\",\"In Grace Period\",\"In Grace Period\",\"In Grace Period\",\"In Grace Period\"],\"right\":{\"__ndarray__\":\"AAAAAAD4oUAAAAAAACCsQAAAAAAAJLNAAAAAAAA4uEAAAAAAAEy9QAAAAAAAMMFAAAAAAAC6w0AAAAAAAETGQAAAAAAAzshAAAAAAABYy0AAAAAAAOLNQAAAAAAANtBAAAAAAAB70UAAAAAAAMDSQAAAAAAABdRAAAAAAABK1UAAAAAAAI/WQAAAAAAA1NdAAAAAAAAZ2UAAAAAAAF7aQAAAAAAAo9tAAAAAAADo3EAAAAAAAC3eQAAAAAAAct9AAAAAAIBb4EAAAAAAAP7gQAAAAACAoOFAAAAAAABD4kAAAAAAgOXiQAAAAAAAiONA\",\"dtype\":\"float64\",\"order\":\"little\",\"shape\":[30]},\"top\":[46,83,105,246,121,202,407,133,281,95,404,213,97,179,360,113,71,181,211,35,113,17,233,81,23,15,289,3,8,101]},\"selected\":{\"id\":\"1525\"},\"selection_policy\":{\"id\":\"1547\"}},\"id\":\"1524\",\"type\":\"ColumnDataSource\"},{\"attributes\":{\"bottom\":{\"value\":0},\"fill_alpha\":{\"value\":0.4},\"fill_color\":{\"value\":\"#8b8b8b\"},\"hatch_alpha\":{\"value\":0.4},\"hatch_color\":{\"value\":\"#8b8b8b\"},\"left\":{\"field\":\"left\"},\"line_alpha\":{\"value\":0.4},\"right\":{\"field\":\"right\"},\"top\":{\"field\":\"top\"}},\"id\":\"1527\",\"type\":\"Quad\"},{\"attributes\":{\"bottom\":{\"value\":0},\"fill_alpha\":{\"value\":0.4},\"fill_color\":{\"value\":\"#8b8b8b\"},\"hatch_alpha\":{\"value\":0.4},\"hatch_color\":{\"value\":\"#8b8b8b\"},\"hatch_scale\":{\"value\":12.0},\"hatch_weight\":{\"value\":1.0},\"left\":{\"field\":\"left\"},\"line_alpha\":{\"value\":0.4},\"line_cap\":{\"value\":\"butt\"},\"line_color\":{\"value\":\"black\"},\"line_dash\":{\"value\":[]},\"line_dash_offset\":{\"value\":0},\"line_join\":{\"value\":\"bevel\"},\"line_width\":{\"value\":1},\"right\":{\"field\":\"right\"},\"top\":{\"field\":\"top\"}},\"id\":\"1551\",\"type\":\"Quad\"},{\"attributes\":{\"above\":[{\"id\":\"1067\"}],\"below\":[{\"id\":\"1022\"}],\"center\":[{\"id\":\"1025\"},{\"id\":\"1029\"}],\"left\":[{\"id\":\"1026\"}],\"margin\":null,\"min_border_bottom\":10,\"min_border_left\":10,\"min_border_right\":10,\"min_border_top\":10,\"renderers\":[{\"id\":\"1055\"},{\"id\":\"1076\"},{\"id\":\"1098\"},{\"id\":\"1122\"},{\"id\":\"1148\"},{\"id\":\"1176\"},{\"id\":\"1206\"}],\"sizing_mode\":\"fixed\",\"title\":{\"id\":\"1014\"},\"toolbar\":{\"id\":\"1036\"},\"toolbar_location\":null,\"width\":800,\"x_range\":{\"id\":\"1004\"},\"x_scale\":{\"id\":\"1018\"},\"y_range\":{\"id\":\"1005\"},\"y_scale\":{\"id\":\"1020\"}},\"id\":\"1013\",\"subtype\":\"Figure\",\"type\":\"Plot\"},{\"attributes\":{\"data\":{\"installment\":{\"__ndarray__\":\"UpYhjnURP0DdtYR80EtQQCUGgZVD01hANqs+V1utYEBa07zjFPFkQH77OnDONGlAoiO5/Id4bUDjpZvEIN5wQPW52or9/3JAB84ZUdohdUAZ4lgXt0N3QCv2l92TZXlAPQrXo3CHe0BPHhZqTal9QGEyVTAqy39AOiNKe4P2gEBCrWnecQeCQEw3iUFgGINAVMGopE4phEBeS8gHPTqFQGbV52orS4ZAcF8Hzhlch0B46SYxCG2IQIJzRpT2fYlAiv1l9+SOikCUh4Va05+LQJwRpb3BsIxAppvEILDBjUCuJeSDntKOQLivA+eM449A4JwRpT16kEDlYaHWtAKRQOkmMQgsi5FA7uvAOaMTkkDysFBrGpySQPd14JyRJJNA+zpwzgitk0AAAAAAgDWUQATFjzH3vZRACYofY25GlUANT6+U5c6VQBIUP8ZcV5ZAFtnO99PflkAbnl4pS2iXQB9j7lrC8JdAJCh+jDl5mEAo7Q2+sAGZQC2yne8niplAMXctIZ8SmkA2PL1SFpuaQA==\",\"dtype\":\"float64\",\"order\":\"little\",\"shape\":[50]},\"installment_count\":[50,127,227,211,444,414,551,779,641,927,708,530,396,606,470,485,378,343,365,331,229,264,264,218,207,186,177,119,128,73,92,95,72,80,78,68,43,72,29,18,12,2,4,6,1,2,0,0,0,1],\"left\":{\"__ndarray__\":\"hetRuB4FLEBxGw3gLRBIQAHeAgmKj1RASS7/If0WXUBIv30dOM9iQGzn+6nxEmdAkA96NqtWa0C0N/jCZJpvQOwvuycP73FA/kP67esQdEAQWDm0yDJ2QCJseHqlVHhANIC3QIJ2ekBGlPYGX5h8QFioNc07un5ANV66SQxugEA+6Nms+n6BQEdy+Q/pj4JAUPwYc9egg0BZhjjWxbGEQGIQWDm0woVAa5p3nKLThkB0JJf/kOSHQH2utmJ/9YhAhjjWxW0GikCPwvUoXBeLQJhMFYxKKIxAodY07zg5jUCqYFRSJ0qOQLPqc7UVW49AXrpJDAI2kEBjf9k9eb6QQGdEaW/wRpFAawn5oGfPkUBwzojS3leSQHWTGARW4JJAeVioNc1ok0B9HThnRPGTQILix5i7eZRAh6dXyjIClUCLbOf7qYqVQI8xdy0hE5ZAlPYGX5iblkCZu5aQDySXQJ2AJsKGrJdAoUW28/00mECmCkYldb2YQKvP1VbsRZlAr5RliGPOmUCzWfW52laaQA==\",\"dtype\":\"float64\",\"order\":\"little\",\"shape\":[50]},\"loan_status\":[\"Late (31-120 days)\",\"Late (31-120 days)\",\"Late (31-120 days)\",\"Late (31-120 days)\",\"Late (31-120 days)\",\"Late (31-120 days)\",\"Late (31-120 days)\",\"Late (31-120 days)\",\"Late (31-120 days)\",\"Late (31-120 days)\",\"Late (31-120 days)\",\"Late (31-120 days)\",\"Late (31-120 days)\",\"Late (31-120 days)\",\"Late (31-120 days)\",\"Late (31-120 days)\",\"Late (31-120 days)\",\"Late (31-120 days)\",\"Late (31-120 days)\",\"Late (31-120 days)\",\"Late (31-120 days)\",\"Late (31-120 days)\",\"Late (31-120 days)\",\"Late (31-120 days)\",\"Late (31-120 days)\",\"Late (31-120 days)\",\"Late (31-120 days)\",\"Late (31-120 days)\",\"Late (31-120 days)\",\"Late (31-120 days)\",\"Late (31-120 days)\",\"Late (31-120 days)\",\"Late (31-120 days)\",\"Late (31-120 days)\",\"Late (31-120 days)\",\"Late (31-120 days)\",\"Late (31-120 days)\",\"Late (31-120 days)\",\"Late (31-120 days)\",\"Late (31-120 days)\",\"Late (31-120 days)\",\"Late (31-120 days)\",\"Late (31-120 days)\",\"Late (31-120 days)\",\"Late (31-120 days)\",\"Late (31-120 days)\",\"Late (31-120 days)\",\"Late (31-120 days)\",\"Late (31-120 days)\",\"Late (31-120 days)\"],\"right\":{\"__ndarray__\":\"cRsN4C0QSEAB3gIJio9UQEku/yH9Fl1ASL99HTjPYkBs5/up8RJnQJAPejarVmtAtDf4wmSab0DsL7snD+9xQP5D+u3rEHRAEFg5tMgydkAibHh6pVR4QDSAt0CCdnpARpT2Bl+YfEBYqDXNO7p+QDVeukkMboBAPujZrPp+gUBHcvkP6Y+CQFD8GHPXoINAWYY41sWxhEBiEFg5tMKFQGuad5yi04ZAdCSX/5Dkh0B9rrZif/WIQIY41sVtBopAj8L1KFwXi0CYTBWMSiiMQKHWNO84OY1AqmBUUidKjkCz6nO1FVuPQF66SQwCNpBAY3/ZPXm+kEBnRGlv8EaRQGsJ+aBnz5FAcM6I0t5XkkB1kxgEVuCSQHlYqDXNaJNAfR04Z0Txk0CC4seYu3mUQIenV8oyApVAi2zn+6mKlUCPMXctIROWQJT2Bl+Ym5ZAmbuWkA8kl0CdgCbChqyXQKFFtvP9NJhApgpGJXW9mECrz9VW7EWZQK+UZYhjzplAs1n1udpWmkC4HoXrUd+aQA==\",\"dtype\":\"float64\",\"order\":\"little\",\"shape\":[50]},\"top\":[50,127,227,211,444,414,551,779,641,927,708,530,396,606,470,485,378,343,365,331,229,264,264,218,207,186,177,119,128,73,92,95,72,80,78,68,43,72,29,18,12,2,4,6,1,2,0,0,0,1]},\"selected\":{\"id\":\"1201\"},\"selection_policy\":{\"id\":\"1227\"}},\"id\":\"1200\",\"type\":\"ColumnDataSource\"},{\"attributes\":{},\"id\":\"1547\",\"type\":\"UnionRenderers\"},{\"attributes\":{},\"id\":\"1030\",\"type\":\"SaveTool\"},{\"attributes\":{},\"id\":\"1201\",\"type\":\"Selection\"},{\"attributes\":{},\"id\":\"1031\",\"type\":\"PanTool\"},{\"attributes\":{},\"id\":\"1427\",\"type\":\"AllLabels\"},{\"attributes\":{\"coordinates\":null,\"data_source\":{\"id\":\"1116\"},\"glyph\":{\"id\":\"1119\"},\"group\":null,\"hover_glyph\":null,\"muted_glyph\":{\"id\":\"1121\"},\"nonselection_glyph\":{\"id\":\"1120\"},\"selection_glyph\":{\"id\":\"1141\"},\"view\":{\"id\":\"1123\"}},\"id\":\"1122\",\"type\":\"GlyphRenderer\"},{\"attributes\":{},\"id\":\"1050\",\"type\":\"Selection\"},{\"attributes\":{\"coordinates\":null,\"data_source\":{\"id\":\"1070\"},\"glyph\":{\"id\":\"1073\"},\"group\":null,\"hover_glyph\":null,\"muted_glyph\":{\"id\":\"1075\"},\"nonselection_glyph\":{\"id\":\"1074\"},\"selection_glyph\":{\"id\":\"1091\"},\"view\":{\"id\":\"1077\"}},\"id\":\"1076\",\"type\":\"GlyphRenderer\"},{\"attributes\":{\"label\":{\"value\":\"In Grace Period\"},\"renderers\":[{\"id\":\"1530\"}]},\"id\":\"1550\",\"type\":\"LegendItem\"},{\"attributes\":{\"end\":46450.8,\"reset_end\":46450.8,\"reset_start\":0.0,\"tags\":[[[\"installment_count\",\"Count\",null]]]},\"id\":\"1005\",\"type\":\"Range1d\"},{\"attributes\":{\"overlay\":{\"id\":\"1035\"}},\"id\":\"1033\",\"type\":\"BoxZoomTool\"},{\"attributes\":{\"coordinates\":null,\"data_source\":{\"id\":\"1142\"},\"glyph\":{\"id\":\"1145\"},\"group\":null,\"hover_glyph\":null,\"muted_glyph\":{\"id\":\"1147\"},\"nonselection_glyph\":{\"id\":\"1146\"},\"selection_glyph\":{\"id\":\"1169\"},\"view\":{\"id\":\"1149\"}},\"id\":\"1148\",\"type\":\"GlyphRenderer\"}],\"root_ids\":[\"1002\"]},\"title\":\"Bokeh Application\",\"version\":\"2.4.2\"}};\n",
       "    var render_items = [{\"docid\":\"58336b36-b558-464d-8a5b-b25f2e0e7f06\",\"root_ids\":[\"1002\"],\"roots\":{\"1002\":\"6a3981cd-5348-4cf3-9566-cf7801188201\"}}];\n",
       "    root.Bokeh.embed.embed_items_notebook(docs_json, render_items);\n",
       "  }\n",
       "  if (root.Bokeh !== undefined && root.Bokeh.Panel !== undefined) {\n",
       "    embed_document(root);\n",
       "  } else {\n",
       "    var attempts = 0;\n",
       "    var timer = setInterval(function(root) {\n",
       "      if (root.Bokeh !== undefined && root.Bokeh.Panel !== undefined) {\n",
       "        clearInterval(timer);\n",
       "        embed_document(root);\n",
       "      } else if (document.readyState == \"complete\") {\n",
       "        attempts++;\n",
       "        if (attempts > 200) {\n",
       "          clearInterval(timer);\n",
       "          console.log(\"Bokeh: ERROR: Unable to run BokehJS code because BokehJS library is missing\");\n",
       "        }\n",
       "      }\n",
       "    }, 25, root)\n",
       "  }\n",
       "})(window);</script>"
      ],
      "text/plain": [
       ":Layout\n",
       "   .NdOverlay.I  :NdOverlay   [loan_status]\n",
       "      :Histogram   [installment]   (installment_count)\n",
       "   .NdOverlay.II :NdOverlay   [loan_status]\n",
       "      :Histogram   [loan_amnt]   (loan_amnt_count)"
      ]
     },
     "execution_count": 25,
     "metadata": {
      "application/vnd.holoviews_exec.v0+json": {
       "id": "1002"
      }
     },
     "output_type": "execute_result"
    }
   ],
   "source": [
    "bank1_installment = bank1_df.hvplot.hist(\n",
    "    y='installment', by='loan_status', subplots=False, \n",
    "    width=800, height=600, bins=50, alpha=0.4, \n",
    "    title='Bank 1, Installment by Loan Status', \n",
    "    xlabel='Installment', ylabel='Counts', legend='top'\n",
    ")\n",
    "\n",
    "bank1_loan_amnt = bank1_df.hvplot.hist(\n",
    "    y='loan_amnt', by='loan_status', subplots=False, \n",
    "    width=800, height=600, bins=30, alpha=0.4, \n",
    "    title='Bank 1, Loan Amount by Status', \n",
    "    xlabel='Loan Amount', ylabel='Counts', legend='top'\n",
    ")\n",
    "\n",
    "bank1_installment + bank1_loan_amnt"
   ]
  },
  {
   "cell_type": "code",
   "execution_count": 27,
   "id": "8395e28a-62f2-4754-8d64-bd668ebc3d52",
   "metadata": {
    "id": "8395e28a-62f2-4754-8d64-bd668ebc3d52",
    "outputId": "7669676d-ce28-4ca3-f977-a2c1d70628db"
   },
   "outputs": [
    {
     "data": {},
     "metadata": {},
     "output_type": "display_data"
    },
    {
     "data": {
      "application/vnd.holoviews_exec.v0+json": "",
      "text/html": [
       "<div id='2689'>\n",
       "\n",
       "\n",
       "\n",
       "\n",
       "\n",
       "  <div class=\"bk-root\" id=\"58fb6690-f7ba-4db0-b47c-ff7b97cb481c\" data-root-id=\"2689\"></div>\n",
       "</div>\n",
       "<script type=\"application/javascript\">(function(root) {\n",
       "  function embed_document(root) {\n",
       "    var docs_json = {\"61c95e08-3f97-49da-844a-96522f245a54\":{\"defs\":[{\"extends\":null,\"module\":null,\"name\":\"ReactiveHTML1\",\"overrides\":[],\"properties\":[]},{\"extends\":null,\"module\":null,\"name\":\"FlexBox1\",\"overrides\":[],\"properties\":[{\"default\":\"flex-start\",\"kind\":null,\"name\":\"align_content\"},{\"default\":\"flex-start\",\"kind\":null,\"name\":\"align_items\"},{\"default\":\"row\",\"kind\":null,\"name\":\"flex_direction\"},{\"default\":\"wrap\",\"kind\":null,\"name\":\"flex_wrap\"},{\"default\":\"flex-start\",\"kind\":null,\"name\":\"justify_content\"}]},{\"extends\":null,\"module\":null,\"name\":\"GridStack1\",\"overrides\":[],\"properties\":[{\"default\":\"warn\",\"kind\":null,\"name\":\"mode\"},{\"default\":null,\"kind\":null,\"name\":\"ncols\"},{\"default\":null,\"kind\":null,\"name\":\"nrows\"},{\"default\":true,\"kind\":null,\"name\":\"allow_resize\"},{\"default\":true,\"kind\":null,\"name\":\"allow_drag\"},{\"default\":[],\"kind\":null,\"name\":\"state\"}]},{\"extends\":null,\"module\":null,\"name\":\"click1\",\"overrides\":[],\"properties\":[{\"default\":\"\",\"kind\":null,\"name\":\"terminal_output\"},{\"default\":\"\",\"kind\":null,\"name\":\"debug_name\"},{\"default\":0,\"kind\":null,\"name\":\"clears\"}]},{\"extends\":null,\"module\":null,\"name\":\"TemplateActions1\",\"overrides\":[],\"properties\":[{\"default\":0,\"kind\":null,\"name\":\"open_modal\"},{\"default\":0,\"kind\":null,\"name\":\"close_modal\"}]},{\"extends\":null,\"module\":null,\"name\":\"MaterialTemplateActions1\",\"overrides\":[],\"properties\":[{\"default\":0,\"kind\":null,\"name\":\"open_modal\"},{\"default\":0,\"kind\":null,\"name\":\"close_modal\"}]}],\"roots\":{\"references\":[{\"attributes\":{\"axis\":{\"id\":\"2704\"},\"coordinates\":null,\"grid_line_color\":null,\"group\":null,\"ticker\":null},\"id\":\"2707\",\"type\":\"Grid\"},{\"attributes\":{},\"id\":\"2726\",\"type\":\"AllLabels\"},{\"attributes\":{\"tools\":[{\"id\":\"2693\"},{\"id\":\"2711\"},{\"id\":\"2712\"},{\"id\":\"2713\"},{\"id\":\"2714\"},{\"id\":\"2715\"}]},\"id\":\"2717\",\"type\":\"Toolbar\"},{\"attributes\":{\"fill_alpha\":{\"value\":0.2},\"fill_color\":{\"value\":\"#fc4f30\"},\"hatch_alpha\":{\"value\":0.2},\"hatch_color\":{\"value\":\"#fc4f30\"},\"height\":{\"value\":0.8},\"line_alpha\":{\"value\":0.2},\"right\":{\"field\":\"grade\"},\"y\":{\"field\":\"index\"}},\"id\":\"2756\",\"type\":\"HBar\"},{\"attributes\":{},\"id\":\"2702\",\"type\":\"CategoricalScale\"},{\"attributes\":{\"fill_color\":{\"value\":\"#fc4f30\"},\"hatch_color\":{\"value\":\"#fc4f30\"},\"height\":{\"value\":0.8},\"right\":{\"field\":\"grade\"},\"y\":{\"field\":\"index\"}},\"id\":\"2754\",\"type\":\"HBar\"},{\"attributes\":{\"callback\":null,\"renderers\":[{\"id\":\"2736\"},{\"id\":\"2757\"}],\"tags\":[\"hv_created\"],\"tooltips\":[[\"index\",\"@{index}\"],[\"grade\",\"@{grade}\"]]},\"id\":\"2693\",\"type\":\"HoverTool\"},{\"attributes\":{\"coordinates\":null,\"data_source\":{\"id\":\"2730\"},\"glyph\":{\"id\":\"2733\"},\"group\":null,\"hover_glyph\":null,\"muted_glyph\":{\"id\":\"2735\"},\"nonselection_glyph\":{\"id\":\"2734\"},\"selection_glyph\":{\"id\":\"2750\"},\"view\":{\"id\":\"2737\"}},\"id\":\"2736\",\"type\":\"GlyphRenderer\"},{\"attributes\":{},\"id\":\"2709\",\"type\":\"CategoricalTicker\"},{\"attributes\":{\"axis_label\":\"Count\",\"coordinates\":null,\"formatter\":{\"id\":\"2725\"},\"group\":null,\"major_label_orientation\":0.7853981633974483,\"major_label_policy\":{\"id\":\"2726\"},\"ticker\":{\"id\":\"2705\"}},\"id\":\"2704\",\"type\":\"LinearAxis\"},{\"attributes\":{\"fill_alpha\":{\"value\":0.1},\"fill_color\":{\"value\":\"#fc4f30\"},\"hatch_alpha\":{\"value\":0.1},\"hatch_color\":{\"value\":\"#fc4f30\"},\"height\":{\"value\":0.8},\"line_alpha\":{\"value\":0.1},\"right\":{\"field\":\"grade\"},\"y\":{\"field\":\"index\"}},\"id\":\"2755\",\"type\":\"HBar\"},{\"attributes\":{\"bottom_units\":\"screen\",\"coordinates\":null,\"fill_alpha\":0.5,\"fill_color\":\"lightgrey\",\"group\":null,\"left_units\":\"screen\",\"level\":\"overlay\",\"line_alpha\":1.0,\"line_color\":\"black\",\"line_dash\":[4,4],\"line_width\":2,\"right_units\":\"screen\",\"syncable\":false,\"top_units\":\"screen\"},\"id\":\"2716\",\"type\":\"BoxAnnotation\"},{\"attributes\":{\"source\":{\"id\":\"2751\"}},\"id\":\"2758\",\"type\":\"CDSView\"},{\"attributes\":{\"end\":200805.5,\"reset_end\":200805.5,\"reset_start\":0.0,\"tags\":[[[\"grade\",\"grade\",null]]]},\"id\":\"2691\",\"type\":\"Range1d\"},{\"attributes\":{\"click_policy\":\"mute\",\"coordinates\":null,\"group\":null,\"items\":[{\"id\":\"2749\"}],\"orientation\":\"horizontal\"},\"id\":\"2748\",\"type\":\"Legend\"},{\"attributes\":{},\"id\":\"2729\",\"type\":\"AllLabels\"},{\"attributes\":{\"axis\":{\"id\":\"2708\"},\"coordinates\":null,\"dimension\":1,\"grid_line_color\":null,\"group\":null,\"ticker\":null},\"id\":\"2710\",\"type\":\"Grid\"},{\"attributes\":{\"fill_color\":{\"value\":\"#30a2da\"},\"hatch_color\":{\"value\":\"#30a2da\"},\"height\":{\"value\":0.8},\"right\":{\"field\":\"grade\"},\"y\":{\"field\":\"index\"}},\"id\":\"2733\",\"type\":\"HBar\"},{\"attributes\":{\"fill_alpha\":{\"value\":0.2},\"fill_color\":{\"value\":\"#30a2da\"},\"hatch_alpha\":{\"value\":0.2},\"hatch_color\":{\"value\":\"#30a2da\"},\"height\":{\"value\":0.8},\"line_alpha\":{\"value\":0.2},\"right\":{\"field\":\"grade\"},\"y\":{\"field\":\"index\"}},\"id\":\"2735\",\"type\":\"HBar\"},{\"attributes\":{\"fill_alpha\":{\"value\":1.0},\"fill_color\":{\"value\":\"#fc4f30\"},\"hatch_alpha\":{\"value\":1.0},\"hatch_color\":{\"value\":\"#fc4f30\"},\"hatch_scale\":{\"value\":12.0},\"hatch_weight\":{\"value\":1.0},\"height\":{\"value\":0.8},\"left\":{\"value\":0},\"line_alpha\":{\"value\":1.0},\"line_cap\":{\"value\":\"butt\"},\"line_color\":{\"value\":\"black\"},\"line_dash\":{\"value\":[]},\"line_dash_offset\":{\"value\":0},\"line_join\":{\"value\":\"bevel\"},\"line_width\":{\"value\":1},\"right\":{\"field\":\"grade\"},\"y\":{\"field\":\"index\"}},\"id\":\"2771\",\"type\":\"HBar\"},{\"attributes\":{\"label\":{\"value\":\"grade\"},\"renderers\":[{\"id\":\"2736\"},{\"id\":\"2757\"}]},\"id\":\"2749\",\"type\":\"LegendItem\"},{\"attributes\":{\"below\":[{\"id\":\"2704\"}],\"center\":[{\"id\":\"2707\"},{\"id\":\"2710\"},{\"id\":\"2748\"}],\"left\":[{\"id\":\"2708\"}],\"margin\":[5,5,5,5],\"min_border_bottom\":10,\"min_border_left\":10,\"min_border_right\":10,\"min_border_top\":10,\"renderers\":[{\"id\":\"2736\"},{\"id\":\"2757\"}],\"sizing_mode\":\"fixed\",\"title\":{\"id\":\"2696\"},\"toolbar\":{\"id\":\"2717\"},\"width\":800,\"x_range\":{\"id\":\"2691\"},\"x_scale\":{\"id\":\"2700\"},\"y_range\":{\"id\":\"2692\"},\"y_scale\":{\"id\":\"2702\"}},\"id\":\"2695\",\"subtype\":\"Figure\",\"type\":\"Plot\"},{\"attributes\":{},\"id\":\"2728\",\"type\":\"CategoricalTickFormatter\"},{\"attributes\":{},\"id\":\"2752\",\"type\":\"Selection\"},{\"attributes\":{\"source\":{\"id\":\"2730\"}},\"id\":\"2737\",\"type\":\"CDSView\"},{\"attributes\":{},\"id\":\"2711\",\"type\":\"SaveTool\"},{\"attributes\":{},\"id\":\"2712\",\"type\":\"PanTool\"},{\"attributes\":{},\"id\":\"2725\",\"type\":\"BasicTickFormatter\"},{\"attributes\":{\"fill_alpha\":{\"value\":1.0},\"fill_color\":{\"value\":\"#30a2da\"},\"hatch_alpha\":{\"value\":1.0},\"hatch_color\":{\"value\":\"#30a2da\"},\"hatch_scale\":{\"value\":12.0},\"hatch_weight\":{\"value\":1.0},\"height\":{\"value\":0.8},\"left\":{\"value\":0},\"line_alpha\":{\"value\":1.0},\"line_cap\":{\"value\":\"butt\"},\"line_color\":{\"value\":\"black\"},\"line_dash\":{\"value\":[]},\"line_dash_offset\":{\"value\":0},\"line_join\":{\"value\":\"bevel\"},\"line_width\":{\"value\":1},\"right\":{\"field\":\"grade\"},\"y\":{\"field\":\"index\"}},\"id\":\"2750\",\"type\":\"HBar\"},{\"attributes\":{},\"id\":\"2715\",\"type\":\"ResetTool\"},{\"attributes\":{\"children\":[{\"id\":\"2690\"},{\"id\":\"2695\"},{\"id\":\"2880\"}],\"margin\":[0,0,0,0],\"name\":\"Row06382\",\"tags\":[\"embedded\"]},\"id\":\"2689\",\"type\":\"Row\"},{\"attributes\":{},\"id\":\"2713\",\"type\":\"WheelZoomTool\"},{\"attributes\":{\"coordinates\":null,\"group\":null,\"text\":\"Bank 1, Loan Status Grade\",\"text_color\":\"black\",\"text_font_size\":\"12pt\"},\"id\":\"2696\",\"type\":\"Title\"},{\"attributes\":{},\"id\":\"2745\",\"type\":\"UnionRenderers\"},{\"attributes\":{},\"id\":\"2768\",\"type\":\"UnionRenderers\"},{\"attributes\":{\"margin\":[5,5,5,5],\"name\":\"HSpacer06386\",\"sizing_mode\":\"stretch_width\"},\"id\":\"2690\",\"type\":\"Spacer\"},{\"attributes\":{\"factors\":[\"B\",\"C\",\"A\",\"D\",\"E\",\"F\",\"G\"],\"tags\":[[[\"index\",\"index\",null]]]},\"id\":\"2692\",\"type\":\"FactorRange\"},{\"attributes\":{\"fill_alpha\":{\"value\":0.1},\"fill_color\":{\"value\":\"#30a2da\"},\"hatch_alpha\":{\"value\":0.1},\"hatch_color\":{\"value\":\"#30a2da\"},\"height\":{\"value\":0.8},\"line_alpha\":{\"value\":0.1},\"right\":{\"field\":\"grade\"},\"y\":{\"field\":\"index\"}},\"id\":\"2734\",\"type\":\"HBar\"},{\"attributes\":{\"overlay\":{\"id\":\"2716\"}},\"id\":\"2714\",\"type\":\"BoxZoomTool\"},{\"attributes\":{\"margin\":[5,5,5,5],\"name\":\"HSpacer06387\",\"sizing_mode\":\"stretch_width\"},\"id\":\"2880\",\"type\":\"Spacer\"},{\"attributes\":{\"axis_label\":\"Grades\",\"coordinates\":null,\"formatter\":{\"id\":\"2728\"},\"group\":null,\"major_label_policy\":{\"id\":\"2729\"},\"ticker\":{\"id\":\"2709\"}},\"id\":\"2708\",\"type\":\"CategoricalAxis\"},{\"attributes\":{\"data\":{\"grade\":[49800,34545,29484,22142,8691,8370,2772],\"index\":[\"C\",\"D\",\"B\",\"E\",\"A\",\"F\",\"G\"]},\"selected\":{\"id\":\"2752\"},\"selection_policy\":{\"id\":\"2768\"}},\"id\":\"2751\",\"type\":\"ColumnDataSource\"},{\"attributes\":{\"data\":{\"grade\":[182767,162444,135091,70731,30729,8322,2382],\"index\":[\"B\",\"C\",\"A\",\"D\",\"E\",\"F\",\"G\"]},\"selected\":{\"id\":\"2731\"},\"selection_policy\":{\"id\":\"2745\"}},\"id\":\"2730\",\"type\":\"ColumnDataSource\"},{\"attributes\":{},\"id\":\"2731\",\"type\":\"Selection\"},{\"attributes\":{\"coordinates\":null,\"data_source\":{\"id\":\"2751\"},\"glyph\":{\"id\":\"2754\"},\"group\":null,\"hover_glyph\":null,\"muted_glyph\":{\"id\":\"2756\"},\"nonselection_glyph\":{\"id\":\"2755\"},\"selection_glyph\":{\"id\":\"2771\"},\"view\":{\"id\":\"2758\"}},\"id\":\"2757\",\"type\":\"GlyphRenderer\"},{\"attributes\":{},\"id\":\"2700\",\"type\":\"LinearScale\"},{\"attributes\":{},\"id\":\"2705\",\"type\":\"BasicTicker\"}],\"root_ids\":[\"2689\"]},\"title\":\"Bokeh Application\",\"version\":\"2.4.2\"}};\n",
       "    var render_items = [{\"docid\":\"61c95e08-3f97-49da-844a-96522f245a54\",\"root_ids\":[\"2689\"],\"roots\":{\"2689\":\"58fb6690-f7ba-4db0-b47c-ff7b97cb481c\"}}];\n",
       "    root.Bokeh.embed.embed_items_notebook(docs_json, render_items);\n",
       "  }\n",
       "  if (root.Bokeh !== undefined && root.Bokeh.Panel !== undefined) {\n",
       "    embed_document(root);\n",
       "  } else {\n",
       "    var attempts = 0;\n",
       "    var timer = setInterval(function(root) {\n",
       "      if (root.Bokeh !== undefined && root.Bokeh.Panel !== undefined) {\n",
       "        clearInterval(timer);\n",
       "        embed_document(root);\n",
       "      } else if (document.readyState == \"complete\") {\n",
       "        attempts++;\n",
       "        if (attempts > 200) {\n",
       "          clearInterval(timer);\n",
       "          console.log(\"Bokeh: ERROR: Unable to run BokehJS code because BokehJS library is missing\");\n",
       "        }\n",
       "      }\n",
       "    }, 25, root)\n",
       "  }\n",
       "})(window);</script>"
      ],
      "text/plain": [
       ":Overlay\n",
       "   .Bars.Grade.I  :Bars   [index]   (grade)\n",
       "   .Bars.Grade.II :Bars   [index]   (grade)"
      ]
     },
     "execution_count": 27,
     "metadata": {
      "application/vnd.holoviews_exec.v0+json": {
       "id": "2689"
      }
     },
     "output_type": "execute_result"
    }
   ],
   "source": [
    "bank1_fully_paid = bank1_df.loc[bank1_df['loan_status']=='Fully Paid', 'grade'].value_counts().hvplot.barh() \n",
    "bank1_charged_off = bank1_df.loc[bank1_df['loan_status']=='Charged Off', 'grade'].value_counts().hvplot.barh() \n",
    "\n",
    "(bank1_fully_paid * bank1_charged_off).opts(\n",
    "    title=\"Bank 1, Loan Status Grade\", \n",
    "    xlabel='Grades', ylabel='Count',\n",
    "    width=800, height=600,\n",
    "    legend_cols=2,\n",
    "    legend_position='top_right',\n",
    "    xrotation=45\n",
    ")"
   ]
  },
  {
   "cell_type": "code",
   "execution_count": 28,
   "id": "03d4bf6f-22b2-434b-b1ea-ce25fbfa209e",
   "metadata": {
    "id": "03d4bf6f-22b2-434b-b1ea-ce25fbfa209e",
    "outputId": "c4aab15d-a96b-48f8-a60a-da2610ade3a3"
   },
   "outputs": [
    {
     "data": {},
     "metadata": {},
     "output_type": "display_data"
    },
    {
     "data": {
      "application/vnd.holoviews_exec.v0+json": "",
      "text/html": [
       "<div id='2942'>\n",
       "\n",
       "\n",
       "\n",
       "\n",
       "\n",
       "  <div class=\"bk-root\" id=\"8a68d7e3-105e-4dbf-bee9-651a661251f6\" data-root-id=\"2942\"></div>\n",
       "</div>\n",
       "<script type=\"application/javascript\">(function(root) {\n",
       "  function embed_document(root) {\n",
       "    var docs_json = {\"4fcdea17-0244-4913-b3cc-6bb44e6b07e6\":{\"defs\":[{\"extends\":null,\"module\":null,\"name\":\"ReactiveHTML1\",\"overrides\":[],\"properties\":[]},{\"extends\":null,\"module\":null,\"name\":\"FlexBox1\",\"overrides\":[],\"properties\":[{\"default\":\"flex-start\",\"kind\":null,\"name\":\"align_content\"},{\"default\":\"flex-start\",\"kind\":null,\"name\":\"align_items\"},{\"default\":\"row\",\"kind\":null,\"name\":\"flex_direction\"},{\"default\":\"wrap\",\"kind\":null,\"name\":\"flex_wrap\"},{\"default\":\"flex-start\",\"kind\":null,\"name\":\"justify_content\"}]},{\"extends\":null,\"module\":null,\"name\":\"GridStack1\",\"overrides\":[],\"properties\":[{\"default\":\"warn\",\"kind\":null,\"name\":\"mode\"},{\"default\":null,\"kind\":null,\"name\":\"ncols\"},{\"default\":null,\"kind\":null,\"name\":\"nrows\"},{\"default\":true,\"kind\":null,\"name\":\"allow_resize\"},{\"default\":true,\"kind\":null,\"name\":\"allow_drag\"},{\"default\":[],\"kind\":null,\"name\":\"state\"}]},{\"extends\":null,\"module\":null,\"name\":\"click1\",\"overrides\":[],\"properties\":[{\"default\":\"\",\"kind\":null,\"name\":\"terminal_output\"},{\"default\":\"\",\"kind\":null,\"name\":\"debug_name\"},{\"default\":0,\"kind\":null,\"name\":\"clears\"}]},{\"extends\":null,\"module\":null,\"name\":\"TemplateActions1\",\"overrides\":[],\"properties\":[{\"default\":0,\"kind\":null,\"name\":\"open_modal\"},{\"default\":0,\"kind\":null,\"name\":\"close_modal\"}]},{\"extends\":null,\"module\":null,\"name\":\"MaterialTemplateActions1\",\"overrides\":[],\"properties\":[{\"default\":0,\"kind\":null,\"name\":\"open_modal\"},{\"default\":0,\"kind\":null,\"name\":\"close_modal\"}]}],\"roots\":{\"references\":[{\"attributes\":{},\"id\":\"2964\",\"type\":\"SaveTool\"},{\"attributes\":{},\"id\":\"2965\",\"type\":\"PanTool\"},{\"attributes\":{},\"id\":\"2968\",\"type\":\"ResetTool\"},{\"attributes\":{\"margin\":[5,5,5,5],\"name\":\"HSpacer07188\",\"sizing_mode\":\"stretch_width\"},\"id\":\"2943\",\"type\":\"Spacer\"},{\"attributes\":{\"click_policy\":\"mute\",\"coordinates\":null,\"group\":null,\"items\":[{\"id\":\"3002\"}],\"orientation\":\"horizontal\"},\"id\":\"3001\",\"type\":\"Legend\"},{\"attributes\":{\"callback\":null,\"renderers\":[{\"id\":\"2989\"},{\"id\":\"3010\"}],\"tags\":[\"hv_created\"],\"tooltips\":[[\"index\",\"@{index}\"],[\"sub_grade\",\"@{sub_grade}\"]]},\"id\":\"2946\",\"type\":\"HoverTool\"},{\"attributes\":{},\"id\":\"2966\",\"type\":\"WheelZoomTool\"},{\"attributes\":{},\"id\":\"3021\",\"type\":\"UnionRenderers\"},{\"attributes\":{\"overlay\":{\"id\":\"2969\"}},\"id\":\"2967\",\"type\":\"BoxZoomTool\"},{\"attributes\":{\"coordinates\":null,\"group\":null,\"text\":\"Bank 1, Loan Status SubGrade\",\"text_color\":\"black\",\"text_font_size\":\"12pt\"},\"id\":\"2949\",\"type\":\"Title\"},{\"attributes\":{\"label\":{\"value\":\"sub_grade\"},\"renderers\":[{\"id\":\"2989\"},{\"id\":\"3010\"}]},\"id\":\"3002\",\"type\":\"LegendItem\"},{\"attributes\":{},\"id\":\"3005\",\"type\":\"Selection\"},{\"attributes\":{\"coordinates\":null,\"data_source\":{\"id\":\"2983\"},\"glyph\":{\"id\":\"2986\"},\"group\":null,\"hover_glyph\":null,\"muted_glyph\":{\"id\":\"2988\"},\"nonselection_glyph\":{\"id\":\"2987\"},\"selection_glyph\":{\"id\":\"3003\"},\"view\":{\"id\":\"2990\"}},\"id\":\"2989\",\"type\":\"GlyphRenderer\"},{\"attributes\":{\"margin\":[5,5,5,5],\"name\":\"HSpacer07189\",\"sizing_mode\":\"stretch_width\"},\"id\":\"3133\",\"type\":\"Spacer\"},{\"attributes\":{\"end\":42162.5,\"reset_end\":42162.5,\"reset_start\":0.0,\"tags\":[[[\"sub_grade\",\"sub_grade\",null]]]},\"id\":\"2944\",\"type\":\"Range1d\"},{\"attributes\":{},\"id\":\"2953\",\"type\":\"LinearScale\"},{\"attributes\":{\"fill_alpha\":{\"value\":0.1},\"fill_color\":{\"value\":\"#30a2da\"},\"hatch_alpha\":{\"value\":0.1},\"hatch_color\":{\"value\":\"#30a2da\"},\"height\":{\"value\":0.8},\"line_alpha\":{\"value\":0.1},\"right\":{\"field\":\"sub_grade\"},\"y\":{\"field\":\"index\"}},\"id\":\"2987\",\"type\":\"HBar\"},{\"attributes\":{\"fill_alpha\":{\"value\":0.2},\"fill_color\":{\"value\":\"#30a2da\"},\"hatch_alpha\":{\"value\":0.2},\"hatch_color\":{\"value\":\"#30a2da\"},\"height\":{\"value\":0.8},\"line_alpha\":{\"value\":0.2},\"right\":{\"field\":\"sub_grade\"},\"y\":{\"field\":\"index\"}},\"id\":\"2988\",\"type\":\"HBar\"},{\"attributes\":{\"axis\":{\"id\":\"2957\"},\"coordinates\":null,\"grid_line_color\":null,\"group\":null,\"ticker\":null},\"id\":\"2960\",\"type\":\"Grid\"},{\"attributes\":{\"fill_alpha\":{\"value\":0.2},\"fill_color\":{\"value\":\"#fc4f30\"},\"hatch_alpha\":{\"value\":0.2},\"hatch_color\":{\"value\":\"#fc4f30\"},\"height\":{\"value\":0.8},\"line_alpha\":{\"value\":0.2},\"right\":{\"field\":\"sub_grade\"},\"y\":{\"field\":\"index\"}},\"id\":\"3009\",\"type\":\"HBar\"},{\"attributes\":{\"coordinates\":null,\"data_source\":{\"id\":\"3004\"},\"glyph\":{\"id\":\"3007\"},\"group\":null,\"hover_glyph\":null,\"muted_glyph\":{\"id\":\"3009\"},\"nonselection_glyph\":{\"id\":\"3008\"},\"selection_glyph\":{\"id\":\"3024\"},\"view\":{\"id\":\"3011\"}},\"id\":\"3010\",\"type\":\"GlyphRenderer\"},{\"attributes\":{\"axis_label\":\"Grades\",\"coordinates\":null,\"formatter\":{\"id\":\"2981\"},\"group\":null,\"major_label_policy\":{\"id\":\"2982\"},\"ticker\":{\"id\":\"2962\"}},\"id\":\"2961\",\"type\":\"CategoricalAxis\"},{\"attributes\":{\"fill_color\":{\"value\":\"#30a2da\"},\"hatch_color\":{\"value\":\"#30a2da\"},\"height\":{\"value\":0.8},\"right\":{\"field\":\"sub_grade\"},\"y\":{\"field\":\"index\"}},\"id\":\"2986\",\"type\":\"HBar\"},{\"attributes\":{},\"id\":\"2998\",\"type\":\"UnionRenderers\"},{\"attributes\":{\"axis_label\":\"Count\",\"coordinates\":null,\"formatter\":{\"id\":\"2978\"},\"group\":null,\"major_label_orientation\":0.7853981633974483,\"major_label_policy\":{\"id\":\"2979\"},\"ticker\":{\"id\":\"2958\"}},\"id\":\"2957\",\"type\":\"LinearAxis\"},{\"attributes\":{},\"id\":\"2962\",\"type\":\"CategoricalTicker\"},{\"attributes\":{\"tools\":[{\"id\":\"2946\"},{\"id\":\"2964\"},{\"id\":\"2965\"},{\"id\":\"2966\"},{\"id\":\"2967\"},{\"id\":\"2968\"}]},\"id\":\"2970\",\"type\":\"Toolbar\"},{\"attributes\":{\"factors\":[\"C1\",\"B5\",\"B3\",\"B4\",\"B2\",\"A5\",\"B1\",\"C2\",\"C3\",\"C4\",\"A1\",\"A4\",\"C5\",\"A2\",\"A3\",\"D1\",\"D2\",\"D3\",\"D4\",\"D5\",\"E1\",\"E2\",\"E3\",\"E4\",\"E5\",\"F1\",\"F2\",\"F3\",\"F4\",\"F5\",\"G1\",\"G2\",\"G3\",\"G4\",\"G5\"],\"tags\":[[[\"index\",\"index\",null]]]},\"id\":\"2945\",\"type\":\"FactorRange\"},{\"attributes\":{},\"id\":\"2955\",\"type\":\"CategoricalScale\"},{\"attributes\":{\"bottom_units\":\"screen\",\"coordinates\":null,\"fill_alpha\":0.5,\"fill_color\":\"lightgrey\",\"group\":null,\"left_units\":\"screen\",\"level\":\"overlay\",\"line_alpha\":1.0,\"line_color\":\"black\",\"line_dash\":[4,4],\"line_width\":2,\"right_units\":\"screen\",\"syncable\":false,\"top_units\":\"screen\"},\"id\":\"2969\",\"type\":\"BoxAnnotation\"},{\"attributes\":{},\"id\":\"2958\",\"type\":\"BasicTicker\"},{\"attributes\":{},\"id\":\"2979\",\"type\":\"AllLabels\"},{\"attributes\":{\"fill_alpha\":{\"value\":0.1},\"fill_color\":{\"value\":\"#fc4f30\"},\"hatch_alpha\":{\"value\":0.1},\"hatch_color\":{\"value\":\"#fc4f30\"},\"height\":{\"value\":0.8},\"line_alpha\":{\"value\":0.1},\"right\":{\"field\":\"sub_grade\"},\"y\":{\"field\":\"index\"}},\"id\":\"3008\",\"type\":\"HBar\"},{\"attributes\":{},\"id\":\"2984\",\"type\":\"Selection\"},{\"attributes\":{\"fill_alpha\":{\"value\":1.0},\"fill_color\":{\"value\":\"#30a2da\"},\"hatch_alpha\":{\"value\":1.0},\"hatch_color\":{\"value\":\"#30a2da\"},\"hatch_scale\":{\"value\":12.0},\"hatch_weight\":{\"value\":1.0},\"height\":{\"value\":0.8},\"left\":{\"value\":0},\"line_alpha\":{\"value\":1.0},\"line_cap\":{\"value\":\"butt\"},\"line_color\":{\"value\":\"black\"},\"line_dash\":{\"value\":[]},\"line_dash_offset\":{\"value\":0},\"line_join\":{\"value\":\"bevel\"},\"line_width\":{\"value\":1},\"right\":{\"field\":\"sub_grade\"},\"y\":{\"field\":\"index\"}},\"id\":\"3003\",\"type\":\"HBar\"},{\"attributes\":{},\"id\":\"2982\",\"type\":\"AllLabels\"},{\"attributes\":{\"axis\":{\"id\":\"2961\"},\"coordinates\":null,\"dimension\":1,\"grid_line_color\":null,\"group\":null,\"ticker\":null},\"id\":\"2963\",\"type\":\"Grid\"},{\"attributes\":{\"data\":{\"index\":[\"C4\",\"C3\",\"C5\",\"C2\",\"C1\",\"D1\",\"B5\",\"D2\",\"B4\",\"D3\",\"D4\",\"B3\",\"D5\",\"E1\",\"E2\",\"B2\",\"E3\",\"B1\",\"E4\",\"E5\",\"A5\",\"F1\",\"A4\",\"F2\",\"F3\",\"F4\",\"A3\",\"F5\",\"A2\",\"A1\",\"G1\",\"G2\",\"G3\",\"G4\",\"G5\"],\"sub_grade\":[10917,9989,9929,9661,9304,8082,7616,7270,6908,6681,6619,5961,5893,5188,5044,4766,4398,4233,3824,3688,3283,2442,2136,1924,1538,1342,1206,1124,1097,969,815,617,507,422,411]},\"selected\":{\"id\":\"3005\"},\"selection_policy\":{\"id\":\"3021\"}},\"id\":\"3004\",\"type\":\"ColumnDataSource\"},{\"attributes\":{\"source\":{\"id\":\"3004\"}},\"id\":\"3011\",\"type\":\"CDSView\"},{\"attributes\":{\"fill_color\":{\"value\":\"#fc4f30\"},\"hatch_color\":{\"value\":\"#fc4f30\"},\"height\":{\"value\":0.8},\"right\":{\"field\":\"sub_grade\"},\"y\":{\"field\":\"index\"}},\"id\":\"3007\",\"type\":\"HBar\"},{\"attributes\":{},\"id\":\"2981\",\"type\":\"CategoricalTickFormatter\"},{\"attributes\":{\"children\":[{\"id\":\"2943\"},{\"id\":\"2948\"},{\"id\":\"3133\"}],\"margin\":[0,0,0,0],\"name\":\"Row07184\",\"tags\":[\"embedded\"]},\"id\":\"2942\",\"type\":\"Row\"},{\"attributes\":{\"fill_alpha\":{\"value\":1.0},\"fill_color\":{\"value\":\"#fc4f30\"},\"hatch_alpha\":{\"value\":1.0},\"hatch_color\":{\"value\":\"#fc4f30\"},\"hatch_scale\":{\"value\":12.0},\"hatch_weight\":{\"value\":1.0},\"height\":{\"value\":0.8},\"left\":{\"value\":0},\"line_alpha\":{\"value\":1.0},\"line_cap\":{\"value\":\"butt\"},\"line_color\":{\"value\":\"black\"},\"line_dash\":{\"value\":[]},\"line_dash_offset\":{\"value\":0},\"line_join\":{\"value\":\"bevel\"},\"line_width\":{\"value\":1},\"right\":{\"field\":\"sub_grade\"},\"y\":{\"field\":\"index\"}},\"id\":\"3024\",\"type\":\"HBar\"},{\"attributes\":{},\"id\":\"2978\",\"type\":\"BasicTickFormatter\"},{\"attributes\":{\"below\":[{\"id\":\"2957\"}],\"center\":[{\"id\":\"2960\"},{\"id\":\"2963\"},{\"id\":\"3001\"}],\"left\":[{\"id\":\"2961\"}],\"margin\":[5,5,5,5],\"min_border_bottom\":10,\"min_border_left\":10,\"min_border_right\":10,\"min_border_top\":10,\"renderers\":[{\"id\":\"2989\"},{\"id\":\"3010\"}],\"sizing_mode\":\"fixed\",\"title\":{\"id\":\"2949\"},\"toolbar\":{\"id\":\"2970\"},\"width\":800,\"x_range\":{\"id\":\"2944\"},\"x_scale\":{\"id\":\"2953\"},\"y_range\":{\"id\":\"2945\"},\"y_scale\":{\"id\":\"2955\"}},\"id\":\"2948\",\"subtype\":\"Figure\",\"type\":\"Plot\"},{\"attributes\":{\"source\":{\"id\":\"2983\"}},\"id\":\"2990\",\"type\":\"CDSView\"},{\"attributes\":{\"data\":{\"index\":[\"C1\",\"B5\",\"B3\",\"B4\",\"B2\",\"A5\",\"B1\",\"C2\",\"C3\",\"C4\",\"A1\",\"A4\",\"C5\",\"A2\",\"A3\",\"D1\",\"D2\",\"D3\",\"D4\",\"D5\",\"E1\",\"E2\",\"E3\",\"E4\",\"E5\",\"F1\",\"F2\",\"F3\",\"F4\",\"F5\",\"G1\",\"G2\",\"G3\",\"G4\",\"G5\"],\"sub_grade\":[38356,37478,37339,37310,35577,35516,35063,34713,32086,30774,28513,28028,26515,22169,20865,19344,15376,13689,12085,10237,8106,7254,6116,4863,4390,2755,1897,1521,1183,966,783,550,411,347,291]},\"selected\":{\"id\":\"2984\"},\"selection_policy\":{\"id\":\"2998\"}},\"id\":\"2983\",\"type\":\"ColumnDataSource\"}],\"root_ids\":[\"2942\"]},\"title\":\"Bokeh Application\",\"version\":\"2.4.2\"}};\n",
       "    var render_items = [{\"docid\":\"4fcdea17-0244-4913-b3cc-6bb44e6b07e6\",\"root_ids\":[\"2942\"],\"roots\":{\"2942\":\"8a68d7e3-105e-4dbf-bee9-651a661251f6\"}}];\n",
       "    root.Bokeh.embed.embed_items_notebook(docs_json, render_items);\n",
       "  }\n",
       "  if (root.Bokeh !== undefined && root.Bokeh.Panel !== undefined) {\n",
       "    embed_document(root);\n",
       "  } else {\n",
       "    var attempts = 0;\n",
       "    var timer = setInterval(function(root) {\n",
       "      if (root.Bokeh !== undefined && root.Bokeh.Panel !== undefined) {\n",
       "        clearInterval(timer);\n",
       "        embed_document(root);\n",
       "      } else if (document.readyState == \"complete\") {\n",
       "        attempts++;\n",
       "        if (attempts > 200) {\n",
       "          clearInterval(timer);\n",
       "          console.log(\"Bokeh: ERROR: Unable to run BokehJS code because BokehJS library is missing\");\n",
       "        }\n",
       "      }\n",
       "    }, 25, root)\n",
       "  }\n",
       "})(window);</script>"
      ],
      "text/plain": [
       ":Overlay\n",
       "   .Bars.Sub_grade.I  :Bars   [index]   (sub_grade)\n",
       "   .Bars.Sub_grade.II :Bars   [index]   (sub_grade)"
      ]
     },
     "execution_count": 28,
     "metadata": {
      "application/vnd.holoviews_exec.v0+json": {
       "id": "2942"
      }
     },
     "output_type": "execute_result"
    }
   ],
   "source": [
    "bank1_fully_paid = bank1_df.loc[bank1_df['loan_status']=='Fully Paid', 'sub_grade'].value_counts().hvplot.barh() \n",
    "bank1_charged_off = bank1_df.loc[bank1_df['loan_status']=='Charged Off', 'sub_grade'].value_counts().hvplot.barh() \n",
    "\n",
    "(bank1_fully_paid * bank1_charged_off).opts(\n",
    "    title='Bank 1, Loan Status SubGrade', \n",
    "    xlabel='Grades', \n",
    "    ylabel='Count',\n",
    "    width=800, height=600, \n",
    "    legend_cols=2, \n",
    "    legend_position='top_right', \n",
    "    xrotation=45\n",
    ")"
   ]
  },
  {
   "cell_type": "code",
   "execution_count": 55,
   "id": "1de51749-59b2-4fc1-a375-4b3c0e9077e5",
   "metadata": {
    "id": "1de51749-59b2-4fc1-a375-4b3c0e9077e5",
    "outputId": "6d64e321-509d-4192-a302-7c46c834ff18"
   },
   "outputs": [],
   "source": [
    "bank1_installment_box = bank1_df.hvplot.box(\n",
    "    y='installment', \n",
    "    subplots=True, \n",
    "    by='loan_status',\n",
    "    width=800, height=600,\n",
    "    rot = 45,\n",
    "    title='Bank 1, Status by Installment', \n",
    "    xlabel='Loan Status', \n",
    "    ylabel='Installment'\n",
    ")\n",
    "\n",
    "bank1_amnt_box = bank1_df.hvplot.box(\n",
    "    y='loan_amnt', \n",
    "    subplots=True, \n",
    "    by='loan_status', \n",
    "    width=800, height=600,\n",
    "    rot = 45,\n",
    "    title='Bank 1, Loan Status by Amount', \n",
    "    xlabel='Loan Status', \n",
    "    ylabel='Loan Amount'\n",
    ")\n",
    "\n",
    "#bank1_installment_box + bank1_amnt_box "
   ]
  },
  {
   "cell_type": "code",
   "execution_count": 56,
   "id": "32d9cb93-e5da-455f-bf03-69d9528a98bc",
   "metadata": {
    "id": "32d9cb93-e5da-455f-bf03-69d9528a98bc",
    "outputId": "b5915653-59f9-4000-bb82-f500afd2d195"
   },
   "outputs": [
    {
     "data": {
      "text/html": [
       "<div>\n",
       "<style scoped>\n",
       "    .dataframe tbody tr th:only-of-type {\n",
       "        vertical-align: middle;\n",
       "    }\n",
       "\n",
       "    .dataframe tbody tr th {\n",
       "        vertical-align: top;\n",
       "    }\n",
       "\n",
       "    .dataframe thead th {\n",
       "        text-align: right;\n",
       "    }\n",
       "</style>\n",
       "<table border=\"1\" class=\"dataframe\">\n",
       "  <thead>\n",
       "    <tr style=\"text-align: right;\">\n",
       "      <th></th>\n",
       "      <th>count</th>\n",
       "      <th>mean</th>\n",
       "      <th>std</th>\n",
       "      <th>min</th>\n",
       "      <th>25%</th>\n",
       "      <th>50%</th>\n",
       "      <th>75%</th>\n",
       "      <th>max</th>\n",
       "    </tr>\n",
       "    <tr>\n",
       "      <th>loan_status</th>\n",
       "      <th></th>\n",
       "      <th></th>\n",
       "      <th></th>\n",
       "      <th></th>\n",
       "      <th></th>\n",
       "      <th></th>\n",
       "      <th></th>\n",
       "      <th></th>\n",
       "    </tr>\n",
       "  </thead>\n",
       "  <tbody>\n",
       "    <tr>\n",
       "      <th>0.0</th>\n",
       "      <td>174041.0</td>\n",
       "      <td>15867.590970</td>\n",
       "      <td>8875.345441</td>\n",
       "      <td>0.0</td>\n",
       "      <td>9500.0</td>\n",
       "      <td>14950.0</td>\n",
       "      <td>21000.0</td>\n",
       "      <td>40000.0</td>\n",
       "    </tr>\n",
       "    <tr>\n",
       "      <th>1.0</th>\n",
       "      <td>1025959.0</td>\n",
       "      <td>15161.984056</td>\n",
       "      <td>9202.614089</td>\n",
       "      <td>1000.0</td>\n",
       "      <td>8000.0</td>\n",
       "      <td>13000.0</td>\n",
       "      <td>20000.0</td>\n",
       "      <td>40000.0</td>\n",
       "    </tr>\n",
       "  </tbody>\n",
       "</table>\n",
       "</div>"
      ],
      "text/plain": [
       "                 count          mean          std     min     25%      50%  \\\n",
       "loan_status                                                                  \n",
       "0.0           174041.0  15867.590970  8875.345441     0.0  9500.0  14950.0   \n",
       "1.0          1025959.0  15161.984056  9202.614089  1000.0  8000.0  13000.0   \n",
       "\n",
       "                 75%      max  \n",
       "loan_status                    \n",
       "0.0          21000.0  40000.0  \n",
       "1.0          20000.0  40000.0  "
      ]
     },
     "execution_count": 56,
     "metadata": {},
     "output_type": "execute_result"
    }
   ],
   "source": [
    "bank1_df.groupby(by='loan_status')['loan_amnt'].describe()"
   ]
  },
  {
   "cell_type": "code",
   "execution_count": 57,
   "id": "22a5fc90-68ce-4ffc-bcf1-207017424534",
   "metadata": {
    "id": "22a5fc90-68ce-4ffc-bcf1-207017424534",
    "outputId": "923db9a6-6f64-4751-ffd8-ab5b7556258d"
   },
   "outputs": [
    {
     "name": "stdout",
     "output_type": "stream",
     "text": [
      "GRADE unique: [3. 2. 6. 1. 5. 4. 7. 0.]\n",
      "SUB_GRADE unique: [24. 21. 14. 25. 51. 23. 12. 11.  2. 15. 22. 42.  4. 43.  1. 34. 53. 31.\n",
      " 13. 44. 33. 32. 35.  5. 52. 41. 55. 45.  3. 62. 61. 63. 64. 54. 65.  0.]\n"
     ]
    }
   ],
   "source": [
    "print(f'GRADE unique: {bank1_df.grade.unique()}')\n",
    "print(f'SUB_GRADE unique: {bank1_df.sub_grade.unique()}')"
   ]
  },
  {
   "cell_type": "code",
   "execution_count": 58,
   "id": "1fe3781f-3571-41aa-80bf-2de43ba99357",
   "metadata": {
    "id": "1fe3781f-3571-41aa-80bf-2de43ba99357",
    "outputId": "7ebc7876-5538-4a87-ea02-fd40a51eb0ed"
   },
   "outputs": [
    {
     "data": {
      "text/plain": [
       "1.0    1025959\n",
       "0.0     174041\n",
       "Name: loan_status, dtype: int64"
      ]
     },
     "execution_count": 58,
     "metadata": {},
     "output_type": "execute_result"
    }
   ],
   "source": [
    "bank1_df['loan_status'].value_counts() "
   ]
  },
  {
   "cell_type": "code",
   "execution_count": 59,
   "id": "b1f9950b-3de2-42c8-9599-0d35ac9c9919",
   "metadata": {
    "id": "b1f9950b-3de2-42c8-9599-0d35ac9c9919"
   },
   "outputs": [],
   "source": [
    "# Encode strings and non-numeric data\n",
    "numerize_wilco_meth = {'term': {' 36 months': 1.0, ' 60 months': 2.0},\n",
    "                    'grade': {'A': 1.0, 'B': 2.0, 'C': 3.0, 'D': 4.0, 'E': 5.0,\n",
    "                              'F': 6.0, 'G': 7.0,\n",
    "                             },\n",
    "                    'sub_grade': {'A1': 1.0, 'A2': 2.0, 'A3': 3.0, 'A4': 4.0, 'A5': 5.0,\n",
    "                                  'B1': 11.0, 'B2': 12.0, 'B3': 13.0, 'B4': 14.0, 'B5': 15.0,\n",
    "                                  'C1': 21.0, 'C2': 22.0, 'C3': 23.0, 'C4': 24.0, 'C5': 25.0,\n",
    "                                  'D1': 31.0, 'D2': 32.0, 'D3': 33.0, 'D4': 34.0, 'D5': 35.0,\n",
    "                                  'E1': 41.0, 'E2': 42.0, 'E3': 43.0, 'E4': 44.0, 'E5': 45.0,\n",
    "                                  'F1': 51.0, 'F2': 52.0, 'F3': 53.0, 'F4': 54.0, 'F5': 55.0,\n",
    "                                  'G1': 61.0, 'G2': 62.0, 'G3': 63.0, 'G4': 64.0, 'G5': 65.0,\n",
    "                                    },\n",
    "                    'addr_state': {'CA': 1.0, 'NY': 2.0, 'TX': 3.0, 'FL': 4.0, 'IL': 5.0,\n",
    "                                   'NJ': 11.0, 'PA': 12.0, 'OH': 13.0, 'GA': 14.0, 'VA': 15.0,\n",
    "                                   'NC': 21.0, 'MI': 22.0, 'MD': 23.0, 'AZ': 24.0, 'MA': 25.0,\n",
    "                                   'CO': 31.0, 'WA': 32.0, 'MN': 33.0, 'IN': 34.0, 'MO': 35.0,\n",
    "                                   'CT': 41.0, 'TN': 42.0, 'NV': 43.0, 'WI': 44.0, 'SC': 45.0,\n",
    "                                   'AL': 51.0, 'OR': 52.0, 'LA': 53.0, 'KY': 54.0, 'OK': 55.0,\n",
    "                                   'KS': 61.0, 'AR': 62.0, 'UT': 63.0, 'MS': 64.0, 'NM': 65.0,\n",
    "                                   'NH': 71.0, 'HI': 72.0, 'RI': 73.0, 'WV': 74.0, 'NE': 75.0,\n",
    "                                   'DE': 81.0, 'MT': 82.0, 'DC': 83.0, 'AK': 84.0, 'ME': 85.0,\n",
    "                                   'VT': 91.0, 'WY': 92.0, 'SD': 93.0, 'ID': 94.0, 'ND': 95.0,\n",
    "                                   'IA': 101.0,\n",
    "                                  },\n",
    "                    'emp_length': {'< 1 year': 0.0, '1 year': 1.0, '2 years': 2.0, '3 years': 3.0, '4 years': 4.0,\n",
    "                                   '5 years': 5.0, '6 years': 6.0, '7 years': 7.0, '8 years': 8.0, '9 years': 9.0,\n",
    "                                   '10+ years': 10.0,\n",
    "                                  },\n",
    "                    'loan_status': {'Fully Paid': 1.0, 'Current': 1.0, 'Does not meet the credit policy. Status:Fully Paid': 1.0,\n",
    "                                    'Charged Off': 0.0, 'In Grace Period': 0.0, 'Late (16-30 days)': 0.0, 'Late (31-120 days)': 0.0,\n",
    "                                    'Default': 0.0, 'Does not meet the credit policy. Status:Charged Off': 0.0,\n",
    "                                   },\n",
    "                    'home_ownership': {'NONE': 0.0, 'RENT': 1.0, 'ANY': 2.0, 'MORTGAGE': 3.0, 'OWN': 4.0,\n",
    "                                       'OTHER': 5.0,\n",
    "                                      },\n",
    "                    'application_type': {'Individual': 1.0, 'Joint App': 2.0,\n",
    "                                       },\n",
    "                    'verification_status': {'Not Verified': 0.0, 'Verified': 1.0, 'Source Verified': 2.0,\n",
    "                                           },\n",
    "                    'verification_status_joint': {'Not Verified': 0.0, 'Verified': 1.0, 'Source Verified': 2.0,\n",
    "                                                 },\n",
    "                   }\n",
    "bank1_df = bank1_df.replace(numerize_wilco_meth)\n"
   ]
  },
  {
   "cell_type": "code",
   "execution_count": 60,
   "id": "aa931cee-0c12-4b3d-b168-086ca97fbb9b",
   "metadata": {
    "id": "aa931cee-0c12-4b3d-b168-086ca97fbb9b",
    "outputId": "f9dd2aba-527b-479f-d58c-b97fc8c3ce00"
   },
   "outputs": [
    {
     "data": {
      "text/plain": [
       "(1200000, 112)"
      ]
     },
     "metadata": {},
     "output_type": "display_data"
    },
    {
     "data": {
      "text/plain": [
       "[]"
      ]
     },
     "metadata": {},
     "output_type": "display_data"
    }
   ],
   "source": [
    "# Create a list of bank1_df categorical variables \n",
    "bank1_df_categorical_variables = list(bank1_df.dtypes[bank1_df.dtypes == 'object'].index)\n",
    "\n",
    "# Display the dataframe shape and confirm clearance of categorical variables list\n",
    "display(bank1_df.shape)\n",
    "display(bank1_df_categorical_variables)"
   ]
  },
  {
   "cell_type": "code",
   "execution_count": 61,
   "id": "c2767026-42eb-4ea5-b059-aec3670c6f21",
   "metadata": {
    "id": "c2767026-42eb-4ea5-b059-aec3670c6f21",
    "outputId": "3e2c1ee9-3215-4697-8dad-8cce4b647c43"
   },
   "outputs": [
    {
     "name": "stdout",
     "output_type": "stream",
     "text": [
      "GRADE unique: [3. 2. 6. 1. 5. 4. 7. 0.]\n",
      "SUB_GRADE unique: [24. 21. 14. 25. 51. 23. 12. 11.  2. 15. 22. 42.  4. 43.  1. 34. 53. 31.\n",
      " 13. 44. 33. 32. 35.  5. 52. 41. 55. 45.  3. 62. 61. 63. 64. 54. 65.  0.]\n"
     ]
    }
   ],
   "source": [
    "print(f'GRADE unique: {bank1_df.grade.unique()}')\n",
    "print(f'SUB_GRADE unique: {bank1_df.sub_grade.unique()}')"
   ]
  },
  {
   "cell_type": "code",
   "execution_count": 62,
   "id": "5fd42caf-f979-4b6f-84ec-7faacbb6c1ab",
   "metadata": {
    "id": "5fd42caf-f979-4b6f-84ec-7faacbb6c1ab"
   },
   "outputs": [
    {
     "name": "stdout",
     "output_type": "stream",
     "text": [
      "\n",
      "home_ownership\n"
     ]
    },
    {
     "data": {
      "text/plain": [
       "3.0    588709\n",
       "1.0    473023\n",
       "4.0    138094\n",
       "2.0       157\n",
       "0.0        17\n",
       "Name: home_ownership, dtype: int64"
      ]
     },
     "metadata": {},
     "output_type": "display_data"
    },
    {
     "name": "stdout",
     "output_type": "stream",
     "text": [
      "\n",
      "verification_status\n"
     ]
    },
    {
     "data": {
      "text/plain": [
       "2.0    500249\n",
       "0.0    381207\n",
       "1.0    318544\n",
       "Name: verification_status, dtype: int64"
      ]
     },
     "metadata": {},
     "output_type": "display_data"
    },
    {
     "name": "stdout",
     "output_type": "stream",
     "text": [
      "\n",
      "loan_status\n"
     ]
    },
    {
     "data": {
      "text/plain": [
       "1.0    1025959\n",
       "0.0     174041\n",
       "Name: loan_status, dtype: int64"
      ]
     },
     "metadata": {},
     "output_type": "display_data"
    },
    {
     "name": "stdout",
     "output_type": "stream",
     "text": [
      "\n",
      "application_type\n"
     ]
    },
    {
     "data": {
      "text/plain": [
       "1.0    1140416\n",
       "2.0      59570\n",
       "0.0         14\n",
       "Name: application_type, dtype: int64"
      ]
     },
     "metadata": {},
     "output_type": "display_data"
    },
    {
     "name": "stdout",
     "output_type": "stream",
     "text": [
      "\n",
      "verification_status_joint\n"
     ]
    },
    {
     "data": {
      "text/plain": [
       "0.0    1169871\n",
       "2.0      17787\n",
       "1.0      12342\n",
       "Name: verification_status_joint, dtype: int64"
      ]
     },
     "metadata": {},
     "output_type": "display_data"
    }
   ],
   "source": [
    "print('\\nhome_ownership')\n",
    "display(bank1_df['home_ownership'].value_counts())\n",
    "print('\\nverification_status')\n",
    "display(bank1_df['verification_status'].value_counts())\n",
    "print('\\nloan_status')\n",
    "display(bank1_df['loan_status'].value_counts())\n",
    "# print('\\naddr_state')\n",
    "# display(bank1_df['addr_state'].value_counts())\n",
    "print('\\napplication_type')\n",
    "display(bank1_df['application_type'].value_counts())\n",
    "print('\\nverification_status_joint')\n",
    "display(bank1_df['verification_status_joint'].value_counts()) "
   ]
  },
  {
   "cell_type": "markdown",
   "id": "c0c42865-aa22-48e7-8f3e-1a1750f993fe",
   "metadata": {
    "id": "c0c42865-aa22-48e7-8f3e-1a1750f993fe"
   },
   "source": [
    "# Identify NaN and replace with 0.0"
   ]
  },
  {
   "cell_type": "code",
   "execution_count": 38,
   "id": "41acfeb2-dff2-4172-9e3c-2a4c75a999b7",
   "metadata": {
    "id": "41acfeb2-dff2-4172-9e3c-2a4c75a999b7"
   },
   "outputs": [
    {
     "data": {
      "text/plain": [
       "True"
      ]
     },
     "metadata": {},
     "output_type": "display_data"
    },
    {
     "name": "stdout",
     "output_type": "stream",
     "text": [
      "\n",
      "\n"
     ]
    },
    {
     "data": {
      "text/plain": [
       "loan_amnt                                   14\n",
       "funded_amnt                                 14\n",
       "funded_amnt_inv                             14\n",
       "term                                        14\n",
       "int_rate                                    14\n",
       "                                        ...   \n",
       "sec_app_open_act_il                    1145084\n",
       "sec_app_num_rev_accts                  1145084\n",
       "sec_app_chargeoff_within_12_mths       1145084\n",
       "sec_app_collections_12_mths_ex_med     1145084\n",
       "sec_app_mths_since_last_major_derog    1181776\n",
       "Length: 112, dtype: int64"
      ]
     },
     "metadata": {},
     "output_type": "display_data"
    }
   ],
   "source": [
    "# identify NaN\n",
    "display(bank1_df.isnull().values.any())\n",
    "print('\\n')\n",
    "count_nan = bank1_df.isnull().sum()\n",
    "display(count_nan)"
   ]
  },
  {
   "cell_type": "code",
   "execution_count": 39,
   "id": "bccde791-331c-432b-b76e-5587bae07ed3",
   "metadata": {
    "id": "bccde791-331c-432b-b76e-5587bae07ed3"
   },
   "outputs": [
    {
     "data": {
      "text/plain": [
       "False"
      ]
     },
     "metadata": {},
     "output_type": "display_data"
    },
    {
     "name": "stdout",
     "output_type": "stream",
     "text": [
      "\n",
      "\n"
     ]
    },
    {
     "data": {
      "text/plain": [
       "loan_amnt                              0\n",
       "funded_amnt                            0\n",
       "funded_amnt_inv                        0\n",
       "term                                   0\n",
       "int_rate                               0\n",
       "                                      ..\n",
       "sec_app_open_act_il                    0\n",
       "sec_app_num_rev_accts                  0\n",
       "sec_app_chargeoff_within_12_mths       0\n",
       "sec_app_collections_12_mths_ex_med     0\n",
       "sec_app_mths_since_last_major_derog    0\n",
       "Length: 112, dtype: int64"
      ]
     },
     "metadata": {},
     "output_type": "display_data"
    }
   ],
   "source": [
    "# replace or fill NaN with 0 and confirm\n",
    "bank1_df = bank1_df.fillna(0.0)\n",
    "display(bank1_df.isnull().values.any())\n",
    "print('\\n')\n",
    "count_nan = bank1_df.isnull().sum()\n",
    "display(count_nan)"
   ]
  },
  {
   "cell_type": "code",
   "execution_count": 40,
   "id": "64fc0f03-88d3-4ba3-b534-22171f49429e",
   "metadata": {},
   "outputs": [
    {
     "data": {
      "text/plain": [
       "<AxesSubplot:>"
      ]
     },
     "execution_count": 40,
     "metadata": {},
     "output_type": "execute_result"
    },
    {
     "data": {
      "image/png": "[encoded data removed]",
      "text/plain": [
       "<Figure size 432x288 with 1 Axes>"
      ]
     },
     "metadata": {
      "needs_background": "light"
     },
     "output_type": "display_data"
    }
   ],
   "source": [
    "bank1_df['grade'].hist(bins=15)"
   ]
  },
  {
   "cell_type": "markdown",
   "id": "59aa856c-d903-4623-a82d-f5d940708dce",
   "metadata": {},
   "source": [
    "## Check histograms to see if StandardScaler could be applied"
   ]
  },
  {
   "cell_type": "code",
   "execution_count": 41,
   "id": "3a3bb198-539b-4d76-93ad-bc7d0eba91b9",
   "metadata": {},
   "outputs": [
    {
     "data": {
      "text/plain": [
       "array([[<AxesSubplot:title={'center':'loan_amnt'}>,\n",
       "        <AxesSubplot:title={'center':'funded_amnt'}>,\n",
       "        <AxesSubplot:title={'center':'funded_amnt_inv'}>,\n",
       "        <AxesSubplot:title={'center':'term'}>,\n",
       "        <AxesSubplot:title={'center':'int_rate'}>,\n",
       "        <AxesSubplot:title={'center':'installment'}>,\n",
       "        <AxesSubplot:title={'center':'grade'}>,\n",
       "        <AxesSubplot:title={'center':'sub_grade'}>,\n",
       "        <AxesSubplot:title={'center':'emp_length'}>,\n",
       "        <AxesSubplot:title={'center':'home_ownership'}>,\n",
       "        <AxesSubplot:title={'center':'annual_inc'}>],\n",
       "       [<AxesSubplot:title={'center':'verification_status'}>,\n",
       "        <AxesSubplot:title={'center':'loan_status'}>,\n",
       "        <AxesSubplot:title={'center':'addr_state'}>,\n",
       "        <AxesSubplot:title={'center':'dti'}>,\n",
       "        <AxesSubplot:title={'center':'delinq_2yrs'}>,\n",
       "        <AxesSubplot:title={'center':'fico_range_low'}>,\n",
       "        <AxesSubplot:title={'center':'fico_range_high'}>,\n",
       "        <AxesSubplot:title={'center':'inq_last_6mths'}>,\n",
       "        <AxesSubplot:title={'center':'mths_since_last_delinq'}>,\n",
       "        <AxesSubplot:title={'center':'mths_since_last_record'}>,\n",
       "        <AxesSubplot:title={'center':'open_acc'}>],\n",
       "       [<AxesSubplot:title={'center':'pub_rec'}>,\n",
       "        <AxesSubplot:title={'center':'revol_bal'}>,\n",
       "        <AxesSubplot:title={'center':'revol_util'}>,\n",
       "        <AxesSubplot:title={'center':'total_acc'}>,\n",
       "        <AxesSubplot:title={'center':'out_prncp'}>,\n",
       "        <AxesSubplot:title={'center':'out_prncp_inv'}>,\n",
       "        <AxesSubplot:title={'center':'total_pymnt'}>,\n",
       "        <AxesSubplot:title={'center':'total_pymnt_inv'}>,\n",
       "        <AxesSubplot:title={'center':'total_rec_prncp'}>,\n",
       "        <AxesSubplot:title={'center':'total_rec_int'}>,\n",
       "        <AxesSubplot:title={'center':'total_rec_late_fee'}>],\n",
       "       [<AxesSubplot:title={'center':'recoveries'}>,\n",
       "        <AxesSubplot:title={'center':'collection_recovery_fee'}>,\n",
       "        <AxesSubplot:title={'center':'last_pymnt_amnt'}>,\n",
       "        <AxesSubplot:title={'center':'last_fico_range_high'}>,\n",
       "        <AxesSubplot:title={'center':'last_fico_range_low'}>,\n",
       "        <AxesSubplot:title={'center':'collections_12_mths_ex_med'}>,\n",
       "        <AxesSubplot:title={'center':'mths_since_last_major_derog'}>,\n",
       "        <AxesSubplot:title={'center':'policy_code'}>,\n",
       "        <AxesSubplot:title={'center':'application_type'}>,\n",
       "        <AxesSubplot:title={'center':'annual_inc_joint'}>,\n",
       "        <AxesSubplot:title={'center':'dti_joint'}>],\n",
       "       [<AxesSubplot:title={'center':'verification_status_joint'}>,\n",
       "        <AxesSubplot:title={'center':'acc_now_delinq'}>,\n",
       "        <AxesSubplot:title={'center':'tot_coll_amt'}>,\n",
       "        <AxesSubplot:title={'center':'tot_cur_bal'}>,\n",
       "        <AxesSubplot:title={'center':'open_acc_6m'}>,\n",
       "        <AxesSubplot:title={'center':'open_act_il'}>,\n",
       "        <AxesSubplot:title={'center':'open_il_12m'}>,\n",
       "        <AxesSubplot:title={'center':'open_il_24m'}>,\n",
       "        <AxesSubplot:title={'center':'mths_since_rcnt_il'}>,\n",
       "        <AxesSubplot:title={'center':'total_bal_il'}>,\n",
       "        <AxesSubplot:title={'center':'il_util'}>],\n",
       "       [<AxesSubplot:title={'center':'open_rv_12m'}>,\n",
       "        <AxesSubplot:title={'center':'open_rv_24m'}>,\n",
       "        <AxesSubplot:title={'center':'max_bal_bc'}>,\n",
       "        <AxesSubplot:title={'center':'all_util'}>,\n",
       "        <AxesSubplot:title={'center':'total_rev_hi_lim'}>,\n",
       "        <AxesSubplot:title={'center':'inq_fi'}>,\n",
       "        <AxesSubplot:title={'center':'total_cu_tl'}>,\n",
       "        <AxesSubplot:title={'center':'inq_last_12m'}>,\n",
       "        <AxesSubplot:title={'center':'acc_open_past_24mths'}>,\n",
       "        <AxesSubplot:title={'center':'avg_cur_bal'}>,\n",
       "        <AxesSubplot:title={'center':'bc_open_to_buy'}>],\n",
       "       [<AxesSubplot:title={'center':'bc_util'}>,\n",
       "        <AxesSubplot:title={'center':'chargeoff_within_12_mths'}>,\n",
       "        <AxesSubplot:title={'center':'delinq_amnt'}>,\n",
       "        <AxesSubplot:title={'center':'mo_sin_old_il_acct'}>,\n",
       "        <AxesSubplot:title={'center':'mo_sin_old_rev_tl_op'}>,\n",
       "        <AxesSubplot:title={'center':'mo_sin_rcnt_rev_tl_op'}>,\n",
       "        <AxesSubplot:title={'center':'mo_sin_rcnt_tl'}>,\n",
       "        <AxesSubplot:title={'center':'mort_acc'}>,\n",
       "        <AxesSubplot:title={'center':'mths_since_recent_bc'}>,\n",
       "        <AxesSubplot:title={'center':'mths_since_recent_bc_dlq'}>,\n",
       "        <AxesSubplot:title={'center':'mths_since_recent_inq'}>],\n",
       "       [<AxesSubplot:title={'center':'mths_since_recent_revol_delinq'}>,\n",
       "        <AxesSubplot:title={'center':'num_accts_ever_120_pd'}>,\n",
       "        <AxesSubplot:title={'center':'num_actv_bc_tl'}>,\n",
       "        <AxesSubplot:title={'center':'num_actv_rev_tl'}>,\n",
       "        <AxesSubplot:title={'center':'num_bc_sats'}>,\n",
       "        <AxesSubplot:title={'center':'num_bc_tl'}>,\n",
       "        <AxesSubplot:title={'center':'num_il_tl'}>,\n",
       "        <AxesSubplot:title={'center':'num_op_rev_tl'}>,\n",
       "        <AxesSubplot:title={'center':'num_rev_accts'}>,\n",
       "        <AxesSubplot:title={'center':'num_rev_tl_bal_gt_0'}>,\n",
       "        <AxesSubplot:title={'center':'num_sats'}>],\n",
       "       [<AxesSubplot:title={'center':'num_tl_120dpd_2m'}>,\n",
       "        <AxesSubplot:title={'center':'num_tl_30dpd'}>,\n",
       "        <AxesSubplot:title={'center':'num_tl_90g_dpd_24m'}>,\n",
       "        <AxesSubplot:title={'center':'num_tl_op_past_12m'}>,\n",
       "        <AxesSubplot:title={'center':'pct_tl_nvr_dlq'}>,\n",
       "        <AxesSubplot:title={'center':'percent_bc_gt_75'}>,\n",
       "        <AxesSubplot:title={'center':'pub_rec_bankruptcies'}>,\n",
       "        <AxesSubplot:title={'center':'tax_liens'}>,\n",
       "        <AxesSubplot:title={'center':'tot_hi_cred_lim'}>,\n",
       "        <AxesSubplot:title={'center':'total_bal_ex_mort'}>,\n",
       "        <AxesSubplot:title={'center':'total_bc_limit'}>],\n",
       "       [<AxesSubplot:title={'center':'total_il_high_credit_limit'}>,\n",
       "        <AxesSubplot:title={'center':'revol_bal_joint'}>,\n",
       "        <AxesSubplot:title={'center':'sec_app_fico_range_low'}>,\n",
       "        <AxesSubplot:title={'center':'sec_app_fico_range_high'}>,\n",
       "        <AxesSubplot:title={'center':'sec_app_inq_last_6mths'}>,\n",
       "        <AxesSubplot:title={'center':'sec_app_mort_acc'}>,\n",
       "        <AxesSubplot:title={'center':'sec_app_open_acc'}>,\n",
       "        <AxesSubplot:title={'center':'sec_app_revol_util'}>,\n",
       "        <AxesSubplot:title={'center':'sec_app_open_act_il'}>,\n",
       "        <AxesSubplot:title={'center':'sec_app_num_rev_accts'}>,\n",
       "        <AxesSubplot:title={'center':'sec_app_chargeoff_within_12_mths'}>],\n",
       "       [<AxesSubplot:title={'center':'sec_app_collections_12_mths_ex_med'}>,\n",
       "        <AxesSubplot:title={'center':'sec_app_mths_since_last_major_derog'}>,\n",
       "        <AxesSubplot:>, <AxesSubplot:>, <AxesSubplot:>, <AxesSubplot:>,\n",
       "        <AxesSubplot:>, <AxesSubplot:>, <AxesSubplot:>, <AxesSubplot:>,\n",
       "        <AxesSubplot:>]], dtype=object)"
      ]
     },
     "execution_count": 41,
     "metadata": {},
     "output_type": "execute_result"
    },
    {
     "data": {
      "image/png": "[encoded data removed]",
      "text/plain": [
       "<Figure size 1728x2448 with 121 Axes>"
      ]
     },
     "metadata": {
      "needs_background": "light"
     },
     "output_type": "display_data"
    }
   ],
   "source": [
    "bank1_df.hist(bins=20, figsize= (24,34))"
   ]
  },
  {
   "cell_type": "code",
   "execution_count": 63,
   "id": "f181d511-5416-4b1a-8d1c-8b97d8829b58",
   "metadata": {
    "id": "f181d511-5416-4b1a-8d1c-8b97d8829b58"
   },
   "outputs": [
    {
     "data": {
      "text/html": [
       "<div>\n",
       "<style scoped>\n",
       "    .dataframe tbody tr th:only-of-type {\n",
       "        vertical-align: middle;\n",
       "    }\n",
       "\n",
       "    .dataframe tbody tr th {\n",
       "        vertical-align: top;\n",
       "    }\n",
       "\n",
       "    .dataframe thead th {\n",
       "        text-align: right;\n",
       "    }\n",
       "</style>\n",
       "<table border=\"1\" class=\"dataframe\">\n",
       "  <thead>\n",
       "    <tr style=\"text-align: right;\">\n",
       "      <th></th>\n",
       "      <th>loan_amnt</th>\n",
       "      <th>funded_amnt</th>\n",
       "      <th>funded_amnt_inv</th>\n",
       "      <th>term</th>\n",
       "      <th>int_rate</th>\n",
       "      <th>installment</th>\n",
       "      <th>grade</th>\n",
       "      <th>sub_grade</th>\n",
       "      <th>emp_length</th>\n",
       "      <th>home_ownership</th>\n",
       "      <th>...</th>\n",
       "      <th>sec_app_fico_range_high</th>\n",
       "      <th>sec_app_inq_last_6mths</th>\n",
       "      <th>sec_app_mort_acc</th>\n",
       "      <th>sec_app_open_acc</th>\n",
       "      <th>sec_app_revol_util</th>\n",
       "      <th>sec_app_open_act_il</th>\n",
       "      <th>sec_app_num_rev_accts</th>\n",
       "      <th>sec_app_chargeoff_within_12_mths</th>\n",
       "      <th>sec_app_collections_12_mths_ex_med</th>\n",
       "      <th>sec_app_mths_since_last_major_derog</th>\n",
       "    </tr>\n",
       "  </thead>\n",
       "  <tbody>\n",
       "    <tr>\n",
       "      <th>0</th>\n",
       "      <td>3600.0</td>\n",
       "      <td>3600.0</td>\n",
       "      <td>3600.0</td>\n",
       "      <td>1.0</td>\n",
       "      <td>13.99</td>\n",
       "      <td>123.03</td>\n",
       "      <td>3.0</td>\n",
       "      <td>24.0</td>\n",
       "      <td>10.0</td>\n",
       "      <td>3.0</td>\n",
       "      <td>...</td>\n",
       "      <td>0.0</td>\n",
       "      <td>0.0</td>\n",
       "      <td>0.0</td>\n",
       "      <td>0.0</td>\n",
       "      <td>0.0</td>\n",
       "      <td>0.0</td>\n",
       "      <td>0.0</td>\n",
       "      <td>0.0</td>\n",
       "      <td>0.0</td>\n",
       "      <td>0.0</td>\n",
       "    </tr>\n",
       "    <tr>\n",
       "      <th>1</th>\n",
       "      <td>24700.0</td>\n",
       "      <td>24700.0</td>\n",
       "      <td>24700.0</td>\n",
       "      <td>1.0</td>\n",
       "      <td>11.99</td>\n",
       "      <td>820.28</td>\n",
       "      <td>3.0</td>\n",
       "      <td>21.0</td>\n",
       "      <td>10.0</td>\n",
       "      <td>3.0</td>\n",
       "      <td>...</td>\n",
       "      <td>0.0</td>\n",
       "      <td>0.0</td>\n",
       "      <td>0.0</td>\n",
       "      <td>0.0</td>\n",
       "      <td>0.0</td>\n",
       "      <td>0.0</td>\n",
       "      <td>0.0</td>\n",
       "      <td>0.0</td>\n",
       "      <td>0.0</td>\n",
       "      <td>0.0</td>\n",
       "    </tr>\n",
       "    <tr>\n",
       "      <th>2</th>\n",
       "      <td>20000.0</td>\n",
       "      <td>20000.0</td>\n",
       "      <td>20000.0</td>\n",
       "      <td>2.0</td>\n",
       "      <td>10.78</td>\n",
       "      <td>432.66</td>\n",
       "      <td>2.0</td>\n",
       "      <td>14.0</td>\n",
       "      <td>10.0</td>\n",
       "      <td>3.0</td>\n",
       "      <td>...</td>\n",
       "      <td>0.0</td>\n",
       "      <td>0.0</td>\n",
       "      <td>0.0</td>\n",
       "      <td>0.0</td>\n",
       "      <td>0.0</td>\n",
       "      <td>0.0</td>\n",
       "      <td>0.0</td>\n",
       "      <td>0.0</td>\n",
       "      <td>0.0</td>\n",
       "      <td>0.0</td>\n",
       "    </tr>\n",
       "  </tbody>\n",
       "</table>\n",
       "<p>3 rows × 112 columns</p>\n",
       "</div>"
      ],
      "text/plain": [
       "   loan_amnt  funded_amnt  funded_amnt_inv  term  int_rate  installment  \\\n",
       "0     3600.0       3600.0           3600.0   1.0     13.99       123.03   \n",
       "1    24700.0      24700.0          24700.0   1.0     11.99       820.28   \n",
       "2    20000.0      20000.0          20000.0   2.0     10.78       432.66   \n",
       "\n",
       "   grade  sub_grade  emp_length  home_ownership  ...  sec_app_fico_range_high  \\\n",
       "0    3.0       24.0        10.0             3.0  ...                      0.0   \n",
       "1    3.0       21.0        10.0             3.0  ...                      0.0   \n",
       "2    2.0       14.0        10.0             3.0  ...                      0.0   \n",
       "\n",
       "   sec_app_inq_last_6mths  sec_app_mort_acc  sec_app_open_acc  \\\n",
       "0                     0.0               0.0               0.0   \n",
       "1                     0.0               0.0               0.0   \n",
       "2                     0.0               0.0               0.0   \n",
       "\n",
       "   sec_app_revol_util  sec_app_open_act_il  sec_app_num_rev_accts  \\\n",
       "0                 0.0                  0.0                    0.0   \n",
       "1                 0.0                  0.0                    0.0   \n",
       "2                 0.0                  0.0                    0.0   \n",
       "\n",
       "   sec_app_chargeoff_within_12_mths  sec_app_collections_12_mths_ex_med  \\\n",
       "0                               0.0                                 0.0   \n",
       "1                               0.0                                 0.0   \n",
       "2                               0.0                                 0.0   \n",
       "\n",
       "   sec_app_mths_since_last_major_derog  \n",
       "0                                  0.0  \n",
       "1                                  0.0  \n",
       "2                                  0.0  \n",
       "\n",
       "[3 rows x 112 columns]"
      ]
     },
     "metadata": {},
     "output_type": "display_data"
    },
    {
     "name": "stdout",
     "output_type": "stream",
     "text": [
      "\n",
      "\n"
     ]
    },
    {
     "data": {
      "text/plain": [
       "(1200000, 112)"
      ]
     },
     "metadata": {},
     "output_type": "display_data"
    },
    {
     "name": "stdout",
     "output_type": "stream",
     "text": [
      "\n",
      "\n"
     ]
    },
    {
     "data": {
      "text/plain": [
       "loan_amnt                              float64\n",
       "funded_amnt                            float64\n",
       "funded_amnt_inv                        float64\n",
       "term                                   float64\n",
       "int_rate                               float64\n",
       "                                        ...   \n",
       "sec_app_open_act_il                    float64\n",
       "sec_app_num_rev_accts                  float64\n",
       "sec_app_chargeoff_within_12_mths       float64\n",
       "sec_app_collections_12_mths_ex_med     float64\n",
       "sec_app_mths_since_last_major_derog    float64\n",
       "Length: 112, dtype: object"
      ]
     },
     "metadata": {},
     "output_type": "display_data"
    },
    {
     "name": "stdout",
     "output_type": "stream",
     "text": [
      "\n",
      "\n",
      "<class 'pandas.core.frame.DataFrame'>\n",
      "RangeIndex: 1200000 entries, 0 to 1199999\n",
      "Columns: 112 entries, loan_amnt to sec_app_mths_since_last_major_derog\n",
      "dtypes: float64(112)\n",
      "memory usage: 1.0 GB\n"
     ]
    },
    {
     "data": {
      "text/plain": [
       "None"
      ]
     },
     "metadata": {},
     "output_type": "display_data"
    }
   ],
   "source": [
    "# Review the DataFrame\n",
    "display(bank1_df.head(3))\n",
    "print('\\n')\n",
    "display(bank1_df.shape)\n",
    "print('\\n')\n",
    "display(bank1_df.dtypes)\n",
    "print('\\n')\n",
    "display(bank1_df.info())"
   ]
  },
  {
   "cell_type": "markdown",
   "id": "6b52e33c-dd0e-4e0f-b2d2-38257b112833",
   "metadata": {
    "id": "924235e0-4d5e-498a-8760-9ade94a6915e"
   },
   "source": [
    "## Create the labels or target set (b1y) from the “loan_status” column, and then create the features (b1X) DataFrame from the remaining columns."
   ]
  },
  {
   "cell_type": "code",
   "execution_count": 64,
   "id": "496264bc-bbb7-4ad5-ae9d-c8d433b758a1",
   "metadata": {
    "id": "496264bc-bbb7-4ad5-ae9d-c8d433b758a1"
   },
   "outputs": [
    {
     "data": {
      "text/plain": [
       "0    1.0\n",
       "1    1.0\n",
       "2    1.0\n",
       "3    1.0\n",
       "4    1.0\n",
       "Name: loan_status, dtype: float64"
      ]
     },
     "metadata": {},
     "output_type": "display_data"
    },
    {
     "data": {
      "text/plain": [
       "0          1.0\n",
       "1          1.0\n",
       "2          1.0\n",
       "3          1.0\n",
       "4          1.0\n",
       "          ... \n",
       "1199990    1.0\n",
       "1199991    1.0\n",
       "1199992    1.0\n",
       "1199993    1.0\n",
       "1199994    1.0\n",
       "Name: loan_status, Length: 1199995, dtype: float64"
      ]
     },
     "metadata": {},
     "output_type": "display_data"
    }
   ],
   "source": [
    "# Define bank1_df target set b1y using the 'loan_status' column\n",
    "b1y = bank1_df['loan_status']\n",
    "# Display a sample of target b1y\n",
    "display(b1y[:5])\n",
    "display(b1y[:-5])"
   ]
  },
  {
   "cell_type": "code",
   "execution_count": 65,
   "id": "f28210f8-fbcb-439d-9081-13b02ca5340a",
   "metadata": {},
   "outputs": [],
   "source": [
    "# Define bank1_df features set b1X\n",
    "# b1X = bank1_df.drop('loan_status', axis = 1)\n",
    "b1X = bank1_df.drop(columns = 'loan_status')"
   ]
  },
  {
   "cell_type": "markdown",
   "id": "f73f4c0e-7547-475d-91a7-3719bcfff222",
   "metadata": {
    "id": "f01e99c1-78a2-4c67-b9de-119b88e12e86",
    "tags": []
   },
   "source": [
    "## Scale the features and prepare for component analysis (i.e. PCA)"
   ]
  },
  {
   "cell_type": "code",
   "execution_count": 66,
   "id": "c9c2417c-b902-4820-865d-78c61beeeeab",
   "metadata": {
    "id": "c9c2417c-b902-4820-865d-78c61beeeeab"
   },
   "outputs": [],
   "source": [
    "# Generate random_state variable\n",
    "SEED = 42"
   ]
  },
  {
   "cell_type": "code",
   "execution_count": 67,
   "id": "39ca5593-fe3b-44d8-a460-262fe6275c86",
   "metadata": {},
   "outputs": [],
   "source": [
    "# Scale features b1X data with StandardScaler()\n",
    "b1X_scaled = StandardScaler().fit_transform(b1X)\n"
   ]
  },
  {
   "cell_type": "code",
   "execution_count": 68,
   "id": "1f1679d7-268e-4948-b823-e6fae7d9a5c2",
   "metadata": {},
   "outputs": [
    {
     "data": {
      "image/png": "[encoded data removed]",
      "text/plain": [
       "<Figure size 1440x432 with 1 Axes>"
      ]
     },
     "metadata": {
      "needs_background": "light"
     },
     "output_type": "display_data"
    },
    {
     "name": "stdout",
     "output_type": "stream",
     "text": [
      "Wall time: 11.8 s\n"
     ]
    }
   ],
   "source": [
    "%%time\n",
    "%matplotlib inline\n",
    "import matplotlib.pyplot as plt\n",
    "from matplotlib.ticker import MultipleLocator\n",
    "\n",
    "# Determine best n_components value for StandardScaler() data\n",
    "pca = PCA().fit(b1X_scaled)\n",
    "\n",
    "plt.rcParams['figure.figsize'] = (20,6)\n",
    "\n",
    "fig, ax = plt.subplots()\n",
    "xi = np.arange(1, 112, step=1)\n",
    "y = np.cumsum(pca.explained_variance_ratio_)\n",
    "\n",
    "plt.ylim(0.0,1.1)\n",
    "plt.plot(xi, y, marker='o', linestyle='--', color='b')\n",
    "ax.xaxis.set_major_locator(MultipleLocator(5))\n",
    "plt.xlabel('Number of Components')\n",
    "# plt.xticks(np.arange(0, 11, step=1))             #change from 0-based array index to 1-based human-readable label\n",
    "plt.ylabel('Cumulative variance (%)')\n",
    "plt.title('The number of components needed to explain variance')\n",
    "\n",
    "plt.axhline(y=0.95, color='r', linestyle='-')\n",
    "plt.text(0.5, 0.95, '95% cut-off threshold', color = 'red', fontsize=16)\n",
    "\n",
    "plt.axhline(y=0.85, color='r', linestyle='-')\n",
    "plt.text(0.5, 0.85, '85% cut-off threshold', color = 'red', fontsize=16)\n",
    "\n",
    "ax.grid(axis='x')\n",
    "plt.show()"
   ]
  },
  {
   "cell_type": "code",
   "execution_count": 69,
   "id": "8af83476-22e9-4d51-ab7e-b50189524bb6",
   "metadata": {},
   "outputs": [],
   "source": [
    "# Scale features b1X data with MinMaxScaler()\n",
    "b1X_scaler = MinMaxScaler()\n",
    "\n",
    "b1X_mm_scaled = b1X_scaler.fit_transform(b1X)\n"
   ]
  },
  {
   "cell_type": "code",
   "execution_count": 70,
   "id": "2d832482-fd4e-4cac-8f7c-6ec3d1c513c5",
   "metadata": {},
   "outputs": [
    {
     "data": {
      "image/png": "[encoded data removed]",
      "text/plain": [
       "<Figure size 1440x432 with 1 Axes>"
      ]
     },
     "metadata": {
      "needs_background": "light"
     },
     "output_type": "display_data"
    }
   ],
   "source": [
    "# Determine best n_components value for MinMaxScaler() data\n",
    "\n",
    "pca = PCA().fit(b1X_mm_scaled)\n",
    "\n",
    "plt.rcParams['figure.figsize'] = (20,6)\n",
    "\n",
    "fig, ax = plt.subplots()\n",
    "xi = np.arange(1, 112, step=1)\n",
    "y = np.cumsum(pca.explained_variance_ratio_)\n",
    "\n",
    "plt.ylim(0.0,1.1)\n",
    "plt.plot(xi, y, marker='o', linestyle='--', color='b')\n",
    "ax.xaxis.set_major_locator(MultipleLocator(5))\n",
    "plt.xlabel('Number of Components')\n",
    "# plt.xticks(np.arange(0, 11, step=1))             #change from 0-based array index to 1-based human-readable label\n",
    "plt.ylabel('Cumulative variance (%)')\n",
    "plt.title('The number of components needed to explain variance')\n",
    "\n",
    "plt.axhline(y=0.95, color='r', linestyle='-')\n",
    "plt.text(0.5, 0.95, '95% cut-off threshold', color = 'red', fontsize=16)\n",
    "\n",
    "plt.axhline(y=0.85, color='r', linestyle='-')\n",
    "plt.text(0.5, 0.85, '85% cut-off threshold', color = 'red', fontsize=16)\n",
    "\n",
    "ax.grid(axis='x')\n",
    "plt.show()"
   ]
  },
  {
   "cell_type": "markdown",
   "id": "9cdd7bd2-b2fd-46da-a117-922917ad3ecd",
   "metadata": {},
   "source": [
    "# Perform Principal Component Analysis (PCA)\n",
    "95% variance"
   ]
  },
  {
   "cell_type": "code",
   "execution_count": 71,
   "id": "0933b9a4-ce70-4816-9d10-b00c21eeda19",
   "metadata": {},
   "outputs": [],
   "source": [
    "# Perform PCA on the StandardScaler() features data set b1X_scaled\n",
    "b1X_scaled_pca = PCA(n_components = 0.95, random_state = SEED)\n",
    "b1X_scaled_reduced = b1X_scaled_pca.fit_transform(b1X_scaled)\n",
    "#Use bracket notation ([0:3]) to review three rows of the PCA data\n",
    "# b1X_scaled_reduced[0:3]"
   ]
  },
  {
   "cell_type": "code",
   "execution_count": 72,
   "id": "02ca0b23-b107-4332-98fd-398688d0b196",
   "metadata": {},
   "outputs": [],
   "source": [
    "# Calculate the explained variance\n",
    "# pca.explained_variance_ratio_"
   ]
  },
  {
   "cell_type": "code",
   "execution_count": 73,
   "id": "d0e2dd0c-9229-4941-9a4a-b9390bc872e3",
   "metadata": {},
   "outputs": [],
   "source": [
    "# Perform PCA on the MinMaxScaler() features data set b1X_mm_scaled\n",
    "b1X_mm_scaled_pca = PCA(n_components = 0.95, random_state = SEED)\n",
    "b1X_mm_scaled_reduced = b1X_mm_scaled_pca.fit_transform(b1X_mm_scaled)\n",
    "#Use bracket notation ([0:3]) to review three rows of the PCA data\n",
    "# b1X_mm_scaled_reduced[0:3]"
   ]
  },
  {
   "cell_type": "code",
   "execution_count": 75,
   "id": "abc16c7a-0c96-4f01-84cb-dcb91c17d3fc",
   "metadata": {},
   "outputs": [
    {
     "data": {
      "text/plain": [
       "array([1.79189285e-01, 1.23750654e-01, 1.00371037e-01, 9.69492389e-02,\n",
       "       7.31020744e-02, 6.17484893e-02, 4.94894243e-02, 4.15647034e-02,\n",
       "       3.80307729e-02, 3.32032783e-02, 3.27122264e-02, 2.35437517e-02,\n",
       "       2.03909317e-02, 1.65137231e-02, 1.54428201e-02, 1.22775846e-02,\n",
       "       8.43357705e-03, 7.64160827e-03, 5.69009247e-03, 5.50326087e-03,\n",
       "       4.91344110e-03, 4.86136379e-03, 4.70089495e-03, 4.06802854e-03,\n",
       "       3.74853222e-03, 2.98381794e-03, 2.66167905e-03, 1.78977108e-03,\n",
       "       1.62861810e-03, 1.50333804e-03, 1.44035287e-03, 1.37676066e-03,\n",
       "       1.29420754e-03, 1.17246389e-03, 9.67932855e-04, 9.37329155e-04,\n",
       "       8.90194242e-04, 8.29182997e-04, 8.17707140e-04, 7.90798997e-04,\n",
       "       7.69807586e-04, 7.45576152e-04, 7.03843718e-04, 6.83243187e-04,\n",
       "       6.15464181e-04, 5.86248858e-04, 4.83780710e-04, 4.77924686e-04,\n",
       "       4.37281292e-04, 4.23940288e-04, 4.20373164e-04, 3.14781199e-04,\n",
       "       2.87695859e-04, 2.83485722e-04, 2.66923013e-04, 2.51772727e-04,\n",
       "       2.30219536e-04, 2.22755320e-04, 2.08059919e-04, 1.93864952e-04,\n",
       "       1.84069912e-04, 1.65180442e-04, 1.64381275e-04, 1.62671367e-04,\n",
       "       1.58690603e-04, 1.46813647e-04, 1.27011728e-04, 1.25400415e-04,\n",
       "       1.20426764e-04, 1.19147086e-04, 1.09712974e-04, 9.95022985e-05,\n",
       "       7.80918552e-05, 7.35722978e-05, 6.31487740e-05, 6.01521549e-05,\n",
       "       5.75379654e-05, 5.44095195e-05, 4.60960231e-05, 4.33641350e-05,\n",
       "       4.12739849e-05, 4.05286560e-05, 2.99782170e-05, 2.78381285e-05,\n",
       "       2.37204689e-05, 2.07412306e-05, 1.96594511e-05, 1.90235015e-05,\n",
       "       1.54780013e-05, 1.45384731e-05, 9.09388000e-06, 7.72373826e-06,\n",
       "       7.33374432e-06, 6.68023842e-06, 5.74995812e-06, 3.84376667e-06,\n",
       "       3.16546407e-06, 2.87998775e-06, 2.78724533e-06, 2.20260599e-06,\n",
       "       1.54094145e-06, 9.87124110e-07, 7.47691165e-07, 6.89320046e-07,\n",
       "       3.45951044e-07, 4.75484960e-08, 2.37859792e-08, 3.84702070e-09,\n",
       "       8.33000283e-10, 8.44028098e-11, 2.86473295e-16])"
      ]
     },
     "execution_count": 75,
     "metadata": {},
     "output_type": "execute_result"
    }
   ],
   "source": [
    "# Calculate the explained variance\n",
    "pca.explained_variance_ratio_"
   ]
  },
  {
   "cell_type": "markdown",
   "id": "a3983096-ec2d-4520-9c18-b513c8545181",
   "metadata": {},
   "source": [
    "# Split the data (train vs test)"
   ]
  },
  {
   "cell_type": "code",
   "execution_count": 76,
   "id": "ecf9c631-8f6f-46f4-a402-be0d7f81078c",
   "metadata": {},
   "outputs": [],
   "source": [
    "# Full PCA dataset\n",
    "# Split the bank1-df StandardScaler scaled PCA data into training and testing datasets using train_test_split().\n",
    "\n",
    "b1X_scaled_reduced_train, b1X_scaled_reduced_test, b1y_train, b1y_test = train_test_split(\n",
    "    b1X_scaled_reduced, b1y, \n",
    "    test_size=0.25,                # 75% train : 25% test split\n",
    "    random_state = SEED\n",
    ")"
   ]
  },
  {
   "cell_type": "code",
   "execution_count": 77,
   "id": "4f4e68c9-789d-4be6-b54a-be60a36ef342",
   "metadata": {},
   "outputs": [
    {
     "data": {
      "text/plain": [
       "1200000"
      ]
     },
     "metadata": {},
     "output_type": "display_data"
    },
    {
     "data": {
      "text/plain": [
       "900000"
      ]
     },
     "metadata": {},
     "output_type": "display_data"
    },
    {
     "data": {
      "text/plain": [
       "300000"
      ]
     },
     "metadata": {},
     "output_type": "display_data"
    }
   ],
   "source": [
    "# inspect datasets' full and split lengths, i.e. review the split\n",
    "display(len(b1X_scaled_reduced))            # 1200000\n",
    "display(len(b1X_scaled_reduced_train))      # 900000\n",
    "display(len(b1X_scaled_reduced_test))       # 300000"
   ]
  },
  {
   "cell_type": "code",
   "execution_count": 78,
   "id": "b1bca548-e8bf-49c9-8e15-388cfa1c172e",
   "metadata": {},
   "outputs": [],
   "source": [
    "# Split the bank1-df MinMaxScaler scaled PCA data into training and testing datasets using train_test_split().\n",
    "\n",
    "b1X_mm_scaled_reduced_train, b1X_mm_scaled_reduced_test, b1y_train, b1y_test = train_test_split(\n",
    "    b1X_mm_scaled_reduced, b1y, \n",
    "    test_size=0.25,                # 75% train : 25% test split\n",
    "    random_state = SEED\n",
    ")"
   ]
  },
  {
   "cell_type": "code",
   "execution_count": 79,
   "id": "fc62367d-89ab-4b0a-a7d0-48e4283cf5e5",
   "metadata": {},
   "outputs": [
    {
     "data": {
      "text/plain": [
       "1200000"
      ]
     },
     "metadata": {},
     "output_type": "display_data"
    },
    {
     "data": {
      "text/plain": [
       "900000"
      ]
     },
     "metadata": {},
     "output_type": "display_data"
    },
    {
     "data": {
      "text/plain": [
       "300000"
      ]
     },
     "metadata": {},
     "output_type": "display_data"
    }
   ],
   "source": [
    "# inspect datasets' full and split lengths, i.e. review the split\n",
    "display(len(b1X_mm_scaled_reduced))            # 1200000\n",
    "display(len(b1X_mm_scaled_reduced_train))      # 900000\n",
    "display(len(b1X_mm_scaled_reduced_test))       # 300000"
   ]
  },
  {
   "cell_type": "markdown",
   "id": "25806a04-3d09-44cf-ba93-97b84f57adb2",
   "metadata": {},
   "source": [
    "___\n",
    "___\n",
    "# Initiate modelling\n",
    "# StandardScaler, PCA, LinearSVC classifier model\n",
    "## Use the LinearSVC classifier model from SKLearn's support vector machine (SVM) learning method to fit the training data and make predictions"
   ]
  },
  {
   "cell_type": "markdown",
   "id": "3765948f-ed53-4fb4-bb88-9ac8f25d5eb4",
   "metadata": {},
   "source": [
    "# Bank 1"
   ]
  },
  {
   "cell_type": "code",
   "execution_count": 43,
   "id": "affd3734-5b8e-4f22-959a-0cb10bec57d7",
   "metadata": {},
   "outputs": [
    {
     "name": "stdout",
     "output_type": "stream",
     "text": [
      "LinearSVC(max_iter=1500, random_state=42)\n",
      "Score:  0.9810511111111111\n",
      "CPU times: user 5min 52s, sys: 2.41 s, total: 5min 54s\n",
      "Wall time: 5min 53s\n"
     ]
    },
    {
     "data": {
      "text/plain": [
       "array([1., 1., 1., 1., 1., 1., 1., 1., 1., 1., 0., 1., 1., 1., 1., 1., 1.,\n",
       "       0., 0., 1., 1., 1., 1., 1., 1., 0., 1., 1., 0., 1., 1., 1., 1., 1.,\n",
       "       1., 1., 1., 0., 1., 0., 0., 1., 1., 1., 0., 1., 1., 1., 1., 1.])"
      ]
     },
     "execution_count": 43,
     "metadata": {},
     "output_type": "execute_result"
    }
   ],
   "source": [
    "%%time\n",
    "# bank1, Standardcaler, PCA - from SVM, instantiate LinearSVC classifier model instance\n",
    "b1_lsvc = LinearSVC(random_state = SEED, max_iter = 1500, verbose=0)\n",
    "print(b1_lsvc) \n",
    "    \n",
    "# Fit the model to the data using the training data\n",
    "b1_lsvc_model = b1_lsvc.fit(b1X_scaled_reduced_train, b1y_train)\n",
    "score = b1_lsvc.score(b1X_scaled_reduced_train, b1y_train)\n",
    "print('Score: ', score)\n",
    "\n",
    "# Use the testing data to make the model predictions\n",
    "b1_lsvc_predictions = b1_lsvc_model.predict(b1X_scaled_reduced_test)\n",
    "\n",
    "# Review the model's predicted values\n",
    "b1_lsvc_predictions[:50]"
   ]
  },
  {
   "cell_type": "code",
   "execution_count": 44,
   "id": "9ea041da-5587-4871-9778-d38f4a778ffd",
   "metadata": {},
   "outputs": [
    {
     "name": "stdout",
     "output_type": "stream",
     "text": [
      "[[ 38308   5397]\n",
      " [   288 256007]]\n",
      "\n",
      "balanced accuracy score: 0.9376946398394523\n",
      "\n",
      "                    pre       rec       spe        f1       geo       iba       sup\n",
      "\n",
      "        0.0       0.99      0.88      1.00      0.93      0.94      0.86     43705\n",
      "        1.0       0.98      1.00      0.88      0.99      0.94      0.89    256295\n",
      "\n",
      "avg / total       0.98      0.98      0.89      0.98      0.94      0.88    300000\n",
      "\n",
      "CPU times: user 2.06 s, sys: 739 ms, total: 2.8 s\n",
      "Wall time: 854 ms\n"
     ]
    },
    {
     "data": {
      "image/png": "[encoded data removed]",
      "text/plain": [
       "<Figure size 2000x600 with 2 Axes>"
      ]
     },
     "metadata": {},
     "output_type": "display_data"
    }
   ],
   "source": [
    "%%time\n",
    "# Calculate the balanced_accuracy score of the model\n",
    "b1_lsvc_balanced_accuracy_score = balanced_accuracy_score(b1y_test, b1_lsvc_predictions)\n",
    "\n",
    "# Generate a confusion matrix for the model\n",
    "b1_lsvc_matrix = confusion_matrix(b1y_test, b1_lsvc_predictions,\n",
    "                                  labels=[0.0, 1.0])\n",
    "\n",
    "# Print the confusion matrix for the original test data\n",
    "print(b1_lsvc_matrix)\n",
    "\n",
    "# Calculate the classification report for the model\n",
    "b1_lsvc_imbalance_testing_report = classification_report_imbalanced(b1y_test, b1_lsvc_predictions)\n",
    "\n",
    "# Adding classes names for better interpretation\n",
    "classes_names = ['Bad Loan (0)', 'Good Loan (+1)']\n",
    "cm = pd.DataFrame(confusion_matrix(b1y_test, b1_lsvc_predictions), \n",
    "                  columns=classes_names, index = classes_names)\n",
    "                  \n",
    "# Seaborn's heatmap to better visualize the confusion matrix\n",
    "sns.heatmap(cm, annot = True, fmt = 'd', cmap='Greens', linewidth =.5, linecolor = 'black')\n",
    "# Print the balanced_accuracy score of the classifier19 model\n",
    "print('\\nbalanced accuracy score:', b1_lsvc_balanced_accuracy_score)\n",
    "# Print the classification report for the classifier19 model\n",
    "print('\\n',b1_lsvc_imbalance_testing_report) \n"
   ]
  },
  {
   "cell_type": "code",
   "execution_count": 45,
   "id": "a05ab55c-f171-477a-8e23-9eae989f78d9",
   "metadata": {},
   "outputs": [
    {
     "name": "stdout",
     "output_type": "stream",
     "text": [
      "CPU times: user 2.21 ms, sys: 795 µs, total: 3 ms\n",
      "Wall time: 811 µs\n"
     ]
    }
   ],
   "source": [
    "%%time\n",
    "# Save bank1, standardscaler, PCA LinearSVC classifier model - pickle method\n",
    "# pickle.dump(b1_svm_model, open(Path('./Resources_models/b1_svm_model.pkl'), 'wb'))\n",
    "b1_lsvc_path = Path('./Resources_models/b1_lsvc_model.pkl')\n",
    "with open(b1_lsvc_path, 'wb') as file:\n",
    "    pickle.dump(b1_lsvc_model, file)\n"
   ]
  },
  {
   "cell_type": "code",
   "execution_count": 46,
   "id": "01aac867-a7a1-49f7-8bfe-a31fdca70e14",
   "metadata": {},
   "outputs": [
    {
     "name": "stdout",
     "output_type": "stream",
     "text": [
      "CPU times: user 3.43 ms, sys: 1.02 ms, total: 4.44 ms\n",
      "Wall time: 1.11 ms\n"
     ]
    }
   ],
   "source": [
    "%%time\n",
    "# Save bank1, standardscaler, PCA LinearSVC classifier model - joblib method\n",
    "b1_lsvc_path = Path('./Resources_models/b1_lsvc_model.joblib')\n",
    "with open(b1_lsvc_path, 'wb') as file:\n",
    "    joblib.dump(b1_lsvc_model, file)\n",
    "    "
   ]
  },
  {
   "cell_type": "markdown",
   "id": "a70d6016-d725-4b7f-a033-0c10e9a04c65",
   "metadata": {},
   "source": [
    "___\n",
    "# RandomUnderSampler, StandardScaler, PCA, LinearSVC classifier model\n",
    "## Use the LinearSVC classifier model from SKLearn's support vector machine (SVM) learning method to fit the training data and make predictions"
   ]
  },
  {
   "cell_type": "markdown",
   "id": "e73bbb25-8b12-44b9-aca6-4a4eeafcb91e",
   "metadata": {},
   "source": [
    "# Bank 1"
   ]
  },
  {
   "cell_type": "code",
   "execution_count": 47,
   "id": "2fa2270c-e2e7-4190-b3f4-edf293b4ddd7",
   "metadata": {},
   "outputs": [
    {
     "data": {
      "text/plain": [
       "1.0    769664\n",
       "0.0    130336\n",
       "Name: loan_status, dtype: int64"
      ]
     },
     "execution_count": 47,
     "metadata": {},
     "output_type": "execute_result"
    }
   ],
   "source": [
    "# Count distinct values\n",
    "b1y_train.value_counts()"
   ]
  },
  {
   "cell_type": "code",
   "execution_count": 48,
   "id": "88287af1-5312-433b-bc04-ff4a172610bd",
   "metadata": {},
   "outputs": [],
   "source": [
    "\n",
    "# Instantiate the RandomUnderSampler instance\n",
    "rus = RandomUnderSampler(random_state = SEED)\n",
    "\n",
    "# Fit the data to the model\n",
    "b1X_resampled, b1y_resampled = rus.fit_resample(b1X_scaled_reduced_train, b1y_train)"
   ]
  },
  {
   "cell_type": "code",
   "execution_count": 49,
   "id": "ed276a15-d2f5-4fc0-a21d-2097f893fe5b",
   "metadata": {},
   "outputs": [
    {
     "data": {
      "text/plain": [
       "0.0    130336\n",
       "1.0    130336\n",
       "Name: loan_status, dtype: int64"
      ]
     },
     "execution_count": 49,
     "metadata": {},
     "output_type": "execute_result"
    }
   ],
   "source": [
    "# Count distinct values\n",
    "b1y_resampled.value_counts()"
   ]
  },
  {
   "cell_type": "code",
   "execution_count": 50,
   "id": "8dac710b-7af3-4035-969e-c3068af405c0",
   "metadata": {},
   "outputs": [
    {
     "name": "stdout",
     "output_type": "stream",
     "text": [
      "LinearSVC(max_iter=1500, random_state=42)\n",
      "Score:  0.9564049840412472\n",
      "CPU times: user 1min 9s, sys: 439 ms, total: 1min 9s\n",
      "Wall time: 1min 9s\n"
     ]
    },
    {
     "data": {
      "text/plain": [
       "array([1., 1., 1., 1., 1., 1., 1., 1., 0., 1., 0., 1., 1., 1., 1., 1., 1.,\n",
       "       0., 0., 1., 1., 1., 1., 1., 1., 0., 1., 1., 0., 1., 1., 1., 1., 1.,\n",
       "       1., 1., 1., 0., 1., 0., 0., 1., 1., 1., 0., 1., 1., 1., 1., 1.])"
      ]
     },
     "execution_count": 50,
     "metadata": {},
     "output_type": "execute_result"
    }
   ],
   "source": [
    "%%time\n",
    "# bank1, Standardcaler, PCA, undersampled - from SVM, instantiate LinearSVC classifier model instance\n",
    "b1_resampled_lsvc = LinearSVC(random_state = SEED, max_iter = 1500, verbose=0)\n",
    "print(b1_resampled_lsvc) \n",
    "    \n",
    "# Fit the model to the data using the training data\n",
    "b1_resampled_lsvc_model = b1_resampled_lsvc.fit(b1X_resampled, b1y_resampled)\n",
    "score = b1_resampled_lsvc.score(b1X_resampled, b1y_resampled)\n",
    "print('Score: ', score)\n",
    "\n",
    "# Use the testing data to make the model predictions\n",
    "b1_resampled_lsvc_predictions = b1_resampled_lsvc_model.predict(b1X_scaled_reduced_test)\n",
    "\n",
    "# Review the model's predicted values\n",
    "b1_resampled_lsvc_predictions[:50]"
   ]
  },
  {
   "cell_type": "code",
   "execution_count": 51,
   "id": "e8a4d306-3c92-4aa1-8409-268ced719df0",
   "metadata": {},
   "outputs": [
    {
     "name": "stdout",
     "output_type": "stream",
     "text": [
      "[[ 40893   2812]\n",
      " [  5519 250776]]\n",
      "\n",
      "balanced accuracy score: 0.957062878044198\n",
      "\n",
      "                    pre       rec       spe        f1       geo       iba       sup\n",
      "\n",
      "        0.0       0.88      0.94      0.98      0.91      0.96      0.91     43705\n",
      "        1.0       0.99      0.98      0.94      0.98      0.96      0.92    256295\n",
      "\n",
      "avg / total       0.97      0.97      0.94      0.97      0.96      0.92    300000\n",
      "\n",
      "CPU times: user 1.46 s, sys: 1.21 s, total: 2.67 s\n",
      "Wall time: 815 ms\n"
     ]
    },
    {
     "data": {
      "image/png": "[encoded data removed]",
      "text/plain": [
       "<Figure size 2000x600 with 2 Axes>"
      ]
     },
     "metadata": {},
     "output_type": "display_data"
    }
   ],
   "source": [
    "%%time\n",
    "# Calculate the balanced_accuracy score of the model\n",
    "b1_resampled_lsvc_balanced_accuracy_score = balanced_accuracy_score(b1y_test, b1_resampled_lsvc_predictions)\n",
    "\n",
    "# Generate a confusion matrix for the model\n",
    "b1_resampled_lsvc_matrix = confusion_matrix(b1y_test, b1_resampled_lsvc_predictions,\n",
    "                                  labels=[0.0, 1.0])\n",
    "\n",
    "# Print the confusion matrix for the original test data\n",
    "print(b1_resampled_lsvc_matrix)\n",
    "\n",
    "# Calculate the classification report for the model\n",
    "b1_resampled_lsvc_imbalance_testing_report = classification_report_imbalanced(b1y_test, b1_resampled_lsvc_predictions)\n",
    "\n",
    "# Adding classes names for better interpretation\n",
    "classes_names = ['Bad Loan (0)', 'Good Loan (+1)']\n",
    "cm = pd.DataFrame(confusion_matrix(b1y_test, b1_resampled_lsvc_predictions), \n",
    "                  columns=classes_names, index = classes_names)\n",
    "                  \n",
    "# Seaborn's heatmap to better visualize the confusion matrix\n",
    "sns.heatmap(cm, annot = True, fmt = 'd', cmap='Greens', linewidth =.5, linecolor = 'black')\n",
    "# Print the balanced_accuracy score of the classifier19 model\n",
    "print('\\nbalanced accuracy score:', b1_resampled_lsvc_balanced_accuracy_score)\n",
    "# Print the classification report for the classifier19 model\n",
    "print('\\n',b1_resampled_lsvc_imbalance_testing_report) \n"
   ]
  },
  {
   "cell_type": "code",
   "execution_count": 52,
   "id": "db60d650-cd9f-4681-b6c5-d42e73379e64",
   "metadata": {},
   "outputs": [],
   "source": [
    "# Save bank1, RandomUnderSampler, StandardScaler, PCA, LinearSVC classifier model - pickle method\n",
    "b1_resampled_lsvc_path = Path('./Resources_models/b1_resampled_lsvc_model.pkl')\n",
    "with open(b1_resampled_lsvc_path, 'wb') as file:\n",
    "    pickle.dump(b1_resampled_lsvc_model, file)\n"
   ]
  },
  {
   "cell_type": "code",
   "execution_count": null,
   "id": "34fe772e-fdca-46d5-8646-827ee09da4ed",
   "metadata": {},
   "outputs": [],
   "source": [
    "# Save bank1, RandomUnderSampler, StandardScaler, PCA, LinearSVC classifier model - joblib method\n",
    "b1_resampled_lsvc_path = Path('./Resources_models/b1_resampled_lsvc_model.joblib')\n",
    "with open(b1_lsvc_path, 'wb') as file:\n",
    "    joblib.dump(b1_resampled_lsvc_model, file)\n",
    "    "
   ]
  },
  {
   "cell_type": "markdown",
   "id": "5bfa2ce4-0acc-4732-8f73-4885d1259dbd",
   "metadata": {},
   "source": [
    "___\n",
    "___\n",
    "# StandardScaler, PCA, KNeighborsClassifier  model"
   ]
  },
  {
   "cell_type": "markdown",
   "id": "4f2a5541-eb10-4bd4-b2ce-51400df776b6",
   "metadata": {},
   "source": [
    "# Bank 1"
   ]
  },
  {
   "cell_type": "markdown",
   "id": "16c29569-692b-4a6e-b19e-ab9149b46d7d",
   "metadata": {},
   "source": [
    "Finding the Best K for KNN Classification\n",
    "create a for loop and run models that have from 1 to X neighbors. At each interaction, calculate the f1 and plot the number of Ks along with the f1 result"
   ]
  },
  {
   "cell_type": "code",
   "execution_count": 54,
   "id": "14d2da66-47b9-45f5-bd07-183f2424bab7",
   "metadata": {},
   "outputs": [
    {
     "name": "stdout",
     "output_type": "stream",
     "text": [
      "CPU times: user 13h 46min 10s, sys: 2min 5s, total: 13h 48min 16s\n",
      "Wall time: 1h 35min 16s\n"
     ]
    }
   ],
   "source": [
    "%%time\n",
    "# create an empty set called 'f1s'\n",
    "f1s = []\n",
    "\n",
    "# Calculating f1 score for K values between 1 and 40\n",
    "for i in range(1, 40):\n",
    "    knn = KNeighborsClassifier(n_neighbors=i)\n",
    "    knn.fit(b1X_scaled_reduced_train, b1y_train)\n",
    "    pred_i = knn.predict(b1X_scaled_reduced_test)\n",
    "    # using average = 'weighted' to calculate a weighted average for the classes \n",
    "    f1s.append(f1_score(b1y_test, pred_i, average='weighted'))\n"
   ]
  },
  {
   "cell_type": "code",
   "execution_count": 55,
   "id": "6ccd8aac-fbb8-4f5b-b7ea-2f3af1a5febb",
   "metadata": {},
   "outputs": [
    {
     "name": "stdout",
     "output_type": "stream",
     "text": [
      "CPU times: user 7.18 ms, sys: 5.4 ms, total: 12.6 ms\n",
      "Wall time: 10.9 ms\n"
     ]
    },
    {
     "data": {
      "text/plain": [
       "Text(0, 0.5, 'F1 Score')"
      ]
     },
     "execution_count": 55,
     "metadata": {},
     "output_type": "execute_result"
    },
    {
     "data": {
      "image/png": "[encoded data removed]",
      "text/plain": [
       "<Figure size 1200x600 with 1 Axes>"
      ]
     },
     "metadata": {},
     "output_type": "display_data"
    }
   ],
   "source": [
    "%%time\n",
    "# plot the f1 values to find the best K\n",
    "plt.figure(figsize=(12, 6))\n",
    "plt.plot(range(1, 40), f1s, color='red', linestyle='dashed', marker='o',\n",
    "         markerfacecolor='blue', markersize = 10)\n",
    "plt.title('F1 Score K Value')\n",
    "plt.xlabel('K Value')\n",
    "plt.ylabel('F1 Score')"
   ]
  },
  {
   "cell_type": "code",
   "execution_count": 56,
   "id": "5ae5bc06-db19-4a83-94a3-7ce41f63595d",
   "metadata": {},
   "outputs": [
    {
     "data": {
      "text/plain": [
       "Text(0, 0.5, 'F1 Score')"
      ]
     },
     "execution_count": 56,
     "metadata": {},
     "output_type": "execute_result"
    },
    {
     "data": {
      "image/png": "[encoded data removed]",
      "text/plain": [
       "<Figure size 1200x600 with 1 Axes>"
      ]
     },
     "metadata": {},
     "output_type": "display_data"
    }
   ],
   "source": [
    "# New f1 plot; shorter or tighter range\n",
    "plt.figure(figsize=(12, 6))\n",
    "plt.plot(range(1, 10), f1s[0:9], color='red', linestyle='dashed', marker='o',\n",
    "         markerfacecolor='blue', markersize=10)\n",
    "plt.title('F1 Score K Value')\n",
    "plt.xlabel('K Value')\n",
    "plt.ylabel('F1 Score')"
   ]
  },
  {
   "cell_type": "code",
   "execution_count": 57,
   "id": "2a9d2ade-4c86-4cf2-9c21-fb1d62b68683",
   "metadata": {},
   "outputs": [
    {
     "name": "stdout",
     "output_type": "stream",
     "text": [
      "KNeighborsClassifier(n_neighbors=6)\n",
      "Score:  0.9535011111111111\n",
      "CPU times: user 1h 26min 18s, sys: 13.1 s, total: 1h 26min 31s\n",
      "Wall time: 9min 7s\n"
     ]
    },
    {
     "data": {
      "text/plain": [
       "array([1., 1., 1., 1., 1., 1., 1., 1., 0., 1., 0., 1., 1., 1., 1., 1., 1.,\n",
       "       0., 1., 1., 1., 1., 1., 1., 1., 0., 1., 1., 0., 1., 1., 1., 1., 1.,\n",
       "       1., 1., 1., 0., 1., 0., 0., 1., 1., 1., 0., 1., 1., 1., 1., 1.])"
      ]
     },
     "execution_count": 57,
     "metadata": {},
     "output_type": "execute_result"
    }
   ],
   "source": [
    "%%time\n",
    "# bank1, standardscaler, PCA - KNeighborsClassifier model instance\n",
    "b1_classifier = KNeighborsClassifier(n_neighbors = 6)\n",
    "print(b1_classifier) \n",
    "\n",
    "# Fit the model to the data using the training data\n",
    "b1_classifier_model = b1_classifier.fit(b1X_scaled_reduced_train, b1y_train)\n",
    "score = b1_classifier.score(b1X_scaled_reduced_train, b1y_train)\n",
    "print('Score: ', score) \n",
    "    \n",
    "# Use the testing data to make the model predictions\n",
    "b1_classifier_predictions = b1_classifier_model.predict(b1X_scaled_reduced_test)\n",
    "\n",
    "# Review the model's predicted values\n",
    "b1_classifier_predictions[:50]"
   ]
  },
  {
   "cell_type": "code",
   "execution_count": 58,
   "id": "8866ec3d-6064-4071-b818-ecde51fd29fc",
   "metadata": {},
   "outputs": [
    {
     "name": "stdout",
     "output_type": "stream",
     "text": [
      "[[ 28528  15177]\n",
      " [  3297 252998]]\n",
      "\n",
      "balanced accuracy score: 0.8199379393489037\n",
      "\n",
      "                    pre       rec       spe        f1       geo       iba       sup\n",
      "\n",
      "        0.0       0.90      0.65      0.99      0.76      0.80      0.62     43705\n",
      "        1.0       0.94      0.99      0.65      0.96      0.80      0.67    256295\n",
      "\n",
      "avg / total       0.94      0.94      0.70      0.93      0.80      0.66    300000\n",
      "\n",
      "CPU times: user 801 ms, sys: 43.2 ms, total: 844 ms\n",
      "Wall time: 816 ms\n"
     ]
    },
    {
     "data": {
      "image/png": "[encoded data removed]",
      "text/plain": [
       "<Figure size 2000x600 with 2 Axes>"
      ]
     },
     "metadata": {},
     "output_type": "display_data"
    }
   ],
   "source": [
    "%%time\n",
    "# Calculate the balanced_accuracy score of the model\n",
    "b1_classifier_balanced_accuracy_score = balanced_accuracy_score(b1y_test, b1_classifier_predictions)\n",
    "\n",
    "# Generate a confusion matrix for the model\n",
    "b1_classifier_matrix = confusion_matrix(b1y_test, b1_classifier_predictions, \n",
    "                                     labels=[0.0, 1.0])\n",
    "\n",
    "# Print the confusion matrix for the original test data\n",
    "print(b1_classifier_matrix)\n",
    "\n",
    "# Calculate the classification report for the model\n",
    "b1_classifier_imbalance_testing_report = classification_report_imbalanced(b1y_test, b1_classifier_predictions)\n",
    "\n",
    "# Adding classes names for better interpretation\n",
    "classes_names = ['Bad Loan (0)', 'Good Loan (+1)']\n",
    "cm = pd.DataFrame(confusion_matrix(b1y_test, b1_classifier_predictions), \n",
    "                  columns=classes_names, index = classes_names)\n",
    "                  \n",
    "# Seaborn's heatmap to better visualize the confusion matrix\n",
    "sns.heatmap(cm, annot = True, fmt = 'd', cmap='Greens', linewidth =.5, linecolor = 'black')\n",
    "# Print the balanced_accuracy score of the classifier19 model\n",
    "print('\\nbalanced accuracy score:', b1_classifier_balanced_accuracy_score)\n",
    "# Print the classification report for the classifier19 model\n",
    "print('\\n',b1_classifier_imbalance_testing_report) \n"
   ]
  },
  {
   "cell_type": "code",
   "execution_count": null,
   "id": "1a58c6ad-2313-4cc0-8bf4-857e394cf132",
   "metadata": {},
   "outputs": [],
   "source": [
    "# Save bank1, StandardScaler, PCA, KNeighborsClassifier model - pickle method\n",
    "b1_classifier_path = Path('./Resources_models/b1_classifier_model.pkl')\n",
    "with open(b1_classifier_path, 'wb') as file:\n",
    "    pickle.dump(b1_classifier_model, file)\n",
    "    "
   ]
  },
  {
   "cell_type": "code",
   "execution_count": null,
   "id": "ffd50964-5a29-47fb-9c67-4f3f9fb37070",
   "metadata": {},
   "outputs": [],
   "source": [
    "# Save bank1, StandardScaler, PCA, KNeighborsClassifier model - joblib method\n",
    "b1_classifier_path = Path('./Resources_models/b1_classifier_model.joblib')\n",
    "with open(b1_classifier_path, 'wb') as file:\n",
    "    joblib.dump(b1_classifier_model, file)\n",
    "    "
   ]
  },
  {
   "cell_type": "markdown",
   "id": "9611b479-f452-42f8-a88f-8258da9bff7b",
   "metadata": {},
   "source": [
    "___\n",
    "___\n",
    "# StandardScaler, PCA, LogisticRegression()  model"
   ]
  },
  {
   "cell_type": "markdown",
   "id": "34d979f5-ee01-44ae-ab88-4832d42c13e2",
   "metadata": {},
   "source": [
    "# Bank 1"
   ]
  },
  {
   "cell_type": "code",
   "execution_count": 59,
   "id": "12daf158-63fe-463e-afbd-46b51ab601bc",
   "metadata": {},
   "outputs": [
    {
     "name": "stdout",
     "output_type": "stream",
     "text": [
      "LogisticRegression(max_iter=1500, random_state=42)\n",
      "Score:  0.9821777777777778\n",
      "CPU times: user 2min 15s, sys: 2.04 s, total: 2min 17s\n",
      "Wall time: 14.7 s\n"
     ]
    },
    {
     "data": {
      "text/plain": [
       "array([1., 1., 1., 1., 1., 1., 1., 1., 1., 1., 0., 1., 1., 1., 1., 1., 1.,\n",
       "       0., 0., 1., 1., 1., 1., 1., 1., 0., 1., 1., 0., 1., 1., 1., 1., 1.,\n",
       "       1., 1., 1., 0., 1., 0., 0., 1., 1., 1., 0., 1., 1., 1., 1., 1.])"
      ]
     },
     "execution_count": 59,
     "metadata": {},
     "output_type": "execute_result"
    }
   ],
   "source": [
    "%%time\n",
    "# bank1, Standardcaler, PCA - instantiate LogisticRegression() model\n",
    "b1_lregress = LogisticRegression(random_state = SEED,  max_iter = 1500, verbose=0)\n",
    "print(b1_lregress)\n",
    "\n",
    "# Fit the model to the data using the training data\n",
    "b1_lregress_model = b1_lregress.fit(b1X_scaled_reduced_train, b1y_train)\n",
    "score = b1_lregress.score(b1X_scaled_reduced_train, b1y_train)\n",
    "print('Score: ', score)\n",
    "\n",
    "# Use the testing data to make the model predictions\n",
    "b1_lregress_predictions = b1_lregress_model.predict(b1X_scaled_reduced_test)\n",
    "\n",
    "# Review the model's predicted values\n",
    "b1_lregress_predictions[:50]"
   ]
  },
  {
   "cell_type": "code",
   "execution_count": 60,
   "id": "efa7e798-4d1d-4009-9ae6-20db6e3918cf",
   "metadata": {},
   "outputs": [
    {
     "name": "stdout",
     "output_type": "stream",
     "text": [
      "[[ 38930   4775]\n",
      " [   610 255685]]\n",
      "\n",
      "balanced accuracy score: 0.9441823481018405\n",
      "\n",
      "                    pre       rec       spe        f1       geo       iba       sup\n",
      "\n",
      "        0.0       0.98      0.89      1.00      0.94      0.94      0.88     43705\n",
      "        1.0       0.98      1.00      0.89      0.99      0.94      0.90    256295\n",
      "\n",
      "avg / total       0.98      0.98      0.91      0.98      0.94      0.90    300000\n",
      "\n",
      "CPU times: user 1.08 s, sys: 1.52 s, total: 2.6 s\n",
      "Wall time: 807 ms\n"
     ]
    },
    {
     "data": {
      "image/png": "[encoded data removed]",
      "text/plain": [
       "<Figure size 2000x600 with 2 Axes>"
      ]
     },
     "metadata": {},
     "output_type": "display_data"
    }
   ],
   "source": [
    "%%time\n",
    "# Calculate the balanced_accuracy score of the model\n",
    "b1_lregress_balanced_accuracy_score = balanced_accuracy_score(b1y_test, b1_lregress_predictions)\n",
    "\n",
    "# Generate a confusion matrix for the model\n",
    "b1_lregress_matrix = confusion_matrix(b1y_test, b1_lregress_predictions, \n",
    "                                     labels=[0.0, 1.0])\n",
    "\n",
    "# Print the confusion matrix for the original test data\n",
    "print(b1_lregress_matrix)\n",
    "\n",
    "# Calculate the classification report for the model\n",
    "b1_lregress_imbalance_testing_report = classification_report_imbalanced(b1y_test, b1_lregress_predictions)\n",
    "\n",
    "# Adding classes names for better interpretation\n",
    "classes_names = ['Bad Loan (0)', 'Good Loan (+1)']\n",
    "cm = pd.DataFrame(confusion_matrix(b1y_test, b1_lregress_predictions), \n",
    "                  columns=classes_names, index = classes_names)\n",
    "                  \n",
    "# Seaborn's heatmap to better visualize the confusion matrix\n",
    "sns.heatmap(cm, annot = True, fmt = 'd', cmap='Greens', linewidth =.5, linecolor = 'black')\n",
    "# Print the balanced_accuracy score of the classifier19 model\n",
    "print('\\nbalanced accuracy score:', b1_lregress_balanced_accuracy_score)\n",
    "# Print the classification report for the classifier19 model\n",
    "print('\\n',b1_lregress_imbalance_testing_report) \n"
   ]
  },
  {
   "cell_type": "code",
   "execution_count": null,
   "id": "d05caa3c-3085-4b83-9e77-6598d5683d8f",
   "metadata": {},
   "outputs": [],
   "source": [
    "# Save bank1, StandardScaler, PCA, LogisticRegression() model - pickle method\n",
    "b1_lregress_path = Path('./Resources_models/b1_lregress_model.pkl')\n",
    "with open(b1_lregress_path, 'wb') as file:\n",
    "    pickle.dump(b1_lregress_model, file)\n"
   ]
  },
  {
   "cell_type": "code",
   "execution_count": null,
   "id": "b22c8eee-261b-421a-a8c3-c3255e4544b0",
   "metadata": {},
   "outputs": [],
   "source": [
    "# Save bank1, StandardScaler, PCA, LogisticRegression() model - joblib method\n",
    "b1_lregress_path = Path('./Resources_models/b1_lregress_model.joblib')\n",
    "with open(b1_lregress_path, 'wb') as file:\n",
    "    joblib.dump(b1_lregress_model, file)\n",
    "    "
   ]
  },
  {
   "cell_type": "markdown",
   "id": "fdf89dcf-54b3-4cef-ac9c-208f90433120",
   "metadata": {},
   "source": [
    "___\n",
    "___\n",
    "# StandardScaler, PCA, AdaBoostClassifier  model"
   ]
  },
  {
   "cell_type": "markdown",
   "id": "d67591e9-d2dd-4ed4-a6e6-3fb5eed5a3a0",
   "metadata": {},
   "source": [
    "# Bank 1"
   ]
  },
  {
   "cell_type": "code",
   "execution_count": 80,
   "id": "7952a27c-47fd-44ee-bfc2-7433f1cb5fe6",
   "metadata": {},
   "outputs": [
    {
     "name": "stdout",
     "output_type": "stream",
     "text": [
      "AdaBoostClassifier(random_state=42)\n",
      "Score:  0.9458666666666666\n",
      "Wall time: 9min 55s\n"
     ]
    },
    {
     "data": {
      "text/plain": [
       "array([1., 1., 1., 1., 1., 1., 1., 1., 1., 1., 0., 1., 1., 1., 1., 1., 1.,\n",
       "       0., 1., 1., 1., 1., 1., 1., 1., 0., 1., 1., 0., 1., 1., 1., 1., 1.,\n",
       "       1., 1., 1., 0., 1., 0., 0., 1., 1., 1., 0., 1., 1., 1., 1., 1.])"
      ]
     },
     "execution_count": 80,
     "metadata": {},
     "output_type": "execute_result"
    }
   ],
   "source": [
    "%%time\n",
    "# bank1, Standardcaler, PCA - instantiate AdaBoostClassifier model\n",
    "b1_aboost = AdaBoostClassifier(random_state = SEED)\n",
    "print(b1_aboost)\n",
    "\n",
    "# Fit the model to the data using the training data\n",
    "b1_aboost_model = b1_aboost.fit(b1X_scaled_reduced_train, b1y_train)\n",
    "score = b1_aboost.score(b1X_scaled_reduced_train, b1y_train)\n",
    "print('Score: ', score)\n",
    "\n",
    "# Use the testing data to make the model predictions\n",
    "b1_aboost_predictions = b1_aboost_model.predict(b1X_scaled_reduced_test)\n",
    "\n",
    "# Review the model's predicted values\n",
    "b1_aboost_predictions[:50]"
   ]
  },
  {
   "cell_type": "code",
   "execution_count": 81,
   "id": "11813f10-e0d7-4a16-b496-98b1e22be1e4",
   "metadata": {},
   "outputs": [
    {
     "name": "stdout",
     "output_type": "stream",
     "text": [
      "[[ 31486  12219]\n",
      " [  3960 252335]]\n",
      "\n",
      "balanced accuracy score: 0.8524850296309323\n",
      "\n",
      "                    pre       rec       spe        f1       geo       iba       sup\n",
      "\n",
      "        0.0       0.89      0.72      0.98      0.80      0.84      0.69     43705\n",
      "        1.0       0.95      0.98      0.72      0.97      0.84      0.73    256295\n",
      "\n",
      "avg / total       0.94      0.95      0.76      0.94      0.84      0.72    300000\n",
      "\n",
      "Wall time: 1.05 s\n"
     ]
    },
    {
     "data": {
      "image/png": "[encoded data removed]",
      "text/plain": [
       "<Figure size 1440x432 with 2 Axes>"
      ]
     },
     "metadata": {
      "needs_background": "light"
     },
     "output_type": "display_data"
    }
   ],
   "source": [
    "%%time\n",
    "# Calculate the balanced_accuracy score of the model\n",
    "b1_aboost_balanced_accuracy_score = balanced_accuracy_score(b1y_test, b1_aboost_predictions)\n",
    "\n",
    "# Generate a confusion matrix for the model\n",
    "b1_aboost_matrix = confusion_matrix(b1y_test, b1_aboost_predictions, \n",
    "                                     labels=[0.0, 1.0])\n",
    "\n",
    "# Print the confusion matrix for the original test data\n",
    "print(b1_aboost_matrix)\n",
    "\n",
    "# Calculate the classification report for the model\n",
    "b1_aboost_imbalance_testing_report = classification_report_imbalanced(b1y_test, b1_aboost_predictions)\n",
    "\n",
    "# Adding classes names for better interpretation\n",
    "classes_names = ['Bad Loan (0)', 'Good Loan (+1)']\n",
    "cm = pd.DataFrame(confusion_matrix(b1y_test, b1_aboost_predictions), \n",
    "                  columns=classes_names, index = classes_names)\n",
    "                  \n",
    "# Seaborn's heatmap to better visualize the confusion matrix\n",
    "sns.heatmap(cm, annot = True, fmt = 'd', cmap='Greens', linewidth =.5, linecolor = 'black')\n",
    "# Print the balanced_accuracy score of the classifier19 model\n",
    "print('\\nbalanced accuracy score:', b1_aboost_balanced_accuracy_score)\n",
    "# Print the classification report for the classifier19 model\n",
    "print('\\n',b1_aboost_imbalance_testing_report) \n"
   ]
  },
  {
   "cell_type": "code",
   "execution_count": null,
   "id": "2eea4757-ddd6-4556-8f63-ce1b505d2d38",
   "metadata": {},
   "outputs": [],
   "source": [
    "$\n",
    "hand broken "
   ]
  },
  {
   "cell_type": "code",
   "execution_count": null,
   "id": "0314f6d7-d39a-49a3-a3b8-dcc21bafaf33",
   "metadata": {},
   "outputs": [],
   "source": [
    "# Save bank1, StandardScaler, PCA, AdaBoostClassifier model - pickle method\n",
    "b1_aboost_path = Path('./Resources_models/b1_aboost_model.pkl')\n",
    "with open(b1_aboost_path, 'wb') as file:\n",
    "    pickle.dump(b1_aboost_model, file)\n",
    "    "
   ]
  },
  {
   "cell_type": "code",
   "execution_count": null,
   "id": "0cc92f9b-9e7c-443d-9c22-4f6ffd7bfcf7",
   "metadata": {},
   "outputs": [],
   "source": [
    "# Save bank1, StandardScaler, PCA, AdaBoostClassifier model - joblib method\n",
    "b1_aboost_path = Path('./Resources_models/b1_aboost_model.joblib')\n",
    "with open(b1_aboost_path, 'wb') as file:\n",
    "    joblib.dump(b1_aboost_model, file)\n",
    "    "
   ]
  },
  {
   "cell_type": "markdown",
   "id": "53cc747f-a02b-4cd6-94e7-0f4abb69b819",
   "metadata": {},
   "source": [
    "___\n",
    "___\n",
    "# StandardScaler, PCA, SVC classifier model\n",
    "## Use the SVC classifier model from SKLearn's support vector machine (SVM) learning method to fit the training data and make predictions\n",
    "resize datasets to SVC appropriate"
   ]
  },
  {
   "cell_type": "code",
   "execution_count": null,
   "id": "7c4d9797-e8f3-4a75-9469-cde221707eda",
   "metadata": {},
   "outputs": [],
   "source": [
    "# bank1, standardscaler, PCA - from SVM, instantiate SVC classifier model instance\n",
    "\n",
    "b1_svm_m = svm.SVC(random_state = SEED)\n",
    " \n",
    "# Fit the model to the data using the training data\n",
    "b1_svm_model = b1_svm_m.fit(b1X_scaled_reduced_train, b1y_train)\n",
    " \n",
    "# Use the testing data to make the model predictions\n",
    "b1_svm_predictions = b1_svm_model.predict(b1X_scaled_reduced_test)\n",
    "\n",
    "# Review the model's predicted values\n",
    "b1_svm_predictions[:50]"
   ]
  },
  {
   "cell_type": "code",
   "execution_count": null,
   "id": "0ac754db-8af3-4650-ba0f-2f144f3d0fbb",
   "metadata": {},
   "outputs": [],
   "source": [
    "# Calculate the balanced_accuracy score of the model\n",
    "b1_svm__balanced_accuracy_score = balanced_accuracy_score(b1y_test, b1_svm_predictions)\n",
    "\n",
    "# Generate a confusion matrix for the model\n",
    "b1_svm_matrix = confusion_matrix(b1y_test, b1_svm_predictions)\n",
    "\n",
    "# Print the confusion matrix for the original test data\n",
    "print(b1_svm_matrix)\n",
    "\n",
    "# Calculate the classification report for the model\n",
    "b1_svm_imbalance_testing_report = classification_report_imbalanced(b1y_test, b1_svm_predictions)\n",
    "\n",
    "# Adding classes names for better interpretation\n",
    "classes_names = ['Negative (-1)','Positive (+1)']\n",
    "cm = pd.DataFrame(confusion_matrix(b1y_test, b1_svm_predictions), \n",
    "                  columns=classes_names, index = classes_names)\n",
    "                  \n",
    "# Seaborn's heatmap to better visualize the confusion matrix\n",
    "sns.heatmap(cm, annot = True, fmt = 'd', cmap='Greens', linewidth =.5, linecolor = 'black')\n",
    "# Print the balanced_accuracy score of the classifier19 model\n",
    "print('\\nbalanced accuracy score:', b1_svm_balanced_accuracy_score)\n",
    "# Print the classification report for the classifier19 model\n",
    "print('\\n',b1_svm_imbalance_testing_report) \n"
   ]
  },
  {
   "cell_type": "code",
   "execution_count": null,
   "id": "8d7b3761-e1ad-4e84-b2f2-312f3ea0dad8",
   "metadata": {},
   "outputs": [],
   "source": [
    "# Save bank1, standardscaler, PCA SVM model - pickle method\n",
    "# pickle.dump(b1_svm_model, open(Path('./Resources_models/b1_svm_model.pkl'), 'wb'))\n",
    "b1_svm_path = Path('./Resources_models/b1_svm_model.pkl')\n",
    "with open(b1_svm_path, 'wb') as file:\n",
    "    pickle.dump(b1_svm_model, file)\n"
   ]
  },
  {
   "cell_type": "code",
   "execution_count": null,
   "id": "112d5951-a399-485d-b779-f75d68c00735",
   "metadata": {},
   "outputs": [],
   "source": [
    "# Save bank1, standardscaler, PCA SVM model - joblib method\n",
    "b1_svm_path = Path('./Resources_models/b1_svm_model.joblib')\n",
    "with open(b1_svm_path, 'wb') as file:\n",
    "    joblib.dump(b1_svm_model, file)\n"
   ]
  }
 ],
 "metadata": {
  "colab": {
   "provenance": []
  },
  "kernelspec": {
   "display_name": "Python (dev)",
   "language": "python",
   "name": "dev"
  },
  "language_info": {
   "codemirror_mode": {
    "name": "ipython",
    "version": 3
   },
   "file_extension": ".py",
   "mimetype": "text/x-python",
   "name": "python",
   "nbconvert_exporter": "python",
   "pygments_lexer": "ipython3",
   "version": "3.7.13"
  }
 },
 "nbformat": 4,
 "nbformat_minor": 5
}
