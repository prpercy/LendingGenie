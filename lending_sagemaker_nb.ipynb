{
 "cells": [
  {
   "cell_type": "code",
   "execution_count": null,
   "id": "d50cfda1-8fc0-4a0b-8eca-38d6d4eb3c95",
   "metadata": {},
   "outputs": [],
   "source": [
    "import boto3\n",
    "import io\n",
    "import matplotlib.pyplot as plt\n",
    "import numpy as np\n",
    "import os\n",
    "import pandas as pd\n",
    "\n",
    "import sagemaker\n",
    "import sagemaker.amazon.common as smac\n",
    "from sagemaker import get_execution_role\n",
    "from sagemaker.predictor import csv_serializer, json_deserializer\n",
    "import smutil"
   ]
  },
  {
   "cell_type": "code",
   "execution_count": null,
   "id": "0ce5a979-dc24-40db-a59d-f80337ee9ab4",
   "metadata": {},
   "outputs": [],
   "source": [
    "#! aws s3 cp file_from_path file_to_path"
   ]
  },
  {
   "cell_type": "code",
   "execution_count": null,
   "id": "426ae9e7-56fe-4498-a88e-7bf3e7bd734c",
   "metadata": {},
   "outputs": [],
   "source": [
    "data_dictionary = {\n",
    "    \"X_train\" : X_train_scaled,\n",
    "    \"X_test\" : X_test_scaled,\n",
    "    \"y_train\" : y_train,\n",
    "    \"y_test\" : y_test\n",
    "}"
   ]
  },
  {
   "cell_type": "code",
   "execution_count": null,
   "id": "70ce6aec-7439-4683-a4b7-d12b1c5eb9b4",
   "metadata": {},
   "outputs": [],
   "source": [
    "bucket = \"lendingGenie-s3\"\n",
    "prefix = \"lendingGenie/linear-learner\"\n",
    "role = get_execution_role()\n",
    "model_type = \"linear-learner\"\n",
    "instance_type = \"ml.m4.xlarge\"\n",
    "n_features = 40 # put here number of features\n",
    "n_epochs = 100 # put here number of epochs"
   ]
  },
  {
   "cell_type": "code",
   "execution_count": null,
   "id": "f4d2cac7-8cc8-427d-8695-ca25237d1056",
   "metadata": {},
   "outputs": [],
   "source": [
    "# store data in S3 buckets\n",
    "s3_train_data,s3_test_data = smutil.store_data_s3(bucket, prefix, role, data_dictionary)"
   ]
  },
  {
   "cell_type": "code",
   "execution_count": null,
   "id": "d577ce30-53f4-4b64-a74a-ca86013d1e23",
   "metadata": {},
   "outputs": [],
   "source": [
    "# set hyper parameters in this section\n",
    "# for logistic regression: \n",
    "l_hyperparams = {\n",
    "    \"feature_dim\": n_features,\n",
    "    \"predictor_type\": \"binary_classifier\",\n",
    "    \"epochs\": n_epochs,\n",
    "}\n",
    "        \n",
    "# Binary classifier with automated threshold tuning\n",
    "le_hyperparams = {\n",
    "    \"feature_dim\": n_features,\n",
    "    \"predictor_type\": \"binary_classifier\",\n",
    "    \"binary_classifier_model_selection_criteria\": \"precision_at_target_recall\",\n",
    "    \"target_recall\": 0.9,\n",
    "    \"epochs\": n_epochs,\n",
    "}\n",
    "\n",
    "# Binary classifier with class weights and automated threshold tuning\n",
    "leb_hyperparams = {\n",
    "    \"feature_dim\": n_features,\n",
    "    \"predictor_type\": \"binary_classifier\",\n",
    "    \"binary_classifier_model_selection_criteria\": \"precision_at_target_recall\",\n",
    "    \"target_recall\": 0.9,\n",
    "    \"positive_example_weight_mult\": \"balanced\",\n",
    "    \"epochs\": n_epochs,\n",
    "}\n",
    "\n",
    "# Linear SVM\n",
    "lsvc_hyperparams = {\n",
    "    \"feature_dim\": n_features,\n",
    "    \"predictor_type\": \"binary_classifier\",\n",
    "    \"loss\": \"hinge_loss\",\n",
    "    \"binary_classifier_model_selection_criteria\": \"precision_at_target_recall\",\n",
    "    \"target_recall\": 0.9,\n",
    "    \"epochs\": n_epochs,\n",
    "}\n",
    "\n",
    "# Linear SVM with balanced class weights\n",
    "lsvcb_hyperparams = {\n",
    "    \"feature_dim\": n_features,\n",
    "    \"predictor_type\": \"binary_classifier\",\n",
    "    \"loss\": \"hinge_loss\",\n",
    "    \"binary_classifier_model_selection_criteria\": \"precision_at_target_recall\",\n",
    "    \"target_recall\": 0.9,\n",
    "    \"positive_example_weight_mult\": \"balanced\",\n",
    "    \"epochs\": n_epochs,\n",
    "}\n"
   ]
  },
  {
   "cell_type": "code",
   "execution_count": null,
   "id": "888a2471-688e-4279-9ee7-fd5fdd57de1a",
   "metadata": {},
   "outputs": [],
   "source": [
    "# create model learners in this section\n",
    "l_model = smutil.create_model(bucket, prefix, role,model_type, instance_type,l_hyperparams)\n",
    "le_model = smutil.create_model(bucket, prefix, role,model_type, instance_type,le_hyperparams)\n",
    "leb_model = smutil.create_model(bucket, prefix, role,model_type, instance_type,leb_hyperparams)\n",
    "lsvc_model = smutil.create_model(bucket, prefix, role,model_type, instance_type,lsvc_hyperparams)\n",
    "lsvcb_model = smutil.create_model(bucket, prefix, role,model_type, instance_type,lsvcb_hyperparams)"
   ]
  },
  {
   "cell_type": "code",
   "execution_count": null,
   "id": "254238b6-8ac7-4396-88c1-b0d12cfea252",
   "metadata": {},
   "outputs": [],
   "source": [
    "# fit the model\n",
    "l_model = smutil.fit_model(l_model, s3_train_data, s3_test_data)\n",
    "le_model = smutil.fit_model(le_model, s3_train_data, s3_test_data)\n",
    "leb_model = smutil.fit_model(leb_model, s3_train_data, s3_test_data)\n",
    "lsvc_model = smutil.fit_model(lsvc_model, s3_train_data, s3_test_data)\n",
    "lsvcb_model = smutil.fit_model(lsvcb_model, s3_train_data, s3_test_data)"
   ]
  },
  {
   "cell_type": "code",
   "execution_count": null,
   "id": "b1888188-d896-4138-9fa7-879fa2724cc1",
   "metadata": {},
   "outputs": [],
   "source": [
    "# deploy model\n",
    "l_predictor = smutil.deploy_model(l_model, instance_type)\n",
    "le_predictor = smutil.deploy_model(le_model, instance_type)\n",
    "leb_predictor = smutil.deploy_model(leb_model, instance_type)\n",
    "lsvc_predictor = smutil.deploy_model(lsvc_model, instance_type)\n",
    "lsvcb_predictor = smutil.deploy_model(lsvcb_model, instance_type)"
   ]
  },
  {
   "cell_type": "code",
   "execution_count": null,
   "id": "fb9953ba-9987-4b4d-b6a6-b4b79a015d60",
   "metadata": {},
   "outputs": [],
   "source": [
    "predictors = {\n",
    "    \"Logistic\": l_predictor,\n",
    "    \"Logistic with auto threshold\": l_predictor,\n",
    "    \"Logistic with class weights\": leb_predictor,\n",
    "    \"Linear SVC\": lsvc_predictor,\n",
    "    \"Linear SVC with class weights\": lsvcb_predictor,\n",
    "}\n",
    "metrics = {\n",
    "    key: evaluate(predictor, X_test_scaled, y_test, key, False)\n",
    "    for key, predictor in predictors.items()\n",
    "}\n",
    "pd.set_option(\"display.float_format\", lambda x: \"%.3f\" % x)\n",
    "display(\n",
    "    pd.DataFrame(list(metrics.values())).loc[:, [\"Model\", \"Recall\", \"Precision\", \"Accuracy\", \"F1\"]]\n",
    ")"
   ]
  },
  {
   "cell_type": "code",
   "execution_count": null,
   "id": "591fe44e-e379-44ef-b6a9-419286cecaee",
   "metadata": {},
   "outputs": [],
   "source": [
    "for key, predictor in predictors.items():\n",
    "    smutil.delete_endpoint(predictor)"
   ]
  }
 ],
 "metadata": {
  "kernelspec": {
   "display_name": "Python (dev)",
   "language": "python",
   "name": "dev"
  },
  "language_info": {
   "codemirror_mode": {
    "name": "ipython",
    "version": 3
   },
   "file_extension": ".py",
   "mimetype": "text/x-python",
   "name": "python",
   "nbconvert_exporter": "python",
   "pygments_lexer": "ipython3",
   "version": "3.7.13"
  }
 },
 "nbformat": 4,
 "nbformat_minor": 5
}
